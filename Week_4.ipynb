{
  "cells": [
    {
      "cell_type": "markdown",
      "metadata": {
        "id": "view-in-github",
        "colab_type": "text"
      },
      "source": [
        "<a href=\"https://colab.research.google.com/github/nitinsaimajji/voice1/blob/main/Week_4.ipynb\" target=\"_parent\"><img src=\"https://colab.research.google.com/assets/colab-badge.svg\" alt=\"Open In Colab\"/></a>"
      ]
    },
    {
      "cell_type": "code",
      "execution_count": null,
      "metadata": {
        "id": "qzpV-lbxaKAe",
        "outputId": "077c734f-d956-4e72-ab89-3d1502b0a85d",
        "colab": {
          "base_uri": "https://localhost:8080/"
        }
      },
      "outputs": [
        {
          "output_type": "stream",
          "name": "stdout",
          "text": [
            "Looking in indexes: https://pypi.org/simple, https://us-python.pkg.dev/colab-wheels/public/simple/\n",
            "Collecting python_speech_features\n",
            "  Downloading python_speech_features-0.6.tar.gz (5.6 kB)\n",
            "  Preparing metadata (setup.py) ... \u001b[?25l\u001b[?25hdone\n",
            "Building wheels for collected packages: python_speech_features\n",
            "  Building wheel for python_speech_features (setup.py) ... \u001b[?25l\u001b[?25hdone\n",
            "  Created wheel for python_speech_features: filename=python_speech_features-0.6-py3-none-any.whl size=5889 sha256=86dd1ef81c483683d874ce85a5f4b0cec94081b1a57cc3804d4ac656521e968f\n",
            "  Stored in directory: /root/.cache/pip/wheels/5b/60/87/28af2605138deac93d162904df42b6fdda1dab9b8757c62aa3\n",
            "Successfully built python_speech_features\n",
            "Installing collected packages: python_speech_features\n",
            "Successfully installed python_speech_features-0.6\n"
          ]
        }
      ],
      "source": [
        "pip install python_speech_features\n"
      ]
    },
    {
      "cell_type": "code",
      "source": [
        "!git clone https://github.com/nitinsaimajji/voice1.git"
      ],
      "metadata": {
        "colab": {
          "base_uri": "https://localhost:8080/"
        },
        "id": "r0Uz-4pobGse",
        "outputId": "9a0235a3-c5a2-4dd1-d148-e5aab65c32c8"
      },
      "execution_count": null,
      "outputs": [
        {
          "output_type": "stream",
          "name": "stdout",
          "text": [
            "Cloning into 'voice1'...\n",
            "remote: Enumerating objects: 698, done.\u001b[K\n",
            "remote: Counting objects: 100% (698/698), done.\u001b[K\n",
            "remote: Compressing objects: 100% (665/665), done.\u001b[K\n",
            "remote: Total 698 (delta 44), reused 670 (delta 29), pack-reused 0\u001b[K\n",
            "Receiving objects: 100% (698/698), 152.71 MiB | 19.69 MiB/s, done.\n",
            "Resolving deltas: 100% (44/44), done.\n",
            "Updating files: 100% (1207/1207), done.\n"
          ]
        }
      ]
    },
    {
      "cell_type": "code",
      "source": [
        "pip install pydub"
      ],
      "metadata": {
        "colab": {
          "base_uri": "https://localhost:8080/"
        },
        "id": "x67ZxGUVZzTH",
        "outputId": "44606aa3-9fe6-4eee-da70-239abe840cfd"
      },
      "execution_count": null,
      "outputs": [
        {
          "output_type": "stream",
          "name": "stdout",
          "text": [
            "Looking in indexes: https://pypi.org/simple, https://us-python.pkg.dev/colab-wheels/public/simple/\n",
            "Collecting pydub\n",
            "  Downloading pydub-0.25.1-py2.py3-none-any.whl (32 kB)\n",
            "Installing collected packages: pydub\n",
            "Successfully installed pydub-0.25.1\n"
          ]
        }
      ]
    },
    {
      "cell_type": "code",
      "execution_count": null,
      "metadata": {
        "id": "HtefZ9dDaKAn"
      },
      "outputs": [],
      "source": []
    },
    {
      "cell_type": "markdown",
      "source": [
        "## **A1**"
      ],
      "metadata": {
        "id": "73l5XscFUr_A"
      }
    },
    {
      "cell_type": "code",
      "source": [
        "import keras,os\n",
        "from keras.datasets import fashion_mnist,cifar100\n",
        "from keras.layers import Dense,Activation,Flatten,Conv2D,MaxPooling2D,Dropout,BatchNormalization\n",
        "from keras.models import Sequential \n",
        "from keras.utils import to_categorical\n",
        "from keras.preprocessing.image import ImageDataGenerator \n",
        "import numpy as np \n",
        "import matplotlib.pyplot as plt \n",
        "import tensorflow as tf\n",
        "import cv2\n",
        "from keras import optimizers \n",
        "from keras.layers.core import Lambda\n",
        "from keras import backend as K\n",
        "from keras import regularizers \n",
        "from sklearn import datasets #loaddataset\n",
        "from sklearn.model_selection import train_test_split#splitdataset\n",
        "from sklearn.preprocessing import StandardScaler#standardscaler\n",
        "from sklearn.metrics import accuracy_score#checkaccuracy\n"
      ],
      "metadata": {
        "id": "V8SqIG3HUqH_"
      },
      "execution_count": null,
      "outputs": []
    },
    {
      "cell_type": "code",
      "source": [
        "(train_X,train_Y),(test_X,test_Y)=fashion_mnist.load_data()\n",
        "train_X=train_X.reshape(-1,28,28,1)\n",
        "test_X=test_X.reshape(-1,28,28,1)\n",
        "train_X=train_X.astype('float32')\n",
        "test_X=test_X.astype('float32')\n",
        "train_X=train_X/255\n",
        "test_X=test_X/255\n",
        "train_X1=train_X[0:100]\n",
        "train_Y1=train_Y[:100]\n",
        "val_X=train_X[100:150]\n",
        "val_Y_Onehot=to_categorical(train_Y[100:150])\n",
        "train_Y_one_hot=to_categorical(train_Y1)\n",
        "test_Y_one_hot=to_categorical(test_Y)"
      ],
      "metadata": {
        "id": "b65d6YcBGkSb",
        "outputId": "667ab07d-bf27-440b-8fae-d13d1869d292",
        "colab": {
          "base_uri": "https://localhost:8080/"
        }
      },
      "execution_count": null,
      "outputs": [
        {
          "output_type": "stream",
          "name": "stdout",
          "text": [
            "Downloading data from https://storage.googleapis.com/tensorflow/tf-keras-datasets/train-labels-idx1-ubyte.gz\n",
            "29515/29515 [==============================] - 0s 0us/step\n",
            "Downloading data from https://storage.googleapis.com/tensorflow/tf-keras-datasets/train-images-idx3-ubyte.gz\n",
            "26421880/26421880 [==============================] - 0s 0us/step\n",
            "Downloading data from https://storage.googleapis.com/tensorflow/tf-keras-datasets/t10k-labels-idx1-ubyte.gz\n",
            "5148/5148 [==============================] - 0s 0us/step\n",
            "Downloading data from https://storage.googleapis.com/tensorflow/tf-keras-datasets/t10k-images-idx3-ubyte.gz\n",
            "4422102/4422102 [==============================] - 0s 0us/step\n"
          ]
        }
      ]
    },
    {
      "cell_type": "code",
      "source": [
        "model=Sequential()\n",
        "model.add(Conv2D(64,(3,3),input_shape=(28,28,1)))\n",
        "model.add(Activation('relu'))\n",
        "model.add(MaxPooling2D(pool_size=(2,2)))\n",
        "model.add(Conv2D(64,(3,3)))\n",
        "model.add(Activation('relu'))\n",
        "model.add(MaxPooling2D(pool_size=(2,2)))\n",
        "model.add(Flatten())\n",
        "model.add(Dense(64))\n",
        "model.add(Dense(10))\n",
        "model.add(Activation('softmax'))\n",
        "model.compile(loss=keras.losses.categorical_crossentropy,optimizer=keras.optimizers.Adam(),metrics=['accuracy'])\n",
        "model.summary()"
      ],
      "metadata": {
        "id": "5kU8mGYHG2KO",
        "outputId": "9657771c-a680-45ba-dabc-daa6d2d68ed2",
        "colab": {
          "base_uri": "https://localhost:8080/"
        }
      },
      "execution_count": null,
      "outputs": [
        {
          "output_type": "stream",
          "name": "stdout",
          "text": [
            "Model: \"sequential\"\n",
            "_________________________________________________________________\n",
            " Layer (type)                Output Shape              Param #   \n",
            "=================================================================\n",
            " conv2d (Conv2D)             (None, 26, 26, 64)        640       \n",
            "                                                                 \n",
            " activation (Activation)     (None, 26, 26, 64)        0         \n",
            "                                                                 \n",
            " max_pooling2d (MaxPooling2D  (None, 13, 13, 64)       0         \n",
            " )                                                               \n",
            "                                                                 \n",
            " conv2d_1 (Conv2D)           (None, 11, 11, 64)        36928     \n",
            "                                                                 \n",
            " activation_1 (Activation)   (None, 11, 11, 64)        0         \n",
            "                                                                 \n",
            " max_pooling2d_1 (MaxPooling  (None, 5, 5, 64)         0         \n",
            " 2D)                                                             \n",
            "                                                                 \n",
            " flatten (Flatten)           (None, 1600)              0         \n",
            "                                                                 \n",
            " dense (Dense)               (None, 64)                102464    \n",
            "                                                                 \n",
            " dense_1 (Dense)             (None, 10)                650       \n",
            "                                                                 \n",
            " activation_2 (Activation)   (None, 10)                0         \n",
            "                                                                 \n",
            "=================================================================\n",
            "Total params: 140,682\n",
            "Trainable params: 140,682\n",
            "Non-trainable params: 0\n",
            "_________________________________________________________________\n"
          ]
        }
      ]
    },
    {
      "cell_type": "markdown",
      "source": [
        "## A2"
      ],
      "metadata": {
        "id": "MK8fRruEVCUi"
      }
    },
    {
      "cell_type": "code",
      "source": [
        "history=model.fit(train_X1,train_Y_one_hot,batch_size=64,epochs=100,validation_data=(val_X,val_Y_Onehot))\n",
        "plt.plot(history.history['loss'])"
      ],
      "metadata": {
        "colab": {
          "base_uri": "https://localhost:8080/",
          "height": 1000
        },
        "id": "p7fKxnV6UqQ1",
        "outputId": "17eb54b1-a7c8-4878-cd7d-2331933cf8a7"
      },
      "execution_count": null,
      "outputs": [
        {
          "output_type": "stream",
          "name": "stdout",
          "text": [
            "Epoch 1/100\n",
            "2/2 [==============================] - 3s 410ms/step - loss: 2.3044 - accuracy: 0.0900 - val_loss: 2.2710 - val_accuracy: 0.1800\n",
            "Epoch 2/100\n",
            "2/2 [==============================] - 0s 108ms/step - loss: 2.1725 - accuracy: 0.2500 - val_loss: 2.2369 - val_accuracy: 0.1000\n",
            "Epoch 3/100\n",
            "2/2 [==============================] - 0s 116ms/step - loss: 2.0544 - accuracy: 0.2200 - val_loss: 2.1980 - val_accuracy: 0.2000\n",
            "Epoch 4/100\n",
            "2/2 [==============================] - 0s 114ms/step - loss: 1.9186 - accuracy: 0.3900 - val_loss: 2.0915 - val_accuracy: 0.4400\n",
            "Epoch 5/100\n",
            "2/2 [==============================] - 0s 110ms/step - loss: 1.7452 - accuracy: 0.5900 - val_loss: 1.9021 - val_accuracy: 0.5000\n",
            "Epoch 6/100\n",
            "2/2 [==============================] - 0s 121ms/step - loss: 1.5464 - accuracy: 0.5500 - val_loss: 1.6898 - val_accuracy: 0.4800\n",
            "Epoch 7/100\n",
            "2/2 [==============================] - 0s 109ms/step - loss: 1.3380 - accuracy: 0.6200 - val_loss: 1.5007 - val_accuracy: 0.5600\n",
            "Epoch 8/100\n",
            "2/2 [==============================] - 0s 118ms/step - loss: 1.1290 - accuracy: 0.7500 - val_loss: 1.3257 - val_accuracy: 0.5800\n",
            "Epoch 9/100\n",
            "2/2 [==============================] - 0s 121ms/step - loss: 0.9550 - accuracy: 0.7500 - val_loss: 1.0761 - val_accuracy: 0.6000\n",
            "Epoch 10/100\n",
            "2/2 [==============================] - 0s 108ms/step - loss: 0.7852 - accuracy: 0.7700 - val_loss: 0.8700 - val_accuracy: 0.6400\n",
            "Epoch 11/100\n",
            "2/2 [==============================] - 0s 121ms/step - loss: 0.6896 - accuracy: 0.8200 - val_loss: 0.8076 - val_accuracy: 0.7400\n",
            "Epoch 12/100\n",
            "2/2 [==============================] - 0s 117ms/step - loss: 0.5871 - accuracy: 0.8300 - val_loss: 0.7897 - val_accuracy: 0.7200\n",
            "Epoch 13/100\n",
            "2/2 [==============================] - 0s 125ms/step - loss: 0.5084 - accuracy: 0.8600 - val_loss: 0.7568 - val_accuracy: 0.6600\n",
            "Epoch 14/100\n",
            "2/2 [==============================] - 0s 113ms/step - loss: 0.4266 - accuracy: 0.8700 - val_loss: 0.7659 - val_accuracy: 0.6600\n",
            "Epoch 15/100\n",
            "2/2 [==============================] - 0s 115ms/step - loss: 0.3870 - accuracy: 0.8700 - val_loss: 0.7090 - val_accuracy: 0.7000\n",
            "Epoch 16/100\n",
            "2/2 [==============================] - 0s 113ms/step - loss: 0.3481 - accuracy: 0.8900 - val_loss: 0.6802 - val_accuracy: 0.7400\n",
            "Epoch 17/100\n",
            "2/2 [==============================] - 0s 113ms/step - loss: 0.3334 - accuracy: 0.8600 - val_loss: 0.6852 - val_accuracy: 0.7400\n",
            "Epoch 18/100\n",
            "2/2 [==============================] - 0s 111ms/step - loss: 0.2901 - accuracy: 0.8800 - val_loss: 0.6287 - val_accuracy: 0.7600\n",
            "Epoch 19/100\n",
            "2/2 [==============================] - 0s 119ms/step - loss: 0.2542 - accuracy: 0.9000 - val_loss: 0.6785 - val_accuracy: 0.7000\n",
            "Epoch 20/100\n",
            "2/2 [==============================] - 0s 109ms/step - loss: 0.2472 - accuracy: 0.9100 - val_loss: 0.6514 - val_accuracy: 0.7400\n",
            "Epoch 21/100\n",
            "2/2 [==============================] - 0s 111ms/step - loss: 0.2226 - accuracy: 0.9200 - val_loss: 0.6703 - val_accuracy: 0.8000\n",
            "Epoch 22/100\n",
            "2/2 [==============================] - 0s 109ms/step - loss: 0.2182 - accuracy: 0.9100 - val_loss: 0.6770 - val_accuracy: 0.7600\n",
            "Epoch 23/100\n",
            "2/2 [==============================] - 0s 108ms/step - loss: 0.2249 - accuracy: 0.9000 - val_loss: 0.7011 - val_accuracy: 0.7600\n",
            "Epoch 24/100\n",
            "2/2 [==============================] - 0s 109ms/step - loss: 0.1874 - accuracy: 0.9300 - val_loss: 0.5622 - val_accuracy: 0.8000\n",
            "Epoch 25/100\n",
            "2/2 [==============================] - 0s 108ms/step - loss: 0.2231 - accuracy: 0.9200 - val_loss: 0.5851 - val_accuracy: 0.8400\n",
            "Epoch 26/100\n",
            "2/2 [==============================] - 0s 116ms/step - loss: 0.1591 - accuracy: 0.9400 - val_loss: 0.8069 - val_accuracy: 0.8000\n",
            "Epoch 27/100\n",
            "2/2 [==============================] - 0s 106ms/step - loss: 0.1827 - accuracy: 0.9100 - val_loss: 0.7329 - val_accuracy: 0.8000\n",
            "Epoch 28/100\n",
            "2/2 [==============================] - 0s 111ms/step - loss: 0.1288 - accuracy: 0.9600 - val_loss: 0.6185 - val_accuracy: 0.8200\n",
            "Epoch 29/100\n",
            "2/2 [==============================] - 0s 107ms/step - loss: 0.1288 - accuracy: 0.9600 - val_loss: 0.5935 - val_accuracy: 0.7600\n",
            "Epoch 30/100\n",
            "2/2 [==============================] - 0s 119ms/step - loss: 0.1425 - accuracy: 0.9500 - val_loss: 0.6901 - val_accuracy: 0.7400\n",
            "Epoch 31/100\n",
            "2/2 [==============================] - 0s 110ms/step - loss: 0.1209 - accuracy: 0.9600 - val_loss: 0.8312 - val_accuracy: 0.7600\n",
            "Epoch 32/100\n",
            "2/2 [==============================] - 0s 108ms/step - loss: 0.1186 - accuracy: 0.9600 - val_loss: 0.7176 - val_accuracy: 0.8000\n",
            "Epoch 33/100\n",
            "2/2 [==============================] - 0s 146ms/step - loss: 0.0916 - accuracy: 0.9900 - val_loss: 0.6493 - val_accuracy: 0.8200\n",
            "Epoch 34/100\n",
            "2/2 [==============================] - 0s 152ms/step - loss: 0.1018 - accuracy: 0.9600 - val_loss: 0.6380 - val_accuracy: 0.7800\n",
            "Epoch 35/100\n",
            "2/2 [==============================] - 0s 169ms/step - loss: 0.0804 - accuracy: 0.9800 - val_loss: 0.7320 - val_accuracy: 0.7200\n",
            "Epoch 36/100\n",
            "2/2 [==============================] - 0s 188ms/step - loss: 0.0761 - accuracy: 0.9900 - val_loss: 0.8304 - val_accuracy: 0.7200\n",
            "Epoch 37/100\n",
            "2/2 [==============================] - 1s 333ms/step - loss: 0.0787 - accuracy: 0.9900 - val_loss: 0.7551 - val_accuracy: 0.7400\n",
            "Epoch 38/100\n",
            "2/2 [==============================] - 1s 495ms/step - loss: 0.0612 - accuracy: 1.0000 - val_loss: 0.7095 - val_accuracy: 0.7800\n",
            "Epoch 39/100\n",
            "2/2 [==============================] - 1s 422ms/step - loss: 0.0736 - accuracy: 0.9800 - val_loss: 0.6874 - val_accuracy: 0.7400\n",
            "Epoch 40/100\n",
            "2/2 [==============================] - 1s 446ms/step - loss: 0.0548 - accuracy: 0.9900 - val_loss: 0.8011 - val_accuracy: 0.7200\n",
            "Epoch 41/100\n",
            "2/2 [==============================] - 1s 268ms/step - loss: 0.0584 - accuracy: 0.9900 - val_loss: 0.8111 - val_accuracy: 0.7400\n",
            "Epoch 42/100\n",
            "2/2 [==============================] - 0s 189ms/step - loss: 0.0488 - accuracy: 1.0000 - val_loss: 0.7257 - val_accuracy: 0.7800\n",
            "Epoch 43/100\n",
            "2/2 [==============================] - 0s 178ms/step - loss: 0.0454 - accuracy: 1.0000 - val_loss: 0.7182 - val_accuracy: 0.8000\n",
            "Epoch 44/100\n",
            "2/2 [==============================] - 0s 266ms/step - loss: 0.0464 - accuracy: 0.9900 - val_loss: 0.7596 - val_accuracy: 0.7400\n",
            "Epoch 45/100\n",
            "2/2 [==============================] - 0s 276ms/step - loss: 0.0338 - accuracy: 1.0000 - val_loss: 0.9017 - val_accuracy: 0.7200\n",
            "Epoch 46/100\n",
            "2/2 [==============================] - 1s 263ms/step - loss: 0.0420 - accuracy: 1.0000 - val_loss: 0.8692 - val_accuracy: 0.7200\n",
            "Epoch 47/100\n",
            "2/2 [==============================] - 0s 226ms/step - loss: 0.0299 - accuracy: 1.0000 - val_loss: 0.7576 - val_accuracy: 0.7400\n",
            "Epoch 48/100\n",
            "2/2 [==============================] - 0s 186ms/step - loss: 0.0334 - accuracy: 1.0000 - val_loss: 0.7461 - val_accuracy: 0.7800\n",
            "Epoch 49/100\n",
            "2/2 [==============================] - 0s 216ms/step - loss: 0.0324 - accuracy: 0.9900 - val_loss: 0.8377 - val_accuracy: 0.7400\n",
            "Epoch 50/100\n",
            "2/2 [==============================] - 1s 373ms/step - loss: 0.0240 - accuracy: 1.0000 - val_loss: 0.9088 - val_accuracy: 0.7600\n",
            "Epoch 51/100\n",
            "2/2 [==============================] - 0s 200ms/step - loss: 0.0263 - accuracy: 1.0000 - val_loss: 0.8725 - val_accuracy: 0.7600\n",
            "Epoch 52/100\n",
            "2/2 [==============================] - 0s 242ms/step - loss: 0.0222 - accuracy: 1.0000 - val_loss: 0.7971 - val_accuracy: 0.7600\n",
            "Epoch 53/100\n",
            "2/2 [==============================] - 0s 211ms/step - loss: 0.0222 - accuracy: 1.0000 - val_loss: 0.8030 - val_accuracy: 0.7600\n",
            "Epoch 54/100\n",
            "2/2 [==============================] - 0s 221ms/step - loss: 0.0186 - accuracy: 1.0000 - val_loss: 0.8759 - val_accuracy: 0.7400\n",
            "Epoch 55/100\n",
            "2/2 [==============================] - 0s 124ms/step - loss: 0.0174 - accuracy: 1.0000 - val_loss: 0.9292 - val_accuracy: 0.7600\n",
            "Epoch 56/100\n",
            "2/2 [==============================] - 1s 325ms/step - loss: 0.0175 - accuracy: 1.0000 - val_loss: 0.9096 - val_accuracy: 0.7400\n",
            "Epoch 57/100\n",
            "2/2 [==============================] - 0s 243ms/step - loss: 0.0151 - accuracy: 1.0000 - val_loss: 0.8688 - val_accuracy: 0.7600\n",
            "Epoch 58/100\n",
            "2/2 [==============================] - 0s 228ms/step - loss: 0.0144 - accuracy: 1.0000 - val_loss: 0.8494 - val_accuracy: 0.7600\n",
            "Epoch 59/100\n",
            "2/2 [==============================] - 0s 197ms/step - loss: 0.0146 - accuracy: 1.0000 - val_loss: 0.8575 - val_accuracy: 0.7600\n",
            "Epoch 60/100\n",
            "2/2 [==============================] - 0s 195ms/step - loss: 0.0130 - accuracy: 1.0000 - val_loss: 0.8909 - val_accuracy: 0.7600\n",
            "Epoch 61/100\n",
            "2/2 [==============================] - 0s 151ms/step - loss: 0.0119 - accuracy: 1.0000 - val_loss: 0.9312 - val_accuracy: 0.7400\n",
            "Epoch 62/100\n",
            "2/2 [==============================] - 0s 158ms/step - loss: 0.0118 - accuracy: 1.0000 - val_loss: 0.9344 - val_accuracy: 0.7400\n",
            "Epoch 63/100\n",
            "2/2 [==============================] - 0s 108ms/step - loss: 0.0114 - accuracy: 1.0000 - val_loss: 0.9230 - val_accuracy: 0.7600\n",
            "Epoch 64/100\n",
            "2/2 [==============================] - 0s 110ms/step - loss: 0.0105 - accuracy: 1.0000 - val_loss: 0.9055 - val_accuracy: 0.7800\n",
            "Epoch 65/100\n",
            "2/2 [==============================] - 0s 165ms/step - loss: 0.0099 - accuracy: 1.0000 - val_loss: 0.9016 - val_accuracy: 0.7800\n",
            "Epoch 66/100\n",
            "2/2 [==============================] - 0s 220ms/step - loss: 0.0095 - accuracy: 1.0000 - val_loss: 0.9007 - val_accuracy: 0.7600\n",
            "Epoch 67/100\n",
            "2/2 [==============================] - 0s 212ms/step - loss: 0.0093 - accuracy: 1.0000 - val_loss: 0.9221 - val_accuracy: 0.7600\n",
            "Epoch 68/100\n",
            "2/2 [==============================] - 0s 198ms/step - loss: 0.0090 - accuracy: 1.0000 - val_loss: 0.9602 - val_accuracy: 0.7800\n",
            "Epoch 69/100\n",
            "2/2 [==============================] - 0s 216ms/step - loss: 0.0083 - accuracy: 1.0000 - val_loss: 0.9691 - val_accuracy: 0.7800\n",
            "Epoch 70/100\n",
            "2/2 [==============================] - 0s 211ms/step - loss: 0.0079 - accuracy: 1.0000 - val_loss: 0.9550 - val_accuracy: 0.7800\n",
            "Epoch 71/100\n",
            "2/2 [==============================] - 0s 185ms/step - loss: 0.0075 - accuracy: 1.0000 - val_loss: 0.9419 - val_accuracy: 0.7800\n",
            "Epoch 72/100\n",
            "2/2 [==============================] - 0s 217ms/step - loss: 0.0073 - accuracy: 1.0000 - val_loss: 0.9450 - val_accuracy: 0.7800\n",
            "Epoch 73/100\n",
            "2/2 [==============================] - 0s 149ms/step - loss: 0.0070 - accuracy: 1.0000 - val_loss: 0.9574 - val_accuracy: 0.7800\n",
            "Epoch 74/100\n",
            "2/2 [==============================] - 0s 109ms/step - loss: 0.0068 - accuracy: 1.0000 - val_loss: 0.9700 - val_accuracy: 0.7800\n",
            "Epoch 75/100\n",
            "2/2 [==============================] - 0s 116ms/step - loss: 0.0065 - accuracy: 1.0000 - val_loss: 0.9725 - val_accuracy: 0.7800\n",
            "Epoch 76/100\n",
            "2/2 [==============================] - 0s 151ms/step - loss: 0.0063 - accuracy: 1.0000 - val_loss: 0.9761 - val_accuracy: 0.7800\n",
            "Epoch 77/100\n",
            "2/2 [==============================] - 0s 122ms/step - loss: 0.0060 - accuracy: 1.0000 - val_loss: 0.9757 - val_accuracy: 0.7800\n",
            "Epoch 78/100\n",
            "2/2 [==============================] - 0s 111ms/step - loss: 0.0060 - accuracy: 1.0000 - val_loss: 0.9848 - val_accuracy: 0.7800\n",
            "Epoch 79/100\n",
            "2/2 [==============================] - 0s 106ms/step - loss: 0.0057 - accuracy: 1.0000 - val_loss: 0.9986 - val_accuracy: 0.7800\n",
            "Epoch 80/100\n",
            "2/2 [==============================] - 0s 115ms/step - loss: 0.0054 - accuracy: 1.0000 - val_loss: 1.0121 - val_accuracy: 0.7800\n",
            "Epoch 81/100\n",
            "2/2 [==============================] - 0s 114ms/step - loss: 0.0054 - accuracy: 1.0000 - val_loss: 1.0169 - val_accuracy: 0.7600\n",
            "Epoch 82/100\n",
            "2/2 [==============================] - 0s 106ms/step - loss: 0.0052 - accuracy: 1.0000 - val_loss: 1.0288 - val_accuracy: 0.7600\n",
            "Epoch 83/100\n",
            "2/2 [==============================] - 0s 116ms/step - loss: 0.0051 - accuracy: 1.0000 - val_loss: 1.0224 - val_accuracy: 0.7800\n",
            "Epoch 84/100\n",
            "2/2 [==============================] - 0s 120ms/step - loss: 0.0048 - accuracy: 1.0000 - val_loss: 1.0157 - val_accuracy: 0.7800\n",
            "Epoch 85/100\n",
            "2/2 [==============================] - 0s 121ms/step - loss: 0.0047 - accuracy: 1.0000 - val_loss: 1.0120 - val_accuracy: 0.7800\n",
            "Epoch 86/100\n",
            "2/2 [==============================] - 0s 114ms/step - loss: 0.0046 - accuracy: 1.0000 - val_loss: 1.0188 - val_accuracy: 0.7800\n",
            "Epoch 87/100\n",
            "2/2 [==============================] - 0s 157ms/step - loss: 0.0044 - accuracy: 1.0000 - val_loss: 1.0311 - val_accuracy: 0.7800\n",
            "Epoch 88/100\n",
            "2/2 [==============================] - 0s 107ms/step - loss: 0.0042 - accuracy: 1.0000 - val_loss: 1.0453 - val_accuracy: 0.7800\n",
            "Epoch 89/100\n",
            "2/2 [==============================] - 0s 105ms/step - loss: 0.0042 - accuracy: 1.0000 - val_loss: 1.0519 - val_accuracy: 0.7800\n",
            "Epoch 90/100\n",
            "2/2 [==============================] - 0s 120ms/step - loss: 0.0040 - accuracy: 1.0000 - val_loss: 1.0574 - val_accuracy: 0.7800\n",
            "Epoch 91/100\n",
            "2/2 [==============================] - 0s 108ms/step - loss: 0.0039 - accuracy: 1.0000 - val_loss: 1.0597 - val_accuracy: 0.7800\n",
            "Epoch 92/100\n",
            "2/2 [==============================] - 0s 118ms/step - loss: 0.0038 - accuracy: 1.0000 - val_loss: 1.0624 - val_accuracy: 0.7800\n",
            "Epoch 93/100\n",
            "2/2 [==============================] - 0s 115ms/step - loss: 0.0037 - accuracy: 1.0000 - val_loss: 1.0565 - val_accuracy: 0.7800\n",
            "Epoch 94/100\n",
            "2/2 [==============================] - 0s 106ms/step - loss: 0.0036 - accuracy: 1.0000 - val_loss: 1.0472 - val_accuracy: 0.7800\n",
            "Epoch 95/100\n",
            "2/2 [==============================] - 0s 116ms/step - loss: 0.0035 - accuracy: 1.0000 - val_loss: 1.0400 - val_accuracy: 0.7800\n",
            "Epoch 96/100\n",
            "2/2 [==============================] - 0s 111ms/step - loss: 0.0035 - accuracy: 1.0000 - val_loss: 1.0414 - val_accuracy: 0.7800\n",
            "Epoch 97/100\n",
            "2/2 [==============================] - 0s 109ms/step - loss: 0.0034 - accuracy: 1.0000 - val_loss: 1.0530 - val_accuracy: 0.7800\n",
            "Epoch 98/100\n",
            "2/2 [==============================] - 0s 109ms/step - loss: 0.0033 - accuracy: 1.0000 - val_loss: 1.0692 - val_accuracy: 0.7800\n",
            "Epoch 99/100\n",
            "2/2 [==============================] - 0s 109ms/step - loss: 0.0032 - accuracy: 1.0000 - val_loss: 1.0927 - val_accuracy: 0.7800\n",
            "Epoch 100/100\n",
            "2/2 [==============================] - 0s 116ms/step - loss: 0.0032 - accuracy: 1.0000 - val_loss: 1.1032 - val_accuracy: 0.7800\n"
          ]
        },
        {
          "output_type": "execute_result",
          "data": {
            "text/plain": [
              "[<matplotlib.lines.Line2D at 0x7f003029ad60>]"
            ]
          },
          "metadata": {},
          "execution_count": 7
        },
        {
          "output_type": "display_data",
          "data": {
            "text/plain": [
              "<Figure size 432x288 with 1 Axes>"
            ],
            "image/png": "[encoded data removed]"
          },
          "metadata": {
            "needs_background": "light"
          }
        }
      ]
    },
    {
      "cell_type": "code",
      "source": [
        "plt.plot(history.history['val_loss'])\n",
        "plt.show()\n",
        "plt.plot(history.history['accuracy'])\n",
        "plt.plot(history.history['val_accuracy']) \n",
        "plt.show()"
      ],
      "metadata": {
        "colab": {
          "base_uri": "https://localhost:8080/",
          "height": 513
        },
        "id": "TaL4kkrgVwoZ",
        "outputId": "4265a5c9-737b-4af0-bd2e-e1effc63f95a"
      },
      "execution_count": null,
      "outputs": [
        {
          "output_type": "display_data",
          "data": {
            "text/plain": [
              "<Figure size 432x288 with 1 Axes>"
            ],
            "image/png": "[encoded data removed]"
          },
          "metadata": {
            "needs_background": "light"
          }
        },
        {
          "output_type": "display_data",
          "data": {
            "text/plain": [
              "<Figure size 432x288 with 1 Axes>"
            ],
            "image/png": "[encoded data removed]"
          },
          "metadata": {
            "needs_background": "light"
          }
        }
      ]
    },
    {
      "cell_type": "markdown",
      "source": [],
      "metadata": {
        "id": "sXPvT8i5JH9H"
      }
    },
    {
      "cell_type": "markdown",
      "source": [
        "## A3"
      ],
      "metadata": {
        "id": "6N0-4DLwWqQE"
      }
    },
    {
      "cell_type": "code",
      "execution_count": null,
      "metadata": {
        "id": "NvR51w5-aKAv",
        "colab": {
          "base_uri": "https://localhost:8080/"
        },
        "outputId": "c5628d37-c60a-432b-a53a-f87ade2c7a05"
      },
      "outputs": [
        {
          "output_type": "stream",
          "name": "stdout",
          "text": [
            "4/4 [==============================] - 0s 22ms/step - loss: 2.0736 - accuracy: 0.6600\n",
            "\n",
            "Keras CNN binary accuracy: 0.6600000262260437 \n",
            "\n"
          ]
        }
      ],
      "source": [
        "\n",
        "score=model.evaluate(test_X[0:100],test_Y_one_hot[0:100],verbose=1) \n",
        "print('\\nKeras CNN binary accuracy:',score[1],'\\n')"
      ]
    },
    {
      "cell_type": "markdown",
      "source": [
        "A4"
      ],
      "metadata": {
        "id": "KeXbuyYgHoiz"
      }
    },
    {
      "cell_type": "code",
      "source": [
        "filters,biases=model.layers[0].get_weights()\n",
        "for i in range(5):\n",
        "  plt.imshow(filters[:,:,0,i],cmap='gray') \n",
        "  plt.show()"
      ],
      "metadata": {
        "id": "b8obwruYHlhx",
        "outputId": "2bb3fb4d-2cc3-4a0b-f3f3-910df1ef7a7a",
        "colab": {
          "base_uri": "https://localhost:8080/",
          "height": 1000
        }
      },
      "execution_count": null,
      "outputs": [
        {
          "output_type": "display_data",
          "data": {
            "text/plain": [
              "<Figure size 432x288 with 1 Axes>"
            ],
            "image/png": "[encoded data removed]"
          },
          "metadata": {
            "needs_background": "light"
          }
        },
        {
          "output_type": "display_data",
          "data": {
            "text/plain": [
              "<Figure size 432x288 with 1 Axes>"
            ],
            "image/png": "[encoded data removed]"
          },
          "metadata": {
            "needs_background": "light"
          }
        },
        {
          "output_type": "display_data",
          "data": {
            "text/plain": [
              "<Figure size 432x288 with 1 Axes>"
            ],
            "image/png": "[encoded data removed]"
          },
          "metadata": {
            "needs_background": "light"
          }
        },
        {
          "output_type": "display_data",
          "data": {
            "text/plain": [
              "<Figure size 432x288 with 1 Axes>"
            ],
            "image/png": "[encoded data removed]"
          },
          "metadata": {
            "needs_background": "light"
          }
        },
        {
          "output_type": "display_data",
          "data": {
            "text/plain": [
              "<Figure size 432x288 with 1 Axes>"
            ],
            "image/png": "[encoded data removed]"
          },
          "metadata": {
            "needs_background": "light"
          }
        }
      ]
    },
    {
      "cell_type": "markdown",
      "source": [
        "A5"
      ],
      "metadata": {
        "id": "KTt8LHF_H4al"
      }
    },
    {
      "cell_type": "code",
      "source": [
        "from scipy import signal \n",
        "im=train_X[10]\n",
        "plt.imshow(im,cmap='gray')\n",
        "plt.show()\n",
        "\n",
        "# ot=signal.convolve2d(im.reshape(28,28),filt[:,:,1].reshape(3,3),boundary='symm',mode='same')\n",
        "# plt.imshow(ot,cmap='gray')\n",
        "# #print(im.reshape(28,28),'\\n',filt[:,:,1].reshape(3,3))#print(ot)"
      ],
      "metadata": {
        "id": "G_aqcKvmH70G",
        "outputId": "3058c842-03e8-4202-a01d-a34e2be10565",
        "colab": {
          "base_uri": "https://localhost:8080/",
          "height": 265
        }
      },
      "execution_count": null,
      "outputs": [
        {
          "output_type": "display_data",
          "data": {
            "text/plain": [
              "<Figure size 432x288 with 1 Axes>"
            ],
            "image/png": "[encoded data removed]"
          },
          "metadata": {
            "needs_background": "light"
          }
        }
      ]
    },
    {
      "cell_type": "markdown",
      "source": [
        "A6"
      ],
      "metadata": {
        "id": "pH_m63LvIU_p"
      }
    },
    {
      "cell_type": "code",
      "source": [],
      "metadata": {
        "id": "NPMRDy_hIWk1"
      },
      "execution_count": null,
      "outputs": []
    }
  ],
  "metadata": {
    "kernelspec": {
      "display_name": "Python 3",
      "language": "python",
      "name": "python3"
    },
    "language_info": {
      "codemirror_mode": {
        "name": "ipython",
        "version": 3
      },
      "file_extension": ".py",
      "mimetype": "text/x-python",
      "name": "python",
      "nbconvert_exporter": "python",
      "pygments_lexer": "ipython3",
      "version": "3.10.1"
    },
    "colab": {
      "provenance": [],
      "include_colab_link": true
    }
  },
  "nbformat": 4,
  "nbformat_minor": 0
}