{
  "cells": [
    {
      "cell_type": "markdown",
      "metadata": {
        "id": "view-in-github",
        "colab_type": "text"
      },
      "source": [
        "<a href=\"https://colab.research.google.com/github/nitinsaimajji/voice1/blob/main/voice_detection_update.ipynb\" target=\"_parent\"><img src=\"https://colab.research.google.com/assets/colab-badge.svg\" alt=\"Open In Colab\"/></a>"
      ]
    },
    {
      "cell_type": "code",
      "execution_count": 10,
      "metadata": {
        "id": "qzpV-lbxaKAe",
        "outputId": "9d70aa6c-f473-4183-ffe2-3c019510437b",
        "colab": {
          "base_uri": "https://localhost:8080/"
        }
      },
      "outputs": [
        {
          "output_type": "stream",
          "name": "stdout",
          "text": [
            "Looking in indexes: https://pypi.org/simple, https://us-python.pkg.dev/colab-wheels/public/simple/\n",
            "Requirement already satisfied: python_speech_features in /usr/local/lib/python3.8/dist-packages (0.6)\n"
          ]
        }
      ],
      "source": [
        "pip install python_speech_features\n"
      ]
    },
    {
      "cell_type": "code",
      "source": [
        "!git clone https://github.com/nitinsaimajji/voice1.git"
      ],
      "metadata": {
        "colab": {
          "base_uri": "https://localhost:8080/"
        },
        "id": "r0Uz-4pobGse",
        "outputId": "6d148e8e-b620-48de-a9f4-d80b1fb33ce9"
      },
      "execution_count": 9,
      "outputs": [
        {
          "output_type": "stream",
          "name": "stdout",
          "text": [
            "fatal: destination path 'voice1' already exists and is not an empty directory.\n"
          ]
        }
      ]
    },
    {
      "cell_type": "code",
      "source": [
        "pip install pydub"
      ],
      "metadata": {
        "colab": {
          "base_uri": "https://localhost:8080/"
        },
        "id": "x67ZxGUVZzTH",
        "outputId": "463588dd-bcf4-4fe6-c308-fd8730b2efea"
      },
      "execution_count": 11,
      "outputs": [
        {
          "output_type": "stream",
          "name": "stdout",
          "text": [
            "Looking in indexes: https://pypi.org/simple, https://us-python.pkg.dev/colab-wheels/public/simple/\n",
            "Requirement already satisfied: pydub in /usr/local/lib/python3.8/dist-packages (0.25.1)\n"
          ]
        }
      ]
    },
    {
      "cell_type": "code",
      "execution_count": 12,
      "metadata": {
        "id": "HtefZ9dDaKAn"
      },
      "outputs": [],
      "source": [
        "import os\n",
        "import librosa\n",
        "import numpy as np\n",
        "import pandas as pd\n",
        "import matplotlib.pyplot as plt\n",
        "import seaborn as sns\n",
        "from tqdm import tqdm\n",
        "from sklearn.model_selection import train_test_split\n",
        "from sklearn.svm import SVC\n",
        "from sklearn.metrics import confusion_matrix\n",
        "from pydub import AudioSegment\n",
        "from python_speech_features import mfcc\n",
        "from time import time"
      ]
    },
    {
      "cell_type": "markdown",
      "source": [
        "## **A1**"
      ],
      "metadata": {
        "id": "73l5XscFUr_A"
      }
    },
    {
      "cell_type": "code",
      "source": [
        "X=[0,1,2,3,4,5,6,0,1,2,3,4,5,6,0,0,0]\n",
        "H_L=[0.05,0.2,0.5,0.2,0.05]\n",
        "H_H=[-1,2,-1]\n",
        "y_low=np.convolve(X,H_L)\n",
        "y_high=np.convolve(X,H_H)\n",
        "plt.plot(X)\n",
        "plt.plot(y_low)\n",
        "plt.plot(y_high)"
      ],
      "metadata": {
        "colab": {
          "base_uri": "https://localhost:8080/",
          "height": 282
        },
        "id": "V8SqIG3HUqH_",
        "outputId": "22f761f9-e374-4e00-953c-c82d88d6f72c"
      },
      "execution_count": 13,
      "outputs": [
        {
          "output_type": "execute_result",
          "data": {
            "text/plain": [
              "[<matplotlib.lines.Line2D at 0x7ffa195fa910>]"
            ]
          },
          "metadata": {},
          "execution_count": 13
        },
        {
          "output_type": "display_data",
          "data": {
            "text/plain": [
              "<Figure size 432x288 with 1 Axes>"
            ],
            "image/png": "[encoded data removed]"
          },
          "metadata": {
            "needs_background": "light"
          }
        }
      ]
    },
    {
      "cell_type": "markdown",
      "source": [
        "## A2"
      ],
      "metadata": {
        "id": "MK8fRruEVCUi"
      }
    },
    {
      "cell_type": "code",
      "source": [
        "from scipy import signal \n",
        "from skimage.io import imread\n",
        "from skimage.color import rgb2gray\n",
        "im=imread(r\"/content/voice1/Neural.JPG\")\n",
        "img=rgb2gray(im)*255\n",
        "plt.imshow(img,cmap='gray')\n",
        "img1=img[40:350,20:350]\n",
        "plt.imshow(img1,cmap='gray')\n",
        "plt.show()"
      ],
      "metadata": {
        "colab": {
          "base_uri": "https://localhost:8080/",
          "height": 269
        },
        "id": "p7fKxnV6UqQ1",
        "outputId": "860ac869-73e1-4ae5-98bf-efb033dca811"
      },
      "execution_count": 14,
      "outputs": [
        {
          "output_type": "display_data",
          "data": {
            "text/plain": [
              "<Figure size 432x288 with 1 Axes>"
            ],
            "image/png": "[encoded data removed]"
          },
          "metadata": {
            "needs_background": "light"
          }
        }
      ]
    },
    {
      "cell_type": "code",
      "source": [
        "fil1=np.array([[0,-1,0],[-1,4,-1],[0,-1,0]])\n",
        "fil2=np.array([[0.2,0.5,0.2],[0.5,1,0.5],[0.2,0.5,0.2]])\n",
        "fil3=np.array([[0.1,0.1,0.1,0.1,0.1],[0.1,0.1,0.1,0.1,0.1],[0.1,0.1,0.1,0.1,0.1],[0.1,0.1,0.1,0.1,0.1],[0.1,0.1,0.1,0.1,0.1]])\n",
        "grad1=signal.convolve2d(img1,fil1,boundary='symm',mode='same')\n",
        "grad2=signal.convolve2d(img1,fil2,boundary='symm',mode='same')\n",
        "grad3=signal.convolve2d(img1,fil3,boundary='symm',mode='same')\n",
        "\n",
        "grad=[grad1,grad2,grad3]\n",
        "\n",
        "plt.imshow(abs(grad1),cmap='gray',vmin=np.min(grad),vmax=np.max(grad))\n",
        "plt.show()\n",
        "\n",
        "plt.imshow(grad2,cmap='gray')\n",
        "plt.show()\n",
        "plt.imshow(grad3,cmap='gray')"
      ],
      "metadata": {
        "colab": {
          "base_uri": "https://localhost:8080/",
          "height": 790
        },
        "id": "TaL4kkrgVwoZ",
        "outputId": "6fc28dc6-944a-4bae-831b-0a2a1d6ff48f"
      },
      "execution_count": 15,
      "outputs": [
        {
          "output_type": "display_data",
          "data": {
            "text/plain": [
              "<Figure size 432x288 with 1 Axes>"
            ],
            "image/png": "[encoded data removed]"
          },
          "metadata": {
            "needs_background": "light"
          }
        },
        {
          "output_type": "display_data",
          "data": {
            "text/plain": [
              "<Figure size 432x288 with 1 Axes>"
            ],
            "image/png": "[encoded data removed]"
          },
          "metadata": {
            "needs_background": "light"
          }
        },
        {
          "output_type": "execute_result",
          "data": {
            "text/plain": [
              "<matplotlib.image.AxesImage at 0x7ffa19436160>"
            ]
          },
          "metadata": {},
          "execution_count": 15
        },
        {
          "output_type": "display_data",
          "data": {
            "text/plain": [
              "<Figure size 432x288 with 1 Axes>"
            ],
            "image/png": "[encoded data removed]"
          },
          "metadata": {
            "needs_background": "light"
          }
        }
      ]
    },
    {
      "cell_type": "markdown",
      "source": [
        "## A3"
      ],
      "metadata": {
        "id": "6N0-4DLwWqQE"
      }
    },
    {
      "cell_type": "code",
      "execution_count": 16,
      "metadata": {
        "id": "NvR51w5-aKAv",
        "colab": {
          "base_uri": "https://localhost:8080/"
        },
        "outputId": "0288c0cb-a66f-45c6-97b2-61a5176be284"
      },
      "outputs": [
        {
          "output_type": "execute_result",
          "data": {
            "text/plain": [
              "<bound method DataFrame.count of                      filename  gender\n",
              "0      male-sample-000008.wav    male\n",
              "1      male-sample-000014.wav    male\n",
              "2      male-sample-000019.wav    male\n",
              "3      male-sample-000020.wav    male\n",
              "4      male-sample-000023.wav    male\n",
              "..                        ...     ...\n",
              "195  female-sample-001164.wav  female\n",
              "196  female-sample-001193.wav  female\n",
              "197  female-sample-001194.wav  female\n",
              "198  female-sample-001216.wav  female\n",
              "199  female-sample-001237.wav  female\n",
              "\n",
              "[200 rows x 2 columns]>"
            ]
          },
          "metadata": {},
          "execution_count": 16
        }
      ],
      "source": [
        "df = pd.read_csv('/content/voice1/wav_check.csv')\n",
        "df.count"
      ]
    },
    {
      "cell_type": "markdown",
      "metadata": {
        "id": "ICttd2FnaKAw"
      },
      "source": [
        "Create two new data frames"
      ]
    },
    {
      "cell_type": "code",
      "execution_count": 17,
      "metadata": {
        "id": "onMz1en1aKAx"
      },
      "outputs": [],
      "source": [
        "df_male = df[df['gender']=='male']\n",
        "df_female = df[df['gender']=='female']\n"
      ]
    },
    {
      "cell_type": "markdown",
      "metadata": {
        "id": "KC_wW59maKAy"
      },
      "source": [
        "Find out the number of rows"
      ]
    },
    {
      "cell_type": "code",
      "execution_count": 18,
      "metadata": {
        "id": "mTeCjJpmaKAz",
        "outputId": "6b9a94bf-9d4c-467f-c92d-18b12d58f7de",
        "colab": {
          "base_uri": "https://localhost:8080/"
        }
      },
      "outputs": [
        {
          "output_type": "stream",
          "name": "stdout",
          "text": [
            "(100, 2)\n"
          ]
        }
      ],
      "source": [
        "print(df_male.shape)\t\t\n"
      ]
    },
    {
      "cell_type": "code",
      "execution_count": 19,
      "metadata": {
        "id": "gykWO7VZaKA5",
        "outputId": "847a190f-b8ff-4fbe-f7b7-ed170cdb4e8f",
        "colab": {
          "base_uri": "https://localhost:8080/"
        }
      },
      "outputs": [
        {
          "output_type": "stream",
          "name": "stdout",
          "text": [
            "(100, 2)\n",
            "                     filename  gender\n",
            "100  female-sample-000013.wav  female\n",
            "101  female-sample-000026.wav  female\n",
            "102  female-sample-000034.wav  female\n",
            "103  female-sample-000039.wav  female\n",
            "104  female-sample-000051.wav  female\n",
            "..                        ...     ...\n",
            "195  female-sample-001164.wav  female\n",
            "196  female-sample-001193.wav  female\n",
            "197  female-sample-001194.wav  female\n",
            "198  female-sample-001216.wav  female\n",
            "199  female-sample-001237.wav  female\n",
            "\n",
            "[100 rows x 2 columns]\n"
          ]
        }
      ],
      "source": [
        "print(df_female.shape)\t\t\n",
        "print(df_female)\n"
      ]
    },
    {
      "cell_type": "markdown",
      "metadata": {
        "id": "Yuuak-e_aKA6"
      },
      "source": [
        "Taking only 200 male and 200 female data"
      ]
    },
    {
      "cell_type": "code",
      "execution_count": 20,
      "metadata": {
        "id": "DtVAKYsvaKA7"
      },
      "outputs": [],
      "source": [
        "df_male = df_male[:100]\n",
        "df_female = df_female[:100]"
      ]
    },
    {
      "cell_type": "markdown",
      "metadata": {
        "id": "JuJ3Z39RaKA8"
      },
      "source": [
        "Define the audio path"
      ]
    },
    {
      "cell_type": "code",
      "execution_count": 21,
      "metadata": {
        "id": "dAzaL0tMaKA9"
      },
      "outputs": [],
      "source": [
        "TRAIN_PATH = '/content/voice/cv-valid-train/'"
      ]
    },
    {
      "cell_type": "markdown",
      "metadata": {
        "id": "zs-oe8t-aKA_"
      },
      "source": [
        "The function to convert mp3 to wav"
      ]
    },
    {
      "cell_type": "code",
      "execution_count": 22,
      "metadata": {
        "id": "CzZlQy3caKBA"
      },
      "outputs": [],
      "source": [
        "# def convert_to_wav(df, m_f, path=TRAIN_PATH):\n",
        "#     srcs = []\n",
        "#     for file in tqdm(df['filename']):\n",
        "#         sound = AudioSegment.from_mp3(path+file)\n",
        "        \n",
        "# \t\t# Create new wav files based on existing mp3 files\n",
        "#         if m_f == 'male':\n",
        "#             sound.export('male-'+file.split('/')[-1].split('.')[0]+'.wav', format='wav')\n",
        "#         elif m_f == 'female':\n",
        "#             sound.export('female-'+file.split('/')[-1].split('.')[0]+'.wav', format='wav')\n",
        "        \n",
        "#     return"
      ]
    },
    {
      "cell_type": "code",
      "source": [
        "# convert_to_wav(df_female, m_f='female')\n",
        "# convert_to_wav(df_male, m_f='male')"
      ],
      "metadata": {
        "id": "mVg_WMCbaFNY"
      },
      "execution_count": null,
      "outputs": []
    },
    {
      "cell_type": "code",
      "source": [
        "TRAIN_PATH = '/content/voice1/dataset1/'"
      ],
      "metadata": {
        "id": "1-lW80CEl630"
      },
      "execution_count": 24,
      "outputs": []
    },
    {
      "cell_type": "markdown",
      "metadata": {
        "id": "snXwPrGlaKBE"
      },
      "source": [
        "Define a function to load the raw audio files"
      ]
    },
    {
      "cell_type": "code",
      "execution_count": 25,
      "metadata": {
        "id": "UBVh6VPNaKBI"
      },
      "outputs": [],
      "source": [
        "def load_audio(path=TRAIN_PATH):\n",
        "    male_voices = []\n",
        "    female_voices = []\n",
        "    for file in tqdm(df['filename']):\n",
        "        if file.split('-')[0] == 'male':\n",
        "            male_voices.append(librosa.load(path+file))\n",
        "        elif file.split('-')[0] == 'female':\n",
        "            female_voices.append(librosa.load(path+file))\n",
        "    \n",
        "    male_voices = np.array(male_voices)\n",
        "    female_voices = np.array(female_voices)\n",
        "    \n",
        "    return male_voices, female_voices"
      ]
    },
    {
      "cell_type": "markdown",
      "metadata": {
        "id": "z25pZ1dgaKBJ"
      },
      "source": [
        "How to use load_audio() function"
      ]
    },
    {
      "cell_type": "code",
      "execution_count": 26,
      "metadata": {
        "id": "KACKxBb1aKBK",
        "colab": {
          "base_uri": "https://localhost:8080/"
        },
        "outputId": "c708bf47-2b7e-4330-e2e2-41c6a40485a0"
      },
      "outputs": [
        {
          "output_type": "stream",
          "name": "stderr",
          "text": [
            "100%|██████████| 200/200 [00:40<00:00,  4.88it/s]\n",
            "<ipython-input-25-f53628bfc287>:10: VisibleDeprecationWarning: Creating an ndarray from ragged nested sequences (which is a list-or-tuple of lists-or-tuples-or ndarrays with different lengths or shapes) is deprecated. If you meant to do this, you must specify 'dtype=object' when creating the ndarray.\n",
            "  male_voices = np.array(male_voices)\n",
            "<ipython-input-25-f53628bfc287>:11: VisibleDeprecationWarning: Creating an ndarray from ragged nested sequences (which is a list-or-tuple of lists-or-tuples-or ndarrays with different lengths or shapes) is deprecated. If you meant to do this, you must specify 'dtype=object' when creating the ndarray.\n",
            "  female_voices = np.array(female_voices)\n"
          ]
        }
      ],
      "source": [
        "male_voices, female_voices = load_audio()"
      ]
    },
    {
      "cell_type": "markdown",
      "metadata": {
        "id": "v68jE20NaKBK"
      },
      "source": [
        "The function to extract audio features"
      ]
    },
    {
      "cell_type": "code",
      "execution_count": 27,
      "metadata": {
        "id": "XR7Se4hWaKBL"
      },
      "outputs": [],
      "source": [
        "def extract_features(audio_data):\n",
        "\taudio_waves = audio_data[:,0]\n",
        "\tsamplerate = audio_data[:,1][1]\n",
        "\t\n",
        "\tfeatures = []\n",
        "\tfor audio_wave in tqdm(audio_waves):\n",
        "\t\tfeatures.append(mfcc(audio_wave, samplerate=samplerate, numcep=26))\n",
        "    \n",
        "\tfeatures = np.array(features)\n",
        "\treturn features"
      ]
    },
    {
      "cell_type": "markdown",
      "metadata": {
        "id": "OaLr_OKWaKBL"
      },
      "source": [
        "Use the extract_features() function"
      ]
    },
    {
      "cell_type": "code",
      "execution_count": 28,
      "metadata": {
        "id": "P65wdt-WaKBM",
        "colab": {
          "base_uri": "https://localhost:8080/"
        },
        "outputId": "a9cd9b74-b48c-45ed-d09f-641f34bf52bd"
      },
      "outputs": [
        {
          "output_type": "stream",
          "name": "stderr",
          "text": [
            "\r  0%|          | 0/100 [00:00<?, ?it/s]WARNING:root:frame length (551) is greater than FFT size (512), frame will be truncated. Increase NFFT to avoid.\n",
            "WARNING:root:frame length (551) is greater than FFT size (512), frame will be truncated. Increase NFFT to avoid.\n",
            "WARNING:root:frame length (551) is greater than FFT size (512), frame will be truncated. Increase NFFT to avoid.\n",
            "WARNING:root:frame length (551) is greater than FFT size (512), frame will be truncated. Increase NFFT to avoid.\n",
            "WARNING:root:frame length (551) is greater than FFT size (512), frame will be truncated. Increase NFFT to avoid.\n",
            "WARNING:root:frame length (551) is greater than FFT size (512), frame will be truncated. Increase NFFT to avoid.\n",
            "  6%|▌         | 6/100 [00:00<00:01, 57.59it/s]WARNING:root:frame length (551) is greater than FFT size (512), frame will be truncated. Increase NFFT to avoid.\n",
            "WARNING:root:frame length (551) is greater than FFT size (512), frame will be truncated. Increase NFFT to avoid.\n",
            "WARNING:root:frame length (551) is greater than FFT size (512), frame will be truncated. Increase NFFT to avoid.\n",
            "WARNING:root:frame length (551) is greater than FFT size (512), frame will be truncated. Increase NFFT to avoid.\n",
            "WARNING:root:frame length (551) is greater than FFT size (512), frame will be truncated. Increase NFFT to avoid.\n",
            "WARNING:root:frame length (551) is greater than FFT size (512), frame will be truncated. Increase NFFT to avoid.\n",
            " 12%|█▏        | 12/100 [00:00<00:01, 49.63it/s]WARNING:root:frame length (551) is greater than FFT size (512), frame will be truncated. Increase NFFT to avoid.\n",
            "WARNING:root:frame length (551) is greater than FFT size (512), frame will be truncated. Increase NFFT to avoid.\n",
            "WARNING:root:frame length (551) is greater than FFT size (512), frame will be truncated. Increase NFFT to avoid.\n",
            "WARNING:root:frame length (551) is greater than FFT size (512), frame will be truncated. Increase NFFT to avoid.\n",
            "WARNING:root:frame length (551) is greater than FFT size (512), frame will be truncated. Increase NFFT to avoid.\n",
            "WARNING:root:frame length (551) is greater than FFT size (512), frame will be truncated. Increase NFFT to avoid.\n",
            "WARNING:root:frame length (551) is greater than FFT size (512), frame will be truncated. Increase NFFT to avoid.\n",
            " 19%|█▉        | 19/100 [00:00<00:01, 56.09it/s]WARNING:root:frame length (551) is greater than FFT size (512), frame will be truncated. Increase NFFT to avoid.\n",
            "WARNING:root:frame length (551) is greater than FFT size (512), frame will be truncated. Increase NFFT to avoid.\n",
            "WARNING:root:frame length (551) is greater than FFT size (512), frame will be truncated. Increase NFFT to avoid.\n",
            "WARNING:root:frame length (551) is greater than FFT size (512), frame will be truncated. Increase NFFT to avoid.\n",
            "WARNING:root:frame length (551) is greater than FFT size (512), frame will be truncated. Increase NFFT to avoid.\n",
            "WARNING:root:frame length (551) is greater than FFT size (512), frame will be truncated. Increase NFFT to avoid.\n",
            " 25%|██▌       | 25/100 [00:00<00:01, 54.94it/s]WARNING:root:frame length (551) is greater than FFT size (512), frame will be truncated. Increase NFFT to avoid.\n",
            "WARNING:root:frame length (551) is greater than FFT size (512), frame will be truncated. Increase NFFT to avoid.\n",
            "WARNING:root:frame length (551) is greater than FFT size (512), frame will be truncated. Increase NFFT to avoid.\n",
            "WARNING:root:frame length (551) is greater than FFT size (512), frame will be truncated. Increase NFFT to avoid.\n",
            "WARNING:root:frame length (551) is greater than FFT size (512), frame will be truncated. Increase NFFT to avoid.\n",
            "WARNING:root:frame length (551) is greater than FFT size (512), frame will be truncated. Increase NFFT to avoid.\n",
            "WARNING:root:frame length (551) is greater than FFT size (512), frame will be truncated. Increase NFFT to avoid.\n",
            " 32%|███▏      | 32/100 [00:00<00:01, 59.36it/s]WARNING:root:frame length (551) is greater than FFT size (512), frame will be truncated. Increase NFFT to avoid.\n",
            "WARNING:root:frame length (551) is greater than FFT size (512), frame will be truncated. Increase NFFT to avoid.\n",
            "WARNING:root:frame length (551) is greater than FFT size (512), frame will be truncated. Increase NFFT to avoid.\n",
            "WARNING:root:frame length (551) is greater than FFT size (512), frame will be truncated. Increase NFFT to avoid.\n",
            "WARNING:root:frame length (551) is greater than FFT size (512), frame will be truncated. Increase NFFT to avoid.\n",
            "WARNING:root:frame length (551) is greater than FFT size (512), frame will be truncated. Increase NFFT to avoid.\n",
            " 38%|███▊      | 38/100 [00:00<00:01, 56.66it/s]WARNING:root:frame length (551) is greater than FFT size (512), frame will be truncated. Increase NFFT to avoid.\n",
            "WARNING:root:frame length (551) is greater than FFT size (512), frame will be truncated. Increase NFFT to avoid.\n",
            "WARNING:root:frame length (551) is greater than FFT size (512), frame will be truncated. Increase NFFT to avoid.\n",
            "WARNING:root:frame length (551) is greater than FFT size (512), frame will be truncated. Increase NFFT to avoid.\n",
            "WARNING:root:frame length (551) is greater than FFT size (512), frame will be truncated. Increase NFFT to avoid.\n",
            "WARNING:root:frame length (551) is greater than FFT size (512), frame will be truncated. Increase NFFT to avoid.\n",
            " 44%|████▍     | 44/100 [00:00<00:01, 53.27it/s]WARNING:root:frame length (551) is greater than FFT size (512), frame will be truncated. Increase NFFT to avoid.\n",
            "WARNING:root:frame length (551) is greater than FFT size (512), frame will be truncated. Increase NFFT to avoid.\n",
            "WARNING:root:frame length (551) is greater than FFT size (512), frame will be truncated. Increase NFFT to avoid.\n",
            "WARNING:root:frame length (551) is greater than FFT size (512), frame will be truncated. Increase NFFT to avoid.\n",
            "WARNING:root:frame length (551) is greater than FFT size (512), frame will be truncated. Increase NFFT to avoid.\n",
            "WARNING:root:frame length (551) is greater than FFT size (512), frame will be truncated. Increase NFFT to avoid.\n",
            "WARNING:root:frame length (551) is greater than FFT size (512), frame will be truncated. Increase NFFT to avoid.\n",
            " 51%|█████     | 51/100 [00:00<00:00, 56.57it/s]WARNING:root:frame length (551) is greater than FFT size (512), frame will be truncated. Increase NFFT to avoid.\n",
            "WARNING:root:frame length (551) is greater than FFT size (512), frame will be truncated. Increase NFFT to avoid.\n",
            "WARNING:root:frame length (551) is greater than FFT size (512), frame will be truncated. Increase NFFT to avoid.\n",
            "WARNING:root:frame length (551) is greater than FFT size (512), frame will be truncated. Increase NFFT to avoid.\n",
            "WARNING:root:frame length (551) is greater than FFT size (512), frame will be truncated. Increase NFFT to avoid.\n",
            "WARNING:root:frame length (551) is greater than FFT size (512), frame will be truncated. Increase NFFT to avoid.\n",
            " 57%|█████▋    | 57/100 [00:01<00:00, 52.63it/s]WARNING:root:frame length (551) is greater than FFT size (512), frame will be truncated. Increase NFFT to avoid.\n",
            "WARNING:root:frame length (551) is greater than FFT size (512), frame will be truncated. Increase NFFT to avoid.\n",
            "WARNING:root:frame length (551) is greater than FFT size (512), frame will be truncated. Increase NFFT to avoid.\n",
            "WARNING:root:frame length (551) is greater than FFT size (512), frame will be truncated. Increase NFFT to avoid.\n",
            "WARNING:root:frame length (551) is greater than FFT size (512), frame will be truncated. Increase NFFT to avoid.\n",
            "WARNING:root:frame length (551) is greater than FFT size (512), frame will be truncated. Increase NFFT to avoid.\n",
            " 63%|██████▎   | 63/100 [00:01<00:00, 53.17it/s]WARNING:root:frame length (551) is greater than FFT size (512), frame will be truncated. Increase NFFT to avoid.\n",
            "WARNING:root:frame length (551) is greater than FFT size (512), frame will be truncated. Increase NFFT to avoid.\n",
            "WARNING:root:frame length (551) is greater than FFT size (512), frame will be truncated. Increase NFFT to avoid.\n",
            "WARNING:root:frame length (551) is greater than FFT size (512), frame will be truncated. Increase NFFT to avoid.\n",
            "WARNING:root:frame length (551) is greater than FFT size (512), frame will be truncated. Increase NFFT to avoid.\n",
            "WARNING:root:frame length (551) is greater than FFT size (512), frame will be truncated. Increase NFFT to avoid.\n",
            " 69%|██████▉   | 69/100 [00:01<00:00, 49.80it/s]WARNING:root:frame length (551) is greater than FFT size (512), frame will be truncated. Increase NFFT to avoid.\n",
            "WARNING:root:frame length (551) is greater than FFT size (512), frame will be truncated. Increase NFFT to avoid.\n",
            "WARNING:root:frame length (551) is greater than FFT size (512), frame will be truncated. Increase NFFT to avoid.\n",
            "WARNING:root:frame length (551) is greater than FFT size (512), frame will be truncated. Increase NFFT to avoid.\n",
            "WARNING:root:frame length (551) is greater than FFT size (512), frame will be truncated. Increase NFFT to avoid.\n",
            "WARNING:root:frame length (551) is greater than FFT size (512), frame will be truncated. Increase NFFT to avoid.\n",
            " 75%|███████▌  | 75/100 [00:01<00:00, 48.36it/s]WARNING:root:frame length (551) is greater than FFT size (512), frame will be truncated. Increase NFFT to avoid.\n",
            "WARNING:root:frame length (551) is greater than FFT size (512), frame will be truncated. Increase NFFT to avoid.\n",
            "WARNING:root:frame length (551) is greater than FFT size (512), frame will be truncated. Increase NFFT to avoid.\n",
            "WARNING:root:frame length (551) is greater than FFT size (512), frame will be truncated. Increase NFFT to avoid.\n",
            "WARNING:root:frame length (551) is greater than FFT size (512), frame will be truncated. Increase NFFT to avoid.\n",
            "WARNING:root:frame length (551) is greater than FFT size (512), frame will be truncated. Increase NFFT to avoid.\n",
            " 81%|████████  | 81/100 [00:01<00:00, 49.93it/s]WARNING:root:frame length (551) is greater than FFT size (512), frame will be truncated. Increase NFFT to avoid.\n",
            "WARNING:root:frame length (551) is greater than FFT size (512), frame will be truncated. Increase NFFT to avoid.\n",
            "WARNING:root:frame length (551) is greater than FFT size (512), frame will be truncated. Increase NFFT to avoid.\n",
            "WARNING:root:frame length (551) is greater than FFT size (512), frame will be truncated. Increase NFFT to avoid.\n",
            "WARNING:root:frame length (551) is greater than FFT size (512), frame will be truncated. Increase NFFT to avoid.\n",
            "WARNING:root:frame length (551) is greater than FFT size (512), frame will be truncated. Increase NFFT to avoid.\n",
            " 87%|████████▋ | 87/100 [00:01<00:00, 49.38it/s]WARNING:root:frame length (551) is greater than FFT size (512), frame will be truncated. Increase NFFT to avoid.\n",
            "WARNING:root:frame length (551) is greater than FFT size (512), frame will be truncated. Increase NFFT to avoid.\n",
            "WARNING:root:frame length (551) is greater than FFT size (512), frame will be truncated. Increase NFFT to avoid.\n",
            "WARNING:root:frame length (551) is greater than FFT size (512), frame will be truncated. Increase NFFT to avoid.\n",
            "WARNING:root:frame length (551) is greater than FFT size (512), frame will be truncated. Increase NFFT to avoid.\n",
            "WARNING:root:frame length (551) is greater than FFT size (512), frame will be truncated. Increase NFFT to avoid.\n",
            " 93%|█████████▎| 93/100 [00:01<00:00, 50.79it/s]WARNING:root:frame length (551) is greater than FFT size (512), frame will be truncated. Increase NFFT to avoid.\n",
            "WARNING:root:frame length (551) is greater than FFT size (512), frame will be truncated. Increase NFFT to avoid.\n",
            "WARNING:root:frame length (551) is greater than FFT size (512), frame will be truncated. Increase NFFT to avoid.\n",
            "WARNING:root:frame length (551) is greater than FFT size (512), frame will be truncated. Increase NFFT to avoid.\n",
            "WARNING:root:frame length (551) is greater than FFT size (512), frame will be truncated. Increase NFFT to avoid.\n",
            "WARNING:root:frame length (551) is greater than FFT size (512), frame will be truncated. Increase NFFT to avoid.\n",
            " 99%|█████████▉| 99/100 [00:01<00:00, 51.27it/s]WARNING:root:frame length (551) is greater than FFT size (512), frame will be truncated. Increase NFFT to avoid.\n",
            "100%|██████████| 100/100 [00:01<00:00, 51.98it/s]\n",
            "<ipython-input-27-1d3dd38f60c7>:9: VisibleDeprecationWarning: Creating an ndarray from ragged nested sequences (which is a list-or-tuple of lists-or-tuples-or ndarrays with different lengths or shapes) is deprecated. If you meant to do this, you must specify 'dtype=object' when creating the ndarray.\n",
            "  features = np.array(features)\n",
            "  0%|          | 0/100 [00:00<?, ?it/s]WARNING:root:frame length (551) is greater than FFT size (512), frame will be truncated. Increase NFFT to avoid.\n",
            "WARNING:root:frame length (551) is greater than FFT size (512), frame will be truncated. Increase NFFT to avoid.\n",
            "WARNING:root:frame length (551) is greater than FFT size (512), frame will be truncated. Increase NFFT to avoid.\n",
            "WARNING:root:frame length (551) is greater than FFT size (512), frame will be truncated. Increase NFFT to avoid.\n",
            "WARNING:root:frame length (551) is greater than FFT size (512), frame will be truncated. Increase NFFT to avoid.\n",
            "  5%|▌         | 5/100 [00:00<00:01, 49.53it/s]WARNING:root:frame length (551) is greater than FFT size (512), frame will be truncated. Increase NFFT to avoid.\n",
            "WARNING:root:frame length (551) is greater than FFT size (512), frame will be truncated. Increase NFFT to avoid.\n",
            "WARNING:root:frame length (551) is greater than FFT size (512), frame will be truncated. Increase NFFT to avoid.\n",
            "WARNING:root:frame length (551) is greater than FFT size (512), frame will be truncated. Increase NFFT to avoid.\n",
            "WARNING:root:frame length (551) is greater than FFT size (512), frame will be truncated. Increase NFFT to avoid.\n",
            "WARNING:root:frame length (551) is greater than FFT size (512), frame will be truncated. Increase NFFT to avoid.\n",
            " 11%|█         | 11/100 [00:00<00:01, 50.30it/s]WARNING:root:frame length (551) is greater than FFT size (512), frame will be truncated. Increase NFFT to avoid.\n",
            "WARNING:root:frame length (551) is greater than FFT size (512), frame will be truncated. Increase NFFT to avoid.\n",
            "WARNING:root:frame length (551) is greater than FFT size (512), frame will be truncated. Increase NFFT to avoid.\n",
            "WARNING:root:frame length (551) is greater than FFT size (512), frame will be truncated. Increase NFFT to avoid.\n",
            "WARNING:root:frame length (551) is greater than FFT size (512), frame will be truncated. Increase NFFT to avoid.\n",
            "WARNING:root:frame length (551) is greater than FFT size (512), frame will be truncated. Increase NFFT to avoid.\n",
            " 17%|█▋        | 17/100 [00:00<00:01, 50.23it/s]WARNING:root:frame length (551) is greater than FFT size (512), frame will be truncated. Increase NFFT to avoid.\n",
            "WARNING:root:frame length (551) is greater than FFT size (512), frame will be truncated. Increase NFFT to avoid.\n",
            "WARNING:root:frame length (551) is greater than FFT size (512), frame will be truncated. Increase NFFT to avoid.\n",
            "WARNING:root:frame length (551) is greater than FFT size (512), frame will be truncated. Increase NFFT to avoid.\n",
            "WARNING:root:frame length (551) is greater than FFT size (512), frame will be truncated. Increase NFFT to avoid.\n",
            "WARNING:root:frame length (551) is greater than FFT size (512), frame will be truncated. Increase NFFT to avoid.\n",
            " 23%|██▎       | 23/100 [00:00<00:01, 50.88it/s]WARNING:root:frame length (551) is greater than FFT size (512), frame will be truncated. Increase NFFT to avoid.\n",
            "WARNING:root:frame length (551) is greater than FFT size (512), frame will be truncated. Increase NFFT to avoid.\n",
            "WARNING:root:frame length (551) is greater than FFT size (512), frame will be truncated. Increase NFFT to avoid.\n",
            "WARNING:root:frame length (551) is greater than FFT size (512), frame will be truncated. Increase NFFT to avoid.\n",
            "WARNING:root:frame length (551) is greater than FFT size (512), frame will be truncated. Increase NFFT to avoid.\n",
            "WARNING:root:frame length (551) is greater than FFT size (512), frame will be truncated. Increase NFFT to avoid.\n",
            " 29%|██▉       | 29/100 [00:00<00:01, 53.54it/s]WARNING:root:frame length (551) is greater than FFT size (512), frame will be truncated. Increase NFFT to avoid.\n",
            "WARNING:root:frame length (551) is greater than FFT size (512), frame will be truncated. Increase NFFT to avoid.\n",
            "WARNING:root:frame length (551) is greater than FFT size (512), frame will be truncated. Increase NFFT to avoid.\n",
            "WARNING:root:frame length (551) is greater than FFT size (512), frame will be truncated. Increase NFFT to avoid.\n",
            "WARNING:root:frame length (551) is greater than FFT size (512), frame will be truncated. Increase NFFT to avoid.\n",
            "WARNING:root:frame length (551) is greater than FFT size (512), frame will be truncated. Increase NFFT to avoid.\n",
            " 35%|███▌      | 35/100 [00:00<00:01, 52.32it/s]WARNING:root:frame length (551) is greater than FFT size (512), frame will be truncated. Increase NFFT to avoid.\n",
            "WARNING:root:frame length (551) is greater than FFT size (512), frame will be truncated. Increase NFFT to avoid.\n",
            "WARNING:root:frame length (551) is greater than FFT size (512), frame will be truncated. Increase NFFT to avoid.\n",
            "WARNING:root:frame length (551) is greater than FFT size (512), frame will be truncated. Increase NFFT to avoid.\n",
            "WARNING:root:frame length (551) is greater than FFT size (512), frame will be truncated. Increase NFFT to avoid.\n",
            "WARNING:root:frame length (551) is greater than FFT size (512), frame will be truncated. Increase NFFT to avoid.\n",
            " 41%|████      | 41/100 [00:00<00:01, 50.49it/s]WARNING:root:frame length (551) is greater than FFT size (512), frame will be truncated. Increase NFFT to avoid.\n",
            "WARNING:root:frame length (551) is greater than FFT size (512), frame will be truncated. Increase NFFT to avoid.\n",
            "WARNING:root:frame length (551) is greater than FFT size (512), frame will be truncated. Increase NFFT to avoid.\n",
            "WARNING:root:frame length (551) is greater than FFT size (512), frame will be truncated. Increase NFFT to avoid.\n",
            "WARNING:root:frame length (551) is greater than FFT size (512), frame will be truncated. Increase NFFT to avoid.\n",
            "WARNING:root:frame length (551) is greater than FFT size (512), frame will be truncated. Increase NFFT to avoid.\n",
            " 47%|████▋     | 47/100 [00:00<00:01, 51.11it/s]WARNING:root:frame length (551) is greater than FFT size (512), frame will be truncated. Increase NFFT to avoid.\n",
            "WARNING:root:frame length (551) is greater than FFT size (512), frame will be truncated. Increase NFFT to avoid.\n",
            "WARNING:root:frame length (551) is greater than FFT size (512), frame will be truncated. Increase NFFT to avoid.\n",
            "WARNING:root:frame length (551) is greater than FFT size (512), frame will be truncated. Increase NFFT to avoid.\n",
            "WARNING:root:frame length (551) is greater than FFT size (512), frame will be truncated. Increase NFFT to avoid.\n",
            "WARNING:root:frame length (551) is greater than FFT size (512), frame will be truncated. Increase NFFT to avoid.\n",
            " 53%|█████▎    | 53/100 [00:01<00:00, 49.83it/s]WARNING:root:frame length (551) is greater than FFT size (512), frame will be truncated. Increase NFFT to avoid.\n",
            "WARNING:root:frame length (551) is greater than FFT size (512), frame will be truncated. Increase NFFT to avoid.\n",
            "WARNING:root:frame length (551) is greater than FFT size (512), frame will be truncated. Increase NFFT to avoid.\n",
            "WARNING:root:frame length (551) is greater than FFT size (512), frame will be truncated. Increase NFFT to avoid.\n",
            "WARNING:root:frame length (551) is greater than FFT size (512), frame will be truncated. Increase NFFT to avoid.\n",
            "WARNING:root:frame length (551) is greater than FFT size (512), frame will be truncated. Increase NFFT to avoid.\n",
            " 59%|█████▉    | 59/100 [00:01<00:00, 49.94it/s]WARNING:root:frame length (551) is greater than FFT size (512), frame will be truncated. Increase NFFT to avoid.\n",
            "WARNING:root:frame length (551) is greater than FFT size (512), frame will be truncated. Increase NFFT to avoid.\n",
            "WARNING:root:frame length (551) is greater than FFT size (512), frame will be truncated. Increase NFFT to avoid.\n",
            "WARNING:root:frame length (551) is greater than FFT size (512), frame will be truncated. Increase NFFT to avoid.\n",
            "WARNING:root:frame length (551) is greater than FFT size (512), frame will be truncated. Increase NFFT to avoid.\n",
            "WARNING:root:frame length (551) is greater than FFT size (512), frame will be truncated. Increase NFFT to avoid.\n",
            " 65%|██████▌   | 65/100 [00:01<00:00, 51.81it/s]WARNING:root:frame length (551) is greater than FFT size (512), frame will be truncated. Increase NFFT to avoid.\n",
            "WARNING:root:frame length (551) is greater than FFT size (512), frame will be truncated. Increase NFFT to avoid.\n",
            "WARNING:root:frame length (551) is greater than FFT size (512), frame will be truncated. Increase NFFT to avoid.\n",
            "WARNING:root:frame length (551) is greater than FFT size (512), frame will be truncated. Increase NFFT to avoid.\n",
            "WARNING:root:frame length (551) is greater than FFT size (512), frame will be truncated. Increase NFFT to avoid.\n",
            "WARNING:root:frame length (551) is greater than FFT size (512), frame will be truncated. Increase NFFT to avoid.\n",
            " 71%|███████   | 71/100 [00:01<00:00, 51.29it/s]WARNING:root:frame length (551) is greater than FFT size (512), frame will be truncated. Increase NFFT to avoid.\n",
            "WARNING:root:frame length (551) is greater than FFT size (512), frame will be truncated. Increase NFFT to avoid.\n",
            "WARNING:root:frame length (551) is greater than FFT size (512), frame will be truncated. Increase NFFT to avoid.\n",
            "WARNING:root:frame length (551) is greater than FFT size (512), frame will be truncated. Increase NFFT to avoid.\n",
            "WARNING:root:frame length (551) is greater than FFT size (512), frame will be truncated. Increase NFFT to avoid.\n",
            "WARNING:root:frame length (551) is greater than FFT size (512), frame will be truncated. Increase NFFT to avoid.\n",
            " 77%|███████▋  | 77/100 [00:01<00:00, 51.51it/s]WARNING:root:frame length (551) is greater than FFT size (512), frame will be truncated. Increase NFFT to avoid.\n",
            "WARNING:root:frame length (551) is greater than FFT size (512), frame will be truncated. Increase NFFT to avoid.\n",
            "WARNING:root:frame length (551) is greater than FFT size (512), frame will be truncated. Increase NFFT to avoid.\n",
            "WARNING:root:frame length (551) is greater than FFT size (512), frame will be truncated. Increase NFFT to avoid.\n",
            "WARNING:root:frame length (551) is greater than FFT size (512), frame will be truncated. Increase NFFT to avoid.\n",
            "WARNING:root:frame length (551) is greater than FFT size (512), frame will be truncated. Increase NFFT to avoid.\n",
            "WARNING:root:frame length (551) is greater than FFT size (512), frame will be truncated. Increase NFFT to avoid.\n",
            " 84%|████████▍ | 84/100 [00:01<00:00, 56.38it/s]WARNING:root:frame length (551) is greater than FFT size (512), frame will be truncated. Increase NFFT to avoid.\n",
            "WARNING:root:frame length (551) is greater than FFT size (512), frame will be truncated. Increase NFFT to avoid.\n",
            "WARNING:root:frame length (551) is greater than FFT size (512), frame will be truncated. Increase NFFT to avoid.\n",
            "WARNING:root:frame length (551) is greater than FFT size (512), frame will be truncated. Increase NFFT to avoid.\n",
            "WARNING:root:frame length (551) is greater than FFT size (512), frame will be truncated. Increase NFFT to avoid.\n",
            "WARNING:root:frame length (551) is greater than FFT size (512), frame will be truncated. Increase NFFT to avoid.\n",
            "WARNING:root:frame length (551) is greater than FFT size (512), frame will be truncated. Increase NFFT to avoid.\n",
            " 91%|█████████ | 91/100 [00:01<00:00, 59.61it/s]WARNING:root:frame length (551) is greater than FFT size (512), frame will be truncated. Increase NFFT to avoid.\n",
            "WARNING:root:frame length (551) is greater than FFT size (512), frame will be truncated. Increase NFFT to avoid.\n",
            "WARNING:root:frame length (551) is greater than FFT size (512), frame will be truncated. Increase NFFT to avoid.\n",
            "WARNING:root:frame length (551) is greater than FFT size (512), frame will be truncated. Increase NFFT to avoid.\n",
            "WARNING:root:frame length (551) is greater than FFT size (512), frame will be truncated. Increase NFFT to avoid.\n",
            "WARNING:root:frame length (551) is greater than FFT size (512), frame will be truncated. Increase NFFT to avoid.\n",
            "WARNING:root:frame length (551) is greater than FFT size (512), frame will be truncated. Increase NFFT to avoid.\n",
            " 98%|█████████▊| 98/100 [00:01<00:00, 57.05it/s]WARNING:root:frame length (551) is greater than FFT size (512), frame will be truncated. Increase NFFT to avoid.\n",
            "WARNING:root:frame length (551) is greater than FFT size (512), frame will be truncated. Increase NFFT to avoid.\n",
            "100%|██████████| 100/100 [00:01<00:00, 53.09it/s]\n"
          ]
        }
      ],
      "source": [
        "male_features = extract_features(male_voices)\n",
        "female_features = extract_features(female_voices)"
      ]
    },
    {
      "cell_type": "markdown",
      "metadata": {
        "id": "UIFOOEPdaKBM"
      },
      "source": [
        "The function used to concatenate all audio features forming a long 2-dimensional array"
      ]
    },
    {
      "cell_type": "code",
      "execution_count": 29,
      "metadata": {
        "id": "zGQbbZJKaKBM"
      },
      "outputs": [],
      "source": [
        "def concatenate_features(audio_features):\n",
        "    concatenated = audio_features[0]\n",
        "    for audio_feature in tqdm(audio_features):\n",
        "        concatenated = np.vstack((concatenated, audio_feature))\n",
        "        \n",
        "    return concatenated"
      ]
    },
    {
      "cell_type": "code",
      "execution_count": 30,
      "metadata": {
        "id": "nuiaImx3aKBN",
        "colab": {
          "base_uri": "https://localhost:8080/"
        },
        "outputId": "66a9143a-a399-4a1e-c7cc-3e76f4673942"
      },
      "outputs": [
        {
          "output_type": "stream",
          "name": "stderr",
          "text": [
            "100%|██████████| 100/100 [00:00<00:00, 1131.66it/s]\n",
            "100%|██████████| 100/100 [00:00<00:00, 1113.98it/s]\n"
          ]
        }
      ],
      "source": [
        "male_concatenated = concatenate_features(male_features)\n",
        "female_concatenated = concatenate_features(female_features)"
      ]
    },
    {
      "cell_type": "code",
      "execution_count": 31,
      "metadata": {
        "id": "CBMep9R2aKBO",
        "colab": {
          "base_uri": "https://localhost:8080/"
        },
        "outputId": "6e278f9b-2825-4816-889c-32f2b5686143"
      },
      "outputs": [
        {
          "output_type": "stream",
          "name": "stdout",
          "text": [
            "(40177, 26)\n"
          ]
        }
      ],
      "source": [
        "print(male_concatenated.shape) \t\t\n"
      ]
    },
    {
      "cell_type": "code",
      "execution_count": 32,
      "metadata": {
        "id": "XyOtiIjzaKBO",
        "colab": {
          "base_uri": "https://localhost:8080/"
        },
        "outputId": "57efc1fa-0454-43da-e910-40108e3c127c"
      },
      "outputs": [
        {
          "output_type": "stream",
          "name": "stdout",
          "text": [
            "(40816, 26)\n"
          ]
        }
      ],
      "source": [
        "print(female_concatenated.shape)\t\n"
      ]
    },
    {
      "cell_type": "markdown",
      "metadata": {
        "id": "2hFpCl9saKBP"
      },
      "source": [
        "Concatenate male voices and female voices"
      ]
    },
    {
      "cell_type": "code",
      "execution_count": 33,
      "metadata": {
        "id": "d8xatF-FaKBP"
      },
      "outputs": [],
      "source": [
        "X = np.vstack((male_concatenated, female_concatenated))\n",
        "X=X[0:100000]"
      ]
    },
    {
      "cell_type": "markdown",
      "metadata": {
        "id": "bV047iiwaKBQ"
      },
      "source": [
        "Create labels"
      ]
    },
    {
      "cell_type": "code",
      "execution_count": 34,
      "metadata": {
        "id": "Ag-aBUZmaKBR"
      },
      "outputs": [],
      "source": [
        "y = np.append([0] * len(male_concatenated), [1] * len(female_concatenated))\n",
        "y=y[0:100000]"
      ]
    },
    {
      "cell_type": "markdown",
      "metadata": {
        "id": "lwy64ABpaKBR"
      },
      "source": [
        "Check whether X and y are already having the exact same length"
      ]
    },
    {
      "cell_type": "code",
      "execution_count": 35,
      "metadata": {
        "id": "OM5ZQZsoaKBS",
        "colab": {
          "base_uri": "https://localhost:8080/"
        },
        "outputId": "85060d1e-9ead-41ec-f3e9-055cb58236f5"
      },
      "outputs": [
        {
          "output_type": "stream",
          "name": "stdout",
          "text": [
            "(80993, 26)\n"
          ]
        }
      ],
      "source": [
        "print(X.shape)\t\t\n"
      ]
    },
    {
      "cell_type": "code",
      "execution_count": 36,
      "metadata": {
        "id": "Wz_p3D8jaKBS",
        "colab": {
          "base_uri": "https://localhost:8080/"
        },
        "outputId": "80060ac2-fe54-4605-ca09-970f34fc00ea"
      },
      "outputs": [
        {
          "output_type": "stream",
          "name": "stdout",
          "text": [
            "(80993,)\n"
          ]
        }
      ],
      "source": [
        "print(y.shape)\t\t"
      ]
    },
    {
      "cell_type": "code",
      "execution_count": 37,
      "metadata": {
        "id": "VBm_J1RtaKBS"
      },
      "outputs": [],
      "source": [
        "X_train, X_test, y_train, y_test = train_test_split(X, y, test_size=0.2, random_state=22)"
      ]
    },
    {
      "cell_type": "code",
      "source": [
        "X_train, X_valid, y_train, y_valid = train_test_split(X_train, y_train, test_size=0.2, random_state=22)"
      ],
      "metadata": {
        "id": "jfikRWBFjwZd"
      },
      "execution_count": 38,
      "outputs": []
    },
    {
      "cell_type": "code",
      "source": [
        "X_train.shape"
      ],
      "metadata": {
        "colab": {
          "base_uri": "https://localhost:8080/"
        },
        "id": "p97JB2-Zxugm",
        "outputId": "0cad2ff7-1d04-422a-88e9-3eabd91c3313"
      },
      "execution_count": 39,
      "outputs": [
        {
          "output_type": "execute_result",
          "data": {
            "text/plain": [
              "(51835, 26)"
            ]
          },
          "metadata": {},
          "execution_count": 39
        }
      ]
    },
    {
      "cell_type": "code",
      "source": [
        "import keras\n",
        "from keras.models import Sequential\n",
        "from keras. layers import Dense, Dropout, Activation\n",
        "from keras.optimizers import SGD\n",
        "model = Sequential()\n",
        "model.add(Dense(300,activation='relu',input_dim=26))\n",
        "model.add(Dropout(0.2))\n",
        "model.add(Dense(100,activation='relu'))\n",
        "model.add(Dropout(0.2))\n",
        "model.add(Dense(10,activation='sigmoid'))\n",
        "\n",
        "sgd=SGD(lr=0.01,momentum=0.9)\n",
        "model.compile(loss='sparse_categorical_crossentropy',optimizer=sgd,\n",
        "              metrics=['accuracy'])\n",
        "\n",
        "history = model.fit(X_train, y_train, epochs=20, validation_data=(X_valid, y_valid))"
      ],
      "metadata": {
        "colab": {
          "base_uri": "https://localhost:8080/"
        },
        "id": "MEVvB-j7u7FN",
        "outputId": "41194d63-e642-4abb-84cb-158325d72921"
      },
      "execution_count": 44,
      "outputs": [
        {
          "output_type": "stream",
          "name": "stdout",
          "text": [
            "Epoch 1/20\n"
          ]
        },
        {
          "output_type": "stream",
          "name": "stderr",
          "text": [
            "/usr/local/lib/python3.8/dist-packages/keras/optimizers/optimizer_v2/gradient_descent.py:114: UserWarning: The `lr` argument is deprecated, use `learning_rate` instead.\n",
            "  super().__init__(name, **kwargs)\n"
          ]
        },
        {
          "output_type": "stream",
          "name": "stdout",
          "text": [
            "1620/1620 [==============================] - 7s 4ms/step - loss: 0.6471 - accuracy: 0.6720 - val_loss: 0.5460 - val_accuracy: 0.7171\n",
            "Epoch 2/20\n",
            "1620/1620 [==============================] - 7s 4ms/step - loss: 0.5605 - accuracy: 0.7114 - val_loss: 0.5171 - val_accuracy: 0.7396\n",
            "Epoch 3/20\n",
            "1620/1620 [==============================] - 9s 6ms/step - loss: 0.5345 - accuracy: 0.7293 - val_loss: 0.5005 - val_accuracy: 0.7527\n",
            "Epoch 4/20\n",
            "1620/1620 [==============================] - 11s 7ms/step - loss: 0.5232 - accuracy: 0.7365 - val_loss: 0.4952 - val_accuracy: 0.7559\n",
            "Epoch 5/20\n",
            "1620/1620 [==============================] - 8s 5ms/step - loss: 0.5140 - accuracy: 0.7438 - val_loss: 0.4875 - val_accuracy: 0.7590\n",
            "Epoch 6/20\n",
            "1620/1620 [==============================] - 9s 5ms/step - loss: 0.5031 - accuracy: 0.7501 - val_loss: 0.4810 - val_accuracy: 0.7641\n",
            "Epoch 7/20\n",
            "1620/1620 [==============================] - 7s 4ms/step - loss: 0.4949 - accuracy: 0.7559 - val_loss: 0.4743 - val_accuracy: 0.7653\n",
            "Epoch 8/20\n",
            "1620/1620 [==============================] - 10s 6ms/step - loss: 0.4915 - accuracy: 0.7552 - val_loss: 0.4677 - val_accuracy: 0.7644\n",
            "Epoch 9/20\n",
            "1620/1620 [==============================] - 7s 4ms/step - loss: 0.4826 - accuracy: 0.7613 - val_loss: 0.4701 - val_accuracy: 0.7673\n",
            "Epoch 10/20\n",
            "1620/1620 [==============================] - 8s 5ms/step - loss: 0.4782 - accuracy: 0.7654 - val_loss: 0.4603 - val_accuracy: 0.7700\n",
            "Epoch 11/20\n",
            "1620/1620 [==============================] - 9s 5ms/step - loss: 0.4701 - accuracy: 0.7690 - val_loss: 0.4562 - val_accuracy: 0.7719\n",
            "Epoch 12/20\n",
            "1620/1620 [==============================] - 6s 4ms/step - loss: 0.4668 - accuracy: 0.7728 - val_loss: 0.4642 - val_accuracy: 0.7706\n",
            "Epoch 13/20\n",
            "1620/1620 [==============================] - 8s 5ms/step - loss: 0.4639 - accuracy: 0.7703 - val_loss: 0.4518 - val_accuracy: 0.7723\n",
            "Epoch 14/20\n",
            "1620/1620 [==============================] - 7s 5ms/step - loss: 0.4562 - accuracy: 0.7781 - val_loss: 0.4631 - val_accuracy: 0.7666\n",
            "Epoch 15/20\n",
            "1620/1620 [==============================] - 7s 4ms/step - loss: 0.4568 - accuracy: 0.7779 - val_loss: 0.4487 - val_accuracy: 0.7788\n",
            "Epoch 16/20\n",
            "1620/1620 [==============================] - 8s 5ms/step - loss: 0.4519 - accuracy: 0.7776 - val_loss: 0.4483 - val_accuracy: 0.7812\n",
            "Epoch 17/20\n",
            "1620/1620 [==============================] - 9s 6ms/step - loss: 0.4495 - accuracy: 0.7816 - val_loss: 0.4536 - val_accuracy: 0.7770\n",
            "Epoch 18/20\n",
            "1620/1620 [==============================] - 14s 9ms/step - loss: 0.4441 - accuracy: 0.7838 - val_loss: 0.4450 - val_accuracy: 0.7754\n",
            "Epoch 19/20\n",
            "1620/1620 [==============================] - 13s 8ms/step - loss: 0.4393 - accuracy: 0.7874 - val_loss: 0.4418 - val_accuracy: 0.7885\n",
            "Epoch 20/20\n",
            "1620/1620 [==============================] - 11s 7ms/step - loss: 0.4385 - accuracy: 0.7885 - val_loss: 0.4350 - val_accuracy: 0.7893\n"
          ]
        }
      ]
    },
    {
      "cell_type": "code",
      "source": [
        "model.summary()  ##keras"
      ],
      "metadata": {
        "colab": {
          "base_uri": "https://localhost:8080/"
        },
        "id": "6oKEGv-IeGCn",
        "outputId": "777750c7-705e-43af-eb91-21034f7969df"
      },
      "execution_count": 46,
      "outputs": [
        {
          "output_type": "stream",
          "name": "stdout",
          "text": [
            "Model: \"sequential_1\"\n",
            "_________________________________________________________________\n",
            " Layer (type)                Output Shape              Param #   \n",
            "=================================================================\n",
            " dense_3 (Dense)             (None, 300)               8100      \n",
            "                                                                 \n",
            " dropout (Dropout)           (None, 300)               0         \n",
            "                                                                 \n",
            " dense_4 (Dense)             (None, 100)               30100     \n",
            "                                                                 \n",
            " dropout_1 (Dropout)         (None, 100)               0         \n",
            "                                                                 \n",
            " dense_5 (Dense)             (None, 10)                1010      \n",
            "                                                                 \n",
            "=================================================================\n",
            "Total params: 39,210\n",
            "Trainable params: 39,210\n",
            "Non-trainable params: 0\n",
            "_________________________________________________________________\n"
          ]
        }
      ]
    },
    {
      "cell_type": "code",
      "source": [
        "## when using 100 samples of each male and female\n",
        "\n",
        "import pandas as pd\n",
        "import numpy as np\n",
        "pd.DataFrame(history.history).plot(figsize=(8,5))\n",
        "plt.grid(True)\n",
        "plt.gca().set_ylim(0,1)\n",
        "plt.show()\n",
        "print('1. If the validation loss is greater(are both high:) than the training loss. The model is underfitting.')\n",
        "print('2. If the validation loss is greater than the training loss,The model is overfitting.')\n",
        "print('3. If the training loss and validation loss both decrease and stabilize at a specific point:the model is good fit')\n"
      ],
      "metadata": {
        "colab": {
          "base_uri": "https://localhost:8080/",
          "height": 376
        },
        "id": "p1dyg3uwxrCg",
        "outputId": "54b7761e-181a-4f14-f218-ec3489a8a5e7"
      },
      "execution_count": 47,
      "outputs": [
        {
          "output_type": "display_data",
          "data": {
            "text/plain": [
              "<Figure size 576x360 with 1 Axes>"
            ],
            "image/png": "[encoded data removed]"
          },
          "metadata": {
            "needs_background": "light"
          }
        },
        {
          "output_type": "stream",
          "name": "stdout",
          "text": [
            "1. If the validation loss is greater(are both high:) than the training loss. The model is underfitting.\n",
            "2. If the validation loss is greater than the training loss,The model is overfitting.\n",
            "3. If the training loss and validation loss both decrease and stabilize at a specific point:the model is good fit\n"
          ]
        }
      ]
    },
    {
      "cell_type": "code",
      "source": [
        "X_new = X_test[:5]\n",
        "y_pred = np.argmax(model.predict(X_new), axis=-1)\n",
        "y_pred"
      ],
      "metadata": {
        "colab": {
          "base_uri": "https://localhost:8080/"
        },
        "id": "exdcsIA5dp0a",
        "outputId": "52930c7e-7a2d-4d53-8ee4-cb9ceddc02e9"
      },
      "execution_count": 48,
      "outputs": [
        {
          "output_type": "stream",
          "name": "stdout",
          "text": [
            "1/1 [==============================] - 0s 30ms/step\n"
          ]
        },
        {
          "output_type": "execute_result",
          "data": {
            "text/plain": [
              "array([1, 0, 0, 1, 0])"
            ]
          },
          "metadata": {},
          "execution_count": 48
        }
      ]
    },
    {
      "cell_type": "code",
      "source": [
        "from sklearn.metrics import confusion_matrix, accuracy_score\n",
        "accuracy = accuracy_score(y_test[:5],y_pred)*100\n",
        "print(\"accuracy is \"+str(accuracy))"
      ],
      "metadata": {
        "colab": {
          "base_uri": "https://localhost:8080/"
        },
        "id": "kUWPn5xgewmv",
        "outputId": "793ab3cf-2d48-4d20-e4b6-ba472715f06c"
      },
      "execution_count": 49,
      "outputs": [
        {
          "output_type": "stream",
          "name": "stdout",
          "text": [
            "accuracy is 60.0\n"
          ]
        }
      ]
    },
    {
      "cell_type": "code",
      "source": [],
      "metadata": {
        "id": "dZHMnVe-funX"
      },
      "execution_count": null,
      "outputs": []
    },
    {
      "cell_type": "code",
      "source": [
        "import keras\n",
        "from keras.models import Sequential\n",
        "from keras. layers import Dense, Dropout, Activation\n",
        "from keras.optimizers import SGD\n",
        "model = Sequential()\n",
        "model.add(Dense(300,activation='sigmoid',input_dim=26))\n",
        "model.add(Dropout(0.2))\n",
        "model.add(Dense(100,activation='sigmoid'))\n",
        "model.add(Dropout(0.2))\n",
        "model.add(Dense(10,activation='sigmoid'))\n",
        "\n",
        "sgd=SGD(lr=0.01,momentum=0.9)\n",
        "model.compile(loss='sparse_categorical_crossentropy',optimizer=sgd,\n",
        "              metrics=['accuracy'])\n",
        "\n",
        "history = model.fit(X_train, y_train, epochs=20, validation_data=(X_valid, y_valid))"
      ],
      "metadata": {
        "colab": {
          "base_uri": "https://localhost:8080/"
        },
        "id": "xKZ5UsoXfuqL",
        "outputId": "b2c16a0b-11c5-46c6-8e57-bb30c9dcf295"
      },
      "execution_count": 65,
      "outputs": [
        {
          "output_type": "stream",
          "name": "stdout",
          "text": [
            "Epoch 1/20\n"
          ]
        },
        {
          "output_type": "stream",
          "name": "stderr",
          "text": [
            "/usr/local/lib/python3.8/dist-packages/keras/optimizers/optimizer_v2/gradient_descent.py:114: UserWarning: The `lr` argument is deprecated, use `learning_rate` instead.\n",
            "  super().__init__(name, **kwargs)\n"
          ]
        },
        {
          "output_type": "stream",
          "name": "stdout",
          "text": [
            "1620/1620 [==============================] - 8s 5ms/step - loss: 0.6136 - accuracy: 0.6607 - val_loss: 0.5599 - val_accuracy: 0.7021\n",
            "Epoch 2/20\n",
            "1620/1620 [==============================] - 6s 4ms/step - loss: 0.5539 - accuracy: 0.7092 - val_loss: 0.5232 - val_accuracy: 0.7342\n",
            "Epoch 3/20\n",
            "1620/1620 [==============================] - 7s 5ms/step - loss: 0.5313 - accuracy: 0.7256 - val_loss: 0.5236 - val_accuracy: 0.7261\n",
            "Epoch 4/20\n",
            "1620/1620 [==============================] - 6s 4ms/step - loss: 0.5165 - accuracy: 0.7373 - val_loss: 0.4877 - val_accuracy: 0.7626\n",
            "Epoch 5/20\n",
            "1620/1620 [==============================] - 7s 4ms/step - loss: 0.5044 - accuracy: 0.7450 - val_loss: 0.4906 - val_accuracy: 0.7542\n",
            "Epoch 6/20\n",
            "1620/1620 [==============================] - 6s 4ms/step - loss: 0.4947 - accuracy: 0.7517 - val_loss: 0.4720 - val_accuracy: 0.7705\n",
            "Epoch 7/20\n",
            "1620/1620 [==============================] - 7s 4ms/step - loss: 0.4860 - accuracy: 0.7590 - val_loss: 0.4649 - val_accuracy: 0.7728\n",
            "Epoch 8/20\n",
            "1620/1620 [==============================] - 7s 4ms/step - loss: 0.4814 - accuracy: 0.7605 - val_loss: 0.4571 - val_accuracy: 0.7795\n",
            "Epoch 9/20\n",
            "1620/1620 [==============================] - 7s 4ms/step - loss: 0.4727 - accuracy: 0.7668 - val_loss: 0.4685 - val_accuracy: 0.7704\n",
            "Epoch 10/20\n",
            "1620/1620 [==============================] - 6s 4ms/step - loss: 0.4669 - accuracy: 0.7716 - val_loss: 0.4483 - val_accuracy: 0.7859\n",
            "Epoch 11/20\n",
            "1620/1620 [==============================] - 7s 4ms/step - loss: 0.4637 - accuracy: 0.7744 - val_loss: 0.4469 - val_accuracy: 0.7856\n",
            "Epoch 12/20\n",
            "1620/1620 [==============================] - 6s 4ms/step - loss: 0.4593 - accuracy: 0.7736 - val_loss: 0.4401 - val_accuracy: 0.7922\n",
            "Epoch 13/20\n",
            "1620/1620 [==============================] - 7s 4ms/step - loss: 0.4550 - accuracy: 0.7789 - val_loss: 0.4381 - val_accuracy: 0.7943\n",
            "Epoch 14/20\n",
            "1620/1620 [==============================] - 6s 4ms/step - loss: 0.4489 - accuracy: 0.7808 - val_loss: 0.4369 - val_accuracy: 0.7913\n",
            "Epoch 15/20\n",
            "1620/1620 [==============================] - 7s 4ms/step - loss: 0.4462 - accuracy: 0.7839 - val_loss: 0.4359 - val_accuracy: 0.7893\n",
            "Epoch 16/20\n",
            "1620/1620 [==============================] - 6s 4ms/step - loss: 0.4435 - accuracy: 0.7832 - val_loss: 0.4325 - val_accuracy: 0.7943\n",
            "Epoch 17/20\n",
            "1620/1620 [==============================] - 7s 4ms/step - loss: 0.4402 - accuracy: 0.7865 - val_loss: 0.4315 - val_accuracy: 0.7908\n",
            "Epoch 18/20\n",
            "1620/1620 [==============================] - 6s 4ms/step - loss: 0.4362 - accuracy: 0.7884 - val_loss: 0.4296 - val_accuracy: 0.7957\n",
            "Epoch 19/20\n",
            "1620/1620 [==============================] - 7s 4ms/step - loss: 0.4328 - accuracy: 0.7919 - val_loss: 0.4239 - val_accuracy: 0.7967\n",
            "Epoch 20/20\n",
            "1620/1620 [==============================] - 7s 4ms/step - loss: 0.4332 - accuracy: 0.7894 - val_loss: 0.4228 - val_accuracy: 0.7993\n"
          ]
        }
      ]
    },
    {
      "cell_type": "code",
      "source": [
        "## when using 100 samples of each male and female\n",
        "\n",
        "import pandas as pd\n",
        "import numpy as np\n",
        "pd.DataFrame(history.history).plot(figsize=(8,5))\n",
        "plt.grid(True)\n",
        "plt.gca().set_ylim(0,1)\n",
        "plt.show()\n",
        "print('1. If the validation loss is greater(are both high:) than the training loss. The model is underfitting.')\n",
        "print('2. If the validation loss is greater than the training loss,The model is overfitting.')\n",
        "print('3. If the training loss and validation loss both decrease and stabilize at a specific point:the model is good fit')\n"
      ],
      "metadata": {
        "colab": {
          "base_uri": "https://localhost:8080/",
          "height": 376
        },
        "id": "l8GDeve-f68_",
        "outputId": "290ee89f-1a6f-472a-a92d-f4b377ad5559"
      },
      "execution_count": 66,
      "outputs": [
        {
          "output_type": "display_data",
          "data": {
            "text/plain": [
              "<Figure size 576x360 with 1 Axes>"
            ],
            "image/png": "[encoded data removed]"
          },
          "metadata": {
            "needs_background": "light"
          }
        },
        {
          "output_type": "stream",
          "name": "stdout",
          "text": [
            "1. If the validation loss is greater(are both high:) than the training loss. The model is underfitting.\n",
            "2. If the validation loss is greater than the training loss,The model is overfitting.\n",
            "3. If the training loss and validation loss both decrease and stabilize at a specific point:the model is good fit\n"
          ]
        }
      ]
    },
    {
      "cell_type": "code",
      "source": [
        "X_new = X_test[:5]\n",
        "y_pred = np.argmax(model.predict(X_new), axis=-1)\n",
        "y_pred"
      ],
      "metadata": {
        "colab": {
          "base_uri": "https://localhost:8080/"
        },
        "id": "CApnfIQWfvVB",
        "outputId": "267610c0-5ee6-4eaf-e430-b004ff15d8dd"
      },
      "execution_count": 67,
      "outputs": [
        {
          "output_type": "stream",
          "name": "stdout",
          "text": [
            "1/1 [==============================] - 0s 85ms/step\n"
          ]
        },
        {
          "output_type": "execute_result",
          "data": {
            "text/plain": [
              "array([1, 0, 0, 1, 1])"
            ]
          },
          "metadata": {},
          "execution_count": 67
        }
      ]
    },
    {
      "cell_type": "code",
      "source": [
        "from sklearn.metrics import confusion_matrix, accuracy_score\n",
        "accuracy = accuracy_score(y_test[:5],y_pred)*100\n",
        "print(\"accuracy is \"+str(accuracy))"
      ],
      "metadata": {
        "colab": {
          "base_uri": "https://localhost:8080/"
        },
        "id": "v50VlURIf9AG",
        "outputId": "89d85f57-a628-4574-a052-07451d633957"
      },
      "execution_count": 68,
      "outputs": [
        {
          "output_type": "stream",
          "name": "stdout",
          "text": [
            "accuracy is 80.0\n"
          ]
        }
      ]
    },
    {
      "cell_type": "code",
      "source": [],
      "metadata": {
        "id": "RRTeeXIdgyEF"
      },
      "execution_count": null,
      "outputs": []
    }
  ],
  "metadata": {
    "kernelspec": {
      "display_name": "Python 3",
      "language": "python",
      "name": "python3"
    },
    "language_info": {
      "codemirror_mode": {
        "name": "ipython",
        "version": 3
      },
      "file_extension": ".py",
      "mimetype": "text/x-python",
      "name": "python",
      "nbconvert_exporter": "python",
      "pygments_lexer": "ipython3",
      "version": "3.10.1"
    },
    "colab": {
      "provenance": [],
      "include_colab_link": true
    }
  },
  "nbformat": 4,
  "nbformat_minor": 0
}