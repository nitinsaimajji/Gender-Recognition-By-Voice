{
  "cells": [
    {
      "cell_type": "markdown",
      "metadata": {
        "id": "view-in-github",
        "colab_type": "text"
      },
      "source": [
        "<a href=\"https://colab.research.google.com/github/nitinsaimajji/voice1/blob/main/voice_detection_update.ipynb\" target=\"_parent\"><img src=\"https://colab.research.google.com/assets/colab-badge.svg\" alt=\"Open In Colab\"/></a>"
      ]
    },
    {
      "cell_type": "markdown",
      "metadata": {
        "id": "zYUJe010aJ_-"
      },
      "source": [
        "Install python_speech_features module"
      ]
    },
    {
      "cell_type": "code",
      "execution_count": 19,
      "metadata": {
        "id": "qzpV-lbxaKAe",
        "outputId": "ec015af7-efaa-4bb1-dc9e-7799c21dce49",
        "colab": {
          "base_uri": "https://localhost:8080/"
        }
      },
      "outputs": [
        {
          "output_type": "stream",
          "name": "stdout",
          "text": [
            "Looking in indexes: https://pypi.org/simple, https://us-python.pkg.dev/colab-wheels/public/simple/\n",
            "Requirement already satisfied: python_speech_features in /usr/local/lib/python3.8/dist-packages (0.6)\n"
          ]
        }
      ],
      "source": [
        "pip install python_speech_features\n"
      ]
    },
    {
      "cell_type": "code",
      "source": [
        "!git clone https://github.com/nitinsaimajji/voice1.git"
      ],
      "metadata": {
        "colab": {
          "base_uri": "https://localhost:8080/"
        },
        "id": "r0Uz-4pobGse",
        "outputId": "42459ce3-5970-4cc9-8a82-5b3d5b11e660"
      },
      "execution_count": 20,
      "outputs": [
        {
          "output_type": "stream",
          "name": "stdout",
          "text": [
            "fatal: destination path 'voice1' already exists and is not an empty directory.\n"
          ]
        }
      ]
    },
    {
      "cell_type": "code",
      "source": [
        "pip install pydub"
      ],
      "metadata": {
        "colab": {
          "base_uri": "https://localhost:8080/"
        },
        "id": "x67ZxGUVZzTH",
        "outputId": "2479060e-2db4-4928-80fa-f61d58ae5bda"
      },
      "execution_count": 21,
      "outputs": [
        {
          "output_type": "stream",
          "name": "stdout",
          "text": [
            "Looking in indexes: https://pypi.org/simple, https://us-python.pkg.dev/colab-wheels/public/simple/\n",
            "Requirement already satisfied: pydub in /usr/local/lib/python3.8/dist-packages (0.25.1)\n"
          ]
        }
      ]
    },
    {
      "cell_type": "code",
      "source": [],
      "metadata": {
        "id": "JR6kdOjrZzdG"
      },
      "execution_count": null,
      "outputs": []
    },
    {
      "cell_type": "markdown",
      "metadata": {
        "id": "SkNz9257aKAm"
      },
      "source": [
        "Import all modules"
      ]
    },
    {
      "cell_type": "code",
      "execution_count": 22,
      "metadata": {
        "id": "HtefZ9dDaKAn"
      },
      "outputs": [],
      "source": [
        "import os\n",
        "import librosa\n",
        "import numpy as np\n",
        "import pandas as pd\n",
        "import matplotlib.pyplot as plt\n",
        "import seaborn as sns\n",
        "from tqdm import tqdm\n",
        "from sklearn.model_selection import train_test_split\n",
        "from sklearn.svm import SVC\n",
        "from sklearn.metrics import confusion_matrix\n",
        "from pydub import AudioSegment\n",
        "from python_speech_features import mfcc\n",
        "from time import time"
      ]
    },
    {
      "cell_type": "markdown",
      "metadata": {
        "id": "K7ZxOuZkaKAu"
      },
      "source": [
        "Load the csv file into data frame"
      ]
    },
    {
      "cell_type": "code",
      "execution_count": 24,
      "metadata": {
        "id": "NvR51w5-aKAv",
        "colab": {
          "base_uri": "https://localhost:8080/"
        },
        "outputId": "ec2c7b1f-620e-42f4-a90c-643553995de4"
      },
      "outputs": [
        {
          "output_type": "execute_result",
          "data": {
            "text/plain": [
              "filename    200\n",
              "gender      200\n",
              "dtype: int64"
            ]
          },
          "metadata": {},
          "execution_count": 24
        }
      ],
      "source": [
        "df = pd.read_csv('wav_check.csv')"
      ]
    },
    {
      "cell_type": "markdown",
      "metadata": {
        "id": "ICttd2FnaKAw"
      },
      "source": [
        "Create two new data frames"
      ]
    },
    {
      "cell_type": "code",
      "execution_count": 25,
      "metadata": {
        "id": "onMz1en1aKAx"
      },
      "outputs": [],
      "source": [
        "df_male = df[df['gender']=='male']\n",
        "df_female = df[df['gender']=='female']\n"
      ]
    },
    {
      "cell_type": "markdown",
      "metadata": {
        "id": "KC_wW59maKAy"
      },
      "source": [
        "Find out the number of rows"
      ]
    },
    {
      "cell_type": "code",
      "execution_count": 26,
      "metadata": {
        "id": "mTeCjJpmaKAz",
        "outputId": "9192530e-a1c7-4bba-e670-2f0124ad80bf",
        "colab": {
          "base_uri": "https://localhost:8080/"
        }
      },
      "outputs": [
        {
          "output_type": "stream",
          "name": "stdout",
          "text": [
            "(100, 2)\n"
          ]
        }
      ],
      "source": [
        "print(df_male.shape)\t\t\n",
        "# output: (55029, 8) "
      ]
    },
    {
      "cell_type": "code",
      "execution_count": 27,
      "metadata": {
        "id": "gykWO7VZaKA5",
        "outputId": "45f49764-1e22-45d5-dd76-60cac737f9ad",
        "colab": {
          "base_uri": "https://localhost:8080/"
        }
      },
      "outputs": [
        {
          "output_type": "stream",
          "name": "stdout",
          "text": [
            "(100, 2)\n",
            "                     filename  gender\n",
            "100  female-sample-000013.wav  female\n",
            "101  female-sample-000026.wav  female\n",
            "102  female-sample-000034.wav  female\n",
            "103  female-sample-000039.wav  female\n",
            "104  female-sample-000051.wav  female\n",
            "..                        ...     ...\n",
            "195  female-sample-001164.wav  female\n",
            "196  female-sample-001193.wav  female\n",
            "197  female-sample-001194.wav  female\n",
            "198  female-sample-001216.wav  female\n",
            "199  female-sample-001237.wav  female\n",
            "\n",
            "[100 rows x 2 columns]\n"
          ]
        }
      ],
      "source": [
        "print(df_female.shape)\t\t\n",
        "print(df_female)\n",
        "# output: (18249, 8)"
      ]
    },
    {
      "cell_type": "markdown",
      "metadata": {
        "id": "Yuuak-e_aKA6"
      },
      "source": [
        "Take only 300 male and 300 female data"
      ]
    },
    {
      "cell_type": "code",
      "execution_count": 28,
      "metadata": {
        "id": "DtVAKYsvaKA7"
      },
      "outputs": [],
      "source": [
        "df_male = df_male[:100]\n",
        "df_female = df_female[:100]"
      ]
    },
    {
      "cell_type": "markdown",
      "metadata": {
        "id": "JuJ3Z39RaKA8"
      },
      "source": [
        "Define the audio path"
      ]
    },
    {
      "cell_type": "code",
      "execution_count": null,
      "metadata": {
        "id": "dAzaL0tMaKA9"
      },
      "outputs": [],
      "source": [
        "# TRAIN_PATH = '/content/voice/cv-valid-train/'"
      ]
    },
    {
      "cell_type": "markdown",
      "metadata": {
        "id": "zs-oe8t-aKA_"
      },
      "source": [
        "The function to convert mp3 to wav"
      ]
    },
    {
      "cell_type": "code",
      "execution_count": null,
      "metadata": {
        "id": "CzZlQy3caKBA"
      },
      "outputs": [],
      "source": [
        "# def convert_to_wav(df, m_f, path=TRAIN_PATH):\n",
        "#     srcs = []\n",
        "#     for file in tqdm(df['filename']):\n",
        "#         sound = AudioSegment.from_mp3(path+file)\n",
        "        \n",
        "# \t\t# Create new wav files based on existing mp3 files\n",
        "#         if m_f == 'male':\n",
        "#             sound.export('male-'+file.split('/')[-1].split('.')[0]+'.wav', format='wav')\n",
        "#         elif m_f == 'female':\n",
        "#             sound.export('female-'+file.split('/')[-1].split('.')[0]+'.wav', format='wav')\n",
        "        \n",
        "#     return"
      ]
    },
    {
      "cell_type": "code",
      "source": [],
      "metadata": {
        "id": "3Hka9vN2y3rr"
      },
      "execution_count": null,
      "outputs": []
    },
    {
      "cell_type": "markdown",
      "metadata": {
        "id": "VofJIWp0aKBB"
      },
      "source": [
        "How to use the convert_to_wav() function"
      ]
    },
    {
      "cell_type": "code",
      "execution_count": null,
      "metadata": {
        "id": "S_YFhlFjaKBC",
        "outputId": "0e0d64c3-e036-4b68-f4a0-fafe34f9d1b6",
        "colab": {
          "base_uri": "https://localhost:8080/",
          "height": 380
        }
      },
      "outputs": [
        {
          "output_type": "stream",
          "name": "stderr",
          "text": [
            "100%|██████████| 100/100 [00:18<00:00,  5.28it/s]\n",
            " 85%|████████▌ | 85/100 [00:16<00:02,  5.02it/s]\n"
          ]
        },
        {
          "output_type": "error",
          "ename": "FileNotFoundError",
          "evalue": "ignored",
          "traceback": [
            "\u001b[0;31m---------------------------------------------------------------------------\u001b[0m",
            "\u001b[0;31mFileNotFoundError\u001b[0m                         Traceback (most recent call last)",
            "\u001b[0;32m<ipython-input-39-3f72e4b0fdf5>\u001b[0m in \u001b[0;36m<module>\u001b[0;34m\u001b[0m\n\u001b[1;32m      1\u001b[0m \u001b[0mconvert_to_wav\u001b[0m\u001b[0;34m(\u001b[0m\u001b[0mdf_male\u001b[0m\u001b[0;34m,\u001b[0m \u001b[0mm_f\u001b[0m\u001b[0;34m=\u001b[0m\u001b[0;34m'male'\u001b[0m\u001b[0;34m)\u001b[0m\u001b[0;34m\u001b[0m\u001b[0;34m\u001b[0m\u001b[0m\n\u001b[0;32m----> 2\u001b[0;31m \u001b[0mconvert_to_wav\u001b[0m\u001b[0;34m(\u001b[0m\u001b[0mdf_female\u001b[0m\u001b[0;34m,\u001b[0m \u001b[0mm_f\u001b[0m\u001b[0;34m=\u001b[0m\u001b[0;34m'female'\u001b[0m\u001b[0;34m)\u001b[0m\u001b[0;34m\u001b[0m\u001b[0;34m\u001b[0m\u001b[0m\n\u001b[0m",
            "\u001b[0;32m<ipython-input-37-c6371a658a7a>\u001b[0m in \u001b[0;36mconvert_to_wav\u001b[0;34m(df, m_f, path)\u001b[0m\n\u001b[1;32m      2\u001b[0m     \u001b[0msrcs\u001b[0m \u001b[0;34m=\u001b[0m \u001b[0;34m[\u001b[0m\u001b[0;34m]\u001b[0m\u001b[0;34m\u001b[0m\u001b[0;34m\u001b[0m\u001b[0m\n\u001b[1;32m      3\u001b[0m     \u001b[0;32mfor\u001b[0m \u001b[0mfile\u001b[0m \u001b[0;32min\u001b[0m \u001b[0mtqdm\u001b[0m\u001b[0;34m(\u001b[0m\u001b[0mdf\u001b[0m\u001b[0;34m[\u001b[0m\u001b[0;34m'filename'\u001b[0m\u001b[0;34m]\u001b[0m\u001b[0;34m)\u001b[0m\u001b[0;34m:\u001b[0m\u001b[0;34m\u001b[0m\u001b[0;34m\u001b[0m\u001b[0m\n\u001b[0;32m----> 4\u001b[0;31m         \u001b[0msound\u001b[0m \u001b[0;34m=\u001b[0m \u001b[0mAudioSegment\u001b[0m\u001b[0;34m.\u001b[0m\u001b[0mfrom_mp3\u001b[0m\u001b[0;34m(\u001b[0m\u001b[0mpath\u001b[0m\u001b[0;34m+\u001b[0m\u001b[0mfile\u001b[0m\u001b[0;34m)\u001b[0m\u001b[0;34m\u001b[0m\u001b[0;34m\u001b[0m\u001b[0m\n\u001b[0m\u001b[1;32m      5\u001b[0m \u001b[0;34m\u001b[0m\u001b[0m\n\u001b[1;32m      6\u001b[0m                 \u001b[0;31m# Create new wav files based on existing mp3 files\u001b[0m\u001b[0;34m\u001b[0m\u001b[0;34m\u001b[0m\u001b[0;34m\u001b[0m\u001b[0m\n",
            "\u001b[0;32m/usr/local/lib/python3.8/dist-packages/pydub/audio_segment.py\u001b[0m in \u001b[0;36mfrom_mp3\u001b[0;34m(cls, file, parameters)\u001b[0m\n\u001b[1;32m    794\u001b[0m     \u001b[0;34m@\u001b[0m\u001b[0mclassmethod\u001b[0m\u001b[0;34m\u001b[0m\u001b[0;34m\u001b[0m\u001b[0m\n\u001b[1;32m    795\u001b[0m     \u001b[0;32mdef\u001b[0m \u001b[0mfrom_mp3\u001b[0m\u001b[0;34m(\u001b[0m\u001b[0mcls\u001b[0m\u001b[0;34m,\u001b[0m \u001b[0mfile\u001b[0m\u001b[0;34m,\u001b[0m \u001b[0mparameters\u001b[0m\u001b[0;34m=\u001b[0m\u001b[0;32mNone\u001b[0m\u001b[0;34m)\u001b[0m\u001b[0;34m:\u001b[0m\u001b[0;34m\u001b[0m\u001b[0;34m\u001b[0m\u001b[0m\n\u001b[0;32m--> 796\u001b[0;31m         \u001b[0;32mreturn\u001b[0m \u001b[0mcls\u001b[0m\u001b[0;34m.\u001b[0m\u001b[0mfrom_file\u001b[0m\u001b[0;34m(\u001b[0m\u001b[0mfile\u001b[0m\u001b[0;34m,\u001b[0m \u001b[0;34m'mp3'\u001b[0m\u001b[0;34m,\u001b[0m \u001b[0mparameters\u001b[0m\u001b[0;34m=\u001b[0m\u001b[0mparameters\u001b[0m\u001b[0;34m)\u001b[0m\u001b[0;34m\u001b[0m\u001b[0;34m\u001b[0m\u001b[0m\n\u001b[0m\u001b[1;32m    797\u001b[0m \u001b[0;34m\u001b[0m\u001b[0m\n\u001b[1;32m    798\u001b[0m     \u001b[0;34m@\u001b[0m\u001b[0mclassmethod\u001b[0m\u001b[0;34m\u001b[0m\u001b[0;34m\u001b[0m\u001b[0m\n",
            "\u001b[0;32m/usr/local/lib/python3.8/dist-packages/pydub/audio_segment.py\u001b[0m in \u001b[0;36mfrom_file\u001b[0;34m(cls, file, format, codec, parameters, start_second, duration, **kwargs)\u001b[0m\n\u001b[1;32m    649\u001b[0m         \u001b[0;32mexcept\u001b[0m \u001b[0mTypeError\u001b[0m\u001b[0;34m:\u001b[0m\u001b[0;34m\u001b[0m\u001b[0;34m\u001b[0m\u001b[0m\n\u001b[1;32m    650\u001b[0m             \u001b[0mfilename\u001b[0m \u001b[0;34m=\u001b[0m \u001b[0;32mNone\u001b[0m\u001b[0;34m\u001b[0m\u001b[0;34m\u001b[0m\u001b[0m\n\u001b[0;32m--> 651\u001b[0;31m         \u001b[0mfile\u001b[0m\u001b[0;34m,\u001b[0m \u001b[0mclose_file\u001b[0m \u001b[0;34m=\u001b[0m \u001b[0m_fd_or_path_or_tempfile\u001b[0m\u001b[0;34m(\u001b[0m\u001b[0mfile\u001b[0m\u001b[0;34m,\u001b[0m \u001b[0;34m'rb'\u001b[0m\u001b[0;34m,\u001b[0m \u001b[0mtempfile\u001b[0m\u001b[0;34m=\u001b[0m\u001b[0;32mFalse\u001b[0m\u001b[0;34m)\u001b[0m\u001b[0;34m\u001b[0m\u001b[0;34m\u001b[0m\u001b[0m\n\u001b[0m\u001b[1;32m    652\u001b[0m \u001b[0;34m\u001b[0m\u001b[0m\n\u001b[1;32m    653\u001b[0m         \u001b[0;32mif\u001b[0m \u001b[0mformat\u001b[0m\u001b[0;34m:\u001b[0m\u001b[0;34m\u001b[0m\u001b[0;34m\u001b[0m\u001b[0m\n",
            "\u001b[0;32m/usr/local/lib/python3.8/dist-packages/pydub/utils.py\u001b[0m in \u001b[0;36m_fd_or_path_or_tempfile\u001b[0;34m(fd, mode, tempfile)\u001b[0m\n\u001b[1;32m     58\u001b[0m \u001b[0;34m\u001b[0m\u001b[0m\n\u001b[1;32m     59\u001b[0m     \u001b[0;32mif\u001b[0m \u001b[0misinstance\u001b[0m\u001b[0;34m(\u001b[0m\u001b[0mfd\u001b[0m\u001b[0;34m,\u001b[0m \u001b[0mbasestring\u001b[0m\u001b[0;34m)\u001b[0m\u001b[0;34m:\u001b[0m\u001b[0;34m\u001b[0m\u001b[0;34m\u001b[0m\u001b[0m\n\u001b[0;32m---> 60\u001b[0;31m         \u001b[0mfd\u001b[0m \u001b[0;34m=\u001b[0m \u001b[0mopen\u001b[0m\u001b[0;34m(\u001b[0m\u001b[0mfd\u001b[0m\u001b[0;34m,\u001b[0m \u001b[0mmode\u001b[0m\u001b[0;34m=\u001b[0m\u001b[0mmode\u001b[0m\u001b[0;34m)\u001b[0m\u001b[0;34m\u001b[0m\u001b[0;34m\u001b[0m\u001b[0m\n\u001b[0m\u001b[1;32m     61\u001b[0m         \u001b[0mclose_fd\u001b[0m \u001b[0;34m=\u001b[0m \u001b[0;32mTrue\u001b[0m\u001b[0;34m\u001b[0m\u001b[0;34m\u001b[0m\u001b[0m\n\u001b[1;32m     62\u001b[0m \u001b[0;34m\u001b[0m\u001b[0m\n",
            "\u001b[0;31mFileNotFoundError\u001b[0m: [Errno 2] No such file or directory: '/content/voice/cv-valid-train/cv-valid-train/sample-001043.mp3'"
          ]
        }
      ],
      "source": [
        "#convert_to_wav(df_male, m_f='male')\n"
      ]
    },
    {
      "cell_type": "code",
      "source": [
        "# convert_to_wav(df_female, m_f='female')"
      ],
      "metadata": {
        "colab": {
          "base_uri": "https://localhost:8080/"
        },
        "id": "DNBI3iuCfId_",
        "outputId": "031bd6fe-72c0-44bd-dbd6-8d09951a2360"
      },
      "execution_count": null,
      "outputs": [
        {
          "output_type": "stream",
          "name": "stderr",
          "text": [
            "100%|██████████| 100/100 [00:18<00:00,  5.39it/s]\n"
          ]
        }
      ]
    },
    {
      "cell_type": "code",
      "source": [
        "TRAIN_PATH = '/content/voice1/dataset/'"
      ],
      "metadata": {
        "id": "1-lW80CEl630"
      },
      "execution_count": 29,
      "outputs": []
    },
    {
      "cell_type": "markdown",
      "metadata": {
        "id": "snXwPrGlaKBE"
      },
      "source": [
        "Define a function to load the raw audio files"
      ]
    },
    {
      "cell_type": "code",
      "execution_count": 30,
      "metadata": {
        "id": "UBVh6VPNaKBI"
      },
      "outputs": [],
      "source": [
        "def load_audio(path=TRAIN_PATH):\n",
        "\t# Allocate empty list for male and female voices\n",
        "    male_voices = []\n",
        "    female_voices = []\n",
        "    for file in tqdm(df['filename']):\n",
        "        if file.split('-')[0] == 'male':\n",
        "            male_voices.append(librosa.load(path+file))\n",
        "        elif file.split('-')[0] == 'female':\n",
        "            female_voices.append(librosa.load(path+file))\n",
        "    \n",
        "\t# Convert the list into Numpy array\n",
        "    male_voices = np.array(male_voices)\n",
        "    female_voices = np.array(female_voices)\n",
        "    \n",
        "    return male_voices, female_voices"
      ]
    },
    {
      "cell_type": "code",
      "source": [],
      "metadata": {
        "id": "Mg8ybWYvliZZ"
      },
      "execution_count": 16,
      "outputs": []
    },
    {
      "cell_type": "code",
      "source": [
        "# def convert_to_wav(df, m_f, path=TRAIN_PATH):\n",
        "#     srcs = []\n",
        "#     for file in tqdm(df['filename']):\n",
        "#         sound = AudioSegment.from_mp3(path+file)\n",
        "        \n",
        "# \t\t# Create new wav files based on existing mp3 files\n",
        "#         if m_f == 'male':\n",
        "#             sound.export('male-'+file.split('/')[-1].split('.')[0]+'.wav', format='wav')\n",
        "#         elif m_f == 'female':\n",
        "#             sound.export('female-'+file.split('/')[-1].split('.')[0]+'.wav', format='wav')\n",
        "        \n",
        "#     return"
      ],
      "metadata": {
        "id": "ZZN6_hZ-lZG8"
      },
      "execution_count": 17,
      "outputs": []
    },
    {
      "cell_type": "markdown",
      "metadata": {
        "id": "z25pZ1dgaKBJ"
      },
      "source": [
        "How to use load_audio() function"
      ]
    },
    {
      "cell_type": "code",
      "source": [],
      "metadata": {
        "id": "TXZJ9MND0ZGk"
      },
      "execution_count": 17,
      "outputs": []
    },
    {
      "cell_type": "code",
      "execution_count": 32,
      "metadata": {
        "id": "KACKxBb1aKBK",
        "colab": {
          "base_uri": "https://localhost:8080/"
        },
        "outputId": "179eada1-5bdd-467a-9bb7-632d3eade9f8"
      },
      "outputs": [
        {
          "output_type": "stream",
          "name": "stderr",
          "text": [
            "100%|██████████| 200/200 [00:45<00:00,  4.42it/s]\n",
            "<ipython-input-30-1eec0c28e137>:12: VisibleDeprecationWarning: Creating an ndarray from ragged nested sequences (which is a list-or-tuple of lists-or-tuples-or ndarrays with different lengths or shapes) is deprecated. If you meant to do this, you must specify 'dtype=object' when creating the ndarray.\n",
            "  male_voices = np.array(male_voices)\n",
            "<ipython-input-30-1eec0c28e137>:13: VisibleDeprecationWarning: Creating an ndarray from ragged nested sequences (which is a list-or-tuple of lists-or-tuples-or ndarrays with different lengths or shapes) is deprecated. If you meant to do this, you must specify 'dtype=object' when creating the ndarray.\n",
            "  female_voices = np.array(female_voices)\n"
          ]
        }
      ],
      "source": [
        "male_voices, female_voices = load_audio()"
      ]
    },
    {
      "cell_type": "markdown",
      "metadata": {
        "id": "v68jE20NaKBK"
      },
      "source": [
        "The function to extract audio features"
      ]
    },
    {
      "cell_type": "code",
      "execution_count": 33,
      "metadata": {
        "id": "XR7Se4hWaKBL"
      },
      "outputs": [],
      "source": [
        "def extract_features(audio_data):\n",
        "\taudio_waves = audio_data[:,0]\n",
        "\tsamplerate = audio_data[:,1][1]\n",
        "\t\n",
        "\tfeatures = []\n",
        "\tfor audio_wave in tqdm(audio_waves):\n",
        "\t\tfeatures.append(mfcc(audio_wave, samplerate=samplerate, numcep=26))\n",
        "    \n",
        "\tfeatures = np.array(features)\n",
        "\treturn features"
      ]
    },
    {
      "cell_type": "code",
      "source": [
        "print(male_voices.shape)"
      ],
      "metadata": {
        "colab": {
          "base_uri": "https://localhost:8080/"
        },
        "id": "vRbZbLuR3-6j",
        "outputId": "89a2a013-5b70-4a16-aeb1-499d2e3c8844"
      },
      "execution_count": 34,
      "outputs": [
        {
          "output_type": "stream",
          "name": "stdout",
          "text": [
            "(100, 2)\n"
          ]
        }
      ]
    },
    {
      "cell_type": "markdown",
      "metadata": {
        "id": "OaLr_OKWaKBL"
      },
      "source": [
        "Use the extract_features() function"
      ]
    },
    {
      "cell_type": "code",
      "source": [],
      "metadata": {
        "id": "wEeSoPox9Vn2"
      },
      "execution_count": null,
      "outputs": []
    },
    {
      "cell_type": "code",
      "execution_count": 35,
      "metadata": {
        "id": "P65wdt-WaKBM",
        "colab": {
          "base_uri": "https://localhost:8080/"
        },
        "outputId": "be699096-da2c-48ad-baf5-d7d5abacb4ec"
      },
      "outputs": [
        {
          "output_type": "stream",
          "name": "stderr",
          "text": [
            "\r  0%|          | 0/100 [00:00<?, ?it/s]WARNING:root:frame length (551) is greater than FFT size (512), frame will be truncated. Increase NFFT to avoid.\n",
            "WARNING:root:frame length (551) is greater than FFT size (512), frame will be truncated. Increase NFFT to avoid.\n",
            "WARNING:root:frame length (551) is greater than FFT size (512), frame will be truncated. Increase NFFT to avoid.\n",
            "WARNING:root:frame length (551) is greater than FFT size (512), frame will be truncated. Increase NFFT to avoid.\n",
            "  4%|▍         | 4/100 [00:00<00:03, 31.97it/s]WARNING:root:frame length (551) is greater than FFT size (512), frame will be truncated. Increase NFFT to avoid.\n",
            "WARNING:root:frame length (551) is greater than FFT size (512), frame will be truncated. Increase NFFT to avoid.\n",
            "WARNING:root:frame length (551) is greater than FFT size (512), frame will be truncated. Increase NFFT to avoid.\n",
            "WARNING:root:frame length (551) is greater than FFT size (512), frame will be truncated. Increase NFFT to avoid.\n",
            "WARNING:root:frame length (551) is greater than FFT size (512), frame will be truncated. Increase NFFT to avoid.\n",
            "  9%|▉         | 9/100 [00:00<00:02, 39.02it/s]WARNING:root:frame length (551) is greater than FFT size (512), frame will be truncated. Increase NFFT to avoid.\n",
            "WARNING:root:frame length (551) is greater than FFT size (512), frame will be truncated. Increase NFFT to avoid.\n",
            "WARNING:root:frame length (551) is greater than FFT size (512), frame will be truncated. Increase NFFT to avoid.\n",
            "WARNING:root:frame length (551) is greater than FFT size (512), frame will be truncated. Increase NFFT to avoid.\n",
            " 13%|█▎        | 13/100 [00:00<00:02, 36.60it/s]WARNING:root:frame length (551) is greater than FFT size (512), frame will be truncated. Increase NFFT to avoid.\n",
            "WARNING:root:frame length (551) is greater than FFT size (512), frame will be truncated. Increase NFFT to avoid.\n",
            "WARNING:root:frame length (551) is greater than FFT size (512), frame will be truncated. Increase NFFT to avoid.\n",
            "WARNING:root:frame length (551) is greater than FFT size (512), frame will be truncated. Increase NFFT to avoid.\n",
            "WARNING:root:frame length (551) is greater than FFT size (512), frame will be truncated. Increase NFFT to avoid.\n",
            "WARNING:root:frame length (551) is greater than FFT size (512), frame will be truncated. Increase NFFT to avoid.\n",
            " 19%|█▉        | 19/100 [00:00<00:01, 43.50it/s]WARNING:root:frame length (551) is greater than FFT size (512), frame will be truncated. Increase NFFT to avoid.\n",
            "WARNING:root:frame length (551) is greater than FFT size (512), frame will be truncated. Increase NFFT to avoid.\n",
            "WARNING:root:frame length (551) is greater than FFT size (512), frame will be truncated. Increase NFFT to avoid.\n",
            "WARNING:root:frame length (551) is greater than FFT size (512), frame will be truncated. Increase NFFT to avoid.\n",
            "WARNING:root:frame length (551) is greater than FFT size (512), frame will be truncated. Increase NFFT to avoid.\n",
            " 24%|██▍       | 24/100 [00:00<00:01, 42.12it/s]WARNING:root:frame length (551) is greater than FFT size (512), frame will be truncated. Increase NFFT to avoid.\n",
            "WARNING:root:frame length (551) is greater than FFT size (512), frame will be truncated. Increase NFFT to avoid.\n",
            "WARNING:root:frame length (551) is greater than FFT size (512), frame will be truncated. Increase NFFT to avoid.\n",
            "WARNING:root:frame length (551) is greater than FFT size (512), frame will be truncated. Increase NFFT to avoid.\n",
            "WARNING:root:frame length (551) is greater than FFT size (512), frame will be truncated. Increase NFFT to avoid.\n",
            "WARNING:root:frame length (551) is greater than FFT size (512), frame will be truncated. Increase NFFT to avoid.\n",
            " 30%|███       | 30/100 [00:00<00:01, 47.24it/s]WARNING:root:frame length (551) is greater than FFT size (512), frame will be truncated. Increase NFFT to avoid.\n",
            "WARNING:root:frame length (551) is greater than FFT size (512), frame will be truncated. Increase NFFT to avoid.\n",
            "WARNING:root:frame length (551) is greater than FFT size (512), frame will be truncated. Increase NFFT to avoid.\n",
            "WARNING:root:frame length (551) is greater than FFT size (512), frame will be truncated. Increase NFFT to avoid.\n",
            "WARNING:root:frame length (551) is greater than FFT size (512), frame will be truncated. Increase NFFT to avoid.\n",
            " 35%|███▌      | 35/100 [00:00<00:01, 46.00it/s]WARNING:root:frame length (551) is greater than FFT size (512), frame will be truncated. Increase NFFT to avoid.\n",
            "WARNING:root:frame length (551) is greater than FFT size (512), frame will be truncated. Increase NFFT to avoid.\n",
            "WARNING:root:frame length (551) is greater than FFT size (512), frame will be truncated. Increase NFFT to avoid.\n",
            "WARNING:root:frame length (551) is greater than FFT size (512), frame will be truncated. Increase NFFT to avoid.\n",
            "WARNING:root:frame length (551) is greater than FFT size (512), frame will be truncated. Increase NFFT to avoid.\n",
            " 40%|████      | 40/100 [00:00<00:01, 46.01it/s]WARNING:root:frame length (551) is greater than FFT size (512), frame will be truncated. Increase NFFT to avoid.\n",
            "WARNING:root:frame length (551) is greater than FFT size (512), frame will be truncated. Increase NFFT to avoid.\n",
            "WARNING:root:frame length (551) is greater than FFT size (512), frame will be truncated. Increase NFFT to avoid.\n",
            "WARNING:root:frame length (551) is greater than FFT size (512), frame will be truncated. Increase NFFT to avoid.\n",
            "WARNING:root:frame length (551) is greater than FFT size (512), frame will be truncated. Increase NFFT to avoid.\n",
            "WARNING:root:frame length (551) is greater than FFT size (512), frame will be truncated. Increase NFFT to avoid.\n",
            " 46%|████▌     | 46/100 [00:01<00:01, 49.03it/s]WARNING:root:frame length (551) is greater than FFT size (512), frame will be truncated. Increase NFFT to avoid.\n",
            "WARNING:root:frame length (551) is greater than FFT size (512), frame will be truncated. Increase NFFT to avoid.\n",
            "WARNING:root:frame length (551) is greater than FFT size (512), frame will be truncated. Increase NFFT to avoid.\n",
            "WARNING:root:frame length (551) is greater than FFT size (512), frame will be truncated. Increase NFFT to avoid.\n",
            "WARNING:root:frame length (551) is greater than FFT size (512), frame will be truncated. Increase NFFT to avoid.\n",
            "WARNING:root:frame length (551) is greater than FFT size (512), frame will be truncated. Increase NFFT to avoid.\n",
            "WARNING:root:frame length (551) is greater than FFT size (512), frame will be truncated. Increase NFFT to avoid.\n",
            " 53%|█████▎    | 53/100 [00:01<00:00, 53.41it/s]WARNING:root:frame length (551) is greater than FFT size (512), frame will be truncated. Increase NFFT to avoid.\n",
            "WARNING:root:frame length (551) is greater than FFT size (512), frame will be truncated. Increase NFFT to avoid.\n",
            "WARNING:root:frame length (551) is greater than FFT size (512), frame will be truncated. Increase NFFT to avoid.\n",
            "WARNING:root:frame length (551) is greater than FFT size (512), frame will be truncated. Increase NFFT to avoid.\n",
            "WARNING:root:frame length (551) is greater than FFT size (512), frame will be truncated. Increase NFFT to avoid.\n",
            "WARNING:root:frame length (551) is greater than FFT size (512), frame will be truncated. Increase NFFT to avoid.\n",
            "WARNING:root:frame length (551) is greater than FFT size (512), frame will be truncated. Increase NFFT to avoid.\n",
            "WARNING:root:frame length (551) is greater than FFT size (512), frame will be truncated. Increase NFFT to avoid.\n",
            " 61%|██████    | 61/100 [00:01<00:00, 59.04it/s]WARNING:root:frame length (551) is greater than FFT size (512), frame will be truncated. Increase NFFT to avoid.\n",
            "WARNING:root:frame length (551) is greater than FFT size (512), frame will be truncated. Increase NFFT to avoid.\n",
            "WARNING:root:frame length (551) is greater than FFT size (512), frame will be truncated. Increase NFFT to avoid.\n",
            "WARNING:root:frame length (551) is greater than FFT size (512), frame will be truncated. Increase NFFT to avoid.\n",
            "WARNING:root:frame length (551) is greater than FFT size (512), frame will be truncated. Increase NFFT to avoid.\n",
            "WARNING:root:frame length (551) is greater than FFT size (512), frame will be truncated. Increase NFFT to avoid.\n",
            " 67%|██████▋   | 67/100 [00:01<00:00, 53.69it/s]WARNING:root:frame length (551) is greater than FFT size (512), frame will be truncated. Increase NFFT to avoid.\n",
            "WARNING:root:frame length (551) is greater than FFT size (512), frame will be truncated. Increase NFFT to avoid.\n",
            "WARNING:root:frame length (551) is greater than FFT size (512), frame will be truncated. Increase NFFT to avoid.\n",
            "WARNING:root:frame length (551) is greater than FFT size (512), frame will be truncated. Increase NFFT to avoid.\n",
            "WARNING:root:frame length (551) is greater than FFT size (512), frame will be truncated. Increase NFFT to avoid.\n",
            "WARNING:root:frame length (551) is greater than FFT size (512), frame will be truncated. Increase NFFT to avoid.\n",
            " 73%|███████▎  | 73/100 [00:01<00:00, 51.54it/s]WARNING:root:frame length (551) is greater than FFT size (512), frame will be truncated. Increase NFFT to avoid.\n",
            "WARNING:root:frame length (551) is greater than FFT size (512), frame will be truncated. Increase NFFT to avoid.\n",
            "WARNING:root:frame length (551) is greater than FFT size (512), frame will be truncated. Increase NFFT to avoid.\n",
            "WARNING:root:frame length (551) is greater than FFT size (512), frame will be truncated. Increase NFFT to avoid.\n",
            "WARNING:root:frame length (551) is greater than FFT size (512), frame will be truncated. Increase NFFT to avoid.\n",
            "WARNING:root:frame length (551) is greater than FFT size (512), frame will be truncated. Increase NFFT to avoid.\n",
            " 79%|███████▉  | 79/100 [00:01<00:00, 51.39it/s]WARNING:root:frame length (551) is greater than FFT size (512), frame will be truncated. Increase NFFT to avoid.\n",
            "WARNING:root:frame length (551) is greater than FFT size (512), frame will be truncated. Increase NFFT to avoid.\n",
            "WARNING:root:frame length (551) is greater than FFT size (512), frame will be truncated. Increase NFFT to avoid.\n",
            "WARNING:root:frame length (551) is greater than FFT size (512), frame will be truncated. Increase NFFT to avoid.\n",
            "WARNING:root:frame length (551) is greater than FFT size (512), frame will be truncated. Increase NFFT to avoid.\n",
            "WARNING:root:frame length (551) is greater than FFT size (512), frame will be truncated. Increase NFFT to avoid.\n",
            " 85%|████████▌ | 85/100 [00:01<00:00, 53.21it/s]WARNING:root:frame length (551) is greater than FFT size (512), frame will be truncated. Increase NFFT to avoid.\n",
            "WARNING:root:frame length (551) is greater than FFT size (512), frame will be truncated. Increase NFFT to avoid.\n",
            "WARNING:root:frame length (551) is greater than FFT size (512), frame will be truncated. Increase NFFT to avoid.\n",
            "WARNING:root:frame length (551) is greater than FFT size (512), frame will be truncated. Increase NFFT to avoid.\n",
            "WARNING:root:frame length (551) is greater than FFT size (512), frame will be truncated. Increase NFFT to avoid.\n",
            "WARNING:root:frame length (551) is greater than FFT size (512), frame will be truncated. Increase NFFT to avoid.\n",
            " 91%|█████████ | 91/100 [00:01<00:00, 53.38it/s]WARNING:root:frame length (551) is greater than FFT size (512), frame will be truncated. Increase NFFT to avoid.\n",
            "WARNING:root:frame length (551) is greater than FFT size (512), frame will be truncated. Increase NFFT to avoid.\n",
            "WARNING:root:frame length (551) is greater than FFT size (512), frame will be truncated. Increase NFFT to avoid.\n",
            "WARNING:root:frame length (551) is greater than FFT size (512), frame will be truncated. Increase NFFT to avoid.\n",
            "WARNING:root:frame length (551) is greater than FFT size (512), frame will be truncated. Increase NFFT to avoid.\n",
            "WARNING:root:frame length (551) is greater than FFT size (512), frame will be truncated. Increase NFFT to avoid.\n",
            " 97%|█████████▋| 97/100 [00:01<00:00, 51.12it/s]WARNING:root:frame length (551) is greater than FFT size (512), frame will be truncated. Increase NFFT to avoid.\n",
            "WARNING:root:frame length (551) is greater than FFT size (512), frame will be truncated. Increase NFFT to avoid.\n",
            "WARNING:root:frame length (551) is greater than FFT size (512), frame will be truncated. Increase NFFT to avoid.\n",
            "100%|██████████| 100/100 [00:02<00:00, 47.90it/s]\n",
            "<ipython-input-33-1d3dd38f60c7>:9: VisibleDeprecationWarning: Creating an ndarray from ragged nested sequences (which is a list-or-tuple of lists-or-tuples-or ndarrays with different lengths or shapes) is deprecated. If you meant to do this, you must specify 'dtype=object' when creating the ndarray.\n",
            "  features = np.array(features)\n",
            "  0%|          | 0/100 [00:00<?, ?it/s]WARNING:root:frame length (551) is greater than FFT size (512), frame will be truncated. Increase NFFT to avoid.\n",
            "WARNING:root:frame length (551) is greater than FFT size (512), frame will be truncated. Increase NFFT to avoid.\n",
            "WARNING:root:frame length (551) is greater than FFT size (512), frame will be truncated. Increase NFFT to avoid.\n",
            "WARNING:root:frame length (551) is greater than FFT size (512), frame will be truncated. Increase NFFT to avoid.\n",
            "  4%|▍         | 4/100 [00:00<00:02, 39.12it/s]WARNING:root:frame length (551) is greater than FFT size (512), frame will be truncated. Increase NFFT to avoid.\n",
            "WARNING:root:frame length (551) is greater than FFT size (512), frame will be truncated. Increase NFFT to avoid.\n",
            "WARNING:root:frame length (551) is greater than FFT size (512), frame will be truncated. Increase NFFT to avoid.\n",
            "WARNING:root:frame length (551) is greater than FFT size (512), frame will be truncated. Increase NFFT to avoid.\n",
            "  8%|▊         | 8/100 [00:00<00:02, 37.50it/s]WARNING:root:frame length (551) is greater than FFT size (512), frame will be truncated. Increase NFFT to avoid.\n",
            "WARNING:root:frame length (551) is greater than FFT size (512), frame will be truncated. Increase NFFT to avoid.\n",
            "WARNING:root:frame length (551) is greater than FFT size (512), frame will be truncated. Increase NFFT to avoid.\n",
            "WARNING:root:frame length (551) is greater than FFT size (512), frame will be truncated. Increase NFFT to avoid.\n",
            "WARNING:root:frame length (551) is greater than FFT size (512), frame will be truncated. Increase NFFT to avoid.\n",
            " 13%|█▎        | 13/100 [00:00<00:02, 42.18it/s]WARNING:root:frame length (551) is greater than FFT size (512), frame will be truncated. Increase NFFT to avoid.\n",
            "WARNING:root:frame length (551) is greater than FFT size (512), frame will be truncated. Increase NFFT to avoid.\n",
            "WARNING:root:frame length (551) is greater than FFT size (512), frame will be truncated. Increase NFFT to avoid.\n",
            "WARNING:root:frame length (551) is greater than FFT size (512), frame will be truncated. Increase NFFT to avoid.\n",
            "WARNING:root:frame length (551) is greater than FFT size (512), frame will be truncated. Increase NFFT to avoid.\n",
            " 18%|█▊        | 18/100 [00:00<00:01, 42.12it/s]WARNING:root:frame length (551) is greater than FFT size (512), frame will be truncated. Increase NFFT to avoid.\n",
            "WARNING:root:frame length (551) is greater than FFT size (512), frame will be truncated. Increase NFFT to avoid.\n",
            "WARNING:root:frame length (551) is greater than FFT size (512), frame will be truncated. Increase NFFT to avoid.\n",
            "WARNING:root:frame length (551) is greater than FFT size (512), frame will be truncated. Increase NFFT to avoid.\n",
            "WARNING:root:frame length (551) is greater than FFT size (512), frame will be truncated. Increase NFFT to avoid.\n",
            " 23%|██▎       | 23/100 [00:00<00:01, 43.13it/s]WARNING:root:frame length (551) is greater than FFT size (512), frame will be truncated. Increase NFFT to avoid.\n",
            "WARNING:root:frame length (551) is greater than FFT size (512), frame will be truncated. Increase NFFT to avoid.\n",
            "WARNING:root:frame length (551) is greater than FFT size (512), frame will be truncated. Increase NFFT to avoid.\n",
            "WARNING:root:frame length (551) is greater than FFT size (512), frame will be truncated. Increase NFFT to avoid.\n",
            "WARNING:root:frame length (551) is greater than FFT size (512), frame will be truncated. Increase NFFT to avoid.\n",
            "WARNING:root:frame length (551) is greater than FFT size (512), frame will be truncated. Increase NFFT to avoid.\n",
            " 29%|██▉       | 29/100 [00:00<00:01, 46.39it/s]WARNING:root:frame length (551) is greater than FFT size (512), frame will be truncated. Increase NFFT to avoid.\n",
            "WARNING:root:frame length (551) is greater than FFT size (512), frame will be truncated. Increase NFFT to avoid.\n",
            "WARNING:root:frame length (551) is greater than FFT size (512), frame will be truncated. Increase NFFT to avoid.\n",
            "WARNING:root:frame length (551) is greater than FFT size (512), frame will be truncated. Increase NFFT to avoid.\n",
            "WARNING:root:frame length (551) is greater than FFT size (512), frame will be truncated. Increase NFFT to avoid.\n",
            " 34%|███▍      | 34/100 [00:00<00:01, 45.11it/s]WARNING:root:frame length (551) is greater than FFT size (512), frame will be truncated. Increase NFFT to avoid.\n",
            "WARNING:root:frame length (551) is greater than FFT size (512), frame will be truncated. Increase NFFT to avoid.\n",
            "WARNING:root:frame length (551) is greater than FFT size (512), frame will be truncated. Increase NFFT to avoid.\n",
            "WARNING:root:frame length (551) is greater than FFT size (512), frame will be truncated. Increase NFFT to avoid.\n",
            "WARNING:root:frame length (551) is greater than FFT size (512), frame will be truncated. Increase NFFT to avoid.\n",
            " 39%|███▉      | 39/100 [00:00<00:01, 46.08it/s]WARNING:root:frame length (551) is greater than FFT size (512), frame will be truncated. Increase NFFT to avoid.\n",
            "WARNING:root:frame length (551) is greater than FFT size (512), frame will be truncated. Increase NFFT to avoid.\n",
            "WARNING:root:frame length (551) is greater than FFT size (512), frame will be truncated. Increase NFFT to avoid.\n",
            "WARNING:root:frame length (551) is greater than FFT size (512), frame will be truncated. Increase NFFT to avoid.\n",
            "WARNING:root:frame length (551) is greater than FFT size (512), frame will be truncated. Increase NFFT to avoid.\n",
            " 44%|████▍     | 44/100 [00:00<00:01, 46.86it/s]WARNING:root:frame length (551) is greater than FFT size (512), frame will be truncated. Increase NFFT to avoid.\n",
            "WARNING:root:frame length (551) is greater than FFT size (512), frame will be truncated. Increase NFFT to avoid.\n",
            "WARNING:root:frame length (551) is greater than FFT size (512), frame will be truncated. Increase NFFT to avoid.\n",
            "WARNING:root:frame length (551) is greater than FFT size (512), frame will be truncated. Increase NFFT to avoid.\n",
            "WARNING:root:frame length (551) is greater than FFT size (512), frame will be truncated. Increase NFFT to avoid.\n",
            "WARNING:root:frame length (551) is greater than FFT size (512), frame will be truncated. Increase NFFT to avoid.\n",
            " 50%|█████     | 50/100 [00:01<00:01, 47.42it/s]WARNING:root:frame length (551) is greater than FFT size (512), frame will be truncated. Increase NFFT to avoid.\n",
            "WARNING:root:frame length (551) is greater than FFT size (512), frame will be truncated. Increase NFFT to avoid.\n",
            "WARNING:root:frame length (551) is greater than FFT size (512), frame will be truncated. Increase NFFT to avoid.\n",
            "WARNING:root:frame length (551) is greater than FFT size (512), frame will be truncated. Increase NFFT to avoid.\n",
            "WARNING:root:frame length (551) is greater than FFT size (512), frame will be truncated. Increase NFFT to avoid.\n",
            " 55%|█████▌    | 55/100 [00:01<00:00, 45.84it/s]WARNING:root:frame length (551) is greater than FFT size (512), frame will be truncated. Increase NFFT to avoid.\n",
            "WARNING:root:frame length (551) is greater than FFT size (512), frame will be truncated. Increase NFFT to avoid.\n",
            "WARNING:root:frame length (551) is greater than FFT size (512), frame will be truncated. Increase NFFT to avoid.\n",
            "WARNING:root:frame length (551) is greater than FFT size (512), frame will be truncated. Increase NFFT to avoid.\n",
            "WARNING:root:frame length (551) is greater than FFT size (512), frame will be truncated. Increase NFFT to avoid.\n",
            "WARNING:root:frame length (551) is greater than FFT size (512), frame will be truncated. Increase NFFT to avoid.\n",
            " 61%|██████    | 61/100 [00:01<00:00, 48.71it/s]WARNING:root:frame length (551) is greater than FFT size (512), frame will be truncated. Increase NFFT to avoid.\n",
            "WARNING:root:frame length (551) is greater than FFT size (512), frame will be truncated. Increase NFFT to avoid.\n",
            "WARNING:root:frame length (551) is greater than FFT size (512), frame will be truncated. Increase NFFT to avoid.\n",
            "WARNING:root:frame length (551) is greater than FFT size (512), frame will be truncated. Increase NFFT to avoid.\n",
            "WARNING:root:frame length (551) is greater than FFT size (512), frame will be truncated. Increase NFFT to avoid.\n",
            " 66%|██████▌   | 66/100 [00:01<00:00, 47.53it/s]WARNING:root:frame length (551) is greater than FFT size (512), frame will be truncated. Increase NFFT to avoid.\n",
            "WARNING:root:frame length (551) is greater than FFT size (512), frame will be truncated. Increase NFFT to avoid.\n",
            "WARNING:root:frame length (551) is greater than FFT size (512), frame will be truncated. Increase NFFT to avoid.\n",
            "WARNING:root:frame length (551) is greater than FFT size (512), frame will be truncated. Increase NFFT to avoid.\n",
            "WARNING:root:frame length (551) is greater than FFT size (512), frame will be truncated. Increase NFFT to avoid.\n",
            "WARNING:root:frame length (551) is greater than FFT size (512), frame will be truncated. Increase NFFT to avoid.\n",
            " 72%|███████▏  | 72/100 [00:01<00:00, 48.81it/s]WARNING:root:frame length (551) is greater than FFT size (512), frame will be truncated. Increase NFFT to avoid.\n",
            "WARNING:root:frame length (551) is greater than FFT size (512), frame will be truncated. Increase NFFT to avoid.\n",
            "WARNING:root:frame length (551) is greater than FFT size (512), frame will be truncated. Increase NFFT to avoid.\n",
            "WARNING:root:frame length (551) is greater than FFT size (512), frame will be truncated. Increase NFFT to avoid.\n",
            "WARNING:root:frame length (551) is greater than FFT size (512), frame will be truncated. Increase NFFT to avoid.\n",
            " 77%|███████▋  | 77/100 [00:01<00:00, 46.85it/s]WARNING:root:frame length (551) is greater than FFT size (512), frame will be truncated. Increase NFFT to avoid.\n",
            "WARNING:root:frame length (551) is greater than FFT size (512), frame will be truncated. Increase NFFT to avoid.\n",
            "WARNING:root:frame length (551) is greater than FFT size (512), frame will be truncated. Increase NFFT to avoid.\n",
            "WARNING:root:frame length (551) is greater than FFT size (512), frame will be truncated. Increase NFFT to avoid.\n",
            "WARNING:root:frame length (551) is greater than FFT size (512), frame will be truncated. Increase NFFT to avoid.\n",
            " 82%|████████▏ | 82/100 [00:01<00:00, 47.43it/s]WARNING:root:frame length (551) is greater than FFT size (512), frame will be truncated. Increase NFFT to avoid.\n",
            "WARNING:root:frame length (551) is greater than FFT size (512), frame will be truncated. Increase NFFT to avoid.\n",
            "WARNING:root:frame length (551) is greater than FFT size (512), frame will be truncated. Increase NFFT to avoid.\n",
            "WARNING:root:frame length (551) is greater than FFT size (512), frame will be truncated. Increase NFFT to avoid.\n",
            "WARNING:root:frame length (551) is greater than FFT size (512), frame will be truncated. Increase NFFT to avoid.\n",
            "WARNING:root:frame length (551) is greater than FFT size (512), frame will be truncated. Increase NFFT to avoid.\n",
            "WARNING:root:frame length (551) is greater than FFT size (512), frame will be truncated. Increase NFFT to avoid.\n",
            " 89%|████████▉ | 89/100 [00:01<00:00, 52.78it/s]WARNING:root:frame length (551) is greater than FFT size (512), frame will be truncated. Increase NFFT to avoid.\n",
            "WARNING:root:frame length (551) is greater than FFT size (512), frame will be truncated. Increase NFFT to avoid.\n",
            "WARNING:root:frame length (551) is greater than FFT size (512), frame will be truncated. Increase NFFT to avoid.\n",
            "WARNING:root:frame length (551) is greater than FFT size (512), frame will be truncated. Increase NFFT to avoid.\n",
            "WARNING:root:frame length (551) is greater than FFT size (512), frame will be truncated. Increase NFFT to avoid.\n",
            "WARNING:root:frame length (551) is greater than FFT size (512), frame will be truncated. Increase NFFT to avoid.\n",
            " 95%|█████████▌| 95/100 [00:02<00:00, 48.57it/s]WARNING:root:frame length (551) is greater than FFT size (512), frame will be truncated. Increase NFFT to avoid.\n",
            "WARNING:root:frame length (551) is greater than FFT size (512), frame will be truncated. Increase NFFT to avoid.\n",
            "WARNING:root:frame length (551) is greater than FFT size (512), frame will be truncated. Increase NFFT to avoid.\n",
            "WARNING:root:frame length (551) is greater than FFT size (512), frame will be truncated. Increase NFFT to avoid.\n",
            "WARNING:root:frame length (551) is greater than FFT size (512), frame will be truncated. Increase NFFT to avoid.\n",
            "100%|██████████| 100/100 [00:02<00:00, 47.12it/s]\n"
          ]
        }
      ],
      "source": [
        "male_features = extract_features(male_voices)\n",
        "female_features = extract_features(female_voices)"
      ]
    },
    {
      "cell_type": "markdown",
      "metadata": {
        "id": "UIFOOEPdaKBM"
      },
      "source": [
        "The function used to concatenate all audio features forming a long 2-dimensional array"
      ]
    },
    {
      "cell_type": "code",
      "execution_count": 36,
      "metadata": {
        "id": "zGQbbZJKaKBM"
      },
      "outputs": [],
      "source": [
        "def concatenate_features(audio_features):\n",
        "    concatenated = audio_features[0]\n",
        "    for audio_feature in tqdm(audio_features):\n",
        "        concatenated = np.vstack((concatenated, audio_feature))\n",
        "        \n",
        "    return concatenated"
      ]
    },
    {
      "cell_type": "code",
      "source": [],
      "metadata": {
        "id": "ewizh4IK5v7R"
      },
      "execution_count": 36,
      "outputs": []
    },
    {
      "cell_type": "markdown",
      "metadata": {
        "id": "0a0kg6rwaKBN"
      },
      "source": [
        "How the function is used"
      ]
    },
    {
      "cell_type": "code",
      "execution_count": 37,
      "metadata": {
        "id": "nuiaImx3aKBN",
        "colab": {
          "base_uri": "https://localhost:8080/"
        },
        "outputId": "e0001b1e-1622-4113-c51a-f5665748ef04"
      },
      "outputs": [
        {
          "output_type": "stream",
          "name": "stderr",
          "text": [
            "100%|██████████| 100/100 [00:00<00:00, 551.83it/s]\n",
            "100%|██████████| 100/100 [00:00<00:00, 948.30it/s]\n"
          ]
        }
      ],
      "source": [
        "male_concatenated = concatenate_features(male_features)\n",
        "female_concatenated = concatenate_features(female_features)"
      ]
    },
    {
      "cell_type": "code",
      "execution_count": 58,
      "metadata": {
        "id": "CBMep9R2aKBO",
        "colab": {
          "base_uri": "https://localhost:8080/"
        },
        "outputId": "87917d1e-1b29-48ab-f0fd-42bfddbb6329"
      },
      "outputs": [
        {
          "output_type": "stream",
          "name": "stdout",
          "text": [
            "(40177, 26)\n"
          ]
        },
        {
          "output_type": "execute_result",
          "data": {
            "text/plain": [
              "array([[-4.58530226e+01, -1.66091542e+01,  6.23374869e+00, ...,\n",
              "         1.78087548e-02,  3.88462524e-02,  2.60186666e-02],\n",
              "       [-1.36576124e+01, -2.59483273e+01,  5.45621343e+00, ...,\n",
              "        -1.75421865e-01, -5.48513474e-01, -1.78101623e-01],\n",
              "       [-1.23649804e+01, -2.96121607e+01, -3.97292244e+00, ...,\n",
              "        -2.33953848e-01, -8.32843352e-01, -9.43240378e-01],\n",
              "       ...,\n",
              "       [-1.40038044e+01, -1.45516479e+01, -3.00557154e+00, ...,\n",
              "         1.19844517e-01,  5.82003013e-01,  2.88646639e-01],\n",
              "       [-1.49710026e+01, -9.96157603e+00,  6.39030454e+00, ...,\n",
              "         1.59949544e-01,  7.54141482e-01,  9.21275103e-01],\n",
              "       [-1.65170106e+01, -1.14356303e+01, -2.95354003e+00, ...,\n",
              "         1.13117028e-02, -6.03423208e-02,  2.44701815e-01]])"
            ]
          },
          "metadata": {},
          "execution_count": 58
        }
      ],
      "source": [
        "print(male_concatenated.shape) \t\t\n",
        "# Output: (117576, 26)"
      ]
    },
    {
      "cell_type": "code",
      "execution_count": 39,
      "metadata": {
        "id": "XyOtiIjzaKBO",
        "colab": {
          "base_uri": "https://localhost:8080/"
        },
        "outputId": "5ab6fa67-7dc8-4cae-da86-279910f41059"
      },
      "outputs": [
        {
          "output_type": "stream",
          "name": "stdout",
          "text": [
            "(40816, 26)\n"
          ]
        }
      ],
      "source": [
        "print(female_concatenated.shape)\t\n",
        "# Output: (124755, 26)"
      ]
    },
    {
      "cell_type": "markdown",
      "metadata": {
        "id": "2hFpCl9saKBP"
      },
      "source": [
        "Concatenate male voices and female voices"
      ]
    },
    {
      "cell_type": "code",
      "execution_count": 124,
      "metadata": {
        "id": "d8xatF-FaKBP"
      },
      "outputs": [],
      "source": [
        "X = np.vstack((male_concatenated, female_concatenated))\n",
        "X=X[0:100000]"
      ]
    },
    {
      "cell_type": "markdown",
      "metadata": {
        "id": "bV047iiwaKBQ"
      },
      "source": [
        "Create labels"
      ]
    },
    {
      "cell_type": "code",
      "execution_count": 125,
      "metadata": {
        "id": "Ag-aBUZmaKBR"
      },
      "outputs": [],
      "source": [
        "y = np.append([0] * len(male_concatenated), [1] * len(female_concatenated))\n",
        "y=y[0:100000]"
      ]
    },
    {
      "cell_type": "markdown",
      "metadata": {
        "id": "lwy64ABpaKBR"
      },
      "source": [
        "Check whether X and y are already having the exact same length"
      ]
    },
    {
      "cell_type": "code",
      "execution_count": 126,
      "metadata": {
        "id": "OM5ZQZsoaKBS",
        "colab": {
          "base_uri": "https://localhost:8080/"
        },
        "outputId": "5c1c5dec-18de-46a7-8f70-3027a290540b"
      },
      "outputs": [
        {
          "output_type": "stream",
          "name": "stdout",
          "text": [
            "(80993, 26)\n"
          ]
        }
      ],
      "source": [
        "print(X.shape)\t\t\n",
        "# Output: (242268, 26)"
      ]
    },
    {
      "cell_type": "code",
      "execution_count": 127,
      "metadata": {
        "id": "Wz_p3D8jaKBS",
        "colab": {
          "base_uri": "https://localhost:8080/"
        },
        "outputId": "1ec95870-febd-4ecf-ed57-988465022224"
      },
      "outputs": [
        {
          "output_type": "stream",
          "name": "stdout",
          "text": [
            "(80993,)\n"
          ]
        }
      ],
      "source": [
        "print(y.shape)\t\t\n",
        "# Output: (242268,)"
      ]
    },
    {
      "cell_type": "code",
      "execution_count": 128,
      "metadata": {
        "id": "VBm_J1RtaKBS"
      },
      "outputs": [],
      "source": [
        "X_train, X_test, y_train, y_test = train_test_split(X, y, test_size=0.2, random_state=22)"
      ]
    },
    {
      "cell_type": "code",
      "source": [
        "X_train, X_valid, y_train, y_valid = train_test_split(X_train, y_train, test_size=0.3, random_state=22)"
      ],
      "metadata": {
        "id": "jfikRWBFjwZd"
      },
      "execution_count": 135,
      "outputs": []
    },
    {
      "cell_type": "code",
      "source": [
        "X_train.shape"
      ],
      "metadata": {
        "colab": {
          "base_uri": "https://localhost:8080/"
        },
        "id": "p97JB2-Zxugm",
        "outputId": "2addf997-916e-41c1-ba04-81b2650c3077"
      },
      "execution_count": 136,
      "outputs": [
        {
          "output_type": "execute_result",
          "data": {
            "text/plain": [
              "(36284, 26)"
            ]
          },
          "metadata": {},
          "execution_count": 136
        }
      ]
    },
    {
      "cell_type": "markdown",
      "source": [
        "MLP"
      ],
      "metadata": {
        "id": "2ifpXWCsxu9D"
      }
    },
    {
      "cell_type": "code",
      "source": [
        "import keras\n",
        "from keras.models import Sequential\n",
        "from keras. layers import Dense, Dropout, Activation\n",
        "from keras.optimizers import SGD\n",
        "model = Sequential()\n",
        "model.add(Dense(400,activation='relu',input_dim=26))\n",
        "model.add(Dense(200,activation='relu'))\n",
        "model.add(Dense(20,activation='softmax'))\n",
        "\n",
        "sgd=SGD(lr=0.01,decay=1e-6,momentum=0.9,nesterov=True)\n",
        "model.compile(loss='sparse_categorical_crossentropy',optimizer=sgd,\n",
        "              metrics=['accuracy'])\n",
        "\n",
        "history = model.fit(X_train, y_train, epochs=20, validation_data=(X_valid, y_valid))"
      ],
      "metadata": {
        "colab": {
          "base_uri": "https://localhost:8080/"
        },
        "id": "MEVvB-j7u7FN",
        "outputId": "47b93a18-3207-45e8-a6bc-569f66d6ef9b"
      },
      "execution_count": 137,
      "outputs": [
        {
          "output_type": "stream",
          "name": "stdout",
          "text": [
            "Epoch 1/20\n",
            "1134/1134 [==============================] - 6s 5ms/step - loss: 0.5949 - accuracy: 0.7069 - val_loss: 0.5088 - val_accuracy: 0.7463\n",
            "Epoch 2/20\n",
            "1134/1134 [==============================] - 6s 6ms/step - loss: 0.5037 - accuracy: 0.7493 - val_loss: 0.4997 - val_accuracy: 0.7501\n",
            "Epoch 3/20\n",
            "1134/1134 [==============================] - 5s 4ms/step - loss: 0.4711 - accuracy: 0.7680 - val_loss: 0.4897 - val_accuracy: 0.7558\n",
            "Epoch 4/20\n",
            "1134/1134 [==============================] - 6s 5ms/step - loss: 0.4441 - accuracy: 0.7852 - val_loss: 0.4790 - val_accuracy: 0.7678\n",
            "Epoch 5/20\n",
            "1134/1134 [==============================] - 5s 4ms/step - loss: 0.4273 - accuracy: 0.7963 - val_loss: 0.4759 - val_accuracy: 0.7713\n",
            "Epoch 6/20\n",
            "1134/1134 [==============================] - 6s 5ms/step - loss: 0.4101 - accuracy: 0.8049 - val_loss: 0.4451 - val_accuracy: 0.7940\n",
            "Epoch 7/20\n",
            "1134/1134 [==============================] - 6s 5ms/step - loss: 0.3900 - accuracy: 0.8177 - val_loss: 0.4365 - val_accuracy: 0.7932\n",
            "Epoch 8/20\n",
            "1134/1134 [==============================] - 5s 5ms/step - loss: 0.3747 - accuracy: 0.8236 - val_loss: 0.4556 - val_accuracy: 0.7994\n",
            "Epoch 9/20\n",
            "1134/1134 [==============================] - 6s 6ms/step - loss: 0.3612 - accuracy: 0.8345 - val_loss: 0.4293 - val_accuracy: 0.7954\n",
            "Epoch 10/20\n",
            "1134/1134 [==============================] - 5s 4ms/step - loss: 0.3449 - accuracy: 0.8408 - val_loss: 0.4275 - val_accuracy: 0.8089\n",
            "Epoch 11/20\n",
            "1134/1134 [==============================] - 6s 5ms/step - loss: 0.3338 - accuracy: 0.8467 - val_loss: 0.4391 - val_accuracy: 0.8032\n",
            "Epoch 12/20\n",
            "1134/1134 [==============================] - 5s 5ms/step - loss: 0.3271 - accuracy: 0.8515 - val_loss: 0.4803 - val_accuracy: 0.7845\n",
            "Epoch 13/20\n",
            "1134/1134 [==============================] - 7s 6ms/step - loss: 0.3150 - accuracy: 0.8565 - val_loss: 0.4483 - val_accuracy: 0.8082\n",
            "Epoch 14/20\n",
            "1134/1134 [==============================] - 5s 5ms/step - loss: 0.3002 - accuracy: 0.8645 - val_loss: 0.4759 - val_accuracy: 0.8069\n",
            "Epoch 15/20\n",
            "1134/1134 [==============================] - 7s 6ms/step - loss: 0.2962 - accuracy: 0.8676 - val_loss: 0.4436 - val_accuracy: 0.8153\n",
            "Epoch 16/20\n",
            "1134/1134 [==============================] - 5s 4ms/step - loss: 0.2893 - accuracy: 0.8718 - val_loss: 0.4603 - val_accuracy: 0.8090\n",
            "Epoch 17/20\n",
            "1134/1134 [==============================] - 7s 6ms/step - loss: 0.2738 - accuracy: 0.8790 - val_loss: 0.4623 - val_accuracy: 0.8111\n",
            "Epoch 18/20\n",
            "1134/1134 [==============================] - 6s 5ms/step - loss: 0.2652 - accuracy: 0.8823 - val_loss: 0.4321 - val_accuracy: 0.8237\n",
            "Epoch 19/20\n",
            "1134/1134 [==============================] - 7s 6ms/step - loss: 0.2669 - accuracy: 0.8846 - val_loss: 0.5125 - val_accuracy: 0.8063\n",
            "Epoch 20/20\n",
            "1134/1134 [==============================] - 5s 4ms/step - loss: 0.2621 - accuracy: 0.8864 - val_loss: 0.4748 - val_accuracy: 0.8174\n"
          ]
        }
      ]
    },
    {
      "cell_type": "code",
      "source": [
        "import pandas as pd\n",
        "import numpy as np\n",
        "pd.DataFrame(history.history).plot(figsize=(8,5))\n",
        "plt.grid(True)\n",
        "plt.gca().set_ylim(0,1)\n",
        "plt.show()\n",
        "print('1. If the validation loss is greater(are both high:) than the training loss. The model is underfitting.')\n",
        "print('2. If the validation loss is greater than the training loss,The model is overfitting.')\n",
        "print('3. If the training loss and validation loss both decrease and stabilize at a specific point:the model is good fit')\n"
      ],
      "metadata": {
        "colab": {
          "base_uri": "https://localhost:8080/",
          "height": 376
        },
        "id": "p1dyg3uwxrCg",
        "outputId": "4fb9b928-23e4-463a-b2ae-59dfdf01c6f8"
      },
      "execution_count": 132,
      "outputs": [
        {
          "output_type": "display_data",
          "data": {
            "text/plain": [
              "<Figure size 576x360 with 1 Axes>"
            ],
            "image/png": "[encoded data removed]"
          },
          "metadata": {
            "needs_background": "light"
          }
        },
        {
          "output_type": "stream",
          "name": "stdout",
          "text": [
            "1. If the validation loss is greater(are both high:) than the training loss. The model is underfitting.\n",
            "2. If the validation loss is greater than the training loss,The model is overfitting.\n",
            "3. If the training loss and validation loss both decrease and stabilize at a specific point:the model is good fit\n"
          ]
        }
      ]
    },
    {
      "cell_type": "code",
      "source": [
        "import pandas as pd\n",
        "import numpy as np\n",
        "pd.DataFrame(history.history).plot(figsize=(8,5))\n",
        "plt.grid(True)\n",
        "plt.gca().set_ylim(0,1)\n",
        "plt.show()"
      ],
      "metadata": {
        "colab": {
          "base_uri": "https://localhost:8080/",
          "height": 324
        },
        "id": "78dCFfK7C123",
        "outputId": "9f3b524e-6f76-43d2-f672-170343cebf1d"
      },
      "execution_count": 138,
      "outputs": [
        {
          "output_type": "display_data",
          "data": {
            "text/plain": [
              "<Figure size 576x360 with 1 Axes>"
            ],
            "image/png": "[encoded data removed]"
          },
          "metadata": {
            "needs_background": "light"
          }
        }
      ]
    },
    {
      "cell_type": "code",
      "source": [
        "X_new = X_test[:5]\n",
        "y_pred = np.argmax(model.predict(X_new), axis=-1)\n",
        "y_pred"
      ],
      "metadata": {
        "colab": {
          "base_uri": "https://localhost:8080/"
        },
        "id": "SUrefrdL5M4h",
        "outputId": "99c58af3-2eff-4e81-9061-8d81a82c9c42"
      },
      "execution_count": 70,
      "outputs": [
        {
          "output_type": "stream",
          "name": "stdout",
          "text": [
            "1/1 [==============================] - 0s 33ms/step\n"
          ]
        },
        {
          "output_type": "execute_result",
          "data": {
            "text/plain": [
              "array([0, 0, 0, 1, 0])"
            ]
          },
          "metadata": {},
          "execution_count": 70
        }
      ]
    },
    {
      "cell_type": "code",
      "source": [
        "from sklearn.metrics import confusion_matrix, accuracy_score\n",
        "accuracy = accuracy_score(y_test[:5],y_pred)*100\n",
        "print(\"accuracy is \"+str(accuracy))"
      ],
      "metadata": {
        "colab": {
          "base_uri": "https://localhost:8080/"
        },
        "id": "sc2ZDb0m5v2n",
        "outputId": "b9a60f02-99f7-4513-fd72-cb04e27120d3"
      },
      "execution_count": 71,
      "outputs": [
        {
          "output_type": "stream",
          "name": "stdout",
          "text": [
            "accuracy is 40.0\n"
          ]
        }
      ]
    },
    {
      "cell_type": "markdown",
      "metadata": {
        "id": "2gKCqYVkaKBT"
      },
      "source": [
        "Initialize SVM model"
      ]
    },
    {
      "cell_type": "markdown",
      "source": [],
      "metadata": {
        "id": "xAGXcec5wCYz"
      }
    },
    {
      "cell_type": "code",
      "source": [],
      "metadata": {
        "id": "Yq9kw4KFvzch"
      },
      "execution_count": null,
      "outputs": []
    },
    {
      "cell_type": "code",
      "execution_count": null,
      "metadata": {
        "id": "a59Jdmh8aKBT"
      },
      "outputs": [],
      "source": [
        "clf = SVC(kernel='rbf')      "
      ]
    },
    {
      "cell_type": "markdown",
      "metadata": {
        "id": "OA_X1EQRaKBY"
      },
      "source": [
        "Train the model"
      ]
    },
    {
      "cell_type": "code",
      "execution_count": null,
      "metadata": {
        "id": "oqzkHdyoaKBY",
        "colab": {
          "base_uri": "https://localhost:8080/"
        },
        "outputId": "ce3f7c40-79f6-4e7b-8d2d-40f6aa513740"
      },
      "outputs": [
        {
          "output_type": "stream",
          "name": "stdout",
          "text": [
            "165.91033482551575\n"
          ]
        }
      ],
      "source": [
        "start = time()\n",
        "model=clf.fit(X_train[:50000], y_train[:50000])\n",
        "print(time()-start)\t\t\t\t\t\t\n",
        "# Output: 184.8018662929535 (seconds)"
      ]
    },
    {
      "cell_type": "code",
      "source": [
        "!pip install pickle5"
      ],
      "metadata": {
        "colab": {
          "base_uri": "https://localhost:8080/"
        },
        "id": "6jY_l9ZZnLiT",
        "outputId": "79f0bf1a-3b43-41b9-baeb-d98efef34fa4"
      },
      "execution_count": null,
      "outputs": [
        {
          "output_type": "stream",
          "name": "stdout",
          "text": [
            "Looking in indexes: https://pypi.org/simple, https://us-python.pkg.dev/colab-wheels/public/simple/\n",
            "Collecting pickle5\n",
            "  Downloading pickle5-0.0.11.tar.gz (132 kB)\n",
            "\u001b[?25l     \u001b[90m━━━━━━━━━━━━━━━━━━━━━━━━━━━━━━━━━━━━━━━━\u001b[0m \u001b[32m0.0/132.1 KB\u001b[0m \u001b[31m?\u001b[0m eta \u001b[36m-:--:--\u001b[0m\r\u001b[2K     \u001b[90m━━━━━━━━━━━━━━━━━━━━━━━━━━━━━━━━━━━━━━━\u001b[0m \u001b[32m132.1/132.1 KB\u001b[0m \u001b[31m4.3 MB/s\u001b[0m eta \u001b[36m0:00:00\u001b[0m\n",
            "\u001b[?25h  Preparing metadata (setup.py) ... \u001b[?25l\u001b[?25hdone\n",
            "Building wheels for collected packages: pickle5\n",
            "  Building wheel for pickle5 (setup.py) ... \u001b[?25l\u001b[?25hdone\n",
            "  Created wheel for pickle5: filename=pickle5-0.0.11-cp38-cp38-linux_x86_64.whl size=262121 sha256=00ec78d1e91faf62199cf6870a42d639e798503094d02cca5ccc96549f7d1326\n",
            "  Stored in directory: /root/.cache/pip/wheels/25/d4/61/dbd8edd1a0d656be7b4267c85db3b61951eb60016a0154a122\n",
            "Successfully built pickle5\n",
            "Installing collected packages: pickle5\n",
            "Successfully installed pickle5-0.0.11\n"
          ]
        }
      ]
    },
    {
      "cell_type": "code",
      "source": [
        "import pickle5 as pickle\n",
        "  \n",
        "# Save the trained model as a pickle string.\n",
        "saved_model = pickle.dumps(clf)\n",
        "filename = 'finalized_model.sav'\n",
        "pickle.dump(clf, open(filename, 'wb'))\n",
        "# Load the pickled model\n",
        "model = pickle.loads(saved_model)"
      ],
      "metadata": {
        "id": "efLSQbWJm9uU"
      },
      "execution_count": null,
      "outputs": []
    },
    {
      "cell_type": "markdown",
      "metadata": {
        "id": "CDoLesNmaKBZ"
      },
      "source": [
        "Compute the accuracy score towards train data"
      ]
    },
    {
      "cell_type": "code",
      "execution_count": null,
      "metadata": {
        "id": "9XiTc3lbaKBZ",
        "colab": {
          "base_uri": "https://localhost:8080/"
        },
        "outputId": "95ea4e55-9311-49d7-ba28-05353a46d146"
      },
      "outputs": [
        {
          "output_type": "stream",
          "name": "stdout",
          "text": [
            "0.83466\n"
          ]
        }
      ],
      "source": [
        "start = time()\n",
        "print(clf.score(X_train[:50000], y_train[:50000]))\t\t\n",
        "# Output: 0.78204"
      ]
    },
    {
      "cell_type": "code",
      "execution_count": null,
      "metadata": {
        "id": "2B09507taKBZ",
        "colab": {
          "base_uri": "https://localhost:8080/"
        },
        "outputId": "24c6df80-05aa-415a-ea3c-62b3637f1ea6"
      },
      "outputs": [
        {
          "output_type": "stream",
          "name": "stdout",
          "text": [
            "109.30222392082214\n"
          ]
        }
      ],
      "source": [
        "print(time()-start)\t\t\t\t\t\t\n",
        "# Output: 90.8693311214447 (seconds)"
      ]
    },
    {
      "cell_type": "markdown",
      "metadata": {
        "id": "oNg-R-R0aKBa"
      },
      "source": [
        "Compute the accuracy score towards test data"
      ]
    },
    {
      "cell_type": "code",
      "execution_count": null,
      "metadata": {
        "id": "h0OMDGjxaKBa"
      },
      "outputs": [],
      "source": [
        "start = time()\n",
        "print(clf.score(X_test[:10000], y_test[:10000]))\t\t\n",
        "# Output: 0.7679"
      ]
    },
    {
      "cell_type": "code",
      "execution_count": null,
      "metadata": {
        "id": "IYJ3UuzhaKBa"
      },
      "outputs": [],
      "source": [
        "print(time()-start)\t\t\t\t\t\t\n",
        "# Output: 18.082067728042603 (seconds)"
      ]
    },
    {
      "cell_type": "markdown",
      "metadata": {
        "id": "1RgXIBZ-aKBb"
      },
      "source": [
        "Predict the first 10000 test data"
      ]
    },
    {
      "cell_type": "code",
      "execution_count": null,
      "metadata": {
        "id": "NLJyGId_aKBb"
      },
      "outputs": [],
      "source": [
        "svm_predictions = clf.predict(X_test[:10000])"
      ]
    },
    {
      "cell_type": "code",
      "source": [
        "from sklearn.metrics import confusion_matrix, accuracy_score\n",
        "accuracy = accuracy_score(y_test[:10000],svm_predictions)*100\n",
        "print(\"accuracy is \"+str(accuracy))"
      ],
      "metadata": {
        "colab": {
          "base_uri": "https://localhost:8080/"
        },
        "id": "VP50-GkOmGc2",
        "outputId": "5dd50a56-55ba-432d-be3a-4d9fc380a3a9"
      },
      "execution_count": null,
      "outputs": [
        {
          "output_type": "stream",
          "name": "stdout",
          "text": [
            "accuracy is 82.07\n"
          ]
        }
      ]
    },
    {
      "cell_type": "markdown",
      "metadata": {
        "id": "x4mkAJx9aKBb"
      },
      "source": [
        "Create the confusion matrix values"
      ]
    },
    {
      "cell_type": "code",
      "execution_count": null,
      "metadata": {
        "id": "Kc-sJmrnaKBb"
      },
      "outputs": [],
      "source": [
        "cm = confusion_matrix(y_test[:10000], svm_predictions)"
      ]
    },
    {
      "cell_type": "markdown",
      "metadata": {
        "id": "e1Dg8MOHaKBc"
      },
      "source": [
        "Create the confusion matrix display"
      ]
    },
    {
      "cell_type": "code",
      "execution_count": null,
      "metadata": {
        "id": "aJgU_YzlaKBc",
        "colab": {
          "base_uri": "https://localhost:8080/",
          "height": 513
        },
        "outputId": "08ad6a44-2d6b-4510-f0b3-c5e3318f8274"
      },
      "outputs": [
        {
          "output_type": "display_data",
          "data": {
            "text/plain": [
              "<Figure size 576x576 with 1 Axes>"
            ],
            "image/png": "[encoded data removed]"
          },
          "metadata": {
            "needs_background": "light"
          }
        }
      ],
      "source": [
        "plt.figure(figsize=(8,8))\n",
        "plt.title('Confusion matrix on test data')\n",
        "sns.heatmap(cm, annot=True, fmt='d', \n",
        "            cmap=plt.cm.Blues, cbar=False, annot_kws={'size':14})\n",
        "plt.xlabel('Predicted Label')\n",
        "plt.ylabel('True Label')\n",
        "plt.show()"
      ]
    },
    {
      "cell_type": "code",
      "source": [],
      "metadata": {
        "id": "8Opb_ywFlaqE"
      },
      "execution_count": null,
      "outputs": []
    },
    {
      "cell_type": "code",
      "source": [
        "from google.colab import drive\n",
        "drive.mount('/content/drive')"
      ],
      "metadata": {
        "colab": {
          "base_uri": "https://localhost:8080/"
        },
        "id": "5E5hSyCapgIt",
        "outputId": "8728c27d-04c2-456d-8d04-9149b6afa307"
      },
      "execution_count": null,
      "outputs": [
        {
          "output_type": "stream",
          "name": "stdout",
          "text": [
            "Drive already mounted at /content/drive; to attempt to forcibly remount, call drive.mount(\"/content/drive\", force_remount=True).\n"
          ]
        }
      ]
    },
    {
      "cell_type": "markdown",
      "metadata": {
        "id": "SdG-XGSRaKBd"
      },
      "source": [
        "Performance comparison between different algorithms"
      ]
    },
    {
      "cell_type": "code",
      "execution_count": null,
      "metadata": {
        "id": "Z_fmm2G0aKBd"
      },
      "outputs": [],
      "source": [
        "index = ['SVM-RBF', 'SVM-Poly', 'SVM-Sigmoid', 'Logistic Regression']"
      ]
    },
    {
      "cell_type": "markdown",
      "metadata": {
        "id": "Av11SrH5aKBf"
      },
      "source": [
        "I record all the results below manually"
      ]
    },
    {
      "cell_type": "code",
      "execution_count": null,
      "metadata": {
        "id": "EwRzay4faKBf"
      },
      "outputs": [],
      "source": [
        "values = [184.8, 137.0, 283.6, 0.7]"
      ]
    },
    {
      "cell_type": "code",
      "execution_count": null,
      "metadata": {
        "id": "rrwFaCXtaKBg"
      },
      "outputs": [],
      "source": [
        "plt.figure(figsize=(12,3))\n",
        "plt.title('Training duration (lower is better)')\n",
        "plt.xlabel('Seconds')\n",
        "plt.ylabel('Model')\n",
        "plt.barh(index, values, zorder=2)\n",
        "plt.grid(zorder=0)"
      ]
    },
    {
      "cell_type": "code",
      "execution_count": null,
      "metadata": {
        "id": "mUcaH3u9aKBg"
      },
      "outputs": [],
      "source": [
        "for i, value in enumerate(values):\n",
        "    plt.text(value+20, i, str(value)+' secs', fontsize=12, color='black',\n",
        "             horizontalalignment='center', verticalalignment='center')"
      ]
    },
    {
      "cell_type": "code",
      "execution_count": null,
      "metadata": {
        "id": "qKaTsQeFaKBi"
      },
      "outputs": [],
      "source": [
        "plt.show()"
      ]
    },
    {
      "cell_type": "markdown",
      "metadata": {
        "id": "_EvJOOepaKBj"
      },
      "source": [
        "set width of bar"
      ]
    },
    {
      "cell_type": "code",
      "execution_count": null,
      "metadata": {
        "id": "dAkbHaIiaKBj"
      },
      "outputs": [],
      "source": [
        "barWidth = 0.25\n",
        "    \n",
        "index = ['SVM-RBF', 'SVM-Poly', 'SVM-Sigmoid', 'Logistic Regression']"
      ]
    },
    {
      "cell_type": "markdown",
      "metadata": {
        "id": "_-pI6Wp5aKBk"
      },
      "source": [
        "set height of bar<br>\n",
        "I record all the results below manually"
      ]
    },
    {
      "cell_type": "code",
      "execution_count": null,
      "metadata": {
        "id": "TJSsTiSkaKBk"
      },
      "outputs": [],
      "source": [
        "train_acc = [78.2, 74.8, 74.8, 65.8]\n",
        "test_acc = [76.8, 74.3, 74.3, 65.8]\n",
        " \n",
        "# Set position of bar on X axis\n",
        "baseline = np.arange(len(train_acc))\n",
        "r1 = [x + 0.125 for x in baseline]\n",
        "r2 = [x + 0.25 for x in r1]\n",
        " \n",
        "# Make the plot\n",
        "plt.figure(figsize=(16,9))\n",
        "plt.title('Model performance (higher is better)')\n",
        "plt.bar(r1, train_acc, width=barWidth, label='Train', zorder=2)\n",
        "plt.bar(r2, test_acc, width=barWidth, label='Test', zorder=2)\n",
        "plt.grid(zorder=0)\n",
        " \n",
        "# Add xticks on the middle of the group bars\n",
        "plt.xlabel('Model')\n",
        "plt.ylabel('Accuracy')\n",
        "plt.xticks([r + barWidth for r in range(len(train_acc))], index)"
      ]
    },
    {
      "cell_type": "markdown",
      "metadata": {
        "id": "4NXsT9J7aKBk"
      },
      "source": [
        "Create text"
      ]
    },
    {
      "cell_type": "code",
      "execution_count": null,
      "metadata": {
        "id": "L5Jz9VT6aKBl"
      },
      "outputs": [],
      "source": [
        "for i, value in enumerate(train_acc):\n",
        "    plt.text(i+0.125, value-5, str(value), fontsize=12, color='white',\n",
        "             horizontalalignment='center', verticalalignment='center')\n",
        "    \n",
        "for i, value in enumerate(test_acc):\n",
        "    plt.text(i+0.375, value-5, str(value), fontsize=12, color='white',\n",
        "             horizontalalignment='center', verticalalignment='center')\n",
        "    \n",
        "plt.legend()\n",
        "plt.sho"
      ]
    },
    {
      "cell_type": "code",
      "source": [],
      "metadata": {
        "id": "1yP_daJ1taqQ"
      },
      "execution_count": null,
      "outputs": []
    },
    {
      "cell_type": "code",
      "source": [],
      "metadata": {
        "id": "-4k2Xzshtauu"
      },
      "execution_count": null,
      "outputs": []
    },
    {
      "cell_type": "code",
      "source": [
        "filename = 'finalized_model.sav'\n",
        "loaded_model = pickle.load(open(filename, 'rb'))\n",
        "# print(loaded_model.predict(X_test[:10000]))\n",
        "result = loaded_model.score(X_test[:10], y_test[:10])\n",
        "print(result)"
      ],
      "metadata": {
        "colab": {
          "base_uri": "https://localhost:8080/"
        },
        "id": "cv-DBScZuG8o",
        "outputId": "057712b4-8620-4e92-a34f-34c117ae4d54"
      },
      "execution_count": null,
      "outputs": [
        {
          "output_type": "stream",
          "name": "stdout",
          "text": [
            "0.9\n"
          ]
        }
      ]
    },
    {
      "cell_type": "code",
      "source": [
        "predict=loaded_model.predict(X_test[:1])\n",
        "print(predict)"
      ],
      "metadata": {
        "colab": {
          "base_uri": "https://localhost:8080/"
        },
        "id": "2xNY_M47uXc1",
        "outputId": "b6af7759-c048-4ede-a804-7ba70d0fe123"
      },
      "execution_count": null,
      "outputs": [
        {
          "output_type": "stream",
          "name": "stdout",
          "text": [
            "[0]\n",
            "accuracy is 0.0\n"
          ]
        }
      ]
    },
    {
      "cell_type": "code",
      "source": [
        "print(y_test[:5])"
      ],
      "metadata": {
        "colab": {
          "base_uri": "https://localhost:8080/"
        },
        "id": "btyjIQR1uxgi",
        "outputId": "70650ff7-6a88-44c8-f76b-496e277acac9"
      },
      "execution_count": null,
      "outputs": [
        {
          "output_type": "stream",
          "name": "stdout",
          "text": [
            "[1 0 0 0 0]\n"
          ]
        }
      ]
    },
    {
      "cell_type": "code",
      "source": [],
      "metadata": {
        "id": "a5vSyrcPvDpI"
      },
      "execution_count": null,
      "outputs": []
    }
  ],
  "metadata": {
    "kernelspec": {
      "display_name": "Python 3",
      "language": "python",
      "name": "python3"
    },
    "language_info": {
      "codemirror_mode": {
        "name": "ipython",
        "version": 3
      },
      "file_extension": ".py",
      "mimetype": "text/x-python",
      "name": "python",
      "nbconvert_exporter": "python",
      "pygments_lexer": "ipython3",
      "version": "3.10.1"
    },
    "colab": {
      "provenance": [],
      "include_colab_link": true
    }
  },
  "nbformat": 4,
  "nbformat_minor": 0
}