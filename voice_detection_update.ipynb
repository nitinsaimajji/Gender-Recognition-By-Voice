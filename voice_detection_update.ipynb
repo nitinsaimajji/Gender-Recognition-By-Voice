{
  "cells": [
    {
      "cell_type": "markdown",
      "metadata": {
        "id": "view-in-github",
        "colab_type": "text"
      },
      "source": [
        "<a href=\"https://colab.research.google.com/github/nitinsaimajji/voice1/blob/main/voice_detection_update.ipynb\" target=\"_parent\"><img src=\"https://colab.research.google.com/assets/colab-badge.svg\" alt=\"Open In Colab\"/></a>"
      ]
    },
    {
      "cell_type": "markdown",
      "metadata": {
        "id": "zYUJe010aJ_-"
      },
      "source": [
        "Install python_speech_features module"
      ]
    },
    {
      "cell_type": "code",
      "execution_count": 1,
      "metadata": {
        "id": "qzpV-lbxaKAe",
        "outputId": "5e7e544f-08f6-4e64-b594-8074147ef41e",
        "colab": {
          "base_uri": "https://localhost:8080/"
        }
      },
      "outputs": [
        {
          "output_type": "stream",
          "name": "stdout",
          "text": [
            "Looking in indexes: https://pypi.org/simple, https://us-python.pkg.dev/colab-wheels/public/simple/\n",
            "Collecting python_speech_features\n",
            "  Downloading python_speech_features-0.6.tar.gz (5.6 kB)\n",
            "  Preparing metadata (setup.py) ... \u001b[?25l\u001b[?25hdone\n",
            "Building wheels for collected packages: python_speech_features\n",
            "  Building wheel for python_speech_features (setup.py) ... \u001b[?25l\u001b[?25hdone\n",
            "  Created wheel for python_speech_features: filename=python_speech_features-0.6-py3-none-any.whl size=5889 sha256=96a3cad0efbdda77e42fa4576b7bb210185a29110809d0a2ec41974ecfa545fa\n",
            "  Stored in directory: /root/.cache/pip/wheels/5b/60/87/28af2605138deac93d162904df42b6fdda1dab9b8757c62aa3\n",
            "Successfully built python_speech_features\n",
            "Installing collected packages: python_speech_features\n",
            "Successfully installed python_speech_features-0.6\n"
          ]
        }
      ],
      "source": [
        "pip install python_speech_features\n"
      ]
    },
    {
      "cell_type": "code",
      "source": [
        "!git clone https://github.com/nitinsaimajji/voice1.git"
      ],
      "metadata": {
        "colab": {
          "base_uri": "https://localhost:8080/"
        },
        "id": "r0Uz-4pobGse",
        "outputId": "830ef3a5-c373-4459-9cd6-4666e64541c8"
      },
      "execution_count": 2,
      "outputs": [
        {
          "output_type": "stream",
          "name": "stdout",
          "text": [
            "Cloning into 'voice1'...\n",
            "remote: Enumerating objects: 681, done.\u001b[K\n",
            "remote: Counting objects: 100% (681/681), done.\u001b[K\n",
            "remote: Compressing objects: 100% (648/648), done.\u001b[K\n",
            "remote: Total 681 (delta 34), reused 670 (delta 29), pack-reused 0\u001b[K\n",
            "Receiving objects: 100% (681/681), 152.55 MiB | 20.60 MiB/s, done.\n",
            "Resolving deltas: 100% (34/34), done.\n",
            "Updating files: 100% (1208/1208), done.\n"
          ]
        }
      ]
    },
    {
      "cell_type": "code",
      "source": [
        "pip install pydub"
      ],
      "metadata": {
        "colab": {
          "base_uri": "https://localhost:8080/"
        },
        "id": "x67ZxGUVZzTH",
        "outputId": "bf141483-1a13-43b5-bbf1-2166425a0c54"
      },
      "execution_count": 3,
      "outputs": [
        {
          "output_type": "stream",
          "name": "stdout",
          "text": [
            "Looking in indexes: https://pypi.org/simple, https://us-python.pkg.dev/colab-wheels/public/simple/\n",
            "Collecting pydub\n",
            "  Downloading pydub-0.25.1-py2.py3-none-any.whl (32 kB)\n",
            "Installing collected packages: pydub\n",
            "Successfully installed pydub-0.25.1\n"
          ]
        }
      ]
    },
    {
      "cell_type": "code",
      "source": [],
      "metadata": {
        "id": "JR6kdOjrZzdG"
      },
      "execution_count": null,
      "outputs": []
    },
    {
      "cell_type": "markdown",
      "metadata": {
        "id": "SkNz9257aKAm"
      },
      "source": [
        "Import all modules"
      ]
    },
    {
      "cell_type": "code",
      "execution_count": 5,
      "metadata": {
        "id": "HtefZ9dDaKAn"
      },
      "outputs": [],
      "source": [
        "import os\n",
        "import librosa\n",
        "import numpy as np\n",
        "import pandas as pd\n",
        "import matplotlib.pyplot as plt\n",
        "import seaborn as sns\n",
        "from tqdm import tqdm\n",
        "from sklearn.model_selection import train_test_split\n",
        "from sklearn.svm import SVC\n",
        "from sklearn.metrics import confusion_matrix\n",
        "from pydub import AudioSegment\n",
        "from python_speech_features import mfcc\n",
        "from time import time"
      ]
    },
    {
      "cell_type": "markdown",
      "source": [
        "## **A1**"
      ],
      "metadata": {
        "id": "73l5XscFUr_A"
      }
    },
    {
      "cell_type": "code",
      "source": [
        "X=[0,1,2,3,4,5,6,0,1,2,3,4,5,6,0,0,0]\n",
        "H_L=[0.05,0.2,0.5,0.2,0.05]\n",
        "H_H=[-1,2,-1]\n",
        "y_low=np.convolve(X,H_L)\n",
        "y_high=np.convolve(X,H_H)\n",
        "plt.plot(X)\n",
        "plt.plot(y_low)\n",
        "plt.plot(y_high)"
      ],
      "metadata": {
        "id": "V8SqIG3HUqH_",
        "outputId": "4db0ffba-142d-43cf-ee7a-044a3334a05c",
        "colab": {
          "base_uri": "https://localhost:8080/",
          "height": 282
        }
      },
      "execution_count": 6,
      "outputs": [
        {
          "output_type": "execute_result",
          "data": {
            "text/plain": [
              "[<matplotlib.lines.Line2D at 0x7ffa20628fa0>]"
            ]
          },
          "metadata": {},
          "execution_count": 6
        },
        {
          "output_type": "display_data",
          "data": {
            "text/plain": [
              "<Figure size 432x288 with 1 Axes>"
            ],
            "image/png": "[encoded data removed]"
          },
          "metadata": {
            "needs_background": "light"
          }
        }
      ]
    },
    {
      "cell_type": "code",
      "source": [],
      "metadata": {
        "id": "uoe6_Ph4UqOB"
      },
      "execution_count": null,
      "outputs": []
    },
    {
      "cell_type": "markdown",
      "source": [
        "## A2"
      ],
      "metadata": {
        "id": "MK8fRruEVCUi"
      }
    },
    {
      "cell_type": "code",
      "source": [
        "from scipy import signal \n",
        "from skimage.io import imread\n",
        "from skimage.color import rgb2gray\n",
        "im=imread(r\"/content/voice1/Neural.JPG\")\n",
        "img=rgb2gray(im)*255\n",
        "plt.imshow(img,cmap='gray')\n",
        "img1=img[40:350,20:350]\n",
        "plt.imshow(img1,cmap='gray')\n",
        "plt.show()"
      ],
      "metadata": {
        "id": "p7fKxnV6UqQ1",
        "outputId": "2754ad6b-38b9-415e-e963-2699a7d68b91",
        "colab": {
          "base_uri": "https://localhost:8080/",
          "height": 269
        }
      },
      "execution_count": 7,
      "outputs": [
        {
          "output_type": "display_data",
          "data": {
            "text/plain": [
              "<Figure size 432x288 with 1 Axes>"
            ],
            "image/png": "[encoded data removed]"
          },
          "metadata": {
            "needs_background": "light"
          }
        }
      ]
    },
    {
      "cell_type": "code",
      "source": [
        "fil1=np.array([[0,-1,0],[-1,4,-1],[0,-1,0]])\n",
        "fil2=np.array([[0.2,0.5,0.2],[0.5,1,0.5],[0.2,0.5,0.2]])\n",
        "fil3=np.array([[0.1,0.1,0.1,0.1,0.1],[0.1,0.1,0.1,0.1,0.1],[0.1,0.1,0.1,0.1,0.1],[0.1,0.1,0.1,0.1,0.1],[0.1,0.1,0.1,0.1,0.1]])\n",
        "grad1=signal.convolve2d(img1,fil1,boundary='symm',mode='same')\n",
        "grad2=signal.convolve2d(img1,fil2,boundary='symm',mode='same')\n",
        "grad3=signal.convolve2d(img1,fil3,boundary='symm',mode='same')\n",
        "\n",
        "grad=[grad1,grad2,grad3]\n",
        "\n",
        "plt.imshow(abs(grad1),cmap='gray',vmin=np.min(grad),vmax=np.max(grad))\n",
        "plt.show()\n",
        "\n",
        "plt.imshow(grad2,cmap='gray')\n",
        "plt.show()\n",
        "plt.imshow(grad3,cmap='gray')"
      ],
      "metadata": {
        "id": "TaL4kkrgVwoZ",
        "outputId": "e3549e76-3790-4b61-8b79-acc1c95b9e72",
        "colab": {
          "base_uri": "https://localhost:8080/",
          "height": 790
        }
      },
      "execution_count": 8,
      "outputs": [
        {
          "output_type": "display_data",
          "data": {
            "text/plain": [
              "<Figure size 432x288 with 1 Axes>"
            ],
            "image/png": "[encoded data removed]"
          },
          "metadata": {
            "needs_background": "light"
          }
        },
        {
          "output_type": "display_data",
          "data": {
            "text/plain": [
              "<Figure size 432x288 with 1 Axes>"
            ],
            "image/png": "[encoded data removed]"
          },
          "metadata": {
            "needs_background": "light"
          }
        },
        {
          "output_type": "execute_result",
          "data": {
            "text/plain": [
              "<matplotlib.image.AxesImage at 0x7ffa196f03a0>"
            ]
          },
          "metadata": {},
          "execution_count": 8
        },
        {
          "output_type": "display_data",
          "data": {
            "text/plain": [
              "<Figure size 432x288 with 1 Axes>"
            ],
            "image/png": "[encoded data removed]"
          },
          "metadata": {
            "needs_background": "light"
          }
        }
      ]
    },
    {
      "cell_type": "markdown",
      "metadata": {
        "id": "K7ZxOuZkaKAu"
      },
      "source": [
        "Load the csv file into data frame"
      ]
    },
    {
      "cell_type": "code",
      "execution_count": null,
      "metadata": {
        "id": "NvR51w5-aKAv",
        "colab": {
          "base_uri": "https://localhost:8080/"
        },
        "outputId": "a64f9049-358e-4035-9f65-17aa246387e0"
      },
      "outputs": [
        {
          "output_type": "execute_result",
          "data": {
            "text/plain": [
              "<bound method DataFrame.count of                      filename  gender\n",
              "0      male-sample-000008.wav    male\n",
              "1      male-sample-000014.wav    male\n",
              "2      male-sample-000019.wav    male\n",
              "3      male-sample-000020.wav    male\n",
              "4      male-sample-000023.wav    male\n",
              "..                        ...     ...\n",
              "195  female-sample-001164.wav  female\n",
              "196  female-sample-001193.wav  female\n",
              "197  female-sample-001194.wav  female\n",
              "198  female-sample-001216.wav  female\n",
              "199  female-sample-001237.wav  female\n",
              "\n",
              "[200 rows x 2 columns]>"
            ]
          },
          "metadata": {},
          "execution_count": 29
        }
      ],
      "source": [
        "df = pd.read_csv('/content/voice1/wav_check.csv')\n",
        "df.count"
      ]
    },
    {
      "cell_type": "markdown",
      "metadata": {
        "id": "ICttd2FnaKAw"
      },
      "source": [
        "Create two new data frames"
      ]
    },
    {
      "cell_type": "code",
      "execution_count": null,
      "metadata": {
        "id": "onMz1en1aKAx"
      },
      "outputs": [],
      "source": [
        "df_male = df[df['gender']=='male']\n",
        "df_female = df[df['gender']=='female']\n"
      ]
    },
    {
      "cell_type": "markdown",
      "metadata": {
        "id": "KC_wW59maKAy"
      },
      "source": [
        "Find out the number of rows"
      ]
    },
    {
      "cell_type": "code",
      "execution_count": null,
      "metadata": {
        "id": "mTeCjJpmaKAz",
        "outputId": "cd4616ba-c6ad-4bf2-f75f-56faed273e74",
        "colab": {
          "base_uri": "https://localhost:8080/"
        }
      },
      "outputs": [
        {
          "output_type": "stream",
          "name": "stdout",
          "text": [
            "(100, 2)\n"
          ]
        }
      ],
      "source": [
        "print(df_male.shape)\t\t\n"
      ]
    },
    {
      "cell_type": "code",
      "execution_count": null,
      "metadata": {
        "id": "gykWO7VZaKA5",
        "outputId": "41ee365e-82cd-4dcb-fdcf-946f49894ac5",
        "colab": {
          "base_uri": "https://localhost:8080/"
        }
      },
      "outputs": [
        {
          "output_type": "stream",
          "name": "stdout",
          "text": [
            "(100, 2)\n",
            "                     filename  gender\n",
            "100  female-sample-000013.wav  female\n",
            "101  female-sample-000026.wav  female\n",
            "102  female-sample-000034.wav  female\n",
            "103  female-sample-000039.wav  female\n",
            "104  female-sample-000051.wav  female\n",
            "..                        ...     ...\n",
            "195  female-sample-001164.wav  female\n",
            "196  female-sample-001193.wav  female\n",
            "197  female-sample-001194.wav  female\n",
            "198  female-sample-001216.wav  female\n",
            "199  female-sample-001237.wav  female\n",
            "\n",
            "[100 rows x 2 columns]\n"
          ]
        }
      ],
      "source": [
        "print(df_female.shape)\t\t\n",
        "print(df_female)\n"
      ]
    },
    {
      "cell_type": "markdown",
      "metadata": {
        "id": "Yuuak-e_aKA6"
      },
      "source": [
        "Taking only 200 male and 200 female data"
      ]
    },
    {
      "cell_type": "code",
      "execution_count": null,
      "metadata": {
        "id": "DtVAKYsvaKA7"
      },
      "outputs": [],
      "source": [
        "df_male = df_male[:200]\n",
        "df_female = df_female[:200]"
      ]
    },
    {
      "cell_type": "markdown",
      "metadata": {
        "id": "JuJ3Z39RaKA8"
      },
      "source": [
        "Define the audio path"
      ]
    },
    {
      "cell_type": "code",
      "execution_count": null,
      "metadata": {
        "id": "dAzaL0tMaKA9"
      },
      "outputs": [],
      "source": [
        "TRAIN_PATH = '/content/voice/cv-valid-train/'"
      ]
    },
    {
      "cell_type": "markdown",
      "metadata": {
        "id": "zs-oe8t-aKA_"
      },
      "source": [
        "The function to convert mp3 to wav"
      ]
    },
    {
      "cell_type": "code",
      "execution_count": null,
      "metadata": {
        "id": "CzZlQy3caKBA"
      },
      "outputs": [],
      "source": [
        "def convert_to_wav(df, m_f, path=TRAIN_PATH):\n",
        "    srcs = []\n",
        "    for file in tqdm(df['filename']):\n",
        "        sound = AudioSegment.from_mp3(path+file)\n",
        "        \n",
        "\t\t# Create new wav files based on existing mp3 files\n",
        "        if m_f == 'male':\n",
        "            sound.export('male-'+file.split('/')[-1].split('.')[0]+'.wav', format='wav')\n",
        "        elif m_f == 'female':\n",
        "            sound.export('female-'+file.split('/')[-1].split('.')[0]+'.wav', format='wav')\n",
        "        \n",
        "    return"
      ]
    },
    {
      "cell_type": "code",
      "source": [
        "convert_to_wav(df_female, m_f='female')\n",
        "convert_to_wav(df_male, m_f='male')"
      ],
      "metadata": {
        "colab": {
          "base_uri": "https://localhost:8080/"
        },
        "id": "DNBI3iuCfId_",
        "outputId": "031bd6fe-72c0-44bd-dbd6-8d09951a2360"
      },
      "execution_count": null,
      "outputs": [
        {
          "output_type": "stream",
          "name": "stderr",
          "text": [
            "100%|██████████| 100/100 [00:18<00:00,  5.39it/s]\n"
          ]
        }
      ]
    },
    {
      "cell_type": "code",
      "source": [
        "TRAIN_PATH = '/content/voice1/dataset1/'"
      ],
      "metadata": {
        "id": "1-lW80CEl630"
      },
      "execution_count": null,
      "outputs": []
    },
    {
      "cell_type": "markdown",
      "metadata": {
        "id": "snXwPrGlaKBE"
      },
      "source": [
        "Define a function to load the raw audio files"
      ]
    },
    {
      "cell_type": "code",
      "execution_count": null,
      "metadata": {
        "id": "UBVh6VPNaKBI"
      },
      "outputs": [],
      "source": [
        "def load_audio(path=TRAIN_PATH):\n",
        "    male_voices = []\n",
        "    female_voices = []\n",
        "    for file in tqdm(df['filename']):\n",
        "        if file.split('-')[0] == 'male':\n",
        "            male_voices.append(librosa.load(path+file))\n",
        "        elif file.split('-')[0] == 'female':\n",
        "            female_voices.append(librosa.load(path+file))\n",
        "    \n",
        "    male_voices = np.array(male_voices)\n",
        "    female_voices = np.array(female_voices)\n",
        "    \n",
        "    return male_voices, female_voices"
      ]
    },
    {
      "cell_type": "code",
      "source": [],
      "metadata": {
        "id": "Mg8ybWYvliZZ"
      },
      "execution_count": null,
      "outputs": []
    },
    {
      "cell_type": "code",
      "source": [
        "def convert_to_wav(df, m_f, path=TRAIN_PATH):\n",
        "    srcs = []\n",
        "    for file in tqdm(df['filename']):\n",
        "        sound = AudioSegment.from_mp3(path+file)\n",
        "        \n",
        "\t\t# Create new wav files based on existing mp3 files\n",
        "        if m_f == 'male':\n",
        "            sound.export('male-'+file.split('/')[-1].split('.')[0]+'.wav', format='wav')\n",
        "        elif m_f == 'female':\n",
        "            sound.export('female-'+file.split('/')[-1].split('.')[0]+'.wav', format='wav')\n",
        "        \n",
        "    return"
      ],
      "metadata": {
        "id": "ZZN6_hZ-lZG8"
      },
      "execution_count": null,
      "outputs": []
    },
    {
      "cell_type": "markdown",
      "metadata": {
        "id": "z25pZ1dgaKBJ"
      },
      "source": [
        "How to use load_audio() function"
      ]
    },
    {
      "cell_type": "code",
      "source": [],
      "metadata": {
        "id": "TXZJ9MND0ZGk"
      },
      "execution_count": null,
      "outputs": []
    },
    {
      "cell_type": "code",
      "execution_count": null,
      "metadata": {
        "id": "KACKxBb1aKBK",
        "colab": {
          "base_uri": "https://localhost:8080/"
        },
        "outputId": "c59332e0-2f68-4b3d-f7ba-53150b5c02e6"
      },
      "outputs": [
        {
          "output_type": "stream",
          "name": "stderr",
          "text": [
            "100%|██████████| 200/200 [00:26<00:00,  7.42it/s]\n",
            "<ipython-input-36-1eec0c28e137>:12: VisibleDeprecationWarning: Creating an ndarray from ragged nested sequences (which is a list-or-tuple of lists-or-tuples-or ndarrays with different lengths or shapes) is deprecated. If you meant to do this, you must specify 'dtype=object' when creating the ndarray.\n",
            "  male_voices = np.array(male_voices)\n",
            "<ipython-input-36-1eec0c28e137>:13: VisibleDeprecationWarning: Creating an ndarray from ragged nested sequences (which is a list-or-tuple of lists-or-tuples-or ndarrays with different lengths or shapes) is deprecated. If you meant to do this, you must specify 'dtype=object' when creating the ndarray.\n",
            "  female_voices = np.array(female_voices)\n"
          ]
        }
      ],
      "source": [
        "male_voices, female_voices = load_audio()"
      ]
    },
    {
      "cell_type": "markdown",
      "metadata": {
        "id": "v68jE20NaKBK"
      },
      "source": [
        "The function to extract audio features"
      ]
    },
    {
      "cell_type": "code",
      "execution_count": null,
      "metadata": {
        "id": "XR7Se4hWaKBL"
      },
      "outputs": [],
      "source": [
        "def extract_features(audio_data):\n",
        "\taudio_waves = audio_data[:,0]\n",
        "\tsamplerate = audio_data[:,1][1]\n",
        "\t\n",
        "\tfeatures = []\n",
        "\tfor audio_wave in tqdm(audio_waves):\n",
        "\t\tfeatures.append(mfcc(audio_wave, samplerate=samplerate, numcep=26))\n",
        "    \n",
        "\tfeatures = np.array(features)\n",
        "\treturn features"
      ]
    },
    {
      "cell_type": "markdown",
      "metadata": {
        "id": "OaLr_OKWaKBL"
      },
      "source": [
        "Use the extract_features() function"
      ]
    },
    {
      "cell_type": "code",
      "execution_count": null,
      "metadata": {
        "id": "P65wdt-WaKBM",
        "colab": {
          "base_uri": "https://localhost:8080/"
        },
        "outputId": "a3aad77e-0d5c-480a-9cd3-e49ad969c18c"
      },
      "outputs": [
        {
          "output_type": "stream",
          "name": "stderr",
          "text": [
            "\r  0%|          | 0/100 [00:00<?, ?it/s]WARNING:root:frame length (551) is greater than FFT size (512), frame will be truncated. Increase NFFT to avoid.\n",
            "WARNING:root:frame length (551) is greater than FFT size (512), frame will be truncated. Increase NFFT to avoid.\n",
            "WARNING:root:frame length (551) is greater than FFT size (512), frame will be truncated. Increase NFFT to avoid.\n",
            "WARNING:root:frame length (551) is greater than FFT size (512), frame will be truncated. Increase NFFT to avoid.\n",
            "WARNING:root:frame length (551) is greater than FFT size (512), frame will be truncated. Increase NFFT to avoid.\n",
            "WARNING:root:frame length (551) is greater than FFT size (512), frame will be truncated. Increase NFFT to avoid.\n",
            "WARNING:root:frame length (551) is greater than FFT size (512), frame will be truncated. Increase NFFT to avoid.\n",
            "WARNING:root:frame length (551) is greater than FFT size (512), frame will be truncated. Increase NFFT to avoid.\n",
            "  8%|▊         | 8/100 [00:00<00:01, 76.76it/s]WARNING:root:frame length (551) is greater than FFT size (512), frame will be truncated. Increase NFFT to avoid.\n",
            "WARNING:root:frame length (551) is greater than FFT size (512), frame will be truncated. Increase NFFT to avoid.\n",
            "WARNING:root:frame length (551) is greater than FFT size (512), frame will be truncated. Increase NFFT to avoid.\n",
            "WARNING:root:frame length (551) is greater than FFT size (512), frame will be truncated. Increase NFFT to avoid.\n",
            "WARNING:root:frame length (551) is greater than FFT size (512), frame will be truncated. Increase NFFT to avoid.\n",
            "WARNING:root:frame length (551) is greater than FFT size (512), frame will be truncated. Increase NFFT to avoid.\n",
            "WARNING:root:frame length (551) is greater than FFT size (512), frame will be truncated. Increase NFFT to avoid.\n",
            "WARNING:root:frame length (551) is greater than FFT size (512), frame will be truncated. Increase NFFT to avoid.\n",
            " 16%|█▌        | 16/100 [00:00<00:01, 76.78it/s]WARNING:root:frame length (551) is greater than FFT size (512), frame will be truncated. Increase NFFT to avoid.\n",
            "WARNING:root:frame length (551) is greater than FFT size (512), frame will be truncated. Increase NFFT to avoid.\n",
            "WARNING:root:frame length (551) is greater than FFT size (512), frame will be truncated. Increase NFFT to avoid.\n",
            "WARNING:root:frame length (551) is greater than FFT size (512), frame will be truncated. Increase NFFT to avoid.\n",
            "WARNING:root:frame length (551) is greater than FFT size (512), frame will be truncated. Increase NFFT to avoid.\n",
            "WARNING:root:frame length (551) is greater than FFT size (512), frame will be truncated. Increase NFFT to avoid.\n",
            "WARNING:root:frame length (551) is greater than FFT size (512), frame will be truncated. Increase NFFT to avoid.\n",
            "WARNING:root:frame length (551) is greater than FFT size (512), frame will be truncated. Increase NFFT to avoid.\n",
            " 24%|██▍       | 24/100 [00:00<00:01, 70.35it/s]WARNING:root:frame length (551) is greater than FFT size (512), frame will be truncated. Increase NFFT to avoid.\n",
            "WARNING:root:frame length (551) is greater than FFT size (512), frame will be truncated. Increase NFFT to avoid.\n",
            "WARNING:root:frame length (551) is greater than FFT size (512), frame will be truncated. Increase NFFT to avoid.\n",
            "WARNING:root:frame length (551) is greater than FFT size (512), frame will be truncated. Increase NFFT to avoid.\n",
            "WARNING:root:frame length (551) is greater than FFT size (512), frame will be truncated. Increase NFFT to avoid.\n",
            "WARNING:root:frame length (551) is greater than FFT size (512), frame will be truncated. Increase NFFT to avoid.\n",
            "WARNING:root:frame length (551) is greater than FFT size (512), frame will be truncated. Increase NFFT to avoid.\n",
            "WARNING:root:frame length (551) is greater than FFT size (512), frame will be truncated. Increase NFFT to avoid.\n",
            "WARNING:root:frame length (551) is greater than FFT size (512), frame will be truncated. Increase NFFT to avoid.\n",
            "WARNING:root:frame length (551) is greater than FFT size (512), frame will be truncated. Increase NFFT to avoid.\n",
            "WARNING:root:frame length (551) is greater than FFT size (512), frame will be truncated. Increase NFFT to avoid.\n",
            " 35%|███▌      | 35/100 [00:00<00:00, 80.91it/s]WARNING:root:frame length (551) is greater than FFT size (512), frame will be truncated. Increase NFFT to avoid.\n",
            "WARNING:root:frame length (551) is greater than FFT size (512), frame will be truncated. Increase NFFT to avoid.\n",
            "WARNING:root:frame length (551) is greater than FFT size (512), frame will be truncated. Increase NFFT to avoid.\n",
            "WARNING:root:frame length (551) is greater than FFT size (512), frame will be truncated. Increase NFFT to avoid.\n",
            "WARNING:root:frame length (551) is greater than FFT size (512), frame will be truncated. Increase NFFT to avoid.\n",
            "WARNING:root:frame length (551) is greater than FFT size (512), frame will be truncated. Increase NFFT to avoid.\n",
            "WARNING:root:frame length (551) is greater than FFT size (512), frame will be truncated. Increase NFFT to avoid.\n",
            "WARNING:root:frame length (551) is greater than FFT size (512), frame will be truncated. Increase NFFT to avoid.\n",
            "WARNING:root:frame length (551) is greater than FFT size (512), frame will be truncated. Increase NFFT to avoid.\n",
            "WARNING:root:frame length (551) is greater than FFT size (512), frame will be truncated. Increase NFFT to avoid.\n",
            " 45%|████▌     | 45/100 [00:00<00:00, 86.88it/s]WARNING:root:frame length (551) is greater than FFT size (512), frame will be truncated. Increase NFFT to avoid.\n",
            "WARNING:root:frame length (551) is greater than FFT size (512), frame will be truncated. Increase NFFT to avoid.\n",
            "WARNING:root:frame length (551) is greater than FFT size (512), frame will be truncated. Increase NFFT to avoid.\n",
            "WARNING:root:frame length (551) is greater than FFT size (512), frame will be truncated. Increase NFFT to avoid.\n",
            "WARNING:root:frame length (551) is greater than FFT size (512), frame will be truncated. Increase NFFT to avoid.\n",
            "WARNING:root:frame length (551) is greater than FFT size (512), frame will be truncated. Increase NFFT to avoid.\n",
            "WARNING:root:frame length (551) is greater than FFT size (512), frame will be truncated. Increase NFFT to avoid.\n",
            "WARNING:root:frame length (551) is greater than FFT size (512), frame will be truncated. Increase NFFT to avoid.\n",
            "WARNING:root:frame length (551) is greater than FFT size (512), frame will be truncated. Increase NFFT to avoid.\n",
            "WARNING:root:frame length (551) is greater than FFT size (512), frame will be truncated. Increase NFFT to avoid.\n",
            "WARNING:root:frame length (551) is greater than FFT size (512), frame will be truncated. Increase NFFT to avoid.\n",
            "WARNING:root:frame length (551) is greater than FFT size (512), frame will be truncated. Increase NFFT to avoid.\n",
            "WARNING:root:frame length (551) is greater than FFT size (512), frame will be truncated. Increase NFFT to avoid.\n",
            " 58%|█████▊    | 58/100 [00:00<00:00, 99.17it/s]WARNING:root:frame length (551) is greater than FFT size (512), frame will be truncated. Increase NFFT to avoid.\n",
            "WARNING:root:frame length (551) is greater than FFT size (512), frame will be truncated. Increase NFFT to avoid.\n",
            "WARNING:root:frame length (551) is greater than FFT size (512), frame will be truncated. Increase NFFT to avoid.\n",
            "WARNING:root:frame length (551) is greater than FFT size (512), frame will be truncated. Increase NFFT to avoid.\n",
            "WARNING:root:frame length (551) is greater than FFT size (512), frame will be truncated. Increase NFFT to avoid.\n",
            "WARNING:root:frame length (551) is greater than FFT size (512), frame will be truncated. Increase NFFT to avoid.\n",
            "WARNING:root:frame length (551) is greater than FFT size (512), frame will be truncated. Increase NFFT to avoid.\n",
            "WARNING:root:frame length (551) is greater than FFT size (512), frame will be truncated. Increase NFFT to avoid.\n",
            "WARNING:root:frame length (551) is greater than FFT size (512), frame will be truncated. Increase NFFT to avoid.\n",
            "WARNING:root:frame length (551) is greater than FFT size (512), frame will be truncated. Increase NFFT to avoid.\n",
            " 68%|██████▊   | 68/100 [00:00<00:00, 98.48it/s]WARNING:root:frame length (551) is greater than FFT size (512), frame will be truncated. Increase NFFT to avoid.\n",
            "WARNING:root:frame length (551) is greater than FFT size (512), frame will be truncated. Increase NFFT to avoid.\n",
            "WARNING:root:frame length (551) is greater than FFT size (512), frame will be truncated. Increase NFFT to avoid.\n",
            "WARNING:root:frame length (551) is greater than FFT size (512), frame will be truncated. Increase NFFT to avoid.\n",
            "WARNING:root:frame length (551) is greater than FFT size (512), frame will be truncated. Increase NFFT to avoid.\n",
            "WARNING:root:frame length (551) is greater than FFT size (512), frame will be truncated. Increase NFFT to avoid.\n",
            "WARNING:root:frame length (551) is greater than FFT size (512), frame will be truncated. Increase NFFT to avoid.\n",
            "WARNING:root:frame length (551) is greater than FFT size (512), frame will be truncated. Increase NFFT to avoid.\n",
            "WARNING:root:frame length (551) is greater than FFT size (512), frame will be truncated. Increase NFFT to avoid.\n",
            "WARNING:root:frame length (551) is greater than FFT size (512), frame will be truncated. Increase NFFT to avoid.\n",
            " 78%|███████▊  | 78/100 [00:00<00:00, 95.92it/s]WARNING:root:frame length (551) is greater than FFT size (512), frame will be truncated. Increase NFFT to avoid.\n",
            "WARNING:root:frame length (551) is greater than FFT size (512), frame will be truncated. Increase NFFT to avoid.\n",
            "WARNING:root:frame length (551) is greater than FFT size (512), frame will be truncated. Increase NFFT to avoid.\n",
            "WARNING:root:frame length (551) is greater than FFT size (512), frame will be truncated. Increase NFFT to avoid.\n",
            "WARNING:root:frame length (551) is greater than FFT size (512), frame will be truncated. Increase NFFT to avoid.\n",
            "WARNING:root:frame length (551) is greater than FFT size (512), frame will be truncated. Increase NFFT to avoid.\n",
            "WARNING:root:frame length (551) is greater than FFT size (512), frame will be truncated. Increase NFFT to avoid.\n",
            "WARNING:root:frame length (551) is greater than FFT size (512), frame will be truncated. Increase NFFT to avoid.\n",
            "WARNING:root:frame length (551) is greater than FFT size (512), frame will be truncated. Increase NFFT to avoid.\n",
            "WARNING:root:frame length (551) is greater than FFT size (512), frame will be truncated. Increase NFFT to avoid.\n",
            "WARNING:root:frame length (551) is greater than FFT size (512), frame will be truncated. Increase NFFT to avoid.\n",
            " 89%|████████▉ | 89/100 [00:00<00:00, 99.25it/s]WARNING:root:frame length (551) is greater than FFT size (512), frame will be truncated. Increase NFFT to avoid.\n",
            "WARNING:root:frame length (551) is greater than FFT size (512), frame will be truncated. Increase NFFT to avoid.\n",
            "WARNING:root:frame length (551) is greater than FFT size (512), frame will be truncated. Increase NFFT to avoid.\n",
            "WARNING:root:frame length (551) is greater than FFT size (512), frame will be truncated. Increase NFFT to avoid.\n",
            "WARNING:root:frame length (551) is greater than FFT size (512), frame will be truncated. Increase NFFT to avoid.\n",
            "WARNING:root:frame length (551) is greater than FFT size (512), frame will be truncated. Increase NFFT to avoid.\n",
            "WARNING:root:frame length (551) is greater than FFT size (512), frame will be truncated. Increase NFFT to avoid.\n",
            "WARNING:root:frame length (551) is greater than FFT size (512), frame will be truncated. Increase NFFT to avoid.\n",
            "WARNING:root:frame length (551) is greater than FFT size (512), frame will be truncated. Increase NFFT to avoid.\n",
            "WARNING:root:frame length (551) is greater than FFT size (512), frame will be truncated. Increase NFFT to avoid.\n",
            " 99%|█████████▉| 99/100 [00:01<00:00, 90.45it/s]WARNING:root:frame length (551) is greater than FFT size (512), frame will be truncated. Increase NFFT to avoid.\n",
            "100%|██████████| 100/100 [00:01<00:00, 89.85it/s]\n",
            "<ipython-input-39-1d3dd38f60c7>:9: VisibleDeprecationWarning: Creating an ndarray from ragged nested sequences (which is a list-or-tuple of lists-or-tuples-or ndarrays with different lengths or shapes) is deprecated. If you meant to do this, you must specify 'dtype=object' when creating the ndarray.\n",
            "  features = np.array(features)\n",
            "  0%|          | 0/100 [00:00<?, ?it/s]WARNING:root:frame length (551) is greater than FFT size (512), frame will be truncated. Increase NFFT to avoid.\n",
            "WARNING:root:frame length (551) is greater than FFT size (512), frame will be truncated. Increase NFFT to avoid.\n",
            "WARNING:root:frame length (551) is greater than FFT size (512), frame will be truncated. Increase NFFT to avoid.\n",
            "WARNING:root:frame length (551) is greater than FFT size (512), frame will be truncated. Increase NFFT to avoid.\n",
            "WARNING:root:frame length (551) is greater than FFT size (512), frame will be truncated. Increase NFFT to avoid.\n",
            "WARNING:root:frame length (551) is greater than FFT size (512), frame will be truncated. Increase NFFT to avoid.\n",
            "WARNING:root:frame length (551) is greater than FFT size (512), frame will be truncated. Increase NFFT to avoid.\n",
            "  7%|▋         | 7/100 [00:00<00:01, 66.31it/s]WARNING:root:frame length (551) is greater than FFT size (512), frame will be truncated. Increase NFFT to avoid.\n",
            "WARNING:root:frame length (551) is greater than FFT size (512), frame will be truncated. Increase NFFT to avoid.\n",
            "WARNING:root:frame length (551) is greater than FFT size (512), frame will be truncated. Increase NFFT to avoid.\n",
            "WARNING:root:frame length (551) is greater than FFT size (512), frame will be truncated. Increase NFFT to avoid.\n",
            "WARNING:root:frame length (551) is greater than FFT size (512), frame will be truncated. Increase NFFT to avoid.\n",
            "WARNING:root:frame length (551) is greater than FFT size (512), frame will be truncated. Increase NFFT to avoid.\n",
            "WARNING:root:frame length (551) is greater than FFT size (512), frame will be truncated. Increase NFFT to avoid.\n",
            "WARNING:root:frame length (551) is greater than FFT size (512), frame will be truncated. Increase NFFT to avoid.\n",
            " 15%|█▌        | 15/100 [00:00<00:01, 71.36it/s]WARNING:root:frame length (551) is greater than FFT size (512), frame will be truncated. Increase NFFT to avoid.\n",
            "WARNING:root:frame length (551) is greater than FFT size (512), frame will be truncated. Increase NFFT to avoid.\n",
            "WARNING:root:frame length (551) is greater than FFT size (512), frame will be truncated. Increase NFFT to avoid.\n",
            "WARNING:root:frame length (551) is greater than FFT size (512), frame will be truncated. Increase NFFT to avoid.\n",
            "WARNING:root:frame length (551) is greater than FFT size (512), frame will be truncated. Increase NFFT to avoid.\n",
            "WARNING:root:frame length (551) is greater than FFT size (512), frame will be truncated. Increase NFFT to avoid.\n",
            "WARNING:root:frame length (551) is greater than FFT size (512), frame will be truncated. Increase NFFT to avoid.\n",
            "WARNING:root:frame length (551) is greater than FFT size (512), frame will be truncated. Increase NFFT to avoid.\n",
            "WARNING:root:frame length (551) is greater than FFT size (512), frame will be truncated. Increase NFFT to avoid.\n",
            " 24%|██▍       | 24/100 [00:00<00:00, 77.73it/s]WARNING:root:frame length (551) is greater than FFT size (512), frame will be truncated. Increase NFFT to avoid.\n",
            "WARNING:root:frame length (551) is greater than FFT size (512), frame will be truncated. Increase NFFT to avoid.\n",
            "WARNING:root:frame length (551) is greater than FFT size (512), frame will be truncated. Increase NFFT to avoid.\n",
            "WARNING:root:frame length (551) is greater than FFT size (512), frame will be truncated. Increase NFFT to avoid.\n",
            "WARNING:root:frame length (551) is greater than FFT size (512), frame will be truncated. Increase NFFT to avoid.\n",
            "WARNING:root:frame length (551) is greater than FFT size (512), frame will be truncated. Increase NFFT to avoid.\n",
            "WARNING:root:frame length (551) is greater than FFT size (512), frame will be truncated. Increase NFFT to avoid.\n",
            "WARNING:root:frame length (551) is greater than FFT size (512), frame will be truncated. Increase NFFT to avoid.\n",
            "WARNING:root:frame length (551) is greater than FFT size (512), frame will be truncated. Increase NFFT to avoid.\n",
            " 33%|███▎      | 33/100 [00:00<00:00, 80.09it/s]WARNING:root:frame length (551) is greater than FFT size (512), frame will be truncated. Increase NFFT to avoid.\n",
            "WARNING:root:frame length (551) is greater than FFT size (512), frame will be truncated. Increase NFFT to avoid.\n",
            "WARNING:root:frame length (551) is greater than FFT size (512), frame will be truncated. Increase NFFT to avoid.\n",
            "WARNING:root:frame length (551) is greater than FFT size (512), frame will be truncated. Increase NFFT to avoid.\n",
            "WARNING:root:frame length (551) is greater than FFT size (512), frame will be truncated. Increase NFFT to avoid.\n",
            "WARNING:root:frame length (551) is greater than FFT size (512), frame will be truncated. Increase NFFT to avoid.\n",
            "WARNING:root:frame length (551) is greater than FFT size (512), frame will be truncated. Increase NFFT to avoid.\n",
            "WARNING:root:frame length (551) is greater than FFT size (512), frame will be truncated. Increase NFFT to avoid.\n",
            "WARNING:root:frame length (551) is greater than FFT size (512), frame will be truncated. Increase NFFT to avoid.\n",
            " 42%|████▏     | 42/100 [00:00<00:00, 81.95it/s]WARNING:root:frame length (551) is greater than FFT size (512), frame will be truncated. Increase NFFT to avoid.\n",
            "WARNING:root:frame length (551) is greater than FFT size (512), frame will be truncated. Increase NFFT to avoid.\n",
            "WARNING:root:frame length (551) is greater than FFT size (512), frame will be truncated. Increase NFFT to avoid.\n",
            "WARNING:root:frame length (551) is greater than FFT size (512), frame will be truncated. Increase NFFT to avoid.\n",
            "WARNING:root:frame length (551) is greater than FFT size (512), frame will be truncated. Increase NFFT to avoid.\n",
            "WARNING:root:frame length (551) is greater than FFT size (512), frame will be truncated. Increase NFFT to avoid.\n",
            "WARNING:root:frame length (551) is greater than FFT size (512), frame will be truncated. Increase NFFT to avoid.\n",
            "WARNING:root:frame length (551) is greater than FFT size (512), frame will be truncated. Increase NFFT to avoid.\n",
            "WARNING:root:frame length (551) is greater than FFT size (512), frame will be truncated. Increase NFFT to avoid.\n",
            "WARNING:root:frame length (551) is greater than FFT size (512), frame will be truncated. Increase NFFT to avoid.\n",
            " 52%|█████▏    | 52/100 [00:00<00:00, 86.56it/s]WARNING:root:frame length (551) is greater than FFT size (512), frame will be truncated. Increase NFFT to avoid.\n",
            "WARNING:root:frame length (551) is greater than FFT size (512), frame will be truncated. Increase NFFT to avoid.\n",
            "WARNING:root:frame length (551) is greater than FFT size (512), frame will be truncated. Increase NFFT to avoid.\n",
            "WARNING:root:frame length (551) is greater than FFT size (512), frame will be truncated. Increase NFFT to avoid.\n",
            "WARNING:root:frame length (551) is greater than FFT size (512), frame will be truncated. Increase NFFT to avoid.\n",
            "WARNING:root:frame length (551) is greater than FFT size (512), frame will be truncated. Increase NFFT to avoid.\n",
            "WARNING:root:frame length (551) is greater than FFT size (512), frame will be truncated. Increase NFFT to avoid.\n",
            "WARNING:root:frame length (551) is greater than FFT size (512), frame will be truncated. Increase NFFT to avoid.\n",
            "WARNING:root:frame length (551) is greater than FFT size (512), frame will be truncated. Increase NFFT to avoid.\n",
            "WARNING:root:frame length (551) is greater than FFT size (512), frame will be truncated. Increase NFFT to avoid.\n",
            " 62%|██████▏   | 62/100 [00:00<00:00, 88.74it/s]WARNING:root:frame length (551) is greater than FFT size (512), frame will be truncated. Increase NFFT to avoid.\n",
            "WARNING:root:frame length (551) is greater than FFT size (512), frame will be truncated. Increase NFFT to avoid.\n",
            "WARNING:root:frame length (551) is greater than FFT size (512), frame will be truncated. Increase NFFT to avoid.\n",
            "WARNING:root:frame length (551) is greater than FFT size (512), frame will be truncated. Increase NFFT to avoid.\n",
            "WARNING:root:frame length (551) is greater than FFT size (512), frame will be truncated. Increase NFFT to avoid.\n",
            "WARNING:root:frame length (551) is greater than FFT size (512), frame will be truncated. Increase NFFT to avoid.\n",
            "WARNING:root:frame length (551) is greater than FFT size (512), frame will be truncated. Increase NFFT to avoid.\n",
            "WARNING:root:frame length (551) is greater than FFT size (512), frame will be truncated. Increase NFFT to avoid.\n",
            "WARNING:root:frame length (551) is greater than FFT size (512), frame will be truncated. Increase NFFT to avoid.\n",
            " 71%|███████   | 71/100 [00:00<00:00, 87.38it/s]WARNING:root:frame length (551) is greater than FFT size (512), frame will be truncated. Increase NFFT to avoid.\n",
            "WARNING:root:frame length (551) is greater than FFT size (512), frame will be truncated. Increase NFFT to avoid.\n",
            "WARNING:root:frame length (551) is greater than FFT size (512), frame will be truncated. Increase NFFT to avoid.\n",
            "WARNING:root:frame length (551) is greater than FFT size (512), frame will be truncated. Increase NFFT to avoid.\n",
            "WARNING:root:frame length (551) is greater than FFT size (512), frame will be truncated. Increase NFFT to avoid.\n",
            "WARNING:root:frame length (551) is greater than FFT size (512), frame will be truncated. Increase NFFT to avoid.\n",
            "WARNING:root:frame length (551) is greater than FFT size (512), frame will be truncated. Increase NFFT to avoid.\n",
            "WARNING:root:frame length (551) is greater than FFT size (512), frame will be truncated. Increase NFFT to avoid.\n",
            "WARNING:root:frame length (551) is greater than FFT size (512), frame will be truncated. Increase NFFT to avoid.\n",
            "WARNING:root:frame length (551) is greater than FFT size (512), frame will be truncated. Increase NFFT to avoid.\n",
            "WARNING:root:frame length (551) is greater than FFT size (512), frame will be truncated. Increase NFFT to avoid.\n",
            " 82%|████████▏ | 82/100 [00:00<00:00, 92.80it/s]WARNING:root:frame length (551) is greater than FFT size (512), frame will be truncated. Increase NFFT to avoid.\n",
            "WARNING:root:frame length (551) is greater than FFT size (512), frame will be truncated. Increase NFFT to avoid.\n",
            "WARNING:root:frame length (551) is greater than FFT size (512), frame will be truncated. Increase NFFT to avoid.\n",
            "WARNING:root:frame length (551) is greater than FFT size (512), frame will be truncated. Increase NFFT to avoid.\n",
            "WARNING:root:frame length (551) is greater than FFT size (512), frame will be truncated. Increase NFFT to avoid.\n",
            "WARNING:root:frame length (551) is greater than FFT size (512), frame will be truncated. Increase NFFT to avoid.\n",
            "WARNING:root:frame length (551) is greater than FFT size (512), frame will be truncated. Increase NFFT to avoid.\n",
            "WARNING:root:frame length (551) is greater than FFT size (512), frame will be truncated. Increase NFFT to avoid.\n",
            "WARNING:root:frame length (551) is greater than FFT size (512), frame will be truncated. Increase NFFT to avoid.\n",
            "WARNING:root:frame length (551) is greater than FFT size (512), frame will be truncated. Increase NFFT to avoid.\n",
            "WARNING:root:frame length (551) is greater than FFT size (512), frame will be truncated. Increase NFFT to avoid.\n",
            " 93%|█████████▎| 93/100 [00:01<00:00, 96.33it/s]WARNING:root:frame length (551) is greater than FFT size (512), frame will be truncated. Increase NFFT to avoid.\n",
            "WARNING:root:frame length (551) is greater than FFT size (512), frame will be truncated. Increase NFFT to avoid.\n",
            "WARNING:root:frame length (551) is greater than FFT size (512), frame will be truncated. Increase NFFT to avoid.\n",
            "WARNING:root:frame length (551) is greater than FFT size (512), frame will be truncated. Increase NFFT to avoid.\n",
            "WARNING:root:frame length (551) is greater than FFT size (512), frame will be truncated. Increase NFFT to avoid.\n",
            "WARNING:root:frame length (551) is greater than FFT size (512), frame will be truncated. Increase NFFT to avoid.\n",
            "WARNING:root:frame length (551) is greater than FFT size (512), frame will be truncated. Increase NFFT to avoid.\n",
            "100%|██████████| 100/100 [00:01<00:00, 87.85it/s]\n"
          ]
        }
      ],
      "source": [
        "male_features = extract_features(male_voices)\n",
        "female_features = extract_features(female_voices)"
      ]
    },
    {
      "cell_type": "markdown",
      "metadata": {
        "id": "UIFOOEPdaKBM"
      },
      "source": [
        "The function used to concatenate all audio features forming a long 2-dimensional array"
      ]
    },
    {
      "cell_type": "code",
      "execution_count": null,
      "metadata": {
        "id": "zGQbbZJKaKBM"
      },
      "outputs": [],
      "source": [
        "def concatenate_features(audio_features):\n",
        "    concatenated = audio_features[0]\n",
        "    for audio_feature in tqdm(audio_features):\n",
        "        concatenated = np.vstack((concatenated, audio_feature))\n",
        "        \n",
        "    return concatenated"
      ]
    },
    {
      "cell_type": "code",
      "source": [],
      "metadata": {
        "id": "ewizh4IK5v7R"
      },
      "execution_count": null,
      "outputs": []
    },
    {
      "cell_type": "markdown",
      "metadata": {
        "id": "0a0kg6rwaKBN"
      },
      "source": [
        "How the function is used"
      ]
    },
    {
      "cell_type": "code",
      "execution_count": null,
      "metadata": {
        "id": "nuiaImx3aKBN",
        "colab": {
          "base_uri": "https://localhost:8080/"
        },
        "outputId": "1b1d5ec6-a424-4d1c-dc42-ef6138e7cb19"
      },
      "outputs": [
        {
          "output_type": "stream",
          "name": "stderr",
          "text": [
            "100%|██████████| 100/100 [00:00<00:00, 1213.37it/s]\n",
            "100%|██████████| 100/100 [00:00<00:00, 3491.79it/s]\n"
          ]
        }
      ],
      "source": [
        "male_concatenated = concatenate_features(male_features)\n",
        "female_concatenated = concatenate_features(female_features)"
      ]
    },
    {
      "cell_type": "code",
      "execution_count": null,
      "metadata": {
        "id": "CBMep9R2aKBO",
        "colab": {
          "base_uri": "https://localhost:8080/"
        },
        "outputId": "1acf6b9f-ccb3-407b-90e6-f4e582d34121"
      },
      "outputs": [
        {
          "output_type": "stream",
          "name": "stdout",
          "text": [
            "(40177, 26)\n"
          ]
        }
      ],
      "source": [
        "print(male_concatenated.shape) \t\t\n"
      ]
    },
    {
      "cell_type": "code",
      "execution_count": null,
      "metadata": {
        "id": "XyOtiIjzaKBO",
        "colab": {
          "base_uri": "https://localhost:8080/"
        },
        "outputId": "8f97cc62-b14d-4423-cd9f-063c08a1a1c2"
      },
      "outputs": [
        {
          "output_type": "stream",
          "name": "stdout",
          "text": [
            "(40816, 26)\n"
          ]
        }
      ],
      "source": [
        "print(female_concatenated.shape)\t\n"
      ]
    },
    {
      "cell_type": "markdown",
      "metadata": {
        "id": "2hFpCl9saKBP"
      },
      "source": [
        "Concatenate male voices and female voices"
      ]
    },
    {
      "cell_type": "code",
      "execution_count": null,
      "metadata": {
        "id": "d8xatF-FaKBP"
      },
      "outputs": [],
      "source": [
        "X = np.vstack((male_concatenated, female_concatenated))\n",
        "X=X[0:100000]"
      ]
    },
    {
      "cell_type": "markdown",
      "metadata": {
        "id": "bV047iiwaKBQ"
      },
      "source": [
        "Create labels"
      ]
    },
    {
      "cell_type": "code",
      "execution_count": null,
      "metadata": {
        "id": "Ag-aBUZmaKBR"
      },
      "outputs": [],
      "source": [
        "y = np.append([0] * len(male_concatenated), [1] * len(female_concatenated))\n",
        "y=y[0:100000]"
      ]
    },
    {
      "cell_type": "markdown",
      "metadata": {
        "id": "lwy64ABpaKBR"
      },
      "source": [
        "Check whether X and y are already having the exact same length"
      ]
    },
    {
      "cell_type": "code",
      "execution_count": null,
      "metadata": {
        "id": "OM5ZQZsoaKBS",
        "colab": {
          "base_uri": "https://localhost:8080/"
        },
        "outputId": "360e296a-545b-4c02-8afa-8cb34435f666"
      },
      "outputs": [
        {
          "output_type": "stream",
          "name": "stdout",
          "text": [
            "(80993, 26)\n"
          ]
        }
      ],
      "source": [
        "print(X.shape)\t\t\n"
      ]
    },
    {
      "cell_type": "code",
      "execution_count": null,
      "metadata": {
        "id": "Wz_p3D8jaKBS",
        "colab": {
          "base_uri": "https://localhost:8080/"
        },
        "outputId": "7dbf184a-72cf-4e56-b947-c38a504f015e"
      },
      "outputs": [
        {
          "output_type": "stream",
          "name": "stdout",
          "text": [
            "(80993,)\n"
          ]
        }
      ],
      "source": [
        "print(y.shape)\t\t"
      ]
    },
    {
      "cell_type": "code",
      "execution_count": null,
      "metadata": {
        "id": "VBm_J1RtaKBS"
      },
      "outputs": [],
      "source": [
        "X_train, X_test, y_train, y_test = train_test_split(X, y, test_size=0.2, random_state=22)"
      ]
    },
    {
      "cell_type": "code",
      "source": [
        "X_train, X_valid, y_train, y_valid = train_test_split(X_train, y_train, test_size=0.2, random_state=22)"
      ],
      "metadata": {
        "id": "jfikRWBFjwZd"
      },
      "execution_count": null,
      "outputs": []
    },
    {
      "cell_type": "code",
      "source": [
        "X_train.shape"
      ],
      "metadata": {
        "colab": {
          "base_uri": "https://localhost:8080/"
        },
        "id": "p97JB2-Zxugm",
        "outputId": "f7217cf5-b95a-4b07-8db8-fef563c3564d"
      },
      "execution_count": null,
      "outputs": [
        {
          "output_type": "execute_result",
          "data": {
            "text/plain": [
              "(51835, 26)"
            ]
          },
          "metadata": {},
          "execution_count": 51
        }
      ]
    },
    {
      "cell_type": "markdown",
      "source": [
        "MLP"
      ],
      "metadata": {
        "id": "2ifpXWCsxu9D"
      }
    },
    {
      "cell_type": "code",
      "source": [
        "import keras\n",
        "from keras.models import Sequential\n",
        "from keras. layers import Dense, Dropout, Activation\n",
        "from keras.optimizers import SGD\n",
        "model = Sequential()\n",
        "model.add(Dense(400,activation='relu',input_dim=26))\n",
        "model.add(Dense(200,activation='relu'))\n",
        "model.add(Dense(20,activation='softmax'))\n",
        "\n",
        "sgd=SGD(lr=0.01,decay=1e-6,momentum=0.9,nesterov=True)\n",
        "model.compile(loss='sparse_categorical_crossentropy',optimizer=sgd,\n",
        "              metrics=['accuracy'])\n",
        "\n",
        "history = model.fit(X_train, y_train, epochs=20, validation_data=(X_valid, y_valid))"
      ],
      "metadata": {
        "colab": {
          "base_uri": "https://localhost:8080/"
        },
        "id": "MEVvB-j7u7FN",
        "outputId": "0095567d-749a-42e6-f86c-0678be5b5eef"
      },
      "execution_count": null,
      "outputs": [
        {
          "output_type": "stream",
          "name": "stderr",
          "text": [
            "/usr/local/lib/python3.8/dist-packages/keras/optimizers/optimizer_v2/gradient_descent.py:114: UserWarning: The `lr` argument is deprecated, use `learning_rate` instead.\n",
            "  super().__init__(name, **kwargs)\n"
          ]
        },
        {
          "output_type": "stream",
          "name": "stdout",
          "text": [
            "Epoch 1/20\n",
            "1620/1620 [==============================] - 5s 3ms/step - loss: 0.5727 - accuracy: 0.7149 - val_loss: 0.4955 - val_accuracy: 0.7561\n",
            "Epoch 2/20\n",
            "1620/1620 [==============================] - 4s 2ms/step - loss: 0.4885 - accuracy: 0.7604 - val_loss: 0.4930 - val_accuracy: 0.7621\n",
            "Epoch 3/20\n",
            "1620/1620 [==============================] - 5s 3ms/step - loss: 0.4524 - accuracy: 0.7830 - val_loss: 0.4602 - val_accuracy: 0.7819\n",
            "Epoch 4/20\n",
            "1620/1620 [==============================] - 4s 3ms/step - loss: 0.4257 - accuracy: 0.7996 - val_loss: 0.4355 - val_accuracy: 0.7953\n",
            "Epoch 5/20\n",
            "1620/1620 [==============================] - 5s 3ms/step - loss: 0.4092 - accuracy: 0.8085 - val_loss: 0.4564 - val_accuracy: 0.7902\n",
            "Epoch 6/20\n",
            "1620/1620 [==============================] - 4s 3ms/step - loss: 0.3894 - accuracy: 0.8179 - val_loss: 0.4432 - val_accuracy: 0.7967\n",
            "Epoch 7/20\n",
            "1620/1620 [==============================] - 4s 3ms/step - loss: 0.3729 - accuracy: 0.8283 - val_loss: 0.4441 - val_accuracy: 0.8008\n",
            "Epoch 8/20\n",
            "1620/1620 [==============================] - 5s 3ms/step - loss: 0.3596 - accuracy: 0.8341 - val_loss: 0.4217 - val_accuracy: 0.8078\n",
            "Epoch 9/20\n",
            "1620/1620 [==============================] - 4s 3ms/step - loss: 0.3453 - accuracy: 0.8425 - val_loss: 0.4004 - val_accuracy: 0.8124\n",
            "Epoch 10/20\n",
            "1620/1620 [==============================] - 6s 4ms/step - loss: 0.3342 - accuracy: 0.8499 - val_loss: 0.4310 - val_accuracy: 0.8098\n",
            "Epoch 11/20\n",
            "1620/1620 [==============================] - 4s 3ms/step - loss: 0.3255 - accuracy: 0.8517 - val_loss: 0.4084 - val_accuracy: 0.8224\n",
            "Epoch 12/20\n",
            "1620/1620 [==============================] - 4s 3ms/step - loss: 0.3163 - accuracy: 0.8575 - val_loss: 0.4147 - val_accuracy: 0.8252\n",
            "Epoch 13/20\n",
            "1620/1620 [==============================] - 5s 3ms/step - loss: 0.3059 - accuracy: 0.8620 - val_loss: 0.4266 - val_accuracy: 0.8194\n",
            "Epoch 14/20\n",
            "1620/1620 [==============================] - 4s 3ms/step - loss: 0.3024 - accuracy: 0.8660 - val_loss: 0.4188 - val_accuracy: 0.8184\n",
            "Epoch 15/20\n",
            "1620/1620 [==============================] - 4s 2ms/step - loss: 0.2887 - accuracy: 0.8722 - val_loss: 0.4239 - val_accuracy: 0.8231\n",
            "Epoch 16/20\n",
            "1620/1620 [==============================] - 5s 3ms/step - loss: 0.2919 - accuracy: 0.8728 - val_loss: 0.4575 - val_accuracy: 0.8209\n",
            "Epoch 17/20\n",
            "1620/1620 [==============================] - 4s 3ms/step - loss: 0.2795 - accuracy: 0.8768 - val_loss: 0.4240 - val_accuracy: 0.8317\n",
            "Epoch 18/20\n",
            "1620/1620 [==============================] - 5s 3ms/step - loss: 0.2747 - accuracy: 0.8803 - val_loss: 0.4494 - val_accuracy: 0.8275\n",
            "Epoch 19/20\n",
            "1620/1620 [==============================] - 4s 3ms/step - loss: 0.3040 - accuracy: 0.8726 - val_loss: 0.5209 - val_accuracy: 0.8180\n",
            "Epoch 20/20\n",
            "1620/1620 [==============================] - 4s 3ms/step - loss: 0.2709 - accuracy: 0.8837 - val_loss: 0.4555 - val_accuracy: 0.8254\n"
          ]
        }
      ]
    },
    {
      "cell_type": "code",
      "source": [
        "## when using 200 samples of each male and female\n",
        "\n",
        "import pandas as pd\n",
        "import numpy as np\n",
        "pd.DataFrame(history.history).plot(figsize=(8,5))\n",
        "plt.grid(True)\n",
        "plt.gca().set_ylim(0,1)\n",
        "plt.show()\n",
        "print('1. If the validation loss is greater(are both high:) than the training loss. The model is underfitting.')\n",
        "print('2. If the validation loss is greater than the training loss,The model is overfitting.')\n",
        "print('3. If the training loss and validation loss both decrease and stabilize at a specific point:the model is good fit')\n"
      ],
      "metadata": {
        "colab": {
          "base_uri": "https://localhost:8080/",
          "height": 376
        },
        "id": "p1dyg3uwxrCg",
        "outputId": "686fb289-d789-4191-85e8-fb70c3c1b3a3"
      },
      "execution_count": null,
      "outputs": [
        {
          "output_type": "display_data",
          "data": {
            "text/plain": [
              "<Figure size 576x360 with 1 Axes>"
            ],
            "image/png": "[encoded data removed]"
          },
          "metadata": {
            "needs_background": "light"
          }
        },
        {
          "output_type": "stream",
          "name": "stdout",
          "text": [
            "1. If the validation loss is greater(are both high:) than the training loss. The model is underfitting.\n",
            "2. If the validation loss is greater than the training loss,The model is overfitting.\n",
            "3. If the training loss and validation loss both decrease and stabilize at a specific point:the model is good fit\n"
          ]
        }
      ]
    },
    {
      "cell_type": "code",
      "source": [
        "X_new = X_test[:5]\n",
        "y_pred = np.argmax(model.predict(X_new), axis=-1)\n",
        "y_pred"
      ],
      "metadata": {
        "colab": {
          "base_uri": "https://localhost:8080/"
        },
        "id": "SUrefrdL5M4h",
        "outputId": "99c58af3-2eff-4e81-9061-8d81a82c9c42"
      },
      "execution_count": null,
      "outputs": [
        {
          "output_type": "stream",
          "name": "stdout",
          "text": [
            "1/1 [==============================] - 0s 33ms/step\n"
          ]
        },
        {
          "output_type": "execute_result",
          "data": {
            "text/plain": [
              "array([0, 0, 0, 1, 0])"
            ]
          },
          "metadata": {},
          "execution_count": 70
        }
      ]
    },
    {
      "cell_type": "code",
      "source": [
        "from sklearn.metrics import confusion_matrix, accuracy_score\n",
        "accuracy = accuracy_score(y_test[:5],y_pred)*100\n",
        "print(\"accuracy is \"+str(accuracy))"
      ],
      "metadata": {
        "colab": {
          "base_uri": "https://localhost:8080/"
        },
        "id": "sc2ZDb0m5v2n",
        "outputId": "b9a60f02-99f7-4513-fd72-cb04e27120d3"
      },
      "execution_count": null,
      "outputs": [
        {
          "output_type": "stream",
          "name": "stdout",
          "text": [
            "accuracy is 40.0\n"
          ]
        }
      ]
    }
  ],
  "metadata": {
    "kernelspec": {
      "display_name": "Python 3",
      "language": "python",
      "name": "python3"
    },
    "language_info": {
      "codemirror_mode": {
        "name": "ipython",
        "version": 3
      },
      "file_extension": ".py",
      "mimetype": "text/x-python",
      "name": "python",
      "nbconvert_exporter": "python",
      "pygments_lexer": "ipython3",
      "version": "3.10.1"
    },
    "colab": {
      "provenance": [],
      "include_colab_link": true
    }
  },
  "nbformat": 4,
  "nbformat_minor": 0
}