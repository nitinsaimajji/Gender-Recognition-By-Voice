{
  "cells": [
    {
      "cell_type": "markdown",
      "metadata": {
        "id": "view-in-github",
        "colab_type": "text"
      },
      "source": [
        "<a href=\"https://colab.research.google.com/github/nitinsaimajji/voice1/blob/main/weekly_code/Week_7.ipynb\" target=\"_parent\"><img src=\"https://colab.research.google.com/assets/colab-badge.svg\" alt=\"Open In Colab\"/></a>"
      ]
    },
    {
      "cell_type": "code",
      "execution_count": 1,
      "metadata": {
        "id": "qzpV-lbxaKAe",
        "outputId": "1b075df3-0383-4bb1-dab2-ef72dbf6cd87",
        "colab": {
          "base_uri": "https://localhost:8080/"
        }
      },
      "outputs": [
        {
          "output_type": "stream",
          "name": "stdout",
          "text": [
            "Looking in indexes: https://pypi.org/simple, https://us-python.pkg.dev/colab-wheels/public/simple/\n",
            "Collecting python_speech_features\n",
            "  Downloading python_speech_features-0.6.tar.gz (5.6 kB)\n",
            "  Preparing metadata (setup.py) ... \u001b[?25l\u001b[?25hdone\n",
            "Building wheels for collected packages: python_speech_features\n",
            "  Building wheel for python_speech_features (setup.py) ... \u001b[?25l\u001b[?25hdone\n",
            "  Created wheel for python_speech_features: filename=python_speech_features-0.6-py3-none-any.whl size=5886 sha256=91e7a880e84af62989f63763270987672794a491de84e655bf52f5d0feaaae12\n",
            "  Stored in directory: /root/.cache/pip/wheels/09/a1/04/08e2688d2562d8f9ff89e77c6ddfbf7268e07dae1a6f22455e\n",
            "Successfully built python_speech_features\n",
            "Installing collected packages: python_speech_features\n",
            "Successfully installed python_speech_features-0.6\n"
          ]
        }
      ],
      "source": [
        "pip install python_speech_features\n"
      ]
    },
    {
      "cell_type": "code",
      "source": [
        "!git clone https://github.com/nitinsaimajji/voice1.git"
      ],
      "metadata": {
        "colab": {
          "base_uri": "https://localhost:8080/"
        },
        "id": "r0Uz-4pobGse",
        "outputId": "13e8fb2c-54b8-448f-b856-1e374353677a"
      },
      "execution_count": 2,
      "outputs": [
        {
          "output_type": "stream",
          "name": "stdout",
          "text": [
            "Cloning into 'voice1'...\n",
            "remote: Enumerating objects: 913, done.\u001b[K\n",
            "remote: Counting objects: 100% (241/241), done.\u001b[K\n",
            "remote: Compressing objects: 100% (147/147), done.\u001b[K\n",
            "remote: Total 913 (delta 119), reused 196 (delta 91), pack-reused 672\u001b[K\n",
            "Receiving objects: 100% (913/913), 165.23 MiB | 22.25 MiB/s, done.\n",
            "Resolving deltas: 100% (148/148), done.\n",
            "Updating files: 100% (1214/1214), done.\n"
          ]
        }
      ]
    },
    {
      "cell_type": "code",
      "source": [
        "pip install pydub"
      ],
      "metadata": {
        "colab": {
          "base_uri": "https://localhost:8080/"
        },
        "id": "x67ZxGUVZzTH",
        "outputId": "95e5d7bc-7ded-4223-8ee4-d2c79ef5f978"
      },
      "execution_count": 3,
      "outputs": [
        {
          "output_type": "stream",
          "name": "stdout",
          "text": [
            "Looking in indexes: https://pypi.org/simple, https://us-python.pkg.dev/colab-wheels/public/simple/\n",
            "Collecting pydub\n",
            "  Downloading pydub-0.25.1-py2.py3-none-any.whl (32 kB)\n",
            "Installing collected packages: pydub\n",
            "Successfully installed pydub-0.25.1\n"
          ]
        }
      ]
    },
    {
      "cell_type": "code",
      "execution_count": 3,
      "metadata": {
        "id": "HtefZ9dDaKAn"
      },
      "outputs": [],
      "source": []
    },
    {
      "cell_type": "markdown",
      "source": [
        "## **A1**"
      ],
      "metadata": {
        "id": "73l5XscFUr_A"
      }
    },
    {
      "cell_type": "code",
      "source": [
        "import os\n",
        "import librosa\n",
        "import numpy as np\n",
        "import pandas as pd\n",
        "import matplotlib.pyplot as plt\n",
        "import seaborn as sns\n",
        "from tqdm import tqdm\n",
        "from sklearn.model_selection import train_test_split\n",
        "from sklearn.svm import SVC\n",
        "from sklearn.metrics import confusion_matrix\n",
        "from pydub import AudioSegment\n",
        "from python_speech_features import mfcc\n",
        "from time import time\n",
        "import IPython.display as ipd\n",
        "import librosa\n",
        "import librosa.display"
      ],
      "metadata": {
        "id": "NPMRDy_hIWk1"
      },
      "execution_count": 4,
      "outputs": []
    },
    {
      "cell_type": "code",
      "source": [
        "df = pd.read_csv('/content/voice1/wav_check.csv')\n",
        "df.head()"
      ],
      "metadata": {
        "id": "26ZqBBYCvxvG",
        "outputId": "1b4d64ae-96c5-478d-c685-afcdd1893bb3",
        "colab": {
          "base_uri": "https://localhost:8080/",
          "height": 206
        }
      },
      "execution_count": 7,
      "outputs": [
        {
          "output_type": "execute_result",
          "data": {
            "text/plain": [
              "                 filename gender\n",
              "0  male-sample-000008.wav   male\n",
              "1  male-sample-000014.wav   male\n",
              "2  male-sample-000019.wav   male\n",
              "3  male-sample-000020.wav   male\n",
              "4  male-sample-000023.wav   male"
            ],
            "text/html": [
              "\n",
              "  <div id=\"df-9aeec1aa-4740-481c-9bad-44384458a1b3\">\n",
              "    <div class=\"colab-df-container\">\n",
              "      <div>\n",
              "<style scoped>\n",
              "    .dataframe tbody tr th:only-of-type {\n",
              "        vertical-align: middle;\n",
              "    }\n",
              "\n",
              "    .dataframe tbody tr th {\n",
              "        vertical-align: top;\n",
              "    }\n",
              "\n",
              "    .dataframe thead th {\n",
              "        text-align: right;\n",
              "    }\n",
              "</style>\n",
              "<table border=\"1\" class=\"dataframe\">\n",
              "  <thead>\n",
              "    <tr style=\"text-align: right;\">\n",
              "      <th></th>\n",
              "      <th>filename</th>\n",
              "      <th>gender</th>\n",
              "    </tr>\n",
              "  </thead>\n",
              "  <tbody>\n",
              "    <tr>\n",
              "      <th>0</th>\n",
              "      <td>male-sample-000008.wav</td>\n",
              "      <td>male</td>\n",
              "    </tr>\n",
              "    <tr>\n",
              "      <th>1</th>\n",
              "      <td>male-sample-000014.wav</td>\n",
              "      <td>male</td>\n",
              "    </tr>\n",
              "    <tr>\n",
              "      <th>2</th>\n",
              "      <td>male-sample-000019.wav</td>\n",
              "      <td>male</td>\n",
              "    </tr>\n",
              "    <tr>\n",
              "      <th>3</th>\n",
              "      <td>male-sample-000020.wav</td>\n",
              "      <td>male</td>\n",
              "    </tr>\n",
              "    <tr>\n",
              "      <th>4</th>\n",
              "      <td>male-sample-000023.wav</td>\n",
              "      <td>male</td>\n",
              "    </tr>\n",
              "  </tbody>\n",
              "</table>\n",
              "</div>\n",
              "      <button class=\"colab-df-convert\" onclick=\"convertToInteractive('df-9aeec1aa-4740-481c-9bad-44384458a1b3')\"\n",
              "              title=\"Convert this dataframe to an interactive table.\"\n",
              "              style=\"display:none;\">\n",
              "        \n",
              "  <svg xmlns=\"http://www.w3.org/2000/svg\" height=\"24px\"viewBox=\"0 0 24 24\"\n",
              "       width=\"24px\">\n",
              "    <path d=\"M0 0h24v24H0V0z\" fill=\"none\"/>\n",
              "    <path d=\"M18.56 5.44l.94 2.06.94-2.06 2.06-.94-2.06-.94-.94-2.06-.94 2.06-2.06.94zm-11 1L8.5 8.5l.94-2.06 2.06-.94-2.06-.94L8.5 2.5l-.94 2.06-2.06.94zm10 10l.94 2.06.94-2.06 2.06-.94-2.06-.94-.94-2.06-.94 2.06-2.06.94z\"/><path d=\"M17.41 7.96l-1.37-1.37c-.4-.4-.92-.59-1.43-.59-.52 0-1.04.2-1.43.59L10.3 9.45l-7.72 7.72c-.78.78-.78 2.05 0 2.83L4 21.41c.39.39.9.59 1.41.59.51 0 1.02-.2 1.41-.59l7.78-7.78 2.81-2.81c.8-.78.8-2.07 0-2.86zM5.41 20L4 18.59l7.72-7.72 1.47 1.35L5.41 20z\"/>\n",
              "  </svg>\n",
              "      </button>\n",
              "      \n",
              "  <style>\n",
              "    .colab-df-container {\n",
              "      display:flex;\n",
              "      flex-wrap:wrap;\n",
              "      gap: 12px;\n",
              "    }\n",
              "\n",
              "    .colab-df-convert {\n",
              "      background-color: #E8F0FE;\n",
              "      border: none;\n",
              "      border-radius: 50%;\n",
              "      cursor: pointer;\n",
              "      display: none;\n",
              "      fill: #1967D2;\n",
              "      height: 32px;\n",
              "      padding: 0 0 0 0;\n",
              "      width: 32px;\n",
              "    }\n",
              "\n",
              "    .colab-df-convert:hover {\n",
              "      background-color: #E2EBFA;\n",
              "      box-shadow: 0px 1px 2px rgba(60, 64, 67, 0.3), 0px 1px 3px 1px rgba(60, 64, 67, 0.15);\n",
              "      fill: #174EA6;\n",
              "    }\n",
              "\n",
              "    [theme=dark] .colab-df-convert {\n",
              "      background-color: #3B4455;\n",
              "      fill: #D2E3FC;\n",
              "    }\n",
              "\n",
              "    [theme=dark] .colab-df-convert:hover {\n",
              "      background-color: #434B5C;\n",
              "      box-shadow: 0px 1px 3px 1px rgba(0, 0, 0, 0.15);\n",
              "      filter: drop-shadow(0px 1px 2px rgba(0, 0, 0, 0.3));\n",
              "      fill: #FFFFFF;\n",
              "    }\n",
              "  </style>\n",
              "\n",
              "      <script>\n",
              "        const buttonEl =\n",
              "          document.querySelector('#df-9aeec1aa-4740-481c-9bad-44384458a1b3 button.colab-df-convert');\n",
              "        buttonEl.style.display =\n",
              "          google.colab.kernel.accessAllowed ? 'block' : 'none';\n",
              "\n",
              "        async function convertToInteractive(key) {\n",
              "          const element = document.querySelector('#df-9aeec1aa-4740-481c-9bad-44384458a1b3');\n",
              "          const dataTable =\n",
              "            await google.colab.kernel.invokeFunction('convertToInteractive',\n",
              "                                                     [key], {});\n",
              "          if (!dataTable) return;\n",
              "\n",
              "          const docLinkHtml = 'Like what you see? Visit the ' +\n",
              "            '<a target=\"_blank\" href=https://colab.research.google.com/notebooks/data_table.ipynb>data table notebook</a>'\n",
              "            + ' to learn more about interactive tables.';\n",
              "          element.innerHTML = '';\n",
              "          dataTable['output_type'] = 'display_data';\n",
              "          await google.colab.output.renderOutput(dataTable, element);\n",
              "          const docLink = document.createElement('div');\n",
              "          docLink.innerHTML = docLinkHtml;\n",
              "          element.appendChild(docLink);\n",
              "        }\n",
              "      </script>\n",
              "    </div>\n",
              "  </div>\n",
              "  "
            ]
          },
          "metadata": {},
          "execution_count": 7
        }
      ]
    },
    {
      "cell_type": "code",
      "source": [
        "TRAIN_PATH = '/content/voice/cv-valid-train/'\n",
        "!pip install wavefile\n",
        "!pip install helpers"
      ],
      "metadata": {
        "id": "7Qj2O2rCv2UR",
        "outputId": "319997c4-834c-473c-d791-1951a308a759",
        "colab": {
          "base_uri": "https://localhost:8080/"
        }
      },
      "execution_count": 8,
      "outputs": [
        {
          "output_type": "stream",
          "name": "stdout",
          "text": [
            "Looking in indexes: https://pypi.org/simple, https://us-python.pkg.dev/colab-wheels/public/simple/\n",
            "Collecting wavefile\n",
            "  Downloading wavefile-1.5.tar.gz (10 kB)\n",
            "  Preparing metadata (setup.py) ... \u001b[?25l\u001b[?25hdone\n",
            "Requirement already satisfied: numpy in /usr/local/lib/python3.9/dist-packages (from wavefile) (1.22.4)\n",
            "Building wheels for collected packages: wavefile\n",
            "  Building wheel for wavefile (setup.py) ... \u001b[?25l\u001b[?25hdone\n",
            "  Created wheel for wavefile: filename=wavefile-1.5-py3-none-any.whl size=11588 sha256=d8dab5f271020803381c3638667dba19e50fb15592188348c59c5a1fccc44fad\n",
            "  Stored in directory: /root/.cache/pip/wheels/b7/6d/d5/e8722fc72ae617dc4013bd9fd342a70d59a9d02dabed70b7fc\n",
            "Successfully built wavefile\n",
            "Installing collected packages: wavefile\n",
            "Successfully installed wavefile-1.5\n",
            "Looking in indexes: https://pypi.org/simple, https://us-python.pkg.dev/colab-wheels/public/simple/\n",
            "Collecting helpers\n",
            "  Downloading helpers-0.2.0-py3-none-any.whl (2.3 kB)\n",
            "Installing collected packages: helpers\n",
            "Successfully installed helpers-0.2.0\n"
          ]
        }
      ]
    },
    {
      "cell_type": "code",
      "source": [
        "max_pad_len = 174\n",
        "\n",
        "def extract_features(file_name):\n",
        "    try:\n",
        "        audio, sample_rate = librosa.load(file_name) \n",
        "        mfccs = librosa.feature.mfcc(y=audio, sr=sample_rate, n_mfcc=40)\n",
        "        \n",
        "        if mfccs.shape[1] < max_pad_len:\n",
        "            pad_width = max_pad_len - mfccs.shape[1]\n",
        "            mfccs = np.pad(mfccs, pad_width=((0, 0), (0, pad_width)), mode='constant')\n",
        "        else:\n",
        "            mfccs = mfccs[:, :max_pad_len]\n",
        "            \n",
        "    except Exception as e:\n",
        "        print(\"Error encountered while parsing file: \", file_name)\n",
        "        return None \n",
        "     \n",
        "    return mfccs\n"
      ],
      "metadata": {
        "id": "lQftXfpiv5rp"
      },
      "execution_count": 9,
      "outputs": []
    },
    {
      "cell_type": "code",
      "source": [
        "\n",
        "import os\n",
        "\n",
        "fulldatasetpath = '/content/voice1/dataset1'\n",
        "\n",
        "df = pd.read_csv('/content/voice1/wav_check.csv')\n",
        "\n",
        "\n",
        "features = []\n",
        "\n",
        "\n",
        "for index, row in df.iterrows():\n",
        "    \n",
        "    file_name = os.path.join(os.path.abspath(fulldatasetpath)+'/',str(row[\"filename\"]))\n",
        "    \n",
        "    class_label = row[\"gender\"]\n",
        "    data = extract_features(file_name)\n",
        "    \n",
        "    features.append([data, class_label])\n",
        "\n",
        "\n",
        "featuresdf = pd.DataFrame(features, columns=['feature','class_label'])\n",
        "\n",
        "print('Finished feature extraction from ', len(featuresdf), ' files') "
      ],
      "metadata": {
        "id": "Su6uUdC4wCMw",
        "outputId": "da8f79c8-4935-4266-f7e6-f05c4020e9e2",
        "colab": {
          "base_uri": "https://localhost:8080/"
        }
      },
      "execution_count": 10,
      "outputs": [
        {
          "output_type": "stream",
          "name": "stdout",
          "text": [
            "Finished feature extraction from  200  files\n"
          ]
        }
      ]
    },
    {
      "cell_type": "code",
      "source": [
        "from sklearn.preprocessing import LabelEncoder\n",
        "from keras.utils import to_categorical\n",
        "X = np.array(featuresdf.feature.tolist())\n",
        "y = np.array(featuresdf.class_label.tolist())\n",
        "le = LabelEncoder()\n",
        "yy = to_categorical(le.fit_transform(y)) \n",
        "from sklearn.model_selection import train_test_split \n",
        "\n",
        "x_train, x_test, y_train, y_test = train_test_split(X, yy, test_size=0.2, random_state = 42)"
      ],
      "metadata": {
        "id": "LEDlMKjWwD87"
      },
      "execution_count": 11,
      "outputs": []
    },
    {
      "cell_type": "markdown",
      "source": [
        "## CNN ARCHITECTURE"
      ],
      "metadata": {
        "id": "NVlm0-jJwJ1G"
      }
    },
    {
      "cell_type": "code",
      "source": [
        "from keras.models import Sequential\n",
        "from keras.layers import Dense, Dropout, Activation, Flatten\n",
        "from keras.layers import Convolution2D, Conv2D, MaxPooling2D, GlobalAveragePooling2D\n",
        "from keras.optimizers import Adam\n",
        "from keras.utils import np_utils\n",
        "from sklearn import metrics \n",
        "\n",
        "num_rows = 40\n",
        "num_columns = 174\n",
        "num_channels = 1\n",
        "\n",
        "x_train = x_train.reshape(x_train.shape[0], num_rows, num_columns, num_channels)\n",
        "x_test = x_test.reshape(x_test.shape[0], num_rows, num_columns, num_channels)\n",
        "\n",
        "num_labels = yy.shape[1]\n",
        "filter_size = 2\n"
      ],
      "metadata": {
        "id": "qvhOiFyDwOjz"
      },
      "execution_count": 69,
      "outputs": []
    },
    {
      "cell_type": "code",
      "source": [
        "from keras import regularizers"
      ],
      "metadata": {
        "id": "sg6y0BiIKgES"
      },
      "execution_count": 70,
      "outputs": []
    },
    {
      "cell_type": "markdown",
      "source": [
        "## Regularization : L2 & L1 regularization"
      ],
      "metadata": {
        "id": "n1D4d5EGKgvf"
      }
    },
    {
      "cell_type": "code",
      "source": [
        "\n",
        "# Construct model \n",
        "model = Sequential()\n",
        "model.add(Conv2D(filters=16, kernel_size=2, input_shape=(num_rows, num_columns, num_channels), activation='relu'))\n",
        "model.add(MaxPooling2D(pool_size=2))\n",
        "# model.add(Dropout(0.2))\n",
        "\n",
        "model.add(Conv2D(filters=32, kernel_size=2, activation='relu'))\n",
        "model.add(MaxPooling2D(pool_size=2))\n",
        "# model.add(Dropout(0.2))\n",
        "\n",
        "model.add(Conv2D(filters=64, kernel_size=2, activation='relu'))\n",
        "model.add(MaxPooling2D(pool_size=2))\n",
        "# model.add(Dropout(0.2))\n",
        "\n",
        "model.add(Conv2D(filters=128, kernel_size=2, activation='relu'))\n",
        "model.add(MaxPooling2D(pool_size=2))\n",
        "# model.add(Dropout(0.2))\n",
        "model.add(GlobalAveragePooling2D())\n",
        "\n",
        "model.add(Dense(num_labels, activation='softmax')) \n",
        "model.add(Dense(500,kernel_regularizer=regularizers.l2(0.01),activation=\"relu\"))\n",
        "model.add(Dense(2,activation=\"softmax\"))#2 represent output layer neurons "
      ],
      "metadata": {
        "id": "E-HoPlexJjEu"
      },
      "execution_count": 71,
      "outputs": []
    },
    {
      "cell_type": "markdown",
      "source": [],
      "metadata": {
        "id": "IUjVRV0FJiKq"
      }
    },
    {
      "cell_type": "code",
      "source": [
        "# Compile the model\n",
        "model.compile(loss='categorical_crossentropy', metrics=['accuracy'], optimizer='adam') "
      ],
      "metadata": {
        "id": "4rPEOfbowPDo"
      },
      "execution_count": 72,
      "outputs": []
    },
    {
      "cell_type": "code",
      "source": [
        "# Display model architecture summary \n",
        "model.summary()\n",
        "\n",
        "# Calculate pre-training accuracy \n",
        "score = model.evaluate(x_test, y_test, verbose=1)\n",
        "accuracy = 100*score[1]\n",
        "\n",
        "print(\"Pre-training accuracy: %.4f%%\" % accuracy)"
      ],
      "metadata": {
        "id": "UJxfrfSGwRrl",
        "outputId": "8597d68a-3f80-422e-8cdd-9b3a764fcaf8",
        "colab": {
          "base_uri": "https://localhost:8080/"
        }
      },
      "execution_count": 73,
      "outputs": [
        {
          "output_type": "stream",
          "name": "stdout",
          "text": [
            "Model: \"sequential_8\"\n",
            "_________________________________________________________________\n",
            " Layer (type)                Output Shape              Param #   \n",
            "=================================================================\n",
            " conv2d_32 (Conv2D)          (None, 39, 173, 16)       80        \n",
            "                                                                 \n",
            " max_pooling2d_32 (MaxPoolin  (None, 19, 86, 16)       0         \n",
            " g2D)                                                            \n",
            "                                                                 \n",
            " conv2d_33 (Conv2D)          (None, 18, 85, 32)        2080      \n",
            "                                                                 \n",
            " max_pooling2d_33 (MaxPoolin  (None, 9, 42, 32)        0         \n",
            " g2D)                                                            \n",
            "                                                                 \n",
            " conv2d_34 (Conv2D)          (None, 8, 41, 64)         8256      \n",
            "                                                                 \n",
            " max_pooling2d_34 (MaxPoolin  (None, 4, 20, 64)        0         \n",
            " g2D)                                                            \n",
            "                                                                 \n",
            " conv2d_35 (Conv2D)          (None, 3, 19, 128)        32896     \n",
            "                                                                 \n",
            " max_pooling2d_35 (MaxPoolin  (None, 1, 9, 128)        0         \n",
            " g2D)                                                            \n",
            "                                                                 \n",
            " global_average_pooling2d_8   (None, 128)              0         \n",
            " (GlobalAveragePooling2D)                                        \n",
            "                                                                 \n",
            " dense_10 (Dense)            (None, 2)                 258       \n",
            "                                                                 \n",
            " dense_11 (Dense)            (None, 500)               1500      \n",
            "                                                                 \n",
            " dense_12 (Dense)            (None, 2)                 1002      \n",
            "                                                                 \n",
            "=================================================================\n",
            "Total params: 46,072\n",
            "Trainable params: 46,072\n",
            "Non-trainable params: 0\n",
            "_________________________________________________________________\n",
            "2/2 [==============================] - 0s 17ms/step - loss: 0.7385 - accuracy: 0.4750\n",
            "Pre-training accuracy: 47.5000%\n"
          ]
        }
      ]
    },
    {
      "cell_type": "code",
      "source": [
        "from keras.callbacks import ModelCheckpoint \n",
        "from datetime import datetime \n",
        "\n",
        "num_epochs = 72\n",
        "num_batch_size = 256\n",
        "\n",
        "checkpointer = ModelCheckpoint(filepath='saved_models/weights.best.basic_cnn.hdf5', \n",
        "                               verbose=1, save_best_only=True)\n",
        "start = datetime.now()\n",
        "\n",
        "history=model.fit(x_train, y_train, batch_size=num_batch_size, epochs=num_epochs, validation_data=(x_test, y_test), callbacks=[checkpointer], verbose=1)\n",
        "\n",
        "\n",
        "duration = datetime.now() - start\n",
        "print(\"Training completed in time: \", duration)"
      ],
      "metadata": {
        "id": "sVNbobr1wTlk",
        "outputId": "6eb669c3-6db8-40d7-f239-826b3d7c61c1",
        "colab": {
          "base_uri": "https://localhost:8080/"
        }
      },
      "execution_count": 74,
      "outputs": [
        {
          "output_type": "stream",
          "name": "stdout",
          "text": [
            "Epoch 1/72\n",
            "1/1 [==============================] - ETA: 0s - loss: 0.7308 - accuracy: 0.5063\n",
            "Epoch 1: val_loss improved from inf to 0.73215, saving model to saved_models/weights.best.basic_cnn.hdf5\n",
            "1/1 [==============================] - 3s 3s/step - loss: 0.7308 - accuracy: 0.5063 - val_loss: 0.7322 - val_accuracy: 0.5250\n",
            "Epoch 2/72\n",
            "1/1 [==============================] - ETA: 0s - loss: 0.7326 - accuracy: 0.4938\n",
            "Epoch 2: val_loss improved from 0.73215 to 0.73103, saving model to saved_models/weights.best.basic_cnn.hdf5\n",
            "1/1 [==============================] - 1s 791ms/step - loss: 0.7326 - accuracy: 0.4938 - val_loss: 0.7310 - val_accuracy: 0.5250\n",
            "Epoch 3/72\n",
            "1/1 [==============================] - ETA: 0s - loss: 0.7317 - accuracy: 0.4938\n",
            "Epoch 3: val_loss improved from 0.73103 to 0.73035, saving model to saved_models/weights.best.basic_cnn.hdf5\n",
            "1/1 [==============================] - 1s 782ms/step - loss: 0.7317 - accuracy: 0.4938 - val_loss: 0.7303 - val_accuracy: 0.5250\n",
            "Epoch 4/72\n",
            "1/1 [==============================] - ETA: 0s - loss: 0.7306 - accuracy: 0.4938\n",
            "Epoch 4: val_loss improved from 0.73035 to 0.72992, saving model to saved_models/weights.best.basic_cnn.hdf5\n",
            "1/1 [==============================] - 1s 780ms/step - loss: 0.7306 - accuracy: 0.4938 - val_loss: 0.7299 - val_accuracy: 0.4750\n",
            "Epoch 5/72\n",
            "1/1 [==============================] - ETA: 0s - loss: 0.7295 - accuracy: 0.5063\n",
            "Epoch 5: val_loss improved from 0.72992 to 0.72962, saving model to saved_models/weights.best.basic_cnn.hdf5\n",
            "1/1 [==============================] - 1s 774ms/step - loss: 0.7295 - accuracy: 0.5063 - val_loss: 0.7296 - val_accuracy: 0.4750\n",
            "Epoch 6/72\n",
            "1/1 [==============================] - ETA: 0s - loss: 0.7286 - accuracy: 0.5063\n",
            "Epoch 6: val_loss improved from 0.72962 to 0.72920, saving model to saved_models/weights.best.basic_cnn.hdf5\n",
            "1/1 [==============================] - 1s 782ms/step - loss: 0.7286 - accuracy: 0.5063 - val_loss: 0.7292 - val_accuracy: 0.4750\n",
            "Epoch 7/72\n",
            "1/1 [==============================] - ETA: 0s - loss: 0.7277 - accuracy: 0.5063\n",
            "Epoch 7: val_loss improved from 0.72920 to 0.72849, saving model to saved_models/weights.best.basic_cnn.hdf5\n",
            "1/1 [==============================] - 1s 787ms/step - loss: 0.7277 - accuracy: 0.5063 - val_loss: 0.7285 - val_accuracy: 0.4750\n",
            "Epoch 8/72\n",
            "1/1 [==============================] - ETA: 0s - loss: 0.7268 - accuracy: 0.5063\n",
            "Epoch 8: val_loss improved from 0.72849 to 0.72748, saving model to saved_models/weights.best.basic_cnn.hdf5\n",
            "1/1 [==============================] - 1s 796ms/step - loss: 0.7268 - accuracy: 0.5063 - val_loss: 0.7275 - val_accuracy: 0.4750\n",
            "Epoch 9/72\n",
            "1/1 [==============================] - ETA: 0s - loss: 0.7259 - accuracy: 0.5063\n",
            "Epoch 9: val_loss improved from 0.72748 to 0.72627, saving model to saved_models/weights.best.basic_cnn.hdf5\n",
            "1/1 [==============================] - 1s 777ms/step - loss: 0.7259 - accuracy: 0.5063 - val_loss: 0.7263 - val_accuracy: 0.4750\n",
            "Epoch 10/72\n",
            "1/1 [==============================] - ETA: 0s - loss: 0.7250 - accuracy: 0.5063\n",
            "Epoch 10: val_loss improved from 0.72627 to 0.72499, saving model to saved_models/weights.best.basic_cnn.hdf5\n",
            "1/1 [==============================] - 1s 787ms/step - loss: 0.7250 - accuracy: 0.5063 - val_loss: 0.7250 - val_accuracy: 0.4750\n",
            "Epoch 11/72\n",
            "1/1 [==============================] - ETA: 0s - loss: 0.7240 - accuracy: 0.5063\n",
            "Epoch 11: val_loss improved from 0.72499 to 0.72376, saving model to saved_models/weights.best.basic_cnn.hdf5\n",
            "1/1 [==============================] - 1s 789ms/step - loss: 0.7240 - accuracy: 0.5063 - val_loss: 0.7238 - val_accuracy: 0.4750\n",
            "Epoch 12/72\n",
            "1/1 [==============================] - ETA: 0s - loss: 0.7232 - accuracy: 0.5063\n",
            "Epoch 12: val_loss improved from 0.72376 to 0.72267, saving model to saved_models/weights.best.basic_cnn.hdf5\n",
            "1/1 [==============================] - 1s 770ms/step - loss: 0.7232 - accuracy: 0.5063 - val_loss: 0.7227 - val_accuracy: 0.4750\n",
            "Epoch 13/72\n",
            "1/1 [==============================] - ETA: 0s - loss: 0.7224 - accuracy: 0.5063\n",
            "Epoch 13: val_loss improved from 0.72267 to 0.72173, saving model to saved_models/weights.best.basic_cnn.hdf5\n",
            "1/1 [==============================] - 1s 779ms/step - loss: 0.7224 - accuracy: 0.5063 - val_loss: 0.7217 - val_accuracy: 0.4750\n",
            "Epoch 14/72\n",
            "1/1 [==============================] - ETA: 0s - loss: 0.7216 - accuracy: 0.5063\n",
            "Epoch 14: val_loss improved from 0.72173 to 0.72093, saving model to saved_models/weights.best.basic_cnn.hdf5\n",
            "1/1 [==============================] - 1s 1s/step - loss: 0.7216 - accuracy: 0.5063 - val_loss: 0.7209 - val_accuracy: 0.4750\n",
            "Epoch 15/72\n",
            "1/1 [==============================] - ETA: 0s - loss: 0.7207 - accuracy: 0.5063\n",
            "Epoch 15: val_loss improved from 0.72093 to 0.72025, saving model to saved_models/weights.best.basic_cnn.hdf5\n",
            "1/1 [==============================] - 1s 1s/step - loss: 0.7207 - accuracy: 0.5063 - val_loss: 0.7202 - val_accuracy: 0.4750\n",
            "Epoch 16/72\n",
            "1/1 [==============================] - ETA: 0s - loss: 0.7199 - accuracy: 0.5063\n",
            "Epoch 16: val_loss improved from 0.72025 to 0.71966, saving model to saved_models/weights.best.basic_cnn.hdf5\n",
            "1/1 [==============================] - 1s 924ms/step - loss: 0.7199 - accuracy: 0.5063 - val_loss: 0.7197 - val_accuracy: 0.4750\n",
            "Epoch 17/72\n",
            "1/1 [==============================] - ETA: 0s - loss: 0.7191 - accuracy: 0.5063\n",
            "Epoch 17: val_loss improved from 0.71966 to 0.71913, saving model to saved_models/weights.best.basic_cnn.hdf5\n",
            "1/1 [==============================] - 1s 772ms/step - loss: 0.7191 - accuracy: 0.5063 - val_loss: 0.7191 - val_accuracy: 0.4750\n",
            "Epoch 18/72\n",
            "1/1 [==============================] - ETA: 0s - loss: 0.7184 - accuracy: 0.5063\n",
            "Epoch 18: val_loss improved from 0.71913 to 0.71860, saving model to saved_models/weights.best.basic_cnn.hdf5\n",
            "1/1 [==============================] - 1s 780ms/step - loss: 0.7184 - accuracy: 0.5063 - val_loss: 0.7186 - val_accuracy: 0.4750\n",
            "Epoch 19/72\n",
            "1/1 [==============================] - ETA: 0s - loss: 0.7176 - accuracy: 0.5063\n",
            "Epoch 19: val_loss improved from 0.71860 to 0.71802, saving model to saved_models/weights.best.basic_cnn.hdf5\n",
            "1/1 [==============================] - 1s 773ms/step - loss: 0.7176 - accuracy: 0.5063 - val_loss: 0.7180 - val_accuracy: 0.4750\n",
            "Epoch 20/72\n",
            "1/1 [==============================] - ETA: 0s - loss: 0.7169 - accuracy: 0.5063\n",
            "Epoch 20: val_loss improved from 0.71802 to 0.71735, saving model to saved_models/weights.best.basic_cnn.hdf5\n",
            "1/1 [==============================] - 1s 788ms/step - loss: 0.7169 - accuracy: 0.5063 - val_loss: 0.7174 - val_accuracy: 0.4750\n",
            "Epoch 21/72\n",
            "1/1 [==============================] - ETA: 0s - loss: 0.7162 - accuracy: 0.5063\n",
            "Epoch 21: val_loss improved from 0.71735 to 0.71661, saving model to saved_models/weights.best.basic_cnn.hdf5\n",
            "1/1 [==============================] - 1s 779ms/step - loss: 0.7162 - accuracy: 0.5063 - val_loss: 0.7166 - val_accuracy: 0.4750\n",
            "Epoch 22/72\n",
            "1/1 [==============================] - ETA: 0s - loss: 0.7155 - accuracy: 0.5063\n",
            "Epoch 22: val_loss improved from 0.71661 to 0.71581, saving model to saved_models/weights.best.basic_cnn.hdf5\n",
            "1/1 [==============================] - 1s 796ms/step - loss: 0.7155 - accuracy: 0.5063 - val_loss: 0.7158 - val_accuracy: 0.4750\n",
            "Epoch 23/72\n",
            "1/1 [==============================] - ETA: 0s - loss: 0.7148 - accuracy: 0.5063\n",
            "Epoch 23: val_loss improved from 0.71581 to 0.71499, saving model to saved_models/weights.best.basic_cnn.hdf5\n",
            "1/1 [==============================] - 1s 1s/step - loss: 0.7148 - accuracy: 0.5063 - val_loss: 0.7150 - val_accuracy: 0.4750\n",
            "Epoch 24/72\n",
            "1/1 [==============================] - ETA: 0s - loss: 0.7141 - accuracy: 0.5063\n",
            "Epoch 24: val_loss improved from 0.71499 to 0.71418, saving model to saved_models/weights.best.basic_cnn.hdf5\n",
            "1/1 [==============================] - 1s 1s/step - loss: 0.7141 - accuracy: 0.5063 - val_loss: 0.7142 - val_accuracy: 0.4750\n",
            "Epoch 25/72\n",
            "1/1 [==============================] - ETA: 0s - loss: 0.7135 - accuracy: 0.5063\n",
            "Epoch 25: val_loss improved from 0.71418 to 0.71343, saving model to saved_models/weights.best.basic_cnn.hdf5\n",
            "1/1 [==============================] - 1s 919ms/step - loss: 0.7135 - accuracy: 0.5063 - val_loss: 0.7134 - val_accuracy: 0.4750\n",
            "Epoch 26/72\n",
            "1/1 [==============================] - ETA: 0s - loss: 0.7129 - accuracy: 0.5063\n",
            "Epoch 26: val_loss improved from 0.71343 to 0.71275, saving model to saved_models/weights.best.basic_cnn.hdf5\n",
            "1/1 [==============================] - 1s 774ms/step - loss: 0.7129 - accuracy: 0.5063 - val_loss: 0.7128 - val_accuracy: 0.4750\n",
            "Epoch 27/72\n",
            "1/1 [==============================] - ETA: 0s - loss: 0.7122 - accuracy: 0.5063\n",
            "Epoch 27: val_loss improved from 0.71275 to 0.71215, saving model to saved_models/weights.best.basic_cnn.hdf5\n",
            "1/1 [==============================] - 1s 1s/step - loss: 0.7122 - accuracy: 0.5063 - val_loss: 0.7121 - val_accuracy: 0.4750\n",
            "Epoch 28/72\n",
            "1/1 [==============================] - ETA: 0s - loss: 0.7116 - accuracy: 0.5063\n",
            "Epoch 28: val_loss improved from 0.71215 to 0.71161, saving model to saved_models/weights.best.basic_cnn.hdf5\n",
            "1/1 [==============================] - 1s 1s/step - loss: 0.7116 - accuracy: 0.5063 - val_loss: 0.7116 - val_accuracy: 0.4750\n",
            "Epoch 29/72\n",
            "1/1 [==============================] - ETA: 0s - loss: 0.7111 - accuracy: 0.5063\n",
            "Epoch 29: val_loss improved from 0.71161 to 0.71114, saving model to saved_models/weights.best.basic_cnn.hdf5\n",
            "1/1 [==============================] - 1s 1s/step - loss: 0.7111 - accuracy: 0.5063 - val_loss: 0.7111 - val_accuracy: 0.4750\n",
            "Epoch 30/72\n",
            "1/1 [==============================] - ETA: 0s - loss: 0.7105 - accuracy: 0.5063\n",
            "Epoch 30: val_loss improved from 0.71114 to 0.71069, saving model to saved_models/weights.best.basic_cnn.hdf5\n",
            "1/1 [==============================] - 1s 782ms/step - loss: 0.7105 - accuracy: 0.5063 - val_loss: 0.7107 - val_accuracy: 0.4750\n",
            "Epoch 31/72\n",
            "1/1 [==============================] - ETA: 0s - loss: 0.7099 - accuracy: 0.5063\n",
            "Epoch 31: val_loss improved from 0.71069 to 0.71026, saving model to saved_models/weights.best.basic_cnn.hdf5\n",
            "1/1 [==============================] - 1s 787ms/step - loss: 0.7099 - accuracy: 0.5063 - val_loss: 0.7103 - val_accuracy: 0.4750\n",
            "Epoch 32/72\n",
            "1/1 [==============================] - ETA: 0s - loss: 0.7094 - accuracy: 0.5063\n",
            "Epoch 32: val_loss improved from 0.71026 to 0.70981, saving model to saved_models/weights.best.basic_cnn.hdf5\n",
            "1/1 [==============================] - 1s 803ms/step - loss: 0.7094 - accuracy: 0.5063 - val_loss: 0.7098 - val_accuracy: 0.4750\n",
            "Epoch 33/72\n",
            "1/1 [==============================] - ETA: 0s - loss: 0.7089 - accuracy: 0.5063\n",
            "Epoch 33: val_loss improved from 0.70981 to 0.70932, saving model to saved_models/weights.best.basic_cnn.hdf5\n",
            "1/1 [==============================] - 1s 789ms/step - loss: 0.7089 - accuracy: 0.5063 - val_loss: 0.7093 - val_accuracy: 0.4750\n",
            "Epoch 34/72\n",
            "1/1 [==============================] - ETA: 0s - loss: 0.7084 - accuracy: 0.5063\n",
            "Epoch 34: val_loss improved from 0.70932 to 0.70880, saving model to saved_models/weights.best.basic_cnn.hdf5\n",
            "1/1 [==============================] - 1s 776ms/step - loss: 0.7084 - accuracy: 0.5063 - val_loss: 0.7088 - val_accuracy: 0.4750\n",
            "Epoch 35/72\n",
            "1/1 [==============================] - ETA: 0s - loss: 0.7079 - accuracy: 0.5063\n",
            "Epoch 35: val_loss improved from 0.70880 to 0.70826, saving model to saved_models/weights.best.basic_cnn.hdf5\n",
            "1/1 [==============================] - 1s 808ms/step - loss: 0.7079 - accuracy: 0.5063 - val_loss: 0.7083 - val_accuracy: 0.4750\n",
            "Epoch 36/72\n",
            "1/1 [==============================] - ETA: 0s - loss: 0.7074 - accuracy: 0.5063\n",
            "Epoch 36: val_loss improved from 0.70826 to 0.70772, saving model to saved_models/weights.best.basic_cnn.hdf5\n",
            "1/1 [==============================] - 1s 782ms/step - loss: 0.7074 - accuracy: 0.5063 - val_loss: 0.7077 - val_accuracy: 0.4750\n",
            "Epoch 37/72\n",
            "1/1 [==============================] - ETA: 0s - loss: 0.7069 - accuracy: 0.5063\n",
            "Epoch 37: val_loss improved from 0.70772 to 0.70719, saving model to saved_models/weights.best.basic_cnn.hdf5\n",
            "1/1 [==============================] - 1s 787ms/step - loss: 0.7069 - accuracy: 0.5063 - val_loss: 0.7072 - val_accuracy: 0.4750\n",
            "Epoch 38/72\n",
            "1/1 [==============================] - ETA: 0s - loss: 0.7065 - accuracy: 0.5063\n",
            "Epoch 38: val_loss improved from 0.70719 to 0.70669, saving model to saved_models/weights.best.basic_cnn.hdf5\n",
            "1/1 [==============================] - 1s 785ms/step - loss: 0.7065 - accuracy: 0.5063 - val_loss: 0.7067 - val_accuracy: 0.4750\n",
            "Epoch 39/72\n",
            "1/1 [==============================] - ETA: 0s - loss: 0.7060 - accuracy: 0.5063\n",
            "Epoch 39: val_loss improved from 0.70669 to 0.70623, saving model to saved_models/weights.best.basic_cnn.hdf5\n",
            "1/1 [==============================] - 1s 779ms/step - loss: 0.7060 - accuracy: 0.5063 - val_loss: 0.7062 - val_accuracy: 0.4750\n",
            "Epoch 40/72\n",
            "1/1 [==============================] - ETA: 0s - loss: 0.7056 - accuracy: 0.5063\n",
            "Epoch 40: val_loss improved from 0.70623 to 0.70582, saving model to saved_models/weights.best.basic_cnn.hdf5\n",
            "1/1 [==============================] - 1s 784ms/step - loss: 0.7056 - accuracy: 0.5063 - val_loss: 0.7058 - val_accuracy: 0.4750\n",
            "Epoch 41/72\n",
            "1/1 [==============================] - ETA: 0s - loss: 0.7052 - accuracy: 0.5063\n",
            "Epoch 41: val_loss improved from 0.70582 to 0.70544, saving model to saved_models/weights.best.basic_cnn.hdf5\n",
            "1/1 [==============================] - 1s 801ms/step - loss: 0.7052 - accuracy: 0.5063 - val_loss: 0.7054 - val_accuracy: 0.4750\n",
            "Epoch 42/72\n",
            "1/1 [==============================] - ETA: 0s - loss: 0.7048 - accuracy: 0.5063\n",
            "Epoch 42: val_loss improved from 0.70544 to 0.70510, saving model to saved_models/weights.best.basic_cnn.hdf5\n",
            "1/1 [==============================] - 1s 1s/step - loss: 0.7048 - accuracy: 0.5063 - val_loss: 0.7051 - val_accuracy: 0.4750\n",
            "Epoch 43/72\n",
            "1/1 [==============================] - ETA: 0s - loss: 0.7044 - accuracy: 0.5063\n",
            "Epoch 43: val_loss improved from 0.70510 to 0.70477, saving model to saved_models/weights.best.basic_cnn.hdf5\n",
            "1/1 [==============================] - 1s 1s/step - loss: 0.7044 - accuracy: 0.5063 - val_loss: 0.7048 - val_accuracy: 0.4750\n",
            "Epoch 44/72\n",
            "1/1 [==============================] - ETA: 0s - loss: 0.7040 - accuracy: 0.5063\n",
            "Epoch 44: val_loss improved from 0.70477 to 0.70444, saving model to saved_models/weights.best.basic_cnn.hdf5\n",
            "1/1 [==============================] - 1s 994ms/step - loss: 0.7040 - accuracy: 0.5063 - val_loss: 0.7044 - val_accuracy: 0.4750\n",
            "Epoch 45/72\n",
            "1/1 [==============================] - ETA: 0s - loss: 0.7036 - accuracy: 0.5063\n",
            "Epoch 45: val_loss improved from 0.70444 to 0.70411, saving model to saved_models/weights.best.basic_cnn.hdf5\n",
            "1/1 [==============================] - 1s 807ms/step - loss: 0.7036 - accuracy: 0.5063 - val_loss: 0.7041 - val_accuracy: 0.4750\n",
            "Epoch 46/72\n",
            "1/1 [==============================] - ETA: 0s - loss: 0.7033 - accuracy: 0.5063\n",
            "Epoch 46: val_loss improved from 0.70411 to 0.70376, saving model to saved_models/weights.best.basic_cnn.hdf5\n",
            "1/1 [==============================] - 1s 786ms/step - loss: 0.7033 - accuracy: 0.5063 - val_loss: 0.7038 - val_accuracy: 0.4750\n",
            "Epoch 47/72\n",
            "1/1 [==============================] - ETA: 0s - loss: 0.7029 - accuracy: 0.5063\n",
            "Epoch 47: val_loss improved from 0.70376 to 0.70340, saving model to saved_models/weights.best.basic_cnn.hdf5\n",
            "1/1 [==============================] - 1s 783ms/step - loss: 0.7029 - accuracy: 0.5063 - val_loss: 0.7034 - val_accuracy: 0.4750\n",
            "Epoch 48/72\n",
            "1/1 [==============================] - ETA: 0s - loss: 0.7026 - accuracy: 0.5063\n",
            "Epoch 48: val_loss improved from 0.70340 to 0.70305, saving model to saved_models/weights.best.basic_cnn.hdf5\n",
            "1/1 [==============================] - 1s 791ms/step - loss: 0.7026 - accuracy: 0.5063 - val_loss: 0.7030 - val_accuracy: 0.4750\n",
            "Epoch 49/72\n",
            "1/1 [==============================] - ETA: 0s - loss: 0.7022 - accuracy: 0.5063\n",
            "Epoch 49: val_loss improved from 0.70305 to 0.70269, saving model to saved_models/weights.best.basic_cnn.hdf5\n",
            "1/1 [==============================] - 1s 776ms/step - loss: 0.7022 - accuracy: 0.5063 - val_loss: 0.7027 - val_accuracy: 0.4750\n",
            "Epoch 50/72\n",
            "1/1 [==============================] - ETA: 0s - loss: 0.7019 - accuracy: 0.5063\n",
            "Epoch 50: val_loss improved from 0.70269 to 0.70236, saving model to saved_models/weights.best.basic_cnn.hdf5\n",
            "1/1 [==============================] - 1s 788ms/step - loss: 0.7019 - accuracy: 0.5063 - val_loss: 0.7024 - val_accuracy: 0.4750\n",
            "Epoch 51/72\n",
            "1/1 [==============================] - ETA: 0s - loss: 0.7016 - accuracy: 0.5063\n",
            "Epoch 51: val_loss improved from 0.70236 to 0.70204, saving model to saved_models/weights.best.basic_cnn.hdf5\n",
            "1/1 [==============================] - 1s 796ms/step - loss: 0.7016 - accuracy: 0.5063 - val_loss: 0.7020 - val_accuracy: 0.4750\n",
            "Epoch 52/72\n",
            "1/1 [==============================] - ETA: 0s - loss: 0.7013 - accuracy: 0.5063\n",
            "Epoch 52: val_loss improved from 0.70204 to 0.70175, saving model to saved_models/weights.best.basic_cnn.hdf5\n",
            "1/1 [==============================] - 1s 804ms/step - loss: 0.7013 - accuracy: 0.5063 - val_loss: 0.7018 - val_accuracy: 0.4750\n",
            "Epoch 53/72\n",
            "1/1 [==============================] - ETA: 0s - loss: 0.7010 - accuracy: 0.5063\n",
            "Epoch 53: val_loss improved from 0.70175 to 0.70149, saving model to saved_models/weights.best.basic_cnn.hdf5\n",
            "1/1 [==============================] - 1s 898ms/step - loss: 0.7010 - accuracy: 0.5063 - val_loss: 0.7015 - val_accuracy: 0.4750\n",
            "Epoch 54/72\n",
            "1/1 [==============================] - ETA: 0s - loss: 0.7008 - accuracy: 0.5063\n",
            "Epoch 54: val_loss improved from 0.70149 to 0.70124, saving model to saved_models/weights.best.basic_cnn.hdf5\n",
            "1/1 [==============================] - 1s 1s/step - loss: 0.7008 - accuracy: 0.5063 - val_loss: 0.7012 - val_accuracy: 0.4750\n",
            "Epoch 55/72\n",
            "1/1 [==============================] - ETA: 0s - loss: 0.7005 - accuracy: 0.5063\n",
            "Epoch 55: val_loss improved from 0.70124 to 0.70100, saving model to saved_models/weights.best.basic_cnn.hdf5\n",
            "1/1 [==============================] - 1s 1s/step - loss: 0.7005 - accuracy: 0.5063 - val_loss: 0.7010 - val_accuracy: 0.4750\n",
            "Epoch 56/72\n",
            "1/1 [==============================] - ETA: 0s - loss: 0.7002 - accuracy: 0.5063\n",
            "Epoch 56: val_loss improved from 0.70100 to 0.70077, saving model to saved_models/weights.best.basic_cnn.hdf5\n",
            "1/1 [==============================] - 2s 2s/step - loss: 0.7002 - accuracy: 0.5063 - val_loss: 0.7008 - val_accuracy: 0.4750\n",
            "Epoch 57/72\n",
            "1/1 [==============================] - ETA: 0s - loss: 0.7000 - accuracy: 0.5063\n",
            "Epoch 57: val_loss improved from 0.70077 to 0.70053, saving model to saved_models/weights.best.basic_cnn.hdf5\n",
            "1/1 [==============================] - 2s 2s/step - loss: 0.7000 - accuracy: 0.5063 - val_loss: 0.7005 - val_accuracy: 0.4750\n",
            "Epoch 58/72\n",
            "1/1 [==============================] - ETA: 0s - loss: 0.6997 - accuracy: 0.5063\n",
            "Epoch 58: val_loss improved from 0.70053 to 0.70030, saving model to saved_models/weights.best.basic_cnn.hdf5\n",
            "1/1 [==============================] - 1s 1s/step - loss: 0.6997 - accuracy: 0.5063 - val_loss: 0.7003 - val_accuracy: 0.4750\n",
            "Epoch 59/72\n",
            "1/1 [==============================] - ETA: 0s - loss: 0.6995 - accuracy: 0.5063\n",
            "Epoch 59: val_loss improved from 0.70030 to 0.70005, saving model to saved_models/weights.best.basic_cnn.hdf5\n",
            "1/1 [==============================] - 1s 983ms/step - loss: 0.6995 - accuracy: 0.5063 - val_loss: 0.7001 - val_accuracy: 0.4750\n",
            "Epoch 60/72\n",
            "1/1 [==============================] - ETA: 0s - loss: 0.6993 - accuracy: 0.5063\n",
            "Epoch 60: val_loss improved from 0.70005 to 0.69981, saving model to saved_models/weights.best.basic_cnn.hdf5\n",
            "1/1 [==============================] - 1s 783ms/step - loss: 0.6993 - accuracy: 0.5063 - val_loss: 0.6998 - val_accuracy: 0.4750\n",
            "Epoch 61/72\n",
            "1/1 [==============================] - ETA: 0s - loss: 0.6990 - accuracy: 0.5063\n",
            "Epoch 61: val_loss improved from 0.69981 to 0.69958, saving model to saved_models/weights.best.basic_cnn.hdf5\n",
            "1/1 [==============================] - 1s 786ms/step - loss: 0.6990 - accuracy: 0.5063 - val_loss: 0.6996 - val_accuracy: 0.4750\n",
            "Epoch 62/72\n",
            "1/1 [==============================] - ETA: 0s - loss: 0.6988 - accuracy: 0.5063\n",
            "Epoch 62: val_loss improved from 0.69958 to 0.69936, saving model to saved_models/weights.best.basic_cnn.hdf5\n",
            "1/1 [==============================] - 1s 761ms/step - loss: 0.6988 - accuracy: 0.5063 - val_loss: 0.6994 - val_accuracy: 0.4750\n",
            "Epoch 63/72\n",
            "1/1 [==============================] - ETA: 0s - loss: 0.6986 - accuracy: 0.5063\n",
            "Epoch 63: val_loss improved from 0.69936 to 0.69915, saving model to saved_models/weights.best.basic_cnn.hdf5\n",
            "1/1 [==============================] - 1s 791ms/step - loss: 0.6986 - accuracy: 0.5063 - val_loss: 0.6992 - val_accuracy: 0.4750\n",
            "Epoch 64/72\n",
            "1/1 [==============================] - ETA: 0s - loss: 0.6984 - accuracy: 0.5063\n",
            "Epoch 64: val_loss improved from 0.69915 to 0.69897, saving model to saved_models/weights.best.basic_cnn.hdf5\n",
            "1/1 [==============================] - 1s 774ms/step - loss: 0.6984 - accuracy: 0.5063 - val_loss: 0.6990 - val_accuracy: 0.4750\n",
            "Epoch 65/72\n",
            "1/1 [==============================] - ETA: 0s - loss: 0.6982 - accuracy: 0.5063\n",
            "Epoch 65: val_loss improved from 0.69897 to 0.69879, saving model to saved_models/weights.best.basic_cnn.hdf5\n",
            "1/1 [==============================] - 1s 767ms/step - loss: 0.6982 - accuracy: 0.5063 - val_loss: 0.6988 - val_accuracy: 0.4750\n",
            "Epoch 66/72\n",
            "1/1 [==============================] - ETA: 0s - loss: 0.6980 - accuracy: 0.5063\n",
            "Epoch 66: val_loss improved from 0.69879 to 0.69862, saving model to saved_models/weights.best.basic_cnn.hdf5\n",
            "1/1 [==============================] - 1s 787ms/step - loss: 0.6980 - accuracy: 0.5063 - val_loss: 0.6986 - val_accuracy: 0.4750\n",
            "Epoch 67/72\n",
            "1/1 [==============================] - ETA: 0s - loss: 0.6978 - accuracy: 0.5063\n",
            "Epoch 67: val_loss improved from 0.69862 to 0.69845, saving model to saved_models/weights.best.basic_cnn.hdf5\n",
            "1/1 [==============================] - 1s 783ms/step - loss: 0.6978 - accuracy: 0.5063 - val_loss: 0.6985 - val_accuracy: 0.4750\n",
            "Epoch 68/72\n",
            "1/1 [==============================] - ETA: 0s - loss: 0.6977 - accuracy: 0.5063\n",
            "Epoch 68: val_loss improved from 0.69845 to 0.69829, saving model to saved_models/weights.best.basic_cnn.hdf5\n",
            "1/1 [==============================] - 1s 779ms/step - loss: 0.6977 - accuracy: 0.5063 - val_loss: 0.6983 - val_accuracy: 0.4750\n",
            "Epoch 69/72\n",
            "1/1 [==============================] - ETA: 0s - loss: 0.6975 - accuracy: 0.5063\n",
            "Epoch 69: val_loss improved from 0.69829 to 0.69812, saving model to saved_models/weights.best.basic_cnn.hdf5\n",
            "1/1 [==============================] - 1s 1s/step - loss: 0.6975 - accuracy: 0.5063 - val_loss: 0.6981 - val_accuracy: 0.4750\n",
            "Epoch 70/72\n",
            "1/1 [==============================] - ETA: 0s - loss: 0.6973 - accuracy: 0.5063\n",
            "Epoch 70: val_loss improved from 0.69812 to 0.69795, saving model to saved_models/weights.best.basic_cnn.hdf5\n",
            "1/1 [==============================] - 1s 1s/step - loss: 0.6973 - accuracy: 0.5063 - val_loss: 0.6979 - val_accuracy: 0.4750\n",
            "Epoch 71/72\n",
            "1/1 [==============================] - ETA: 0s - loss: 0.6972 - accuracy: 0.5063\n",
            "Epoch 71: val_loss improved from 0.69795 to 0.69778, saving model to saved_models/weights.best.basic_cnn.hdf5\n",
            "1/1 [==============================] - 1s 812ms/step - loss: 0.6972 - accuracy: 0.5063 - val_loss: 0.6978 - val_accuracy: 0.4750\n",
            "Epoch 72/72\n",
            "1/1 [==============================] - ETA: 0s - loss: 0.6970 - accuracy: 0.5063\n",
            "Epoch 72: val_loss improved from 0.69778 to 0.69763, saving model to saved_models/weights.best.basic_cnn.hdf5\n",
            "1/1 [==============================] - 1s 817ms/step - loss: 0.6970 - accuracy: 0.5063 - val_loss: 0.6976 - val_accuracy: 0.4750\n",
            "Training completed in time:  0:01:24.069373\n"
          ]
        }
      ]
    },
    {
      "cell_type": "code",
      "source": [
        "import pandas as pd\n",
        "import numpy as np\n",
        "pd.DataFrame(history.history).plot(figsize=(8,5))\n",
        "plt.grid(True)\n",
        "plt.gca().set_ylim(0,1)\n",
        "plt.show()\n",
        "print('1. If the validation loss is greater(are both high:) than the training loss. The model is underfitting.')\n",
        "print('2. If the validation loss is greater than the training loss,The model is overfitting.')\n",
        "print('3. If the training loss and validation loss both decrease and stabilize at a specific point:the model is good fit')"
      ],
      "metadata": {
        "id": "-rTGssOE2Dtt",
        "outputId": "413f45c5-98c5-49e0-d075-8b3b66c869c6",
        "colab": {
          "base_uri": "https://localhost:8080/",
          "height": 503
        }
      },
      "execution_count": 75,
      "outputs": [
        {
          "output_type": "display_data",
          "data": {
            "text/plain": [
              "<Figure size 800x500 with 1 Axes>"
            ],
            "image/png": "[encoded data removed]"
          },
          "metadata": {}
        },
        {
          "output_type": "stream",
          "name": "stdout",
          "text": [
            "1. If the validation loss is greater(are both high:) than the training loss. The model is underfitting.\n",
            "2. If the validation loss is greater than the training loss,The model is overfitting.\n",
            "3. If the training loss and validation loss both decrease and stabilize at a specific point:the model is good fit\n"
          ]
        }
      ]
    },
    {
      "cell_type": "code",
      "source": [
        "# Evaluating the model on the training and testing set\n",
        "score = model.evaluate(x_train, y_train, verbose=0)\n",
        "print(\"Training Accuracy: \", score[1]*100,\"%\")\n",
        "\n",
        "score = model.evaluate(x_test, y_test, verbose=0)\n",
        "print(\"Testing Accuracy: \", score[1]*100,\"%\")"
      ],
      "metadata": {
        "id": "qiPi7bZowWZr",
        "outputId": "f5cdad2b-57a3-4d27-9117-0cfcb4e23c3c",
        "colab": {
          "base_uri": "https://localhost:8080/"
        }
      },
      "execution_count": 76,
      "outputs": [
        {
          "output_type": "stream",
          "name": "stdout",
          "text": [
            "Training Accuracy:  50.62500238418579 %\n",
            "Testing Accuracy:  47.49999940395355 %\n"
          ]
        }
      ]
    },
    {
      "cell_type": "code",
      "source": [
        "def print_prediction(file_name):\n",
        "    prediction_feature = extract_features(file_name) \n",
        "    prediction_feature = prediction_feature.reshape(1, num_rows, num_columns, num_channels)\n",
        "\n",
        "    predicted_vector = model.predict(prediction_feature)\n",
        "    predicted_class = le.inverse_transform(np.argmax(predicted_vector, axis=-1)) \n",
        "    print(\"The predicted class is:\", predicted_class[0], '\\n') \n",
        "\n",
        "    predicted_proba_vector = predicted_vector\n",
        "    for i in range(len(predicted_proba_vector[0])): \n",
        "        category = le.inverse_transform(np.array([i]))\n",
        "        print(category[0], \"\\t\\t : \", format(predicted_proba_vector[0][i]*100,'.32f'),\"%\")"
      ],
      "metadata": {
        "id": "8Qou2J59wYzd"
      },
      "execution_count": 77,
      "outputs": []
    },
    {
      "cell_type": "code",
      "source": [
        "from pydub import AudioSegment\n",
        "\n",
        "# set the file paths\n",
        "input_file = \"/content/sample-195283.mp3\"\n",
        "output_file = \"/content/output.wav\"\n",
        "\n",
        "audio = AudioSegment.from_file(input_file, format=\"mp3\")\n",
        "\n",
        "audio.export(output_file, format=\"wav\")"
      ],
      "metadata": {
        "id": "QOW-OVlbQaHP",
        "outputId": "5b3b1b7f-db85-46ce-c1db-7c4af98c1268",
        "colab": {
          "base_uri": "https://localhost:8080/"
        }
      },
      "execution_count": 78,
      "outputs": [
        {
          "output_type": "execute_result",
          "data": {
            "text/plain": [
              "<_io.BufferedRandom name='/content/output.wav'>"
            ]
          },
          "metadata": {},
          "execution_count": 78
        }
      ]
    },
    {
      "cell_type": "code",
      "source": [
        "filename = '/content/output.wav' \n",
        "print_prediction(filename) "
      ],
      "metadata": {
        "id": "JcFVazmbwbFo",
        "outputId": "62dee274-4dd7-43a4-aaae-0911dbe8da0c",
        "colab": {
          "base_uri": "https://localhost:8080/"
        }
      },
      "execution_count": 79,
      "outputs": [
        {
          "output_type": "stream",
          "name": "stdout",
          "text": [
            "1/1 [==============================] - 0s 115ms/step\n",
            "The predicted class is: female \n",
            "\n",
            "female \t\t :  50.61285495758056640625000000000000 %\n",
            "male \t\t :  49.38714206218719482421875000000000 %\n"
          ]
        }
      ]
    },
    {
      "cell_type": "code",
      "source": [],
      "metadata": {
        "id": "rf-K1B94MsbW"
      },
      "execution_count": 79,
      "outputs": []
    },
    {
      "cell_type": "markdown",
      "source": [
        "# Dropout"
      ],
      "metadata": {
        "id": "bsy6blcMT2OC"
      }
    },
    {
      "cell_type": "code",
      "source": [
        "\n",
        "# Construct model \n",
        "model = Sequential()\n",
        "model.add(Conv2D(filters=16, kernel_size=2, input_shape=(num_rows, num_columns, num_channels), activation='relu'))\n",
        "model.add(MaxPooling2D(pool_size=2))\n",
        "model.add(Dropout(0.2))\n",
        "\n",
        "model.add(Conv2D(filters=32, kernel_size=2, activation='relu'))\n",
        "model.add(MaxPooling2D(pool_size=2))\n",
        "model.add(Dropout(0.2))\n",
        "\n",
        "model.add(Conv2D(filters=64, kernel_size=2, activation='relu'))\n",
        "model.add(MaxPooling2D(pool_size=2))\n",
        "model.add(Dropout(0.2))\n",
        "\n",
        "model.add(Conv2D(filters=128, kernel_size=2, activation='relu'))\n",
        "model.add(MaxPooling2D(pool_size=2))\n",
        "model.add(Dropout(0.2))\n",
        "model.add(GlobalAveragePooling2D())\n",
        "\n",
        "model.add(Dense(num_labels, activation='softmax')) \n"
      ],
      "metadata": {
        "id": "nmq9XIeQwdi5"
      },
      "execution_count": 80,
      "outputs": []
    },
    {
      "cell_type": "code",
      "source": [
        "# Compile the model\n",
        "model.compile(loss='categorical_crossentropy', metrics=['accuracy'], optimizer='adam') "
      ],
      "metadata": {
        "id": "0oMCYWjhMMYs"
      },
      "execution_count": 81,
      "outputs": []
    },
    {
      "cell_type": "code",
      "source": [
        "# Display model architecture summary \n",
        "model.summary()\n",
        "\n",
        "# Calculate pre-training accuracy \n",
        "score = model.evaluate(x_test, y_test, verbose=1)\n",
        "accuracy = 100*score[1]\n",
        "\n",
        "print(\"Pre-training accuracy: %.4f%%\" % accuracy)"
      ],
      "metadata": {
        "id": "LOb9zQByMR3M",
        "outputId": "af6c5da2-e8dd-441e-da2a-e79f379cb82c",
        "colab": {
          "base_uri": "https://localhost:8080/"
        }
      },
      "execution_count": 82,
      "outputs": [
        {
          "output_type": "stream",
          "name": "stdout",
          "text": [
            "Model: \"sequential_9\"\n",
            "_________________________________________________________________\n",
            " Layer (type)                Output Shape              Param #   \n",
            "=================================================================\n",
            " conv2d_36 (Conv2D)          (None, 39, 173, 16)       80        \n",
            "                                                                 \n",
            " max_pooling2d_36 (MaxPoolin  (None, 19, 86, 16)       0         \n",
            " g2D)                                                            \n",
            "                                                                 \n",
            " dropout_20 (Dropout)        (None, 19, 86, 16)        0         \n",
            "                                                                 \n",
            " conv2d_37 (Conv2D)          (None, 18, 85, 32)        2080      \n",
            "                                                                 \n",
            " max_pooling2d_37 (MaxPoolin  (None, 9, 42, 32)        0         \n",
            " g2D)                                                            \n",
            "                                                                 \n",
            " dropout_21 (Dropout)        (None, 9, 42, 32)         0         \n",
            "                                                                 \n",
            " conv2d_38 (Conv2D)          (None, 8, 41, 64)         8256      \n",
            "                                                                 \n",
            " max_pooling2d_38 (MaxPoolin  (None, 4, 20, 64)        0         \n",
            " g2D)                                                            \n",
            "                                                                 \n",
            " dropout_22 (Dropout)        (None, 4, 20, 64)         0         \n",
            "                                                                 \n",
            " conv2d_39 (Conv2D)          (None, 3, 19, 128)        32896     \n",
            "                                                                 \n",
            " max_pooling2d_39 (MaxPoolin  (None, 1, 9, 128)        0         \n",
            " g2D)                                                            \n",
            "                                                                 \n",
            " dropout_23 (Dropout)        (None, 1, 9, 128)         0         \n",
            "                                                                 \n",
            " global_average_pooling2d_9   (None, 128)              0         \n",
            " (GlobalAveragePooling2D)                                        \n",
            "                                                                 \n",
            " dense_13 (Dense)            (None, 2)                 258       \n",
            "                                                                 \n",
            "=================================================================\n",
            "Total params: 43,570\n",
            "Trainable params: 43,570\n",
            "Non-trainable params: 0\n",
            "_________________________________________________________________\n",
            "2/2 [==============================] - 0s 19ms/step - loss: 3.3875 - accuracy: 0.5250\n",
            "Pre-training accuracy: 52.5000%\n"
          ]
        }
      ]
    },
    {
      "cell_type": "code",
      "source": [
        "from keras.callbacks import ModelCheckpoint \n",
        "from datetime import datetime \n",
        "\n",
        "num_epochs = 72\n",
        "num_batch_size = 256\n",
        "\n",
        "checkpointer = ModelCheckpoint(filepath='saved_models/weights.best.basic_cnn.hdf5', \n",
        "                               verbose=1, save_best_only=True)\n",
        "start = datetime.now()\n",
        "\n",
        "history=model.fit(x_train, y_train, batch_size=num_batch_size, epochs=num_epochs, validation_data=(x_test, y_test), callbacks=[checkpointer], verbose=1)\n",
        "\n",
        "\n",
        "duration = datetime.now() - start\n",
        "print(\"Training completed in time: \", duration)"
      ],
      "metadata": {
        "id": "LFbO6dqcMSzF",
        "outputId": "4cac8e70-76fb-4f66-dfac-9cbe3ea30f0a",
        "colab": {
          "base_uri": "https://localhost:8080/"
        }
      },
      "execution_count": 83,
      "outputs": [
        {
          "output_type": "stream",
          "name": "stdout",
          "text": [
            "Epoch 1/72\n",
            "1/1 [==============================] - ETA: 0s - loss: 4.7412 - accuracy: 0.5063\n",
            "Epoch 1: val_loss improved from inf to 4.55110, saving model to saved_models/weights.best.basic_cnn.hdf5\n",
            "1/1 [==============================] - 2s 2s/step - loss: 4.7412 - accuracy: 0.5063 - val_loss: 4.5511 - val_accuracy: 0.4750\n",
            "Epoch 2/72\n",
            "1/1 [==============================] - ETA: 0s - loss: 9.7835 - accuracy: 0.5063\n",
            "Epoch 2: val_loss improved from 4.55110 to 3.96854, saving model to saved_models/weights.best.basic_cnn.hdf5\n",
            "1/1 [==============================] - 1s 886ms/step - loss: 9.7835 - accuracy: 0.5063 - val_loss: 3.9685 - val_accuracy: 0.4750\n",
            "Epoch 3/72\n",
            "1/1 [==============================] - ETA: 0s - loss: 8.7174 - accuracy: 0.5063\n",
            "Epoch 3: val_loss improved from 3.96854 to 1.35724, saving model to saved_models/weights.best.basic_cnn.hdf5\n",
            "1/1 [==============================] - 1s 1s/step - loss: 8.7174 - accuracy: 0.5063 - val_loss: 1.3572 - val_accuracy: 0.4750\n",
            "Epoch 4/72\n",
            "1/1 [==============================] - ETA: 0s - loss: 3.5232 - accuracy: 0.5063\n",
            "Epoch 4: val_loss did not improve from 1.35724\n",
            "1/1 [==============================] - 2s 2s/step - loss: 3.5232 - accuracy: 0.5063 - val_loss: 2.4528 - val_accuracy: 0.5250\n",
            "Epoch 5/72\n",
            "1/1 [==============================] - ETA: 0s - loss: 2.9313 - accuracy: 0.4875\n",
            "Epoch 5: val_loss did not improve from 1.35724\n",
            "1/1 [==============================] - 1s 983ms/step - loss: 2.9313 - accuracy: 0.4875 - val_loss: 3.6288 - val_accuracy: 0.5250\n",
            "Epoch 6/72\n",
            "1/1 [==============================] - ETA: 0s - loss: 5.2573 - accuracy: 0.5000\n",
            "Epoch 6: val_loss did not improve from 1.35724\n",
            "1/1 [==============================] - 1s 848ms/step - loss: 5.2573 - accuracy: 0.5000 - val_loss: 3.2642 - val_accuracy: 0.5250\n",
            "Epoch 7/72\n",
            "1/1 [==============================] - ETA: 0s - loss: 4.4819 - accuracy: 0.4938\n",
            "Epoch 7: val_loss did not improve from 1.35724\n",
            "1/1 [==============================] - 1s 829ms/step - loss: 4.4819 - accuracy: 0.4938 - val_loss: 2.0311 - val_accuracy: 0.5250\n",
            "Epoch 8/72\n",
            "1/1 [==============================] - ETA: 0s - loss: 2.5834 - accuracy: 0.5250\n",
            "Epoch 8: val_loss improved from 1.35724 to 0.87980, saving model to saved_models/weights.best.basic_cnn.hdf5\n",
            "1/1 [==============================] - 1s 860ms/step - loss: 2.5834 - accuracy: 0.5250 - val_loss: 0.8798 - val_accuracy: 0.4250\n",
            "Epoch 9/72\n",
            "1/1 [==============================] - ETA: 0s - loss: 1.2465 - accuracy: 0.5875\n",
            "Epoch 9: val_loss did not improve from 0.87980\n",
            "1/1 [==============================] - 1s 824ms/step - loss: 1.2465 - accuracy: 0.5875 - val_loss: 1.2136 - val_accuracy: 0.4750\n",
            "Epoch 10/72\n",
            "1/1 [==============================] - ETA: 0s - loss: 2.7957 - accuracy: 0.5000\n",
            "Epoch 10: val_loss did not improve from 0.87980\n",
            "1/1 [==============================] - 1s 822ms/step - loss: 2.7957 - accuracy: 0.5000 - val_loss: 1.4358 - val_accuracy: 0.4750\n",
            "Epoch 11/72\n",
            "1/1 [==============================] - ETA: 0s - loss: 3.3314 - accuracy: 0.4875\n",
            "Epoch 11: val_loss did not improve from 0.87980\n",
            "1/1 [==============================] - 1s 819ms/step - loss: 3.3314 - accuracy: 0.4875 - val_loss: 1.1689 - val_accuracy: 0.4750\n",
            "Epoch 12/72\n",
            "1/1 [==============================] - ETA: 0s - loss: 2.6207 - accuracy: 0.5188\n",
            "Epoch 12: val_loss improved from 0.87980 to 0.83201, saving model to saved_models/weights.best.basic_cnn.hdf5\n",
            "1/1 [==============================] - 1s 903ms/step - loss: 2.6207 - accuracy: 0.5188 - val_loss: 0.8320 - val_accuracy: 0.4000\n",
            "Epoch 13/72\n",
            "1/1 [==============================] - ETA: 0s - loss: 1.4926 - accuracy: 0.5500\n",
            "Epoch 13: val_loss did not improve from 0.83201\n",
            "1/1 [==============================] - 1s 834ms/step - loss: 1.4926 - accuracy: 0.5500 - val_loss: 1.0797 - val_accuracy: 0.5000\n",
            "Epoch 14/72\n",
            "1/1 [==============================] - ETA: 0s - loss: 1.3282 - accuracy: 0.4875\n",
            "Epoch 14: val_loss did not improve from 0.83201\n",
            "1/1 [==============================] - 1s 839ms/step - loss: 1.3282 - accuracy: 0.4875 - val_loss: 1.6084 - val_accuracy: 0.5250\n",
            "Epoch 15/72\n",
            "1/1 [==============================] - ETA: 0s - loss: 1.8491 - accuracy: 0.5375\n",
            "Epoch 15: val_loss did not improve from 0.83201\n",
            "1/1 [==============================] - 1s 833ms/step - loss: 1.8491 - accuracy: 0.5375 - val_loss: 1.8438 - val_accuracy: 0.5250\n",
            "Epoch 16/72\n",
            "1/1 [==============================] - ETA: 0s - loss: 2.4200 - accuracy: 0.5188\n",
            "Epoch 16: val_loss did not improve from 0.83201\n",
            "1/1 [==============================] - 1s 812ms/step - loss: 2.4200 - accuracy: 0.5188 - val_loss: 1.7147 - val_accuracy: 0.5250\n",
            "Epoch 17/72\n",
            "1/1 [==============================] - ETA: 0s - loss: 2.0446 - accuracy: 0.5312\n",
            "Epoch 17: val_loss did not improve from 0.83201\n",
            "1/1 [==============================] - 1s 1s/step - loss: 2.0446 - accuracy: 0.5312 - val_loss: 1.3352 - val_accuracy: 0.5250\n",
            "Epoch 18/72\n",
            "1/1 [==============================] - ETA: 0s - loss: 1.5338 - accuracy: 0.5562\n",
            "Epoch 18: val_loss did not improve from 0.83201\n",
            "1/1 [==============================] - 2s 2s/step - loss: 1.5338 - accuracy: 0.5562 - val_loss: 0.9356 - val_accuracy: 0.5000\n",
            "Epoch 19/72\n",
            "1/1 [==============================] - ETA: 0s - loss: 1.2068 - accuracy: 0.5375\n",
            "Epoch 19: val_loss improved from 0.83201 to 0.78327, saving model to saved_models/weights.best.basic_cnn.hdf5\n",
            "1/1 [==============================] - 1s 852ms/step - loss: 1.2068 - accuracy: 0.5375 - val_loss: 0.7833 - val_accuracy: 0.4250\n",
            "Epoch 20/72\n",
            "1/1 [==============================] - ETA: 0s - loss: 1.3247 - accuracy: 0.5063\n",
            "Epoch 20: val_loss did not improve from 0.78327\n",
            "1/1 [==============================] - 1s 822ms/step - loss: 1.3247 - accuracy: 0.5063 - val_loss: 0.8216 - val_accuracy: 0.3500\n",
            "Epoch 21/72\n",
            "1/1 [==============================] - ETA: 0s - loss: 1.5335 - accuracy: 0.5063\n",
            "Epoch 21: val_loss did not improve from 0.78327\n",
            "1/1 [==============================] - 1s 841ms/step - loss: 1.5335 - accuracy: 0.5063 - val_loss: 0.8436 - val_accuracy: 0.4250\n",
            "Epoch 22/72\n",
            "1/1 [==============================] - ETA: 0s - loss: 1.4961 - accuracy: 0.5562\n",
            "Epoch 22: val_loss did not improve from 0.78327\n",
            "1/1 [==============================] - 1s 842ms/step - loss: 1.4961 - accuracy: 0.5562 - val_loss: 0.7936 - val_accuracy: 0.4500\n",
            "Epoch 23/72\n",
            "1/1 [==============================] - ETA: 0s - loss: 1.6477 - accuracy: 0.4938\n",
            "Epoch 23: val_loss improved from 0.78327 to 0.77010, saving model to saved_models/weights.best.basic_cnn.hdf5\n",
            "1/1 [==============================] - 1s 857ms/step - loss: 1.6477 - accuracy: 0.4938 - val_loss: 0.7701 - val_accuracy: 0.4750\n",
            "Epoch 24/72\n",
            "1/1 [==============================] - ETA: 0s - loss: 1.0934 - accuracy: 0.5500\n",
            "Epoch 24: val_loss did not improve from 0.77010\n",
            "1/1 [==============================] - 1s 841ms/step - loss: 1.0934 - accuracy: 0.5500 - val_loss: 0.8788 - val_accuracy: 0.5250\n",
            "Epoch 25/72\n",
            "1/1 [==============================] - ETA: 0s - loss: 1.0360 - accuracy: 0.5562\n",
            "Epoch 25: val_loss did not improve from 0.77010\n",
            "1/1 [==============================] - 1s 827ms/step - loss: 1.0360 - accuracy: 0.5562 - val_loss: 1.0537 - val_accuracy: 0.5250\n",
            "Epoch 26/72\n",
            "1/1 [==============================] - ETA: 0s - loss: 0.9922 - accuracy: 0.6000\n",
            "Epoch 26: val_loss did not improve from 0.77010\n",
            "1/1 [==============================] - 1s 835ms/step - loss: 0.9922 - accuracy: 0.6000 - val_loss: 1.1747 - val_accuracy: 0.5250\n",
            "Epoch 27/72\n",
            "1/1 [==============================] - ETA: 0s - loss: 1.4103 - accuracy: 0.5500\n",
            "Epoch 27: val_loss did not improve from 0.77010\n",
            "1/1 [==============================] - 1s 831ms/step - loss: 1.4103 - accuracy: 0.5500 - val_loss: 1.1660 - val_accuracy: 0.5250\n",
            "Epoch 28/72\n",
            "1/1 [==============================] - ETA: 0s - loss: 1.3398 - accuracy: 0.5188\n",
            "Epoch 28: val_loss did not improve from 0.77010\n",
            "1/1 [==============================] - 1s 827ms/step - loss: 1.3398 - accuracy: 0.5188 - val_loss: 1.0404 - val_accuracy: 0.5250\n",
            "Epoch 29/72\n",
            "1/1 [==============================] - ETA: 0s - loss: 1.2031 - accuracy: 0.4875\n",
            "Epoch 29: val_loss did not improve from 0.77010\n",
            "1/1 [==============================] - 1s 833ms/step - loss: 1.2031 - accuracy: 0.4875 - val_loss: 0.8736 - val_accuracy: 0.5750\n",
            "Epoch 30/72\n",
            "1/1 [==============================] - ETA: 0s - loss: 0.9824 - accuracy: 0.6313\n",
            "Epoch 30: val_loss improved from 0.77010 to 0.75603, saving model to saved_models/weights.best.basic_cnn.hdf5\n",
            "1/1 [==============================] - 1s 974ms/step - loss: 0.9824 - accuracy: 0.6313 - val_loss: 0.7560 - val_accuracy: 0.5000\n",
            "Epoch 31/72\n",
            "1/1 [==============================] - ETA: 0s - loss: 0.9865 - accuracy: 0.5250\n",
            "Epoch 31: val_loss improved from 0.75603 to 0.71660, saving model to saved_models/weights.best.basic_cnn.hdf5\n",
            "1/1 [==============================] - 2s 2s/step - loss: 0.9865 - accuracy: 0.5250 - val_loss: 0.7166 - val_accuracy: 0.5500\n",
            "Epoch 32/72\n",
            "1/1 [==============================] - ETA: 0s - loss: 1.1858 - accuracy: 0.5312\n",
            "Epoch 32: val_loss improved from 0.71660 to 0.71391, saving model to saved_models/weights.best.basic_cnn.hdf5\n",
            "1/1 [==============================] - 1s 1s/step - loss: 1.1858 - accuracy: 0.5312 - val_loss: 0.7139 - val_accuracy: 0.5500\n",
            "Epoch 33/72\n",
            "1/1 [==============================] - ETA: 0s - loss: 1.1385 - accuracy: 0.5625\n",
            "Epoch 33: val_loss improved from 0.71391 to 0.70578, saving model to saved_models/weights.best.basic_cnn.hdf5\n",
            "1/1 [==============================] - 1s 873ms/step - loss: 1.1385 - accuracy: 0.5625 - val_loss: 0.7058 - val_accuracy: 0.5750\n",
            "Epoch 34/72\n",
            "1/1 [==============================] - ETA: 0s - loss: 1.0597 - accuracy: 0.5625\n",
            "Epoch 34: val_loss improved from 0.70578 to 0.70328, saving model to saved_models/weights.best.basic_cnn.hdf5\n",
            "1/1 [==============================] - 1s 865ms/step - loss: 1.0597 - accuracy: 0.5625 - val_loss: 0.7033 - val_accuracy: 0.5750\n",
            "Epoch 35/72\n",
            "1/1 [==============================] - ETA: 0s - loss: 0.9984 - accuracy: 0.5500\n",
            "Epoch 35: val_loss did not improve from 0.70328\n",
            "1/1 [==============================] - 1s 832ms/step - loss: 0.9984 - accuracy: 0.5500 - val_loss: 0.7317 - val_accuracy: 0.5000\n",
            "Epoch 36/72\n",
            "1/1 [==============================] - ETA: 0s - loss: 0.8313 - accuracy: 0.5938\n",
            "Epoch 36: val_loss did not improve from 0.70328\n",
            "1/1 [==============================] - 1s 813ms/step - loss: 0.8313 - accuracy: 0.5938 - val_loss: 0.7879 - val_accuracy: 0.5500\n",
            "Epoch 37/72\n",
            "1/1 [==============================] - ETA: 0s - loss: 1.0283 - accuracy: 0.5437\n",
            "Epoch 37: val_loss did not improve from 0.70328\n",
            "1/1 [==============================] - 1s 819ms/step - loss: 1.0283 - accuracy: 0.5437 - val_loss: 0.8375 - val_accuracy: 0.5500\n",
            "Epoch 38/72\n",
            "1/1 [==============================] - ETA: 0s - loss: 0.9992 - accuracy: 0.5312\n",
            "Epoch 38: val_loss did not improve from 0.70328\n",
            "1/1 [==============================] - 1s 829ms/step - loss: 0.9992 - accuracy: 0.5312 - val_loss: 0.8574 - val_accuracy: 0.5500\n",
            "Epoch 39/72\n",
            "1/1 [==============================] - ETA: 0s - loss: 0.9330 - accuracy: 0.5562\n",
            "Epoch 39: val_loss did not improve from 0.70328\n",
            "1/1 [==============================] - 1s 815ms/step - loss: 0.9330 - accuracy: 0.5562 - val_loss: 0.8320 - val_accuracy: 0.5500\n",
            "Epoch 40/72\n",
            "1/1 [==============================] - ETA: 0s - loss: 1.0163 - accuracy: 0.5437\n",
            "Epoch 40: val_loss did not improve from 0.70328\n",
            "1/1 [==============================] - 1s 814ms/step - loss: 1.0163 - accuracy: 0.5437 - val_loss: 0.7735 - val_accuracy: 0.5750\n",
            "Epoch 41/72\n",
            "1/1 [==============================] - ETA: 0s - loss: 0.7883 - accuracy: 0.5562\n",
            "Epoch 41: val_loss did not improve from 0.70328\n",
            "1/1 [==============================] - 1s 816ms/step - loss: 0.7883 - accuracy: 0.5562 - val_loss: 0.7153 - val_accuracy: 0.5750\n",
            "Epoch 42/72\n",
            "1/1 [==============================] - ETA: 0s - loss: 0.7281 - accuracy: 0.6062\n",
            "Epoch 42: val_loss improved from 0.70328 to 0.67643, saving model to saved_models/weights.best.basic_cnn.hdf5\n",
            "1/1 [==============================] - 1s 855ms/step - loss: 0.7281 - accuracy: 0.6062 - val_loss: 0.6764 - val_accuracy: 0.5500\n",
            "Epoch 43/72\n",
            "1/1 [==============================] - ETA: 0s - loss: 0.7164 - accuracy: 0.6375\n",
            "Epoch 43: val_loss improved from 0.67643 to 0.65574, saving model to saved_models/weights.best.basic_cnn.hdf5\n",
            "1/1 [==============================] - 1s 856ms/step - loss: 0.7164 - accuracy: 0.6375 - val_loss: 0.6557 - val_accuracy: 0.5500\n",
            "Epoch 44/72\n",
            "1/1 [==============================] - ETA: 0s - loss: 0.8352 - accuracy: 0.5938\n",
            "Epoch 44: val_loss improved from 0.65574 to 0.64674, saving model to saved_models/weights.best.basic_cnn.hdf5\n",
            "1/1 [==============================] - 1s 1s/step - loss: 0.8352 - accuracy: 0.5938 - val_loss: 0.6467 - val_accuracy: 0.6000\n",
            "Epoch 45/72\n",
            "1/1 [==============================] - ETA: 0s - loss: 0.9066 - accuracy: 0.5938\n",
            "Epoch 45: val_loss improved from 0.64674 to 0.64359, saving model to saved_models/weights.best.basic_cnn.hdf5\n",
            "1/1 [==============================] - 2s 2s/step - loss: 0.9066 - accuracy: 0.5938 - val_loss: 0.6436 - val_accuracy: 0.5500\n",
            "Epoch 46/72\n",
            "1/1 [==============================] - ETA: 0s - loss: 0.8592 - accuracy: 0.5875\n",
            "Epoch 46: val_loss did not improve from 0.64359\n",
            "1/1 [==============================] - 1s 1s/step - loss: 0.8592 - accuracy: 0.5875 - val_loss: 0.6505 - val_accuracy: 0.6500\n",
            "Epoch 47/72\n",
            "1/1 [==============================] - ETA: 0s - loss: 0.8123 - accuracy: 0.6062\n",
            "Epoch 47: val_loss did not improve from 0.64359\n",
            "1/1 [==============================] - 1s 820ms/step - loss: 0.8123 - accuracy: 0.6062 - val_loss: 0.6696 - val_accuracy: 0.6500\n",
            "Epoch 48/72\n",
            "1/1 [==============================] - ETA: 0s - loss: 0.6396 - accuracy: 0.6625\n",
            "Epoch 48: val_loss did not improve from 0.64359\n",
            "1/1 [==============================] - 1s 833ms/step - loss: 0.6396 - accuracy: 0.6625 - val_loss: 0.6949 - val_accuracy: 0.6250\n",
            "Epoch 49/72\n",
            "1/1 [==============================] - ETA: 0s - loss: 0.7630 - accuracy: 0.6375\n",
            "Epoch 49: val_loss did not improve from 0.64359\n",
            "1/1 [==============================] - 1s 841ms/step - loss: 0.7630 - accuracy: 0.6375 - val_loss: 0.7028 - val_accuracy: 0.6500\n",
            "Epoch 50/72\n",
            "1/1 [==============================] - ETA: 0s - loss: 0.8137 - accuracy: 0.6500\n",
            "Epoch 50: val_loss did not improve from 0.64359\n",
            "1/1 [==============================] - 1s 838ms/step - loss: 0.8137 - accuracy: 0.6500 - val_loss: 0.6923 - val_accuracy: 0.6500\n",
            "Epoch 51/72\n",
            "1/1 [==============================] - ETA: 0s - loss: 0.7826 - accuracy: 0.6000\n",
            "Epoch 51: val_loss did not improve from 0.64359\n",
            "1/1 [==============================] - 1s 834ms/step - loss: 0.7826 - accuracy: 0.6000 - val_loss: 0.6716 - val_accuracy: 0.6500\n",
            "Epoch 52/72\n",
            "1/1 [==============================] - ETA: 0s - loss: 0.7566 - accuracy: 0.6438\n",
            "Epoch 52: val_loss improved from 0.64359 to 0.64170, saving model to saved_models/weights.best.basic_cnn.hdf5\n",
            "1/1 [==============================] - 1s 858ms/step - loss: 0.7566 - accuracy: 0.6438 - val_loss: 0.6417 - val_accuracy: 0.6500\n",
            "Epoch 53/72\n",
            "1/1 [==============================] - ETA: 0s - loss: 0.7431 - accuracy: 0.6250\n",
            "Epoch 53: val_loss improved from 0.64170 to 0.61796, saving model to saved_models/weights.best.basic_cnn.hdf5\n",
            "1/1 [==============================] - 1s 857ms/step - loss: 0.7431 - accuracy: 0.6250 - val_loss: 0.6180 - val_accuracy: 0.6750\n",
            "Epoch 54/72\n",
            "1/1 [==============================] - ETA: 0s - loss: 0.6412 - accuracy: 0.7188\n",
            "Epoch 54: val_loss improved from 0.61796 to 0.59627, saving model to saved_models/weights.best.basic_cnn.hdf5\n",
            "1/1 [==============================] - 1s 865ms/step - loss: 0.6412 - accuracy: 0.7188 - val_loss: 0.5963 - val_accuracy: 0.6750\n",
            "Epoch 55/72\n",
            "1/1 [==============================] - ETA: 0s - loss: 0.6864 - accuracy: 0.6062\n",
            "Epoch 55: val_loss improved from 0.59627 to 0.58123, saving model to saved_models/weights.best.basic_cnn.hdf5\n",
            "1/1 [==============================] - 1s 858ms/step - loss: 0.6864 - accuracy: 0.6062 - val_loss: 0.5812 - val_accuracy: 0.7000\n",
            "Epoch 56/72\n",
            "1/1 [==============================] - ETA: 0s - loss: 0.6124 - accuracy: 0.6938\n",
            "Epoch 56: val_loss improved from 0.58123 to 0.56919, saving model to saved_models/weights.best.basic_cnn.hdf5\n",
            "1/1 [==============================] - 1s 854ms/step - loss: 0.6124 - accuracy: 0.6938 - val_loss: 0.5692 - val_accuracy: 0.7250\n",
            "Epoch 57/72\n",
            "1/1 [==============================] - ETA: 0s - loss: 0.6147 - accuracy: 0.7125\n",
            "Epoch 57: val_loss improved from 0.56919 to 0.56146, saving model to saved_models/weights.best.basic_cnn.hdf5\n",
            "1/1 [==============================] - 1s 859ms/step - loss: 0.6147 - accuracy: 0.7125 - val_loss: 0.5615 - val_accuracy: 0.7500\n",
            "Epoch 58/72\n",
            "1/1 [==============================] - ETA: 0s - loss: 0.5871 - accuracy: 0.7500\n",
            "Epoch 58: val_loss improved from 0.56146 to 0.55789, saving model to saved_models/weights.best.basic_cnn.hdf5\n",
            "1/1 [==============================] - 1s 1s/step - loss: 0.5871 - accuracy: 0.7500 - val_loss: 0.5579 - val_accuracy: 0.7500\n",
            "Epoch 59/72\n",
            "1/1 [==============================] - ETA: 0s - loss: 0.5587 - accuracy: 0.7063\n",
            "Epoch 59: val_loss improved from 0.55789 to 0.55743, saving model to saved_models/weights.best.basic_cnn.hdf5\n",
            "1/1 [==============================] - 2s 2s/step - loss: 0.5587 - accuracy: 0.7063 - val_loss: 0.5574 - val_accuracy: 0.7250\n",
            "Epoch 60/72\n",
            "1/1 [==============================] - ETA: 0s - loss: 0.5098 - accuracy: 0.7875\n",
            "Epoch 60: val_loss did not improve from 0.55743\n",
            "1/1 [==============================] - 1s 1s/step - loss: 0.5098 - accuracy: 0.7875 - val_loss: 0.5592 - val_accuracy: 0.7250\n",
            "Epoch 61/72\n",
            "1/1 [==============================] - ETA: 0s - loss: 0.5812 - accuracy: 0.7563\n",
            "Epoch 61: val_loss improved from 0.55743 to 0.54983, saving model to saved_models/weights.best.basic_cnn.hdf5\n",
            "1/1 [==============================] - 1s 832ms/step - loss: 0.5812 - accuracy: 0.7563 - val_loss: 0.5498 - val_accuracy: 0.7250\n",
            "Epoch 62/72\n",
            "1/1 [==============================] - ETA: 0s - loss: 0.5771 - accuracy: 0.7625\n",
            "Epoch 62: val_loss improved from 0.54983 to 0.53521, saving model to saved_models/weights.best.basic_cnn.hdf5\n",
            "1/1 [==============================] - 1s 870ms/step - loss: 0.5771 - accuracy: 0.7625 - val_loss: 0.5352 - val_accuracy: 0.7250\n",
            "Epoch 63/72\n",
            "1/1 [==============================] - ETA: 0s - loss: 0.5173 - accuracy: 0.7312\n",
            "Epoch 63: val_loss improved from 0.53521 to 0.51738, saving model to saved_models/weights.best.basic_cnn.hdf5\n",
            "1/1 [==============================] - 1s 858ms/step - loss: 0.5173 - accuracy: 0.7312 - val_loss: 0.5174 - val_accuracy: 0.8000\n",
            "Epoch 64/72\n",
            "1/1 [==============================] - ETA: 0s - loss: 0.5233 - accuracy: 0.7375\n",
            "Epoch 64: val_loss improved from 0.51738 to 0.50331, saving model to saved_models/weights.best.basic_cnn.hdf5\n",
            "1/1 [==============================] - 1s 863ms/step - loss: 0.5233 - accuracy: 0.7375 - val_loss: 0.5033 - val_accuracy: 0.8000\n",
            "Epoch 65/72\n",
            "1/1 [==============================] - ETA: 0s - loss: 0.6101 - accuracy: 0.6938\n",
            "Epoch 65: val_loss improved from 0.50331 to 0.49516, saving model to saved_models/weights.best.basic_cnn.hdf5\n",
            "1/1 [==============================] - 1s 853ms/step - loss: 0.6101 - accuracy: 0.6938 - val_loss: 0.4952 - val_accuracy: 0.8000\n",
            "Epoch 66/72\n",
            "1/1 [==============================] - ETA: 0s - loss: 0.5014 - accuracy: 0.7688\n",
            "Epoch 66: val_loss improved from 0.49516 to 0.48971, saving model to saved_models/weights.best.basic_cnn.hdf5\n",
            "1/1 [==============================] - 1s 852ms/step - loss: 0.5014 - accuracy: 0.7688 - val_loss: 0.4897 - val_accuracy: 0.7750\n",
            "Epoch 67/72\n",
            "1/1 [==============================] - ETA: 0s - loss: 0.5491 - accuracy: 0.7375\n",
            "Epoch 67: val_loss improved from 0.48971 to 0.48855, saving model to saved_models/weights.best.basic_cnn.hdf5\n",
            "1/1 [==============================] - 1s 845ms/step - loss: 0.5491 - accuracy: 0.7375 - val_loss: 0.4886 - val_accuracy: 0.8000\n",
            "Epoch 68/72\n",
            "1/1 [==============================] - ETA: 0s - loss: 0.5305 - accuracy: 0.7375\n",
            "Epoch 68: val_loss improved from 0.48855 to 0.48679, saving model to saved_models/weights.best.basic_cnn.hdf5\n",
            "1/1 [==============================] - 1s 858ms/step - loss: 0.5305 - accuracy: 0.7375 - val_loss: 0.4868 - val_accuracy: 0.8000\n",
            "Epoch 69/72\n",
            "1/1 [==============================] - ETA: 0s - loss: 0.5399 - accuracy: 0.7625\n",
            "Epoch 69: val_loss improved from 0.48679 to 0.48304, saving model to saved_models/weights.best.basic_cnn.hdf5\n",
            "1/1 [==============================] - 1s 846ms/step - loss: 0.5399 - accuracy: 0.7625 - val_loss: 0.4830 - val_accuracy: 0.8000\n",
            "Epoch 70/72\n",
            "1/1 [==============================] - ETA: 0s - loss: 0.5676 - accuracy: 0.7375\n",
            "Epoch 70: val_loss improved from 0.48304 to 0.47200, saving model to saved_models/weights.best.basic_cnn.hdf5\n",
            "1/1 [==============================] - 1s 852ms/step - loss: 0.5676 - accuracy: 0.7375 - val_loss: 0.4720 - val_accuracy: 0.7750\n",
            "Epoch 71/72\n",
            "1/1 [==============================] - ETA: 0s - loss: 0.5790 - accuracy: 0.7625\n",
            "Epoch 71: val_loss improved from 0.47200 to 0.46091, saving model to saved_models/weights.best.basic_cnn.hdf5\n",
            "1/1 [==============================] - 1s 854ms/step - loss: 0.5790 - accuracy: 0.7625 - val_loss: 0.4609 - val_accuracy: 0.7750\n",
            "Epoch 72/72\n",
            "1/1 [==============================] - ETA: 0s - loss: 0.4914 - accuracy: 0.7688\n",
            "Epoch 72: val_loss improved from 0.46091 to 0.45221, saving model to saved_models/weights.best.basic_cnn.hdf5\n",
            "1/1 [==============================] - 1s 1s/step - loss: 0.4914 - accuracy: 0.7688 - val_loss: 0.4522 - val_accuracy: 0.7750\n",
            "Training completed in time:  0:01:09.774450\n"
          ]
        }
      ]
    },
    {
      "cell_type": "code",
      "source": [
        "import pandas as pd\n",
        "import numpy as np\n",
        "pd.DataFrame(history.history).plot(figsize=(8,5))\n",
        "plt.grid(True)\n",
        "plt.gca().set_ylim(0,1)\n",
        "plt.show()\n",
        "print('1. If the validation loss is greater(are both high:) than the training loss. The model is underfitting.')\n",
        "print('2. If the validation loss is greater than the training loss,The model is overfitting.')\n",
        "print('3. If the training loss and validation loss both decrease and stabilize at a specific point:the model is good fit')"
      ],
      "metadata": {
        "id": "UJjxh4_0MkoG",
        "outputId": "345dc9e6-3517-419a-efa3-8c1aad1fd54d",
        "colab": {
          "base_uri": "https://localhost:8080/",
          "height": 503
        }
      },
      "execution_count": 85,
      "outputs": [
        {
          "output_type": "display_data",
          "data": {
            "text/plain": [
              "<Figure size 800x500 with 1 Axes>"
            ],
            "image/png": "[encoded data removed]"
          },
          "metadata": {}
        },
        {
          "output_type": "stream",
          "name": "stdout",
          "text": [
            "1. If the validation loss is greater(are both high:) than the training loss. The model is underfitting.\n",
            "2. If the validation loss is greater than the training loss,The model is overfitting.\n",
            "3. If the training loss and validation loss both decrease and stabilize at a specific point:the model is good fit\n"
          ]
        }
      ]
    },
    {
      "cell_type": "code",
      "source": [
        "# Evaluating the model on the training and testing set\n",
        "score = model.evaluate(x_train, y_train, verbose=0)\n",
        "print(\"Training Accuracy: \", score[1]*100,\"%\")\n",
        "\n",
        "score = model.evaluate(x_test, y_test, verbose=0)\n",
        "print(\"Testing Accuracy: \", score[1]*100,\"%\")"
      ],
      "metadata": {
        "id": "uvJmIaLzMpVv",
        "outputId": "3a7bf2c5-ffa3-429c-9b71-fc6a86d779bb",
        "colab": {
          "base_uri": "https://localhost:8080/"
        }
      },
      "execution_count": 86,
      "outputs": [
        {
          "output_type": "stream",
          "name": "stdout",
          "text": [
            "Training Accuracy:  88.7499988079071 %\n",
            "Testing Accuracy:  80.0000011920929 %\n"
          ]
        }
      ]
    },
    {
      "cell_type": "code",
      "source": [
        "def print_prediction(file_name):\n",
        "    prediction_feature = extract_features(file_name) \n",
        "    prediction_feature = prediction_feature.reshape(1, num_rows, num_columns, num_channels)\n",
        "\n",
        "    predicted_vector = model.predict(prediction_feature)\n",
        "    predicted_class = le.inverse_transform(np.argmax(predicted_vector, axis=-1)) \n",
        "    print(\"The predicted class is:\", predicted_class[0], '\\n') \n",
        "\n",
        "    predicted_proba_vector = predicted_vector\n",
        "    for i in range(len(predicted_proba_vector[0])): \n",
        "        category = le.inverse_transform(np.array([i]))\n",
        "        print(category[0], \"\\t\\t : \", format(predicted_proba_vector[0][i]*100,'.32f'),\"%\")"
      ],
      "metadata": {
        "id": "UfcU6ZicMv-V"
      },
      "execution_count": 87,
      "outputs": []
    },
    {
      "cell_type": "code",
      "source": [
        "from pydub import AudioSegment\n",
        "\n",
        "# set the file paths\n",
        "input_file = \"/content/sample-195283.mp3\"\n",
        "output_file = \"/content/output.wav\"\n",
        "\n",
        "audio = AudioSegment.from_file(input_file, format=\"mp3\")\n",
        "\n",
        "audio.export(output_file, format=\"wav\")"
      ],
      "metadata": {
        "id": "cZ78n72ZQufO",
        "outputId": "81f0d3ab-6890-4810-8c91-0b6cc23a0026",
        "colab": {
          "base_uri": "https://localhost:8080/"
        }
      },
      "execution_count": 88,
      "outputs": [
        {
          "output_type": "execute_result",
          "data": {
            "text/plain": [
              "<_io.BufferedRandom name='/content/output.wav'>"
            ]
          },
          "metadata": {},
          "execution_count": 88
        }
      ]
    },
    {
      "cell_type": "code",
      "source": [
        "filename = '/content/output.wav' \n",
        "print_prediction(filename) "
      ],
      "metadata": {
        "id": "kojRxIGdMzUv",
        "outputId": "07531d86-c413-4d68-b6a9-0dfd4e41f692",
        "colab": {
          "base_uri": "https://localhost:8080/"
        }
      },
      "execution_count": 89,
      "outputs": [
        {
          "output_type": "stream",
          "name": "stdout",
          "text": [
            "1/1 [==============================] - 0s 109ms/step\n",
            "The predicted class is: female \n",
            "\n",
            "female \t\t :  80.44676184654235839843750000000000 %\n",
            "male \t\t :  19.55323815345764160156250000000000 %\n"
          ]
        }
      ]
    },
    {
      "cell_type": "markdown",
      "source": [
        "#  Early  Stopping"
      ],
      "metadata": {
        "id": "vUX_qkCQNaWv"
      }
    },
    {
      "cell_type": "code",
      "source": [
        "\n",
        "# Construct model \n",
        "model = Sequential()\n",
        "model.add(Conv2D(filters=16, kernel_size=2, input_shape=(num_rows, num_columns, num_channels), activation='relu'))\n",
        "model.add(MaxPooling2D(pool_size=2))\n",
        "model.add(Dropout(0.2))\n",
        "\n",
        "model.add(Conv2D(filters=32, kernel_size=2, activation='relu'))\n",
        "model.add(MaxPooling2D(pool_size=2))\n",
        "model.add(Dropout(0.2))\n",
        "\n",
        "model.add(Conv2D(filters=64, kernel_size=2, activation='relu'))\n",
        "model.add(MaxPooling2D(pool_size=2))\n",
        "model.add(Dropout(0.2))\n",
        "\n",
        "model.add(Conv2D(filters=128, kernel_size=2, activation='relu'))\n",
        "model.add(MaxPooling2D(pool_size=2))\n",
        "model.add(Dropout(0.2))\n",
        "model.add(GlobalAveragePooling2D())\n",
        "\n",
        "model.add(Dense(num_labels, activation='softmax')) \n"
      ],
      "metadata": {
        "id": "b6jqPr1pNey3"
      },
      "execution_count": 90,
      "outputs": []
    },
    {
      "cell_type": "code",
      "source": [
        "# Compile the model\n",
        "model.compile(loss='categorical_crossentropy', metrics=['accuracy'], optimizer='adam') "
      ],
      "metadata": {
        "id": "hc84zUvPOc8t"
      },
      "execution_count": 91,
      "outputs": []
    },
    {
      "cell_type": "code",
      "source": [
        "# Display model architecture summary \n",
        "model.summary()\n",
        "\n",
        "# Calculate pre-training accuracy \n",
        "score = model.evaluate(x_test, y_test, verbose=1)\n",
        "accuracy = 100*score[1]\n",
        "\n",
        "print(\"Pre-training accuracy: %.4f%%\" % accuracy)"
      ],
      "metadata": {
        "id": "fUjMVgqmNmAG",
        "outputId": "5947189a-9494-47f5-f03a-e17486733087",
        "colab": {
          "base_uri": "https://localhost:8080/"
        }
      },
      "execution_count": 92,
      "outputs": [
        {
          "output_type": "stream",
          "name": "stdout",
          "text": [
            "Model: \"sequential_10\"\n",
            "_________________________________________________________________\n",
            " Layer (type)                Output Shape              Param #   \n",
            "=================================================================\n",
            " conv2d_40 (Conv2D)          (None, 39, 173, 16)       80        \n",
            "                                                                 \n",
            " max_pooling2d_40 (MaxPoolin  (None, 19, 86, 16)       0         \n",
            " g2D)                                                            \n",
            "                                                                 \n",
            " dropout_24 (Dropout)        (None, 19, 86, 16)        0         \n",
            "                                                                 \n",
            " conv2d_41 (Conv2D)          (None, 18, 85, 32)        2080      \n",
            "                                                                 \n",
            " max_pooling2d_41 (MaxPoolin  (None, 9, 42, 32)        0         \n",
            " g2D)                                                            \n",
            "                                                                 \n",
            " dropout_25 (Dropout)        (None, 9, 42, 32)         0         \n",
            "                                                                 \n",
            " conv2d_42 (Conv2D)          (None, 8, 41, 64)         8256      \n",
            "                                                                 \n",
            " max_pooling2d_42 (MaxPoolin  (None, 4, 20, 64)        0         \n",
            " g2D)                                                            \n",
            "                                                                 \n",
            " dropout_26 (Dropout)        (None, 4, 20, 64)         0         \n",
            "                                                                 \n",
            " conv2d_43 (Conv2D)          (None, 3, 19, 128)        32896     \n",
            "                                                                 \n",
            " max_pooling2d_43 (MaxPoolin  (None, 1, 9, 128)        0         \n",
            " g2D)                                                            \n",
            "                                                                 \n",
            " dropout_27 (Dropout)        (None, 1, 9, 128)         0         \n",
            "                                                                 \n",
            " global_average_pooling2d_10  (None, 128)              0         \n",
            "  (GlobalAveragePooling2D)                                       \n",
            "                                                                 \n",
            " dense_14 (Dense)            (None, 2)                 258       \n",
            "                                                                 \n",
            "=================================================================\n",
            "Total params: 43,570\n",
            "Trainable params: 43,570\n",
            "Non-trainable params: 0\n",
            "_________________________________________________________________\n",
            "2/2 [==============================] - 0s 18ms/step - loss: 8.4552 - accuracy: 0.5250\n",
            "Pre-training accuracy: 52.5000%\n"
          ]
        }
      ]
    },
    {
      "cell_type": "code",
      "source": [
        "from keras.callbacks import ModelCheckpoint \n",
        "from datetime import datetime \n",
        "from keras.callbacks import EarlyStopping\n",
        "\n",
        "earlystop= EarlyStopping(monitor='val_accuracy', patience=3)\n",
        "num_epochs = 36\n",
        "num_batch_size = 256\n",
        "\n",
        "start = datetime.now()\n",
        "\n",
        "history=model.fit(x_train, y_train, batch_size=num_batch_size, epochs=num_epochs, validation_data=(x_test, y_test),callbacks=[earlystop], verbose=1)\n",
        "\n",
        "\n",
        "duration = datetime.now() - start\n",
        "print(\"Training completed in time: \", duration)"
      ],
      "metadata": {
        "id": "3TNxAueWNs4R",
        "outputId": "f77dd3c7-13e1-4a94-e08e-1cddb8747472",
        "colab": {
          "base_uri": "https://localhost:8080/"
        }
      },
      "execution_count": 93,
      "outputs": [
        {
          "output_type": "stream",
          "name": "stdout",
          "text": [
            "Epoch 1/36\n",
            "1/1 [==============================] - 3s 3s/step - loss: 18.6586 - accuracy: 0.4938 - val_loss: 2.6504 - val_accuracy: 0.4750\n",
            "Epoch 2/36\n",
            "1/1 [==============================] - 1s 843ms/step - loss: 2.9114 - accuracy: 0.4750 - val_loss: 7.8033 - val_accuracy: 0.4750\n",
            "Epoch 3/36\n",
            "1/1 [==============================] - 1s 831ms/step - loss: 9.2651 - accuracy: 0.5063 - val_loss: 6.2588 - val_accuracy: 0.4750\n",
            "Epoch 4/36\n",
            "1/1 [==============================] - 1s 1s/step - loss: 6.9200 - accuracy: 0.5188 - val_loss: 2.6362 - val_accuracy: 0.4750\n",
            "Training completed in time:  0:00:05.806059\n"
          ]
        }
      ]
    },
    {
      "cell_type": "code",
      "source": [
        "import pandas as pd\n",
        "import numpy as np\n",
        "pd.DataFrame(history.history).plot(figsize=(8,5))\n",
        "plt.grid(True)\n",
        "plt.gca().set_ylim(0,1)\n",
        "plt.show()\n",
        "print('1. If the validation loss is greater(are both high:) than the training loss. The model is underfitting.')\n",
        "print('2. If the validation loss is greater than the training loss,The model is overfitting.')\n",
        "print('3. If the training loss and validation loss both decrease and stabilize at a specific point:the model is good fit')"
      ],
      "metadata": {
        "id": "6oSjr9y3NxzB",
        "outputId": "d57973a0-3a71-4eac-b87a-b0e8c079fc0b",
        "colab": {
          "base_uri": "https://localhost:8080/",
          "height": 503
        }
      },
      "execution_count": 94,
      "outputs": [
        {
          "output_type": "display_data",
          "data": {
            "text/plain": [
              "<Figure size 800x500 with 1 Axes>"
            ],
            "image/png": "[encoded data removed]"
          },
          "metadata": {}
        },
        {
          "output_type": "stream",
          "name": "stdout",
          "text": [
            "1. If the validation loss is greater(are both high:) than the training loss. The model is underfitting.\n",
            "2. If the validation loss is greater than the training loss,The model is overfitting.\n",
            "3. If the training loss and validation loss both decrease and stabilize at a specific point:the model is good fit\n"
          ]
        }
      ]
    },
    {
      "cell_type": "code",
      "source": [
        "# Evaluating the model on the training and testing set\n",
        "score = model.evaluate(x_train, y_train, verbose=0)\n",
        "print(\"Training Accuracy: \", score[1]*100,\"%\")\n",
        "\n",
        "score = model.evaluate(x_test, y_test, verbose=0)\n",
        "print(\"Testing Accuracy: \", score[1]*100,\"%\")"
      ],
      "metadata": {
        "id": "W4dqIBe_NyRC",
        "outputId": "d1223667-3d6a-4785-eadd-07306bfbca06",
        "colab": {
          "base_uri": "https://localhost:8080/"
        }
      },
      "execution_count": 95,
      "outputs": [
        {
          "output_type": "stream",
          "name": "stdout",
          "text": [
            "Training Accuracy:  50.62500238418579 %\n",
            "Testing Accuracy:  47.49999940395355 %\n"
          ]
        }
      ]
    },
    {
      "cell_type": "code",
      "source": [
        "def print_prediction(file_name):\n",
        "    prediction_feature = extract_features(file_name) \n",
        "    prediction_feature = prediction_feature.reshape(1, num_rows, num_columns, num_channels)\n",
        "\n",
        "    predicted_vector = model.predict(prediction_feature)\n",
        "    predicted_class = le.inverse_transform(np.argmax(predicted_vector, axis=-1)) \n",
        "    print(\"The predicted class is:\", predicted_class[0], '\\n') \n",
        "\n",
        "    predicted_proba_vector = predicted_vector\n",
        "    for i in range(len(predicted_proba_vector[0])): \n",
        "        category = le.inverse_transform(np.array([i]))\n",
        "        print(category[0], \"\\t\\t : \", format(predicted_proba_vector[0][i]*100,'.32f'),\"%\")"
      ],
      "metadata": {
        "id": "TZ0QPhO2N8RP"
      },
      "execution_count": 96,
      "outputs": []
    },
    {
      "cell_type": "code",
      "source": [
        "from pydub import AudioSegment\n",
        "\n",
        "# set the file paths\n",
        "input_file = \"/content/sample-195283.mp3\"\n",
        "output_file = \"/content/output.wav\"\n",
        "\n",
        "audio = AudioSegment.from_file(input_file, format=\"mp3\")\n",
        "\n",
        "audio.export(output_file, format=\"wav\")"
      ],
      "metadata": {
        "id": "gX206F7cQ2Yk",
        "outputId": "a073bb26-2950-4961-a652-959d9bbe30a4",
        "colab": {
          "base_uri": "https://localhost:8080/"
        }
      },
      "execution_count": 97,
      "outputs": [
        {
          "output_type": "execute_result",
          "data": {
            "text/plain": [
              "<_io.BufferedRandom name='/content/output.wav'>"
            ]
          },
          "metadata": {},
          "execution_count": 97
        }
      ]
    },
    {
      "cell_type": "code",
      "source": [
        "filename = '/content/output.wav' \n",
        "print_prediction(filename) "
      ],
      "metadata": {
        "id": "yzfjVsdWN8aa",
        "outputId": "3ff187fa-54e0-4e46-ad34-375a37fa6071",
        "colab": {
          "base_uri": "https://localhost:8080/"
        }
      },
      "execution_count": 98,
      "outputs": [
        {
          "output_type": "stream",
          "name": "stdout",
          "text": [
            "1/1 [==============================] - 0s 116ms/step\n",
            "The predicted class is: female \n",
            "\n",
            "female \t\t :  99.89032745361328125000000000000000 %\n",
            "male \t\t :  0.10966605041176080703735351562500 %\n"
          ]
        }
      ]
    }
  ],
  "metadata": {
    "kernelspec": {
      "display_name": "Python 3",
      "language": "python",
      "name": "python3"
    },
    "language_info": {
      "codemirror_mode": {
        "name": "ipython",
        "version": 3
      },
      "file_extension": ".py",
      "mimetype": "text/x-python",
      "name": "python",
      "nbconvert_exporter": "python",
      "pygments_lexer": "ipython3",
      "version": "3.10.1"
    },
    "colab": {
      "provenance": [],
      "include_colab_link": true
    }
  },
  "nbformat": 4,
  "nbformat_minor": 0
}