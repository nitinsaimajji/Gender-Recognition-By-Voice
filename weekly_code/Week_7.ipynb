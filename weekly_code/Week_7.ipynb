{
  "cells": [
    {
      "cell_type": "markdown",
      "metadata": {
        "id": "view-in-github",
        "colab_type": "text"
      },
      "source": [
        "<a href=\"https://colab.research.google.com/github/nitinsaimajji/voice1/blob/main/weekly_code/Week_7.ipynb\" target=\"_parent\"><img src=\"https://colab.research.google.com/assets/colab-badge.svg\" alt=\"Open In Colab\"/></a>"
      ]
    },
    {
      "cell_type": "code",
      "execution_count": 54,
      "metadata": {
        "id": "qzpV-lbxaKAe",
        "outputId": "31a5e275-b1de-4b16-e976-f73a306313d1",
        "colab": {
          "base_uri": "https://localhost:8080/"
        }
      },
      "outputs": [
        {
          "output_type": "stream",
          "name": "stdout",
          "text": [
            "Looking in indexes: https://pypi.org/simple, https://us-python.pkg.dev/colab-wheels/public/simple/\n",
            "Requirement already satisfied: python_speech_features in /usr/local/lib/python3.9/dist-packages (0.6)\n"
          ]
        }
      ],
      "source": [
        "pip install python_speech_features\n"
      ]
    },
    {
      "cell_type": "code",
      "source": [
        "!git clone https://github.com/nitinsaimajji/voice1.git"
      ],
      "metadata": {
        "colab": {
          "base_uri": "https://localhost:8080/"
        },
        "id": "r0Uz-4pobGse",
        "outputId": "9cba5e98-789c-4279-875a-2e2826d0b9ff"
      },
      "execution_count": 55,
      "outputs": [
        {
          "output_type": "stream",
          "name": "stdout",
          "text": [
            "fatal: destination path 'voice1' already exists and is not an empty directory.\n"
          ]
        }
      ]
    },
    {
      "cell_type": "code",
      "source": [
        "pip install pydub"
      ],
      "metadata": {
        "colab": {
          "base_uri": "https://localhost:8080/"
        },
        "id": "x67ZxGUVZzTH",
        "outputId": "0c921c70-d880-4f22-d7dc-7104a2e65c4f"
      },
      "execution_count": 56,
      "outputs": [
        {
          "output_type": "stream",
          "name": "stdout",
          "text": [
            "Looking in indexes: https://pypi.org/simple, https://us-python.pkg.dev/colab-wheels/public/simple/\n",
            "Requirement already satisfied: pydub in /usr/local/lib/python3.9/dist-packages (0.25.1)\n"
          ]
        }
      ]
    },
    {
      "cell_type": "code",
      "execution_count": 56,
      "metadata": {
        "id": "HtefZ9dDaKAn"
      },
      "outputs": [],
      "source": []
    },
    {
      "cell_type": "markdown",
      "source": [
        "## **A1**"
      ],
      "metadata": {
        "id": "73l5XscFUr_A"
      }
    },
    {
      "cell_type": "code",
      "source": [
        "import os\n",
        "import librosa\n",
        "import numpy as np\n",
        "import pandas as pd\n",
        "import matplotlib.pyplot as plt\n",
        "import seaborn as sns\n",
        "from tqdm import tqdm\n",
        "from sklearn.model_selection import train_test_split\n",
        "from sklearn.svm import SVC\n",
        "from sklearn.metrics import confusion_matrix\n",
        "from pydub import AudioSegment\n",
        "from python_speech_features import mfcc\n",
        "from time import time\n",
        "import IPython.display as ipd\n",
        "import librosa\n",
        "import librosa.display"
      ],
      "metadata": {
        "id": "NPMRDy_hIWk1"
      },
      "execution_count": 57,
      "outputs": []
    },
    {
      "cell_type": "code",
      "source": [
        "df = pd.read_csv('/content/voice1/wav_check.csv')\n",
        "df.head()"
      ],
      "metadata": {
        "id": "26ZqBBYCvxvG",
        "outputId": "92965045-1af5-4016-e333-5533e8549f72",
        "colab": {
          "base_uri": "https://localhost:8080/",
          "height": 206
        }
      },
      "execution_count": 58,
      "outputs": [
        {
          "output_type": "execute_result",
          "data": {
            "text/plain": [
              "                 filename gender\n",
              "0  male-sample-000008.wav   male\n",
              "1  male-sample-000014.wav   male\n",
              "2  male-sample-000019.wav   male\n",
              "3  male-sample-000020.wav   male\n",
              "4  male-sample-000023.wav   male"
            ],
            "text/html": [
              "\n",
              "  <div id=\"df-3b8765d8-0ef0-46fc-9978-a6780181030b\">\n",
              "    <div class=\"colab-df-container\">\n",
              "      <div>\n",
              "<style scoped>\n",
              "    .dataframe tbody tr th:only-of-type {\n",
              "        vertical-align: middle;\n",
              "    }\n",
              "\n",
              "    .dataframe tbody tr th {\n",
              "        vertical-align: top;\n",
              "    }\n",
              "\n",
              "    .dataframe thead th {\n",
              "        text-align: right;\n",
              "    }\n",
              "</style>\n",
              "<table border=\"1\" class=\"dataframe\">\n",
              "  <thead>\n",
              "    <tr style=\"text-align: right;\">\n",
              "      <th></th>\n",
              "      <th>filename</th>\n",
              "      <th>gender</th>\n",
              "    </tr>\n",
              "  </thead>\n",
              "  <tbody>\n",
              "    <tr>\n",
              "      <th>0</th>\n",
              "      <td>male-sample-000008.wav</td>\n",
              "      <td>male</td>\n",
              "    </tr>\n",
              "    <tr>\n",
              "      <th>1</th>\n",
              "      <td>male-sample-000014.wav</td>\n",
              "      <td>male</td>\n",
              "    </tr>\n",
              "    <tr>\n",
              "      <th>2</th>\n",
              "      <td>male-sample-000019.wav</td>\n",
              "      <td>male</td>\n",
              "    </tr>\n",
              "    <tr>\n",
              "      <th>3</th>\n",
              "      <td>male-sample-000020.wav</td>\n",
              "      <td>male</td>\n",
              "    </tr>\n",
              "    <tr>\n",
              "      <th>4</th>\n",
              "      <td>male-sample-000023.wav</td>\n",
              "      <td>male</td>\n",
              "    </tr>\n",
              "  </tbody>\n",
              "</table>\n",
              "</div>\n",
              "      <button class=\"colab-df-convert\" onclick=\"convertToInteractive('df-3b8765d8-0ef0-46fc-9978-a6780181030b')\"\n",
              "              title=\"Convert this dataframe to an interactive table.\"\n",
              "              style=\"display:none;\">\n",
              "        \n",
              "  <svg xmlns=\"http://www.w3.org/2000/svg\" height=\"24px\"viewBox=\"0 0 24 24\"\n",
              "       width=\"24px\">\n",
              "    <path d=\"M0 0h24v24H0V0z\" fill=\"none\"/>\n",
              "    <path d=\"M18.56 5.44l.94 2.06.94-2.06 2.06-.94-2.06-.94-.94-2.06-.94 2.06-2.06.94zm-11 1L8.5 8.5l.94-2.06 2.06-.94-2.06-.94L8.5 2.5l-.94 2.06-2.06.94zm10 10l.94 2.06.94-2.06 2.06-.94-2.06-.94-.94-2.06-.94 2.06-2.06.94z\"/><path d=\"M17.41 7.96l-1.37-1.37c-.4-.4-.92-.59-1.43-.59-.52 0-1.04.2-1.43.59L10.3 9.45l-7.72 7.72c-.78.78-.78 2.05 0 2.83L4 21.41c.39.39.9.59 1.41.59.51 0 1.02-.2 1.41-.59l7.78-7.78 2.81-2.81c.8-.78.8-2.07 0-2.86zM5.41 20L4 18.59l7.72-7.72 1.47 1.35L5.41 20z\"/>\n",
              "  </svg>\n",
              "      </button>\n",
              "      \n",
              "  <style>\n",
              "    .colab-df-container {\n",
              "      display:flex;\n",
              "      flex-wrap:wrap;\n",
              "      gap: 12px;\n",
              "    }\n",
              "\n",
              "    .colab-df-convert {\n",
              "      background-color: #E8F0FE;\n",
              "      border: none;\n",
              "      border-radius: 50%;\n",
              "      cursor: pointer;\n",
              "      display: none;\n",
              "      fill: #1967D2;\n",
              "      height: 32px;\n",
              "      padding: 0 0 0 0;\n",
              "      width: 32px;\n",
              "    }\n",
              "\n",
              "    .colab-df-convert:hover {\n",
              "      background-color: #E2EBFA;\n",
              "      box-shadow: 0px 1px 2px rgba(60, 64, 67, 0.3), 0px 1px 3px 1px rgba(60, 64, 67, 0.15);\n",
              "      fill: #174EA6;\n",
              "    }\n",
              "\n",
              "    [theme=dark] .colab-df-convert {\n",
              "      background-color: #3B4455;\n",
              "      fill: #D2E3FC;\n",
              "    }\n",
              "\n",
              "    [theme=dark] .colab-df-convert:hover {\n",
              "      background-color: #434B5C;\n",
              "      box-shadow: 0px 1px 3px 1px rgba(0, 0, 0, 0.15);\n",
              "      filter: drop-shadow(0px 1px 2px rgba(0, 0, 0, 0.3));\n",
              "      fill: #FFFFFF;\n",
              "    }\n",
              "  </style>\n",
              "\n",
              "      <script>\n",
              "        const buttonEl =\n",
              "          document.querySelector('#df-3b8765d8-0ef0-46fc-9978-a6780181030b button.colab-df-convert');\n",
              "        buttonEl.style.display =\n",
              "          google.colab.kernel.accessAllowed ? 'block' : 'none';\n",
              "\n",
              "        async function convertToInteractive(key) {\n",
              "          const element = document.querySelector('#df-3b8765d8-0ef0-46fc-9978-a6780181030b');\n",
              "          const dataTable =\n",
              "            await google.colab.kernel.invokeFunction('convertToInteractive',\n",
              "                                                     [key], {});\n",
              "          if (!dataTable) return;\n",
              "\n",
              "          const docLinkHtml = 'Like what you see? Visit the ' +\n",
              "            '<a target=\"_blank\" href=https://colab.research.google.com/notebooks/data_table.ipynb>data table notebook</a>'\n",
              "            + ' to learn more about interactive tables.';\n",
              "          element.innerHTML = '';\n",
              "          dataTable['output_type'] = 'display_data';\n",
              "          await google.colab.output.renderOutput(dataTable, element);\n",
              "          const docLink = document.createElement('div');\n",
              "          docLink.innerHTML = docLinkHtml;\n",
              "          element.appendChild(docLink);\n",
              "        }\n",
              "      </script>\n",
              "    </div>\n",
              "  </div>\n",
              "  "
            ]
          },
          "metadata": {},
          "execution_count": 58
        }
      ]
    },
    {
      "cell_type": "code",
      "source": [
        "TRAIN_PATH = '/content/voice/cv-valid-train/'\n",
        "!pip install wavefile\n",
        "!pip install helpers"
      ],
      "metadata": {
        "id": "7Qj2O2rCv2UR",
        "outputId": "d3c15334-9204-4611-9fbf-3473e4325f7c",
        "colab": {
          "base_uri": "https://localhost:8080/"
        }
      },
      "execution_count": 59,
      "outputs": [
        {
          "output_type": "stream",
          "name": "stdout",
          "text": [
            "Looking in indexes: https://pypi.org/simple, https://us-python.pkg.dev/colab-wheels/public/simple/\n",
            "Requirement already satisfied: wavefile in /usr/local/lib/python3.9/dist-packages (1.5)\n",
            "Requirement already satisfied: numpy in /usr/local/lib/python3.9/dist-packages (from wavefile) (1.22.4)\n",
            "Looking in indexes: https://pypi.org/simple, https://us-python.pkg.dev/colab-wheels/public/simple/\n",
            "Requirement already satisfied: helpers in /usr/local/lib/python3.9/dist-packages (0.2.0)\n"
          ]
        }
      ]
    },
    {
      "cell_type": "code",
      "source": [
        "max_pad_len = 174\n",
        "\n",
        "def extract_features(file_name):\n",
        "    try:\n",
        "        audio, sample_rate = librosa.load(file_name) \n",
        "        mfccs = librosa.feature.mfcc(y=audio, sr=sample_rate, n_mfcc=40)\n",
        "        \n",
        "        if mfccs.shape[1] < max_pad_len:\n",
        "            pad_width = max_pad_len - mfccs.shape[1]\n",
        "            mfccs = np.pad(mfccs, pad_width=((0, 0), (0, pad_width)), mode='constant')\n",
        "        else:\n",
        "            mfccs = mfccs[:, :max_pad_len]\n",
        "            \n",
        "    except Exception as e:\n",
        "        print(\"Error encountered while parsing file: \", file_name)\n",
        "        return None \n",
        "     \n",
        "    return mfccs\n"
      ],
      "metadata": {
        "id": "lQftXfpiv5rp"
      },
      "execution_count": 60,
      "outputs": []
    },
    {
      "cell_type": "code",
      "source": [
        "\n",
        "import os\n",
        "\n",
        "fulldatasetpath = '/content/voice1/dataset1'\n",
        "\n",
        "df = pd.read_csv('/content/voice1/wav_check.csv')\n",
        "\n",
        "\n",
        "features = []\n",
        "\n",
        "\n",
        "for index, row in df.iterrows():\n",
        "    \n",
        "    file_name = os.path.join(os.path.abspath(fulldatasetpath)+'/',str(row[\"filename\"]))\n",
        "    \n",
        "    class_label = row[\"gender\"]\n",
        "    data = extract_features(file_name)\n",
        "    \n",
        "    features.append([data, class_label])\n",
        "\n",
        "\n",
        "featuresdf = pd.DataFrame(features, columns=['feature','class_label'])\n",
        "\n",
        "print('Finished feature extraction from ', len(featuresdf), ' files') "
      ],
      "metadata": {
        "id": "Su6uUdC4wCMw",
        "outputId": "4a6b201d-11bc-4476-951b-0a9ed95a58bc",
        "colab": {
          "base_uri": "https://localhost:8080/"
        }
      },
      "execution_count": 61,
      "outputs": [
        {
          "output_type": "stream",
          "name": "stdout",
          "text": [
            "Finished feature extraction from  200  files\n"
          ]
        }
      ]
    },
    {
      "cell_type": "code",
      "source": [
        "from sklearn.preprocessing import LabelEncoder\n",
        "from keras.utils import to_categorical\n",
        "X = np.array(featuresdf.feature.tolist())\n",
        "y = np.array(featuresdf.class_label.tolist())\n",
        "le = LabelEncoder()\n",
        "yy = to_categorical(le.fit_transform(y)) \n",
        "from sklearn.model_selection import train_test_split \n",
        "\n",
        "x_train, x_test, y_train, y_test = train_test_split(X, yy, test_size=0.2, random_state = 42)"
      ],
      "metadata": {
        "id": "LEDlMKjWwD87"
      },
      "execution_count": 62,
      "outputs": []
    },
    {
      "cell_type": "markdown",
      "source": [
        "## CNN ARCHITECTURE"
      ],
      "metadata": {
        "id": "NVlm0-jJwJ1G"
      }
    },
    {
      "cell_type": "code",
      "source": [
        "from keras.models import Sequential\n",
        "from keras.layers import Dense, Dropout, Activation, Flatten\n",
        "from keras.layers import Convolution2D, Conv2D, MaxPooling2D, GlobalAveragePooling2D\n",
        "from keras.optimizers import Adam\n",
        "from keras.utils import np_utils\n",
        "from sklearn import metrics \n",
        "\n",
        "num_rows = 40\n",
        "num_columns = 174\n",
        "num_channels = 1\n",
        "\n",
        "x_train = x_train.reshape(x_train.shape[0], num_rows, num_columns, num_channels)\n",
        "x_test = x_test.reshape(x_test.shape[0], num_rows, num_columns, num_channels)\n",
        "\n",
        "num_labels = yy.shape[1]\n",
        "filter_size = 2\n"
      ],
      "metadata": {
        "id": "qvhOiFyDwOjz"
      },
      "execution_count": 63,
      "outputs": []
    },
    {
      "cell_type": "code",
      "source": [
        "from keras import regularizers"
      ],
      "metadata": {
        "id": "sg6y0BiIKgES"
      },
      "execution_count": 64,
      "outputs": []
    },
    {
      "cell_type": "markdown",
      "source": [
        "## Regularization : L2 & L1 regularization"
      ],
      "metadata": {
        "id": "n1D4d5EGKgvf"
      }
    },
    {
      "cell_type": "code",
      "source": [
        "\n",
        "# Construct model \n",
        "model = Sequential()\n",
        "model.add(Conv2D(filters=16, kernel_size=2, input_shape=(num_rows, num_columns, num_channels), activation='relu'))\n",
        "model.add(MaxPooling2D(pool_size=2))\n",
        "# model.add(Dropout(0.2))\n",
        "\n",
        "model.add(Conv2D(filters=32, kernel_size=2, activation='relu'))\n",
        "model.add(MaxPooling2D(pool_size=2))\n",
        "# model.add(Dropout(0.2))\n",
        "\n",
        "model.add(Conv2D(filters=64, kernel_size=2, activation='relu'))\n",
        "model.add(MaxPooling2D(pool_size=2))\n",
        "# model.add(Dropout(0.2))\n",
        "\n",
        "model.add(Conv2D(filters=128, kernel_size=2, activation='relu'))\n",
        "model.add(MaxPooling2D(pool_size=2))\n",
        "# model.add(Dropout(0.2))\n",
        "model.add(GlobalAveragePooling2D())\n",
        "\n",
        "model.add(Dense(num_labels, activation='softmax')) \n",
        "model.add(Dense(500,kernel_regularizer=regularizers.l2(0.01),activation=\"relu\"))\n",
        "model.add(Dense(2,activation=\"softmax\"))#2 represent output layer neurons "
      ],
      "metadata": {
        "id": "E-HoPlexJjEu"
      },
      "execution_count": 65,
      "outputs": []
    },
    {
      "cell_type": "markdown",
      "source": [],
      "metadata": {
        "id": "IUjVRV0FJiKq"
      }
    },
    {
      "cell_type": "code",
      "source": [
        "# Compile the model\n",
        "model.compile(loss='categorical_crossentropy', metrics=['accuracy'], optimizer='adam') "
      ],
      "metadata": {
        "id": "4rPEOfbowPDo"
      },
      "execution_count": 66,
      "outputs": []
    },
    {
      "cell_type": "code",
      "source": [
        "# Display model architecture summary \n",
        "model.summary()\n",
        "\n",
        "# Calculate pre-training accuracy \n",
        "score = model.evaluate(x_test, y_test, verbose=1)\n",
        "accuracy = 100*score[1]\n",
        "\n",
        "print(\"Pre-training accuracy: %.4f%%\" % accuracy)"
      ],
      "metadata": {
        "id": "UJxfrfSGwRrl",
        "outputId": "6ebde9c9-bfc3-416f-9394-34be257a0be5",
        "colab": {
          "base_uri": "https://localhost:8080/"
        }
      },
      "execution_count": 67,
      "outputs": [
        {
          "output_type": "stream",
          "name": "stdout",
          "text": [
            "Model: \"sequential_3\"\n",
            "_________________________________________________________________\n",
            " Layer (type)                Output Shape              Param #   \n",
            "=================================================================\n",
            " conv2d_12 (Conv2D)          (None, 39, 173, 16)       80        \n",
            "                                                                 \n",
            " max_pooling2d_12 (MaxPoolin  (None, 19, 86, 16)       0         \n",
            " g2D)                                                            \n",
            "                                                                 \n",
            " conv2d_13 (Conv2D)          (None, 18, 85, 32)        2080      \n",
            "                                                                 \n",
            " max_pooling2d_13 (MaxPoolin  (None, 9, 42, 32)        0         \n",
            " g2D)                                                            \n",
            "                                                                 \n",
            " conv2d_14 (Conv2D)          (None, 8, 41, 64)         8256      \n",
            "                                                                 \n",
            " max_pooling2d_14 (MaxPoolin  (None, 4, 20, 64)        0         \n",
            " g2D)                                                            \n",
            "                                                                 \n",
            " conv2d_15 (Conv2D)          (None, 3, 19, 128)        32896     \n",
            "                                                                 \n",
            " max_pooling2d_15 (MaxPoolin  (None, 1, 9, 128)        0         \n",
            " g2D)                                                            \n",
            "                                                                 \n",
            " global_average_pooling2d_3   (None, 128)              0         \n",
            " (GlobalAveragePooling2D)                                        \n",
            "                                                                 \n",
            " dense_7 (Dense)             (None, 2)                 258       \n",
            "                                                                 \n",
            " dense_8 (Dense)             (None, 500)               1500      \n",
            "                                                                 \n",
            " dense_9 (Dense)             (None, 2)                 1002      \n",
            "                                                                 \n",
            "=================================================================\n",
            "Total params: 46,072\n",
            "Trainable params: 46,072\n",
            "Non-trainable params: 0\n",
            "_________________________________________________________________\n",
            "2/2 [==============================] - 1s 37ms/step - loss: 0.7346 - accuracy: 0.4750\n",
            "Pre-training accuracy: 47.5000%\n"
          ]
        }
      ]
    },
    {
      "cell_type": "code",
      "source": [
        "from keras.callbacks import ModelCheckpoint \n",
        "from datetime import datetime \n",
        "\n",
        "num_epochs = 72\n",
        "num_batch_size = 256\n",
        "\n",
        "checkpointer = ModelCheckpoint(filepath='saved_models/weights.best.basic_cnn.hdf5', \n",
        "                               verbose=1, save_best_only=True)\n",
        "start = datetime.now()\n",
        "\n",
        "history=model.fit(x_train, y_train, batch_size=num_batch_size, epochs=num_epochs, validation_data=(x_test, y_test), callbacks=[checkpointer], verbose=1)\n",
        "\n",
        "\n",
        "duration = datetime.now() - start\n",
        "print(\"Training completed in time: \", duration)"
      ],
      "metadata": {
        "id": "sVNbobr1wTlk",
        "outputId": "79ef55ae-cac4-4e88-cb7d-fe670681d79f",
        "colab": {
          "base_uri": "https://localhost:8080/"
        }
      },
      "execution_count": 68,
      "outputs": [
        {
          "output_type": "stream",
          "name": "stdout",
          "text": [
            "Epoch 1/72\n",
            "1/1 [==============================] - ETA: 0s - loss: 0.7342 - accuracy: 0.5063\n",
            "Epoch 1: val_loss improved from inf to 0.73464, saving model to saved_models/weights.best.basic_cnn.hdf5\n",
            "1/1 [==============================] - 2s 2s/step - loss: 0.7342 - accuracy: 0.5063 - val_loss: 0.7346 - val_accuracy: 0.4750\n",
            "Epoch 2/72\n",
            "1/1 [==============================] - ETA: 0s - loss: 0.7328 - accuracy: 0.5063\n",
            "Epoch 2: val_loss improved from 0.73464 to 0.73295, saving model to saved_models/weights.best.basic_cnn.hdf5\n",
            "1/1 [==============================] - 1s 923ms/step - loss: 0.7328 - accuracy: 0.5063 - val_loss: 0.7329 - val_accuracy: 0.4750\n",
            "Epoch 3/72\n",
            "1/1 [==============================] - ETA: 0s - loss: 0.7316 - accuracy: 0.5063\n",
            "Epoch 3: val_loss improved from 0.73295 to 0.73110, saving model to saved_models/weights.best.basic_cnn.hdf5\n",
            "1/1 [==============================] - 1s 1s/step - loss: 0.7316 - accuracy: 0.5063 - val_loss: 0.7311 - val_accuracy: 0.4750\n",
            "Epoch 4/72\n",
            "1/1 [==============================] - ETA: 0s - loss: 0.7305 - accuracy: 0.5063\n",
            "Epoch 4: val_loss improved from 0.73110 to 0.72967, saving model to saved_models/weights.best.basic_cnn.hdf5\n",
            "1/1 [==============================] - 2s 2s/step - loss: 0.7305 - accuracy: 0.5063 - val_loss: 0.7297 - val_accuracy: 0.4750\n",
            "Epoch 5/72\n",
            "1/1 [==============================] - ETA: 0s - loss: 0.7296 - accuracy: 0.5063\n",
            "Epoch 5: val_loss improved from 0.72967 to 0.72869, saving model to saved_models/weights.best.basic_cnn.hdf5\n",
            "1/1 [==============================] - 1s 1s/step - loss: 0.7296 - accuracy: 0.5063 - val_loss: 0.7287 - val_accuracy: 0.4750\n",
            "Epoch 6/72\n",
            "1/1 [==============================] - ETA: 0s - loss: 0.7286 - accuracy: 0.5063\n",
            "Epoch 6: val_loss improved from 0.72869 to 0.72801, saving model to saved_models/weights.best.basic_cnn.hdf5\n",
            "1/1 [==============================] - 2s 2s/step - loss: 0.7286 - accuracy: 0.5063 - val_loss: 0.7280 - val_accuracy: 0.4750\n",
            "Epoch 7/72\n",
            "1/1 [==============================] - ETA: 0s - loss: 0.7276 - accuracy: 0.5063\n",
            "Epoch 7: val_loss improved from 0.72801 to 0.72747, saving model to saved_models/weights.best.basic_cnn.hdf5\n",
            "1/1 [==============================] - 2s 2s/step - loss: 0.7276 - accuracy: 0.5063 - val_loss: 0.7275 - val_accuracy: 0.4750\n",
            "Epoch 8/72\n",
            "1/1 [==============================] - ETA: 0s - loss: 0.7266 - accuracy: 0.5063\n",
            "Epoch 8: val_loss improved from 0.72747 to 0.72687, saving model to saved_models/weights.best.basic_cnn.hdf5\n",
            "1/1 [==============================] - 2s 2s/step - loss: 0.7266 - accuracy: 0.5063 - val_loss: 0.7269 - val_accuracy: 0.4750\n",
            "Epoch 9/72\n",
            "1/1 [==============================] - ETA: 0s - loss: 0.7257 - accuracy: 0.5063\n",
            "Epoch 9: val_loss improved from 0.72687 to 0.72605, saving model to saved_models/weights.best.basic_cnn.hdf5\n",
            "1/1 [==============================] - 1s 1s/step - loss: 0.7257 - accuracy: 0.5063 - val_loss: 0.7261 - val_accuracy: 0.4750\n",
            "Epoch 10/72\n",
            "1/1 [==============================] - ETA: 0s - loss: 0.7248 - accuracy: 0.5063\n",
            "Epoch 10: val_loss improved from 0.72605 to 0.72501, saving model to saved_models/weights.best.basic_cnn.hdf5\n",
            "1/1 [==============================] - 1s 1s/step - loss: 0.7248 - accuracy: 0.5063 - val_loss: 0.7250 - val_accuracy: 0.4750\n",
            "Epoch 11/72\n",
            "1/1 [==============================] - ETA: 0s - loss: 0.7238 - accuracy: 0.5063\n",
            "Epoch 11: val_loss improved from 0.72501 to 0.72385, saving model to saved_models/weights.best.basic_cnn.hdf5\n",
            "1/1 [==============================] - 2s 2s/step - loss: 0.7238 - accuracy: 0.5063 - val_loss: 0.7238 - val_accuracy: 0.4750\n",
            "Epoch 12/72\n",
            "1/1 [==============================] - ETA: 0s - loss: 0.7229 - accuracy: 0.5063\n",
            "Epoch 12: val_loss improved from 0.72385 to 0.72271, saving model to saved_models/weights.best.basic_cnn.hdf5\n",
            "1/1 [==============================] - 2s 2s/step - loss: 0.7229 - accuracy: 0.5063 - val_loss: 0.7227 - val_accuracy: 0.4750\n",
            "Epoch 13/72\n",
            "1/1 [==============================] - ETA: 0s - loss: 0.7221 - accuracy: 0.5063\n",
            "Epoch 13: val_loss improved from 0.72271 to 0.72168, saving model to saved_models/weights.best.basic_cnn.hdf5\n",
            "1/1 [==============================] - 2s 2s/step - loss: 0.7221 - accuracy: 0.5063 - val_loss: 0.7217 - val_accuracy: 0.4750\n",
            "Epoch 14/72\n",
            "1/1 [==============================] - ETA: 0s - loss: 0.7212 - accuracy: 0.5063\n",
            "Epoch 14: val_loss improved from 0.72168 to 0.72082, saving model to saved_models/weights.best.basic_cnn.hdf5\n",
            "1/1 [==============================] - 2s 2s/step - loss: 0.7212 - accuracy: 0.5063 - val_loss: 0.7208 - val_accuracy: 0.4750\n",
            "Epoch 15/72\n",
            "1/1 [==============================] - ETA: 0s - loss: 0.7204 - accuracy: 0.5063\n",
            "Epoch 15: val_loss improved from 0.72082 to 0.72011, saving model to saved_models/weights.best.basic_cnn.hdf5\n",
            "1/1 [==============================] - 1s 1s/step - loss: 0.7204 - accuracy: 0.5063 - val_loss: 0.7201 - val_accuracy: 0.4750\n",
            "Epoch 16/72\n",
            "1/1 [==============================] - ETA: 0s - loss: 0.7196 - accuracy: 0.5063\n",
            "Epoch 16: val_loss improved from 0.72011 to 0.71950, saving model to saved_models/weights.best.basic_cnn.hdf5\n",
            "1/1 [==============================] - 1s 1s/step - loss: 0.7196 - accuracy: 0.5063 - val_loss: 0.7195 - val_accuracy: 0.4750\n",
            "Epoch 17/72\n",
            "1/1 [==============================] - ETA: 0s - loss: 0.7188 - accuracy: 0.5063\n",
            "Epoch 17: val_loss improved from 0.71950 to 0.71893, saving model to saved_models/weights.best.basic_cnn.hdf5\n",
            "1/1 [==============================] - 2s 2s/step - loss: 0.7188 - accuracy: 0.5063 - val_loss: 0.7189 - val_accuracy: 0.4750\n",
            "Epoch 18/72\n",
            "1/1 [==============================] - ETA: 0s - loss: 0.7180 - accuracy: 0.5063\n",
            "Epoch 18: val_loss improved from 0.71893 to 0.71830, saving model to saved_models/weights.best.basic_cnn.hdf5\n",
            "1/1 [==============================] - 2s 2s/step - loss: 0.7180 - accuracy: 0.5063 - val_loss: 0.7183 - val_accuracy: 0.4750\n",
            "Epoch 19/72\n",
            "1/1 [==============================] - ETA: 0s - loss: 0.7173 - accuracy: 0.5063\n",
            "Epoch 19: val_loss improved from 0.71830 to 0.71758, saving model to saved_models/weights.best.basic_cnn.hdf5\n",
            "1/1 [==============================] - 3s 3s/step - loss: 0.7173 - accuracy: 0.5063 - val_loss: 0.7176 - val_accuracy: 0.4750\n",
            "Epoch 20/72\n",
            "1/1 [==============================] - ETA: 0s - loss: 0.7166 - accuracy: 0.5063\n",
            "Epoch 20: val_loss improved from 0.71758 to 0.71677, saving model to saved_models/weights.best.basic_cnn.hdf5\n",
            "1/1 [==============================] - 2s 2s/step - loss: 0.7166 - accuracy: 0.5063 - val_loss: 0.7168 - val_accuracy: 0.4750\n",
            "Epoch 21/72\n",
            "1/1 [==============================] - ETA: 0s - loss: 0.7158 - accuracy: 0.5063\n",
            "Epoch 21: val_loss improved from 0.71677 to 0.71592, saving model to saved_models/weights.best.basic_cnn.hdf5\n",
            "1/1 [==============================] - 2s 2s/step - loss: 0.7158 - accuracy: 0.5063 - val_loss: 0.7159 - val_accuracy: 0.4750\n",
            "Epoch 22/72\n",
            "1/1 [==============================] - ETA: 0s - loss: 0.7151 - accuracy: 0.5063\n",
            "Epoch 22: val_loss improved from 0.71592 to 0.71511, saving model to saved_models/weights.best.basic_cnn.hdf5\n",
            "1/1 [==============================] - 2s 2s/step - loss: 0.7151 - accuracy: 0.5063 - val_loss: 0.7151 - val_accuracy: 0.4750\n",
            "Epoch 23/72\n",
            "1/1 [==============================] - ETA: 0s - loss: 0.7145 - accuracy: 0.5063\n",
            "Epoch 23: val_loss improved from 0.71511 to 0.71438, saving model to saved_models/weights.best.basic_cnn.hdf5\n",
            "1/1 [==============================] - 2s 2s/step - loss: 0.7145 - accuracy: 0.5063 - val_loss: 0.7144 - val_accuracy: 0.4750\n",
            "Epoch 24/72\n",
            "1/1 [==============================] - ETA: 0s - loss: 0.7138 - accuracy: 0.5063\n",
            "Epoch 24: val_loss improved from 0.71438 to 0.71377, saving model to saved_models/weights.best.basic_cnn.hdf5\n",
            "1/1 [==============================] - 2s 2s/step - loss: 0.7138 - accuracy: 0.5063 - val_loss: 0.7138 - val_accuracy: 0.4750\n",
            "Epoch 25/72\n",
            "1/1 [==============================] - ETA: 0s - loss: 0.7131 - accuracy: 0.5063\n",
            "Epoch 25: val_loss improved from 0.71377 to 0.71323, saving model to saved_models/weights.best.basic_cnn.hdf5\n",
            "1/1 [==============================] - 1s 831ms/step - loss: 0.7131 - accuracy: 0.5063 - val_loss: 0.7132 - val_accuracy: 0.4750\n",
            "Epoch 26/72\n",
            "1/1 [==============================] - ETA: 0s - loss: 0.7125 - accuracy: 0.5063\n",
            "Epoch 26: val_loss improved from 0.71323 to 0.71273, saving model to saved_models/weights.best.basic_cnn.hdf5\n",
            "1/1 [==============================] - 1s 736ms/step - loss: 0.7125 - accuracy: 0.5063 - val_loss: 0.7127 - val_accuracy: 0.4750\n",
            "Epoch 27/72\n",
            "1/1 [==============================] - ETA: 0s - loss: 0.7119 - accuracy: 0.5063\n",
            "Epoch 27: val_loss improved from 0.71273 to 0.71221, saving model to saved_models/weights.best.basic_cnn.hdf5\n",
            "1/1 [==============================] - 1s 747ms/step - loss: 0.7119 - accuracy: 0.5063 - val_loss: 0.7122 - val_accuracy: 0.4750\n",
            "Epoch 28/72\n",
            "1/1 [==============================] - ETA: 0s - loss: 0.7113 - accuracy: 0.5063\n",
            "Epoch 28: val_loss improved from 0.71221 to 0.71162, saving model to saved_models/weights.best.basic_cnn.hdf5\n",
            "1/1 [==============================] - 1s 1s/step - loss: 0.7113 - accuracy: 0.5063 - val_loss: 0.7116 - val_accuracy: 0.4750\n",
            "Epoch 29/72\n",
            "1/1 [==============================] - ETA: 0s - loss: 0.7107 - accuracy: 0.5063\n",
            "Epoch 29: val_loss improved from 0.71162 to 0.71099, saving model to saved_models/weights.best.basic_cnn.hdf5\n",
            "1/1 [==============================] - 1s 1s/step - loss: 0.7107 - accuracy: 0.5063 - val_loss: 0.7110 - val_accuracy: 0.4750\n",
            "Epoch 30/72\n",
            "1/1 [==============================] - ETA: 0s - loss: 0.7102 - accuracy: 0.5063\n",
            "Epoch 30: val_loss improved from 0.71099 to 0.71036, saving model to saved_models/weights.best.basic_cnn.hdf5\n",
            "1/1 [==============================] - 1s 1s/step - loss: 0.7102 - accuracy: 0.5063 - val_loss: 0.7104 - val_accuracy: 0.4750\n",
            "Epoch 31/72\n",
            "1/1 [==============================] - ETA: 0s - loss: 0.7096 - accuracy: 0.5063\n",
            "Epoch 31: val_loss improved from 0.71036 to 0.70976, saving model to saved_models/weights.best.basic_cnn.hdf5\n",
            "1/1 [==============================] - 1s 756ms/step - loss: 0.7096 - accuracy: 0.5063 - val_loss: 0.7098 - val_accuracy: 0.4750\n",
            "Epoch 32/72\n",
            "1/1 [==============================] - ETA: 0s - loss: 0.7091 - accuracy: 0.5063\n",
            "Epoch 32: val_loss improved from 0.70976 to 0.70922, saving model to saved_models/weights.best.basic_cnn.hdf5\n",
            "1/1 [==============================] - 1s 756ms/step - loss: 0.7091 - accuracy: 0.5063 - val_loss: 0.7092 - val_accuracy: 0.4750\n",
            "Epoch 33/72\n",
            "1/1 [==============================] - ETA: 0s - loss: 0.7086 - accuracy: 0.5063\n",
            "Epoch 33: val_loss improved from 0.70922 to 0.70875, saving model to saved_models/weights.best.basic_cnn.hdf5\n",
            "1/1 [==============================] - 1s 744ms/step - loss: 0.7086 - accuracy: 0.5063 - val_loss: 0.7087 - val_accuracy: 0.4750\n",
            "Epoch 34/72\n",
            "1/1 [==============================] - ETA: 0s - loss: 0.7080 - accuracy: 0.5063\n",
            "Epoch 34: val_loss improved from 0.70875 to 0.70833, saving model to saved_models/weights.best.basic_cnn.hdf5\n",
            "1/1 [==============================] - 1s 755ms/step - loss: 0.7080 - accuracy: 0.5063 - val_loss: 0.7083 - val_accuracy: 0.4750\n",
            "Epoch 35/72\n",
            "1/1 [==============================] - ETA: 0s - loss: 0.7076 - accuracy: 0.5063\n",
            "Epoch 35: val_loss improved from 0.70833 to 0.70792, saving model to saved_models/weights.best.basic_cnn.hdf5\n",
            "1/1 [==============================] - 1s 732ms/step - loss: 0.7076 - accuracy: 0.5063 - val_loss: 0.7079 - val_accuracy: 0.4750\n",
            "Epoch 36/72\n",
            "1/1 [==============================] - ETA: 0s - loss: 0.7071 - accuracy: 0.5063\n",
            "Epoch 36: val_loss improved from 0.70792 to 0.70747, saving model to saved_models/weights.best.basic_cnn.hdf5\n",
            "1/1 [==============================] - 1s 763ms/step - loss: 0.7071 - accuracy: 0.5063 - val_loss: 0.7075 - val_accuracy: 0.4750\n",
            "Epoch 37/72\n",
            "1/1 [==============================] - ETA: 0s - loss: 0.7066 - accuracy: 0.5063\n",
            "Epoch 37: val_loss improved from 0.70747 to 0.70700, saving model to saved_models/weights.best.basic_cnn.hdf5\n",
            "1/1 [==============================] - 1s 744ms/step - loss: 0.7066 - accuracy: 0.5063 - val_loss: 0.7070 - val_accuracy: 0.4750\n",
            "Epoch 38/72\n",
            "1/1 [==============================] - ETA: 0s - loss: 0.7062 - accuracy: 0.5063\n",
            "Epoch 38: val_loss improved from 0.70700 to 0.70651, saving model to saved_models/weights.best.basic_cnn.hdf5\n",
            "1/1 [==============================] - 1s 723ms/step - loss: 0.7062 - accuracy: 0.5063 - val_loss: 0.7065 - val_accuracy: 0.4750\n",
            "Epoch 39/72\n",
            "1/1 [==============================] - ETA: 0s - loss: 0.7057 - accuracy: 0.5063\n",
            "Epoch 39: val_loss improved from 0.70651 to 0.70604, saving model to saved_models/weights.best.basic_cnn.hdf5\n",
            "1/1 [==============================] - 1s 750ms/step - loss: 0.7057 - accuracy: 0.5063 - val_loss: 0.7060 - val_accuracy: 0.4750\n",
            "Epoch 40/72\n",
            "1/1 [==============================] - ETA: 0s - loss: 0.7053 - accuracy: 0.5063\n",
            "Epoch 40: val_loss improved from 0.70604 to 0.70561, saving model to saved_models/weights.best.basic_cnn.hdf5\n",
            "1/1 [==============================] - 1s 747ms/step - loss: 0.7053 - accuracy: 0.5063 - val_loss: 0.7056 - val_accuracy: 0.4750\n",
            "Epoch 41/72\n",
            "1/1 [==============================] - ETA: 0s - loss: 0.7049 - accuracy: 0.5063\n",
            "Epoch 41: val_loss improved from 0.70561 to 0.70523, saving model to saved_models/weights.best.basic_cnn.hdf5\n",
            "1/1 [==============================] - 1s 773ms/step - loss: 0.7049 - accuracy: 0.5063 - val_loss: 0.7052 - val_accuracy: 0.4750\n",
            "Epoch 42/72\n",
            "1/1 [==============================] - ETA: 0s - loss: 0.7045 - accuracy: 0.5063\n",
            "Epoch 42: val_loss improved from 0.70523 to 0.70488, saving model to saved_models/weights.best.basic_cnn.hdf5\n",
            "1/1 [==============================] - 1s 758ms/step - loss: 0.7045 - accuracy: 0.5063 - val_loss: 0.7049 - val_accuracy: 0.4750\n",
            "Epoch 43/72\n",
            "1/1 [==============================] - ETA: 0s - loss: 0.7041 - accuracy: 0.5063\n",
            "Epoch 43: val_loss improved from 0.70488 to 0.70455, saving model to saved_models/weights.best.basic_cnn.hdf5\n",
            "1/1 [==============================] - 1s 746ms/step - loss: 0.7041 - accuracy: 0.5063 - val_loss: 0.7045 - val_accuracy: 0.4750\n",
            "Epoch 44/72\n",
            "1/1 [==============================] - ETA: 0s - loss: 0.7037 - accuracy: 0.5063\n",
            "Epoch 44: val_loss improved from 0.70455 to 0.70419, saving model to saved_models/weights.best.basic_cnn.hdf5\n",
            "1/1 [==============================] - 1s 1s/step - loss: 0.7037 - accuracy: 0.5063 - val_loss: 0.7042 - val_accuracy: 0.4750\n",
            "Epoch 45/72\n",
            "1/1 [==============================] - ETA: 0s - loss: 0.7034 - accuracy: 0.5063\n",
            "Epoch 45: val_loss improved from 0.70419 to 0.70383, saving model to saved_models/weights.best.basic_cnn.hdf5\n",
            "1/1 [==============================] - 1s 1s/step - loss: 0.7034 - accuracy: 0.5063 - val_loss: 0.7038 - val_accuracy: 0.4750\n",
            "Epoch 46/72\n",
            "1/1 [==============================] - ETA: 0s - loss: 0.7030 - accuracy: 0.5063\n",
            "Epoch 46: val_loss improved from 0.70383 to 0.70345, saving model to saved_models/weights.best.basic_cnn.hdf5\n",
            "1/1 [==============================] - 1s 828ms/step - loss: 0.7030 - accuracy: 0.5063 - val_loss: 0.7034 - val_accuracy: 0.4750\n",
            "Epoch 47/72\n",
            "1/1 [==============================] - ETA: 0s - loss: 0.7027 - accuracy: 0.5063\n",
            "Epoch 47: val_loss improved from 0.70345 to 0.70309, saving model to saved_models/weights.best.basic_cnn.hdf5\n",
            "1/1 [==============================] - 1s 754ms/step - loss: 0.7027 - accuracy: 0.5063 - val_loss: 0.7031 - val_accuracy: 0.4750\n",
            "Epoch 48/72\n",
            "1/1 [==============================] - ETA: 0s - loss: 0.7023 - accuracy: 0.5063\n",
            "Epoch 48: val_loss improved from 0.70309 to 0.70276, saving model to saved_models/weights.best.basic_cnn.hdf5\n",
            "1/1 [==============================] - 1s 723ms/step - loss: 0.7023 - accuracy: 0.5063 - val_loss: 0.7028 - val_accuracy: 0.4750\n",
            "Epoch 49/72\n",
            "1/1 [==============================] - ETA: 0s - loss: 0.7020 - accuracy: 0.5063\n",
            "Epoch 49: val_loss improved from 0.70276 to 0.70247, saving model to saved_models/weights.best.basic_cnn.hdf5\n",
            "1/1 [==============================] - 1s 773ms/step - loss: 0.7020 - accuracy: 0.5063 - val_loss: 0.7025 - val_accuracy: 0.4750\n",
            "Epoch 50/72\n",
            "1/1 [==============================] - ETA: 0s - loss: 0.7017 - accuracy: 0.5063\n",
            "Epoch 50: val_loss improved from 0.70247 to 0.70219, saving model to saved_models/weights.best.basic_cnn.hdf5\n",
            "1/1 [==============================] - 1s 784ms/step - loss: 0.7017 - accuracy: 0.5063 - val_loss: 0.7022 - val_accuracy: 0.4750\n",
            "Epoch 51/72\n",
            "1/1 [==============================] - ETA: 0s - loss: 0.7014 - accuracy: 0.5063\n",
            "Epoch 51: val_loss improved from 0.70219 to 0.70192, saving model to saved_models/weights.best.basic_cnn.hdf5\n",
            "1/1 [==============================] - 1s 748ms/step - loss: 0.7014 - accuracy: 0.5063 - val_loss: 0.7019 - val_accuracy: 0.4750\n",
            "Epoch 52/72\n",
            "1/1 [==============================] - ETA: 0s - loss: 0.7011 - accuracy: 0.5063\n",
            "Epoch 52: val_loss improved from 0.70192 to 0.70163, saving model to saved_models/weights.best.basic_cnn.hdf5\n",
            "1/1 [==============================] - 1s 748ms/step - loss: 0.7011 - accuracy: 0.5063 - val_loss: 0.7016 - val_accuracy: 0.4750\n",
            "Epoch 53/72\n",
            "1/1 [==============================] - ETA: 0s - loss: 0.7008 - accuracy: 0.5063\n",
            "Epoch 53: val_loss improved from 0.70163 to 0.70133, saving model to saved_models/weights.best.basic_cnn.hdf5\n",
            "1/1 [==============================] - 1s 743ms/step - loss: 0.7008 - accuracy: 0.5063 - val_loss: 0.7013 - val_accuracy: 0.4750\n",
            "Epoch 54/72\n",
            "1/1 [==============================] - ETA: 0s - loss: 0.7006 - accuracy: 0.5063\n",
            "Epoch 54: val_loss improved from 0.70133 to 0.70106, saving model to saved_models/weights.best.basic_cnn.hdf5\n",
            "1/1 [==============================] - 1s 764ms/step - loss: 0.7006 - accuracy: 0.5063 - val_loss: 0.7011 - val_accuracy: 0.4750\n",
            "Epoch 55/72\n",
            "1/1 [==============================] - ETA: 0s - loss: 0.7003 - accuracy: 0.5063\n",
            "Epoch 55: val_loss improved from 0.70106 to 0.70081, saving model to saved_models/weights.best.basic_cnn.hdf5\n",
            "1/1 [==============================] - 1s 768ms/step - loss: 0.7003 - accuracy: 0.5063 - val_loss: 0.7008 - val_accuracy: 0.4750\n",
            "Epoch 56/72\n",
            "1/1 [==============================] - ETA: 0s - loss: 0.7000 - accuracy: 0.5063\n",
            "Epoch 56: val_loss improved from 0.70081 to 0.70058, saving model to saved_models/weights.best.basic_cnn.hdf5\n",
            "1/1 [==============================] - 1s 752ms/step - loss: 0.7000 - accuracy: 0.5063 - val_loss: 0.7006 - val_accuracy: 0.4750\n",
            "Epoch 57/72\n",
            "1/1 [==============================] - ETA: 0s - loss: 0.6998 - accuracy: 0.5063\n",
            "Epoch 57: val_loss improved from 0.70058 to 0.70034, saving model to saved_models/weights.best.basic_cnn.hdf5\n",
            "1/1 [==============================] - 1s 755ms/step - loss: 0.6998 - accuracy: 0.5063 - val_loss: 0.7003 - val_accuracy: 0.4750\n",
            "Epoch 58/72\n",
            "1/1 [==============================] - ETA: 0s - loss: 0.6995 - accuracy: 0.5063\n",
            "Epoch 58: val_loss improved from 0.70034 to 0.70010, saving model to saved_models/weights.best.basic_cnn.hdf5\n",
            "1/1 [==============================] - 1s 781ms/step - loss: 0.6995 - accuracy: 0.5063 - val_loss: 0.7001 - val_accuracy: 0.4750\n",
            "Epoch 59/72\n",
            "1/1 [==============================] - ETA: 0s - loss: 0.6993 - accuracy: 0.5063\n",
            "Epoch 59: val_loss improved from 0.70010 to 0.69986, saving model to saved_models/weights.best.basic_cnn.hdf5\n",
            "1/1 [==============================] - 1s 1s/step - loss: 0.6993 - accuracy: 0.5063 - val_loss: 0.6999 - val_accuracy: 0.4750\n",
            "Epoch 60/72\n",
            "1/1 [==============================] - ETA: 0s - loss: 0.6991 - accuracy: 0.5063\n",
            "Epoch 60: val_loss improved from 0.69986 to 0.69965, saving model to saved_models/weights.best.basic_cnn.hdf5\n",
            "1/1 [==============================] - 1s 1s/step - loss: 0.6991 - accuracy: 0.5063 - val_loss: 0.6996 - val_accuracy: 0.4750\n",
            "Epoch 61/72\n",
            "1/1 [==============================] - ETA: 0s - loss: 0.6989 - accuracy: 0.5063\n",
            "Epoch 61: val_loss improved from 0.69965 to 0.69945, saving model to saved_models/weights.best.basic_cnn.hdf5\n",
            "1/1 [==============================] - 1s 979ms/step - loss: 0.6989 - accuracy: 0.5063 - val_loss: 0.6994 - val_accuracy: 0.4750\n",
            "Epoch 62/72\n",
            "1/1 [==============================] - ETA: 0s - loss: 0.6987 - accuracy: 0.5063\n",
            "Epoch 62: val_loss improved from 0.69945 to 0.69925, saving model to saved_models/weights.best.basic_cnn.hdf5\n",
            "1/1 [==============================] - 1s 783ms/step - loss: 0.6987 - accuracy: 0.5063 - val_loss: 0.6992 - val_accuracy: 0.4750\n",
            "Epoch 63/72\n",
            "1/1 [==============================] - ETA: 0s - loss: 0.6985 - accuracy: 0.5063\n",
            "Epoch 63: val_loss improved from 0.69925 to 0.69904, saving model to saved_models/weights.best.basic_cnn.hdf5\n",
            "1/1 [==============================] - 1s 784ms/step - loss: 0.6985 - accuracy: 0.5063 - val_loss: 0.6990 - val_accuracy: 0.4750\n",
            "Epoch 64/72\n",
            "1/1 [==============================] - ETA: 0s - loss: 0.6983 - accuracy: 0.5063\n",
            "Epoch 64: val_loss improved from 0.69904 to 0.69885, saving model to saved_models/weights.best.basic_cnn.hdf5\n",
            "1/1 [==============================] - 1s 761ms/step - loss: 0.6983 - accuracy: 0.5063 - val_loss: 0.6988 - val_accuracy: 0.4750\n",
            "Epoch 65/72\n",
            "1/1 [==============================] - ETA: 0s - loss: 0.6981 - accuracy: 0.5063\n",
            "Epoch 65: val_loss improved from 0.69885 to 0.69867, saving model to saved_models/weights.best.basic_cnn.hdf5\n",
            "1/1 [==============================] - 1s 749ms/step - loss: 0.6981 - accuracy: 0.5063 - val_loss: 0.6987 - val_accuracy: 0.4750\n",
            "Epoch 66/72\n",
            "1/1 [==============================] - ETA: 0s - loss: 0.6979 - accuracy: 0.5063\n",
            "Epoch 66: val_loss improved from 0.69867 to 0.69849, saving model to saved_models/weights.best.basic_cnn.hdf5\n",
            "1/1 [==============================] - 1s 734ms/step - loss: 0.6979 - accuracy: 0.5063 - val_loss: 0.6985 - val_accuracy: 0.4750\n",
            "Epoch 67/72\n",
            "1/1 [==============================] - ETA: 0s - loss: 0.6977 - accuracy: 0.5063\n",
            "Epoch 67: val_loss improved from 0.69849 to 0.69832, saving model to saved_models/weights.best.basic_cnn.hdf5\n",
            "1/1 [==============================] - 1s 746ms/step - loss: 0.6977 - accuracy: 0.5063 - val_loss: 0.6983 - val_accuracy: 0.4750\n",
            "Epoch 68/72\n",
            "1/1 [==============================] - ETA: 0s - loss: 0.6975 - accuracy: 0.5063\n",
            "Epoch 68: val_loss improved from 0.69832 to 0.69815, saving model to saved_models/weights.best.basic_cnn.hdf5\n",
            "1/1 [==============================] - 1s 738ms/step - loss: 0.6975 - accuracy: 0.5063 - val_loss: 0.6982 - val_accuracy: 0.4750\n",
            "Epoch 69/72\n",
            "1/1 [==============================] - ETA: 0s - loss: 0.6974 - accuracy: 0.5063\n",
            "Epoch 69: val_loss improved from 0.69815 to 0.69799, saving model to saved_models/weights.best.basic_cnn.hdf5\n",
            "1/1 [==============================] - 1s 752ms/step - loss: 0.6974 - accuracy: 0.5063 - val_loss: 0.6980 - val_accuracy: 0.4750\n",
            "Epoch 70/72\n",
            "1/1 [==============================] - ETA: 0s - loss: 0.6972 - accuracy: 0.5063\n",
            "Epoch 70: val_loss improved from 0.69799 to 0.69784, saving model to saved_models/weights.best.basic_cnn.hdf5\n",
            "1/1 [==============================] - 1s 780ms/step - loss: 0.6972 - accuracy: 0.5063 - val_loss: 0.6978 - val_accuracy: 0.4750\n",
            "Epoch 71/72\n",
            "1/1 [==============================] - ETA: 0s - loss: 0.6971 - accuracy: 0.5063\n",
            "Epoch 71: val_loss improved from 0.69784 to 0.69769, saving model to saved_models/weights.best.basic_cnn.hdf5\n",
            "1/1 [==============================] - 1s 734ms/step - loss: 0.6971 - accuracy: 0.5063 - val_loss: 0.6977 - val_accuracy: 0.4750\n",
            "Epoch 72/72\n",
            "1/1 [==============================] - ETA: 0s - loss: 0.6969 - accuracy: 0.5063\n",
            "Epoch 72: val_loss improved from 0.69769 to 0.69754, saving model to saved_models/weights.best.basic_cnn.hdf5\n",
            "1/1 [==============================] - 1s 743ms/step - loss: 0.6969 - accuracy: 0.5063 - val_loss: 0.6975 - val_accuracy: 0.4750\n",
            "Training completed in time:  0:01:20.166627\n"
          ]
        }
      ]
    },
    {
      "cell_type": "code",
      "source": [
        "import pandas as pd\n",
        "import numpy as np\n",
        "pd.DataFrame(history.history).plot(figsize=(8,5))\n",
        "plt.grid(True)\n",
        "plt.gca().set_ylim(0,1)\n",
        "plt.show()\n",
        "print('1. If the validation loss is greater(are both high:) than the training loss. The model is underfitting.')\n",
        "print('2. If the validation loss is greater than the training loss,The model is overfitting.')\n",
        "print('3. If the training loss and validation loss both decrease and stabilize at a specific point:the model is good fit')"
      ],
      "metadata": {
        "id": "-rTGssOE2Dtt",
        "outputId": "3c3560e1-bdbd-489a-bfb1-7028b79e9e01",
        "colab": {
          "base_uri": "https://localhost:8080/",
          "height": 503
        }
      },
      "execution_count": 69,
      "outputs": [
        {
          "output_type": "display_data",
          "data": {
            "text/plain": [
              "<Figure size 800x500 with 1 Axes>"
            ],
            "image/png": "[encoded data removed]"
          },
          "metadata": {}
        },
        {
          "output_type": "stream",
          "name": "stdout",
          "text": [
            "1. If the validation loss is greater(are both high:) than the training loss. The model is underfitting.\n",
            "2. If the validation loss is greater than the training loss,The model is overfitting.\n",
            "3. If the training loss and validation loss both decrease and stabilize at a specific point:the model is good fit\n"
          ]
        }
      ]
    },
    {
      "cell_type": "code",
      "source": [
        "# Evaluating the model on the training and testing set\n",
        "score = model.evaluate(x_train, y_train, verbose=0)\n",
        "print(\"Training Accuracy: \", score[1]*100,\"%\")\n",
        "\n",
        "score = model.evaluate(x_test, y_test, verbose=0)\n",
        "print(\"Testing Accuracy: \", score[1]*100,\"%\")"
      ],
      "metadata": {
        "id": "qiPi7bZowWZr",
        "outputId": "ad4836c2-cca3-4eaa-a52f-79681f9e164e",
        "colab": {
          "base_uri": "https://localhost:8080/"
        }
      },
      "execution_count": 70,
      "outputs": [
        {
          "output_type": "stream",
          "name": "stdout",
          "text": [
            "Training Accuracy:  50.62500238418579 %\n",
            "Testing Accuracy:  47.49999940395355 %\n"
          ]
        }
      ]
    },
    {
      "cell_type": "code",
      "source": [
        "from sklearn.metrics import precision_score,recall_score,f1_score\n",
        "\n",
        "# Predict class labels on test set\n",
        "y_pred = model.predict(x_test)\n",
        "y_pred = (y_pred > 0.5).astype(int)\n",
        "\n",
        "# Calculate precision score\n",
        "precision = precision_score(y_test, y_pred, average='weighted', zero_division=0)\n",
        "recall = recall_score(y_test, y_pred, average='weighted', zero_division=0)\n",
        "f1 = f1_score(y_test, y_pred, average='weighted', zero_division=0)\n",
        "\n",
        "# Print precision score\n",
        "print(\"Precision Score: \", precision)\n",
        "print(\"Recall: \", recall)\n",
        "print(\"F1 Score: \", f1)"
      ],
      "metadata": {
        "colab": {
          "base_uri": "https://localhost:8080/"
        },
        "id": "MCbQmkFTGIdw",
        "outputId": "9b7f6aa8-1e06-4c2f-96f1-d4c8a239ab21"
      },
      "execution_count": 71,
      "outputs": [
        {
          "output_type": "stream",
          "name": "stdout",
          "text": [
            "2/2 [==============================] - 0s 15ms/step\n",
            "Precision Score:  0.22562500000000002\n",
            "Recall:  0.475\n",
            "F1 Score:  0.3059322033898305\n"
          ]
        }
      ]
    },
    {
      "cell_type": "code",
      "source": [
        "def print_prediction(file_name):\n",
        "    prediction_feature = extract_features(file_name) \n",
        "    prediction_feature = prediction_feature.reshape(1, num_rows, num_columns, num_channels)\n",
        "\n",
        "    predicted_vector = model.predict(prediction_feature)\n",
        "    predicted_class = le.inverse_transform(np.argmax(predicted_vector, axis=-1)) \n",
        "    print(\"The predicted class is:\", predicted_class[0], '\\n') \n",
        "\n",
        "    predicted_proba_vector = predicted_vector\n",
        "    for i in range(len(predicted_proba_vector[0])): \n",
        "        category = le.inverse_transform(np.array([i]))\n",
        "        print(category[0], \"\\t\\t : \", format(predicted_proba_vector[0][i]*100,'.32f'),\"%\")"
      ],
      "metadata": {
        "id": "8Qou2J59wYzd"
      },
      "execution_count": 72,
      "outputs": []
    },
    {
      "cell_type": "code",
      "source": [
        "from pydub import AudioSegment\n",
        "\n",
        "# set the file paths\n",
        "input_file = \"/content/sample-195283.mp3\"\n",
        "output_file = \"/content/output.wav\"\n",
        "\n",
        "audio = AudioSegment.from_file(input_file, format=\"mp3\")\n",
        "\n",
        "audio.export(output_file, format=\"wav\")"
      ],
      "metadata": {
        "id": "QOW-OVlbQaHP",
        "outputId": "0ecb0a95-ed36-4bb5-c668-7aa65095a8cd",
        "colab": {
          "base_uri": "https://localhost:8080/"
        }
      },
      "execution_count": 73,
      "outputs": [
        {
          "output_type": "execute_result",
          "data": {
            "text/plain": [
              "<_io.BufferedRandom name='/content/output.wav'>"
            ]
          },
          "metadata": {},
          "execution_count": 73
        }
      ]
    },
    {
      "cell_type": "code",
      "source": [
        "filename = '/content/output.wav' \n",
        "print_prediction(filename) "
      ],
      "metadata": {
        "id": "JcFVazmbwbFo",
        "outputId": "fcc19ba3-f7bd-4772-ed12-b0424753d34c",
        "colab": {
          "base_uri": "https://localhost:8080/"
        }
      },
      "execution_count": 74,
      "outputs": [
        {
          "output_type": "stream",
          "name": "stdout",
          "text": [
            "1/1 [==============================] - 0s 52ms/step\n",
            "The predicted class is: female \n",
            "\n",
            "female \t\t :  50.62544345855712890625000000000000 %\n",
            "male \t\t :  49.37455952167510986328125000000000 %\n"
          ]
        }
      ]
    },
    {
      "cell_type": "code",
      "source": [],
      "metadata": {
        "id": "rf-K1B94MsbW"
      },
      "execution_count": 74,
      "outputs": []
    },
    {
      "cell_type": "markdown",
      "source": [
        "# Dropout"
      ],
      "metadata": {
        "id": "bsy6blcMT2OC"
      }
    },
    {
      "cell_type": "code",
      "source": [
        "\n",
        "# Construct model \n",
        "model = Sequential()\n",
        "model.add(Conv2D(filters=16, kernel_size=2, input_shape=(num_rows, num_columns, num_channels), activation='relu'))\n",
        "model.add(MaxPooling2D(pool_size=2))\n",
        "model.add(Dropout(0.2))\n",
        "\n",
        "model.add(Conv2D(filters=32, kernel_size=2, activation='relu'))\n",
        "model.add(MaxPooling2D(pool_size=2))\n",
        "model.add(Dropout(0.2))\n",
        "\n",
        "model.add(Conv2D(filters=64, kernel_size=2, activation='relu'))\n",
        "model.add(MaxPooling2D(pool_size=2))\n",
        "model.add(Dropout(0.2))\n",
        "\n",
        "model.add(Conv2D(filters=128, kernel_size=2, activation='relu'))\n",
        "model.add(MaxPooling2D(pool_size=2))\n",
        "model.add(Dropout(0.2))\n",
        "model.add(GlobalAveragePooling2D())\n",
        "\n",
        "model.add(Dense(num_labels, activation='softmax')) \n"
      ],
      "metadata": {
        "id": "nmq9XIeQwdi5"
      },
      "execution_count": 75,
      "outputs": []
    },
    {
      "cell_type": "code",
      "source": [
        "# Compile the model\n",
        "model.compile(loss='categorical_crossentropy', metrics=['accuracy'], optimizer='adam') "
      ],
      "metadata": {
        "id": "0oMCYWjhMMYs"
      },
      "execution_count": 76,
      "outputs": []
    },
    {
      "cell_type": "code",
      "source": [
        "# Display model architecture summary \n",
        "model.summary()\n",
        "\n",
        "# Calculate pre-training accuracy \n",
        "score = model.evaluate(x_test, y_test, verbose=1)\n",
        "accuracy = 100*score[1]\n",
        "\n",
        "print(\"Pre-training accuracy: %.4f%%\" % accuracy)"
      ],
      "metadata": {
        "id": "LOb9zQByMR3M",
        "outputId": "4d847fd7-a4a6-45d4-f973-31620078a77b",
        "colab": {
          "base_uri": "https://localhost:8080/"
        }
      },
      "execution_count": 77,
      "outputs": [
        {
          "output_type": "stream",
          "name": "stdout",
          "text": [
            "Model: \"sequential_4\"\n",
            "_________________________________________________________________\n",
            " Layer (type)                Output Shape              Param #   \n",
            "=================================================================\n",
            " conv2d_16 (Conv2D)          (None, 39, 173, 16)       80        \n",
            "                                                                 \n",
            " max_pooling2d_16 (MaxPoolin  (None, 19, 86, 16)       0         \n",
            " g2D)                                                            \n",
            "                                                                 \n",
            " dropout_4 (Dropout)         (None, 19, 86, 16)        0         \n",
            "                                                                 \n",
            " conv2d_17 (Conv2D)          (None, 18, 85, 32)        2080      \n",
            "                                                                 \n",
            " max_pooling2d_17 (MaxPoolin  (None, 9, 42, 32)        0         \n",
            " g2D)                                                            \n",
            "                                                                 \n",
            " dropout_5 (Dropout)         (None, 9, 42, 32)         0         \n",
            "                                                                 \n",
            " conv2d_18 (Conv2D)          (None, 8, 41, 64)         8256      \n",
            "                                                                 \n",
            " max_pooling2d_18 (MaxPoolin  (None, 4, 20, 64)        0         \n",
            " g2D)                                                            \n",
            "                                                                 \n",
            " dropout_6 (Dropout)         (None, 4, 20, 64)         0         \n",
            "                                                                 \n",
            " conv2d_19 (Conv2D)          (None, 3, 19, 128)        32896     \n",
            "                                                                 \n",
            " max_pooling2d_19 (MaxPoolin  (None, 1, 9, 128)        0         \n",
            " g2D)                                                            \n",
            "                                                                 \n",
            " dropout_7 (Dropout)         (None, 1, 9, 128)         0         \n",
            "                                                                 \n",
            " global_average_pooling2d_4   (None, 128)              0         \n",
            " (GlobalAveragePooling2D)                                        \n",
            "                                                                 \n",
            " dense_10 (Dense)            (None, 2)                 258       \n",
            "                                                                 \n",
            "=================================================================\n",
            "Total params: 43,570\n",
            "Trainable params: 43,570\n",
            "Non-trainable params: 0\n",
            "_________________________________________________________________\n",
            "2/2 [==============================] - 1s 25ms/step - loss: 1.0778 - accuracy: 0.3500\n",
            "Pre-training accuracy: 35.0000%\n"
          ]
        }
      ]
    },
    {
      "cell_type": "code",
      "source": [
        "from keras.callbacks import ModelCheckpoint \n",
        "from datetime import datetime \n",
        "\n",
        "num_epochs = 72\n",
        "num_batch_size = 256\n",
        "\n",
        "checkpointer = ModelCheckpoint(filepath='saved_models/weights.best.basic_cnn.hdf5', \n",
        "                               verbose=1, save_best_only=True)\n",
        "start = datetime.now()\n",
        "\n",
        "history=model.fit(x_train, y_train, batch_size=num_batch_size, epochs=num_epochs, validation_data=(x_test, y_test), callbacks=[checkpointer], verbose=1)\n",
        "\n",
        "\n",
        "duration = datetime.now() - start\n",
        "print(\"Training completed in time: \", duration)"
      ],
      "metadata": {
        "id": "LFbO6dqcMSzF",
        "outputId": "61dc6e72-44e4-4816-f533-d0767720d610",
        "colab": {
          "base_uri": "https://localhost:8080/"
        }
      },
      "execution_count": 78,
      "outputs": [
        {
          "output_type": "stream",
          "name": "stdout",
          "text": [
            "Epoch 1/72\n",
            "1/1 [==============================] - ETA: 0s - loss: 2.6157 - accuracy: 0.4625\n",
            "Epoch 1: val_loss improved from inf to 7.98715, saving model to saved_models/weights.best.basic_cnn.hdf5\n",
            "1/1 [==============================] - 3s 3s/step - loss: 2.6157 - accuracy: 0.4625 - val_loss: 7.9871 - val_accuracy: 0.5250\n",
            "Epoch 2/72\n",
            "1/1 [==============================] - ETA: 0s - loss: 14.9700 - accuracy: 0.4938\n",
            "Epoch 2: val_loss improved from 7.98715 to 3.74245, saving model to saved_models/weights.best.basic_cnn.hdf5\n",
            "1/1 [==============================] - 1s 851ms/step - loss: 14.9700 - accuracy: 0.4938 - val_loss: 3.7425 - val_accuracy: 0.5250\n",
            "Epoch 3/72\n",
            "1/1 [==============================] - ETA: 0s - loss: 7.6184 - accuracy: 0.4938\n",
            "Epoch 3: val_loss improved from 3.74245 to 2.00626, saving model to saved_models/weights.best.basic_cnn.hdf5\n",
            "1/1 [==============================] - 1s 843ms/step - loss: 7.6184 - accuracy: 0.4938 - val_loss: 2.0063 - val_accuracy: 0.4750\n",
            "Epoch 4/72\n",
            "1/1 [==============================] - ETA: 0s - loss: 3.2933 - accuracy: 0.5063\n",
            "Epoch 4: val_loss did not improve from 2.00626\n",
            "1/1 [==============================] - 1s 794ms/step - loss: 3.2933 - accuracy: 0.5063 - val_loss: 3.6813 - val_accuracy: 0.4750\n",
            "Epoch 5/72\n",
            "1/1 [==============================] - ETA: 0s - loss: 5.7777 - accuracy: 0.5063\n",
            "Epoch 5: val_loss did not improve from 2.00626\n",
            "1/1 [==============================] - 1s 803ms/step - loss: 5.7777 - accuracy: 0.5063 - val_loss: 3.1081 - val_accuracy: 0.4750\n",
            "Epoch 6/72\n",
            "1/1 [==============================] - ETA: 0s - loss: 4.9070 - accuracy: 0.5000\n",
            "Epoch 6: val_loss improved from 2.00626 to 1.48425, saving model to saved_models/weights.best.basic_cnn.hdf5\n",
            "1/1 [==============================] - 1s 852ms/step - loss: 4.9070 - accuracy: 0.5000 - val_loss: 1.4842 - val_accuracy: 0.4750\n",
            "Epoch 7/72\n",
            "1/1 [==============================] - ETA: 0s - loss: 2.4366 - accuracy: 0.4750\n",
            "Epoch 7: val_loss improved from 1.48425 to 0.90545, saving model to saved_models/weights.best.basic_cnn.hdf5\n",
            "1/1 [==============================] - 1s 855ms/step - loss: 2.4366 - accuracy: 0.4750 - val_loss: 0.9055 - val_accuracy: 0.5250\n",
            "Epoch 8/72\n",
            "1/1 [==============================] - ETA: 0s - loss: 2.3344 - accuracy: 0.5000\n",
            "Epoch 8: val_loss did not improve from 0.90545\n",
            "1/1 [==============================] - 1s 802ms/step - loss: 2.3344 - accuracy: 0.5000 - val_loss: 1.3987 - val_accuracy: 0.5250\n",
            "Epoch 9/72\n",
            "1/1 [==============================] - ETA: 0s - loss: 3.0726 - accuracy: 0.5000\n",
            "Epoch 9: val_loss did not improve from 0.90545\n",
            "1/1 [==============================] - 1s 820ms/step - loss: 3.0726 - accuracy: 0.5000 - val_loss: 1.2214 - val_accuracy: 0.5250\n",
            "Epoch 10/72\n",
            "1/1 [==============================] - ETA: 0s - loss: 2.7180 - accuracy: 0.5312\n",
            "Epoch 10: val_loss improved from 0.90545 to 0.77519, saving model to saved_models/weights.best.basic_cnn.hdf5\n",
            "1/1 [==============================] - 1s 822ms/step - loss: 2.7180 - accuracy: 0.5312 - val_loss: 0.7752 - val_accuracy: 0.5000\n",
            "Epoch 11/72\n",
            "1/1 [==============================] - ETA: 0s - loss: 2.0774 - accuracy: 0.5000\n",
            "Epoch 11: val_loss did not improve from 0.77519\n",
            "1/1 [==============================] - 1s 811ms/step - loss: 2.0774 - accuracy: 0.5000 - val_loss: 0.9198 - val_accuracy: 0.5250\n",
            "Epoch 12/72\n",
            "1/1 [==============================] - ETA: 0s - loss: 1.3386 - accuracy: 0.4812\n",
            "Epoch 12: val_loss did not improve from 0.77519\n",
            "1/1 [==============================] - 1s 877ms/step - loss: 1.3386 - accuracy: 0.4812 - val_loss: 1.5565 - val_accuracy: 0.4750\n",
            "Epoch 13/72\n",
            "1/1 [==============================] - ETA: 0s - loss: 1.9772 - accuracy: 0.4938\n",
            "Epoch 13: val_loss did not improve from 0.77519\n",
            "1/1 [==============================] - 1s 1s/step - loss: 1.9772 - accuracy: 0.4938 - val_loss: 1.8311 - val_accuracy: 0.4750\n",
            "Epoch 14/72\n",
            "1/1 [==============================] - ETA: 0s - loss: 2.3232 - accuracy: 0.5000\n",
            "Epoch 14: val_loss did not improve from 0.77519\n",
            "1/1 [==============================] - 1s 1s/step - loss: 2.3232 - accuracy: 0.5000 - val_loss: 1.6582 - val_accuracy: 0.4750\n",
            "Epoch 15/72\n",
            "1/1 [==============================] - ETA: 0s - loss: 2.1998 - accuracy: 0.5250\n",
            "Epoch 15: val_loss did not improve from 0.77519\n",
            "1/1 [==============================] - 1s 835ms/step - loss: 2.1998 - accuracy: 0.5250 - val_loss: 1.2061 - val_accuracy: 0.4750\n",
            "Epoch 16/72\n",
            "1/1 [==============================] - ETA: 0s - loss: 1.5902 - accuracy: 0.5250\n",
            "Epoch 16: val_loss did not improve from 0.77519\n",
            "1/1 [==============================] - 1s 798ms/step - loss: 1.5902 - accuracy: 0.5250 - val_loss: 0.8145 - val_accuracy: 0.5250\n",
            "Epoch 17/72\n",
            "1/1 [==============================] - ETA: 0s - loss: 0.9418 - accuracy: 0.6375\n",
            "Epoch 17: val_loss improved from 0.77519 to 0.68358, saving model to saved_models/weights.best.basic_cnn.hdf5\n",
            "1/1 [==============================] - 1s 856ms/step - loss: 0.9418 - accuracy: 0.6375 - val_loss: 0.6836 - val_accuracy: 0.5750\n",
            "Epoch 18/72\n",
            "1/1 [==============================] - ETA: 0s - loss: 1.4656 - accuracy: 0.5375\n",
            "Epoch 18: val_loss did not improve from 0.68358\n",
            "1/1 [==============================] - 1s 801ms/step - loss: 1.4656 - accuracy: 0.5375 - val_loss: 0.6971 - val_accuracy: 0.6000\n",
            "Epoch 19/72\n",
            "1/1 [==============================] - ETA: 0s - loss: 1.5720 - accuracy: 0.5437\n",
            "Epoch 19: val_loss did not improve from 0.68358\n",
            "1/1 [==============================] - 1s 792ms/step - loss: 1.5720 - accuracy: 0.5437 - val_loss: 0.6904 - val_accuracy: 0.6000\n",
            "Epoch 20/72\n",
            "1/1 [==============================] - ETA: 0s - loss: 1.3753 - accuracy: 0.5750\n",
            "Epoch 20: val_loss improved from 0.68358 to 0.67240, saving model to saved_models/weights.best.basic_cnn.hdf5\n",
            "1/1 [==============================] - 1s 814ms/step - loss: 1.3753 - accuracy: 0.5750 - val_loss: 0.6724 - val_accuracy: 0.5750\n",
            "Epoch 21/72\n",
            "1/1 [==============================] - ETA: 0s - loss: 1.3021 - accuracy: 0.5437\n",
            "Epoch 21: val_loss did not improve from 0.67240\n",
            "1/1 [==============================] - 1s 788ms/step - loss: 1.3021 - accuracy: 0.5437 - val_loss: 0.7345 - val_accuracy: 0.5750\n",
            "Epoch 22/72\n",
            "1/1 [==============================] - ETA: 0s - loss: 1.1429 - accuracy: 0.5312\n",
            "Epoch 22: val_loss did not improve from 0.67240\n",
            "1/1 [==============================] - 1s 790ms/step - loss: 1.1429 - accuracy: 0.5312 - val_loss: 0.8689 - val_accuracy: 0.5500\n",
            "Epoch 23/72\n",
            "1/1 [==============================] - ETA: 0s - loss: 1.0352 - accuracy: 0.5625\n",
            "Epoch 23: val_loss did not improve from 0.67240\n",
            "1/1 [==============================] - 1s 796ms/step - loss: 1.0352 - accuracy: 0.5625 - val_loss: 0.9764 - val_accuracy: 0.4750\n",
            "Epoch 24/72\n",
            "1/1 [==============================] - ETA: 0s - loss: 1.0481 - accuracy: 0.6250\n",
            "Epoch 24: val_loss did not improve from 0.67240\n",
            "1/1 [==============================] - 1s 763ms/step - loss: 1.0481 - accuracy: 0.6250 - val_loss: 1.0069 - val_accuracy: 0.4750\n",
            "Epoch 25/72\n",
            "1/1 [==============================] - ETA: 0s - loss: 1.1458 - accuracy: 0.5938\n",
            "Epoch 25: val_loss did not improve from 0.67240\n",
            "1/1 [==============================] - 1s 793ms/step - loss: 1.1458 - accuracy: 0.5938 - val_loss: 0.9489 - val_accuracy: 0.4750\n",
            "Epoch 26/72\n",
            "1/1 [==============================] - ETA: 0s - loss: 1.0934 - accuracy: 0.5562\n",
            "Epoch 26: val_loss did not improve from 0.67240\n",
            "1/1 [==============================] - 1s 787ms/step - loss: 1.0934 - accuracy: 0.5562 - val_loss: 0.8329 - val_accuracy: 0.5500\n",
            "Epoch 27/72\n",
            "1/1 [==============================] - ETA: 0s - loss: 0.9386 - accuracy: 0.6313\n",
            "Epoch 27: val_loss did not improve from 0.67240\n",
            "1/1 [==============================] - 1s 1s/step - loss: 0.9386 - accuracy: 0.6313 - val_loss: 0.7229 - val_accuracy: 0.5750\n",
            "Epoch 28/72\n",
            "1/1 [==============================] - ETA: 0s - loss: 1.0185 - accuracy: 0.5938\n",
            "Epoch 28: val_loss improved from 0.67240 to 0.66204, saving model to saved_models/weights.best.basic_cnn.hdf5\n",
            "1/1 [==============================] - 1s 1s/step - loss: 1.0185 - accuracy: 0.5938 - val_loss: 0.6620 - val_accuracy: 0.6250\n",
            "Epoch 29/72\n",
            "1/1 [==============================] - ETA: 0s - loss: 0.8692 - accuracy: 0.6062\n",
            "Epoch 29: val_loss improved from 0.66204 to 0.64440, saving model to saved_models/weights.best.basic_cnn.hdf5\n",
            "1/1 [==============================] - 1s 905ms/step - loss: 0.8692 - accuracy: 0.6062 - val_loss: 0.6444 - val_accuracy: 0.6250\n",
            "Epoch 30/72\n",
            "1/1 [==============================] - ETA: 0s - loss: 1.0497 - accuracy: 0.5375\n",
            "Epoch 30: val_loss improved from 0.64440 to 0.63983, saving model to saved_models/weights.best.basic_cnn.hdf5\n",
            "1/1 [==============================] - 1s 831ms/step - loss: 1.0497 - accuracy: 0.5375 - val_loss: 0.6398 - val_accuracy: 0.6250\n",
            "Epoch 31/72\n",
            "1/1 [==============================] - ETA: 0s - loss: 1.0126 - accuracy: 0.6000\n",
            "Epoch 31: val_loss did not improve from 0.63983\n",
            "1/1 [==============================] - 1s 818ms/step - loss: 1.0126 - accuracy: 0.6000 - val_loss: 0.6430 - val_accuracy: 0.6500\n",
            "Epoch 32/72\n",
            "1/1 [==============================] - ETA: 0s - loss: 0.9841 - accuracy: 0.6000\n",
            "Epoch 32: val_loss did not improve from 0.63983\n",
            "1/1 [==============================] - 1s 816ms/step - loss: 0.9841 - accuracy: 0.6000 - val_loss: 0.6714 - val_accuracy: 0.6250\n",
            "Epoch 33/72\n",
            "1/1 [==============================] - ETA: 0s - loss: 0.7656 - accuracy: 0.6625\n",
            "Epoch 33: val_loss did not improve from 0.63983\n",
            "1/1 [==============================] - 1s 786ms/step - loss: 0.7656 - accuracy: 0.6625 - val_loss: 0.7238 - val_accuracy: 0.5750\n",
            "Epoch 34/72\n",
            "1/1 [==============================] - ETA: 0s - loss: 0.8528 - accuracy: 0.5938\n",
            "Epoch 34: val_loss did not improve from 0.63983\n",
            "1/1 [==============================] - 1s 826ms/step - loss: 0.8528 - accuracy: 0.5938 - val_loss: 0.7780 - val_accuracy: 0.6000\n",
            "Epoch 35/72\n",
            "1/1 [==============================] - ETA: 0s - loss: 0.9473 - accuracy: 0.6313\n",
            "Epoch 35: val_loss did not improve from 0.63983\n",
            "1/1 [==============================] - 1s 810ms/step - loss: 0.9473 - accuracy: 0.6313 - val_loss: 0.8036 - val_accuracy: 0.5750\n",
            "Epoch 36/72\n",
            "1/1 [==============================] - ETA: 0s - loss: 1.0047 - accuracy: 0.5938\n",
            "Epoch 36: val_loss did not improve from 0.63983\n",
            "1/1 [==============================] - 1s 830ms/step - loss: 1.0047 - accuracy: 0.5938 - val_loss: 0.7809 - val_accuracy: 0.6000\n",
            "Epoch 37/72\n",
            "1/1 [==============================] - ETA: 0s - loss: 1.0017 - accuracy: 0.5938\n",
            "Epoch 37: val_loss did not improve from 0.63983\n",
            "1/1 [==============================] - 1s 803ms/step - loss: 1.0017 - accuracy: 0.5938 - val_loss: 0.7214 - val_accuracy: 0.5750\n",
            "Epoch 38/72\n",
            "1/1 [==============================] - ETA: 0s - loss: 0.8790 - accuracy: 0.6313\n",
            "Epoch 38: val_loss did not improve from 0.63983\n",
            "1/1 [==============================] - 1s 805ms/step - loss: 0.8790 - accuracy: 0.6313 - val_loss: 0.6587 - val_accuracy: 0.6250\n",
            "Epoch 39/72\n",
            "1/1 [==============================] - ETA: 0s - loss: 0.7391 - accuracy: 0.6375\n",
            "Epoch 39: val_loss improved from 0.63983 to 0.62316, saving model to saved_models/weights.best.basic_cnn.hdf5\n",
            "1/1 [==============================] - 1s 829ms/step - loss: 0.7391 - accuracy: 0.6375 - val_loss: 0.6232 - val_accuracy: 0.6750\n",
            "Epoch 40/72\n",
            "1/1 [==============================] - ETA: 0s - loss: 0.7757 - accuracy: 0.6313\n",
            "Epoch 40: val_loss improved from 0.62316 to 0.60750, saving model to saved_models/weights.best.basic_cnn.hdf5\n",
            "1/1 [==============================] - 1s 856ms/step - loss: 0.7757 - accuracy: 0.6313 - val_loss: 0.6075 - val_accuracy: 0.7000\n",
            "Epoch 41/72\n",
            "1/1 [==============================] - ETA: 0s - loss: 0.8134 - accuracy: 0.6125\n",
            "Epoch 41: val_loss improved from 0.60750 to 0.60154, saving model to saved_models/weights.best.basic_cnn.hdf5\n",
            "1/1 [==============================] - 1s 1s/step - loss: 0.8134 - accuracy: 0.6125 - val_loss: 0.6015 - val_accuracy: 0.7000\n",
            "Epoch 42/72\n",
            "1/1 [==============================] - ETA: 0s - loss: 0.8536 - accuracy: 0.5875\n",
            "Epoch 42: val_loss did not improve from 0.60154\n",
            "1/1 [==============================] - 2s 2s/step - loss: 0.8536 - accuracy: 0.5875 - val_loss: 0.6044 - val_accuracy: 0.7000\n",
            "Epoch 43/72\n",
            "1/1 [==============================] - ETA: 0s - loss: 0.8497 - accuracy: 0.6687\n",
            "Epoch 43: val_loss did not improve from 0.60154\n",
            "1/1 [==============================] - 1s 826ms/step - loss: 0.8497 - accuracy: 0.6687 - val_loss: 0.6208 - val_accuracy: 0.6500\n",
            "Epoch 44/72\n",
            "1/1 [==============================] - ETA: 0s - loss: 0.6811 - accuracy: 0.7000\n",
            "Epoch 44: val_loss did not improve from 0.60154\n",
            "1/1 [==============================] - 1s 766ms/step - loss: 0.6811 - accuracy: 0.7000 - val_loss: 0.6423 - val_accuracy: 0.6250\n",
            "Epoch 45/72\n",
            "1/1 [==============================] - ETA: 0s - loss: 0.6342 - accuracy: 0.7063\n",
            "Epoch 45: val_loss did not improve from 0.60154\n",
            "1/1 [==============================] - 1s 796ms/step - loss: 0.6342 - accuracy: 0.7063 - val_loss: 0.6596 - val_accuracy: 0.6250\n",
            "Epoch 46/72\n",
            "1/1 [==============================] - ETA: 0s - loss: 0.8082 - accuracy: 0.6562\n",
            "Epoch 46: val_loss did not improve from 0.60154\n",
            "1/1 [==============================] - 1s 803ms/step - loss: 0.8082 - accuracy: 0.6562 - val_loss: 0.6634 - val_accuracy: 0.6250\n",
            "Epoch 47/72\n",
            "1/1 [==============================] - ETA: 0s - loss: 0.6630 - accuracy: 0.7125\n",
            "Epoch 47: val_loss did not improve from 0.60154\n",
            "1/1 [==============================] - 1s 815ms/step - loss: 0.6630 - accuracy: 0.7125 - val_loss: 0.6546 - val_accuracy: 0.6250\n",
            "Epoch 48/72\n",
            "1/1 [==============================] - ETA: 0s - loss: 0.6590 - accuracy: 0.7250\n",
            "Epoch 48: val_loss did not improve from 0.60154\n",
            "1/1 [==============================] - 1s 760ms/step - loss: 0.6590 - accuracy: 0.7250 - val_loss: 0.6323 - val_accuracy: 0.6500\n",
            "Epoch 49/72\n",
            "1/1 [==============================] - ETA: 0s - loss: 0.7073 - accuracy: 0.7063\n",
            "Epoch 49: val_loss did not improve from 0.60154\n",
            "1/1 [==============================] - 1s 791ms/step - loss: 0.7073 - accuracy: 0.7063 - val_loss: 0.6073 - val_accuracy: 0.6750\n",
            "Epoch 50/72\n",
            "1/1 [==============================] - ETA: 0s - loss: 0.6373 - accuracy: 0.7188\n",
            "Epoch 50: val_loss improved from 0.60154 to 0.58492, saving model to saved_models/weights.best.basic_cnn.hdf5\n",
            "1/1 [==============================] - 1s 863ms/step - loss: 0.6373 - accuracy: 0.7188 - val_loss: 0.5849 - val_accuracy: 0.7000\n",
            "Epoch 51/72\n",
            "1/1 [==============================] - ETA: 0s - loss: 0.5887 - accuracy: 0.7000\n",
            "Epoch 51: val_loss improved from 0.58492 to 0.56714, saving model to saved_models/weights.best.basic_cnn.hdf5\n",
            "1/1 [==============================] - 1s 781ms/step - loss: 0.5887 - accuracy: 0.7000 - val_loss: 0.5671 - val_accuracy: 0.7000\n",
            "Epoch 52/72\n",
            "1/1 [==============================] - ETA: 0s - loss: 0.6659 - accuracy: 0.6750\n",
            "Epoch 52: val_loss improved from 0.56714 to 0.55479, saving model to saved_models/weights.best.basic_cnn.hdf5\n",
            "1/1 [==============================] - 1s 844ms/step - loss: 0.6659 - accuracy: 0.6750 - val_loss: 0.5548 - val_accuracy: 0.7000\n",
            "Epoch 53/72\n",
            "1/1 [==============================] - ETA: 0s - loss: 0.5772 - accuracy: 0.6938\n",
            "Epoch 53: val_loss improved from 0.55479 to 0.54851, saving model to saved_models/weights.best.basic_cnn.hdf5\n",
            "1/1 [==============================] - 1s 849ms/step - loss: 0.5772 - accuracy: 0.6938 - val_loss: 0.5485 - val_accuracy: 0.7250\n",
            "Epoch 54/72\n",
            "1/1 [==============================] - ETA: 0s - loss: 0.7570 - accuracy: 0.6438\n",
            "Epoch 54: val_loss did not improve from 0.54851\n",
            "1/1 [==============================] - 1s 797ms/step - loss: 0.7570 - accuracy: 0.6438 - val_loss: 0.5520 - val_accuracy: 0.7000\n",
            "Epoch 55/72\n",
            "1/1 [==============================] - ETA: 0s - loss: 0.6033 - accuracy: 0.7500\n",
            "Epoch 55: val_loss did not improve from 0.54851\n",
            "1/1 [==============================] - 1s 1s/step - loss: 0.6033 - accuracy: 0.7500 - val_loss: 0.5645 - val_accuracy: 0.7000\n",
            "Epoch 56/72\n",
            "1/1 [==============================] - ETA: 0s - loss: 0.6505 - accuracy: 0.6750\n",
            "Epoch 56: val_loss did not improve from 0.54851\n",
            "1/1 [==============================] - 2s 2s/step - loss: 0.6505 - accuracy: 0.6750 - val_loss: 0.5770 - val_accuracy: 0.7000\n",
            "Epoch 57/72\n",
            "1/1 [==============================] - ETA: 0s - loss: 0.6894 - accuracy: 0.6875\n",
            "Epoch 57: val_loss did not improve from 0.54851\n",
            "1/1 [==============================] - 1s 913ms/step - loss: 0.6894 - accuracy: 0.6875 - val_loss: 0.5905 - val_accuracy: 0.7250\n",
            "Epoch 58/72\n",
            "1/1 [==============================] - ETA: 0s - loss: 0.6788 - accuracy: 0.6938\n",
            "Epoch 58: val_loss did not improve from 0.54851\n",
            "1/1 [==============================] - 1s 795ms/step - loss: 0.6788 - accuracy: 0.6938 - val_loss: 0.5865 - val_accuracy: 0.7250\n",
            "Epoch 59/72\n",
            "1/1 [==============================] - ETA: 0s - loss: 0.6770 - accuracy: 0.6687\n",
            "Epoch 59: val_loss did not improve from 0.54851\n",
            "1/1 [==============================] - 1s 1s/step - loss: 0.6770 - accuracy: 0.6687 - val_loss: 0.5645 - val_accuracy: 0.7250\n",
            "Epoch 60/72\n",
            "1/1 [==============================] - ETA: 0s - loss: 0.6118 - accuracy: 0.7250\n",
            "Epoch 60: val_loss improved from 0.54851 to 0.54571, saving model to saved_models/weights.best.basic_cnn.hdf5\n",
            "1/1 [==============================] - 1s 917ms/step - loss: 0.6118 - accuracy: 0.7250 - val_loss: 0.5457 - val_accuracy: 0.7250\n",
            "Epoch 61/72\n",
            "1/1 [==============================] - ETA: 0s - loss: 0.5539 - accuracy: 0.7750\n",
            "Epoch 61: val_loss improved from 0.54571 to 0.52862, saving model to saved_models/weights.best.basic_cnn.hdf5\n",
            "1/1 [==============================] - 1s 830ms/step - loss: 0.5539 - accuracy: 0.7750 - val_loss: 0.5286 - val_accuracy: 0.7250\n",
            "Epoch 62/72\n",
            "1/1 [==============================] - ETA: 0s - loss: 0.5439 - accuracy: 0.7312\n",
            "Epoch 62: val_loss improved from 0.52862 to 0.51538, saving model to saved_models/weights.best.basic_cnn.hdf5\n",
            "1/1 [==============================] - 1s 879ms/step - loss: 0.5439 - accuracy: 0.7312 - val_loss: 0.5154 - val_accuracy: 0.7250\n",
            "Epoch 63/72\n",
            "1/1 [==============================] - ETA: 0s - loss: 0.6048 - accuracy: 0.7625\n",
            "Epoch 63: val_loss improved from 0.51538 to 0.51057, saving model to saved_models/weights.best.basic_cnn.hdf5\n",
            "1/1 [==============================] - 1s 853ms/step - loss: 0.6048 - accuracy: 0.7625 - val_loss: 0.5106 - val_accuracy: 0.7250\n",
            "Epoch 64/72\n",
            "1/1 [==============================] - ETA: 0s - loss: 0.5843 - accuracy: 0.6938\n",
            "Epoch 64: val_loss improved from 0.51057 to 0.50923, saving model to saved_models/weights.best.basic_cnn.hdf5\n",
            "1/1 [==============================] - 1s 871ms/step - loss: 0.5843 - accuracy: 0.6938 - val_loss: 0.5092 - val_accuracy: 0.7250\n",
            "Epoch 65/72\n",
            "1/1 [==============================] - ETA: 0s - loss: 0.4891 - accuracy: 0.7875\n",
            "Epoch 65: val_loss did not improve from 0.50923\n",
            "1/1 [==============================] - 1s 775ms/step - loss: 0.4891 - accuracy: 0.7875 - val_loss: 0.5100 - val_accuracy: 0.7500\n",
            "Epoch 66/72\n",
            "1/1 [==============================] - ETA: 0s - loss: 0.4950 - accuracy: 0.7688\n",
            "Epoch 66: val_loss did not improve from 0.50923\n",
            "1/1 [==============================] - 1s 803ms/step - loss: 0.4950 - accuracy: 0.7688 - val_loss: 0.5207 - val_accuracy: 0.7500\n",
            "Epoch 67/72\n",
            "1/1 [==============================] - ETA: 0s - loss: 0.6073 - accuracy: 0.7563\n",
            "Epoch 67: val_loss did not improve from 0.50923\n",
            "1/1 [==============================] - 1s 787ms/step - loss: 0.6073 - accuracy: 0.7563 - val_loss: 0.5269 - val_accuracy: 0.7500\n",
            "Epoch 68/72\n",
            "1/1 [==============================] - ETA: 0s - loss: 0.4409 - accuracy: 0.8062\n",
            "Epoch 68: val_loss did not improve from 0.50923\n",
            "1/1 [==============================] - 1s 987ms/step - loss: 0.4409 - accuracy: 0.8062 - val_loss: 0.5263 - val_accuracy: 0.7500\n",
            "Epoch 69/72\n",
            "1/1 [==============================] - ETA: 0s - loss: 0.4698 - accuracy: 0.7812\n",
            "Epoch 69: val_loss did not improve from 0.50923\n",
            "1/1 [==============================] - 1s 1s/step - loss: 0.4698 - accuracy: 0.7812 - val_loss: 0.5265 - val_accuracy: 0.7500\n",
            "Epoch 70/72\n",
            "1/1 [==============================] - ETA: 0s - loss: 0.4516 - accuracy: 0.8188\n",
            "Epoch 70: val_loss did not improve from 0.50923\n",
            "1/1 [==============================] - 1s 1s/step - loss: 0.4516 - accuracy: 0.8188 - val_loss: 0.5238 - val_accuracy: 0.7500\n",
            "Epoch 71/72\n",
            "1/1 [==============================] - ETA: 0s - loss: 0.4537 - accuracy: 0.7937\n",
            "Epoch 71: val_loss did not improve from 0.50923\n",
            "1/1 [==============================] - 1s 827ms/step - loss: 0.4537 - accuracy: 0.7937 - val_loss: 0.5220 - val_accuracy: 0.7500\n",
            "Epoch 72/72\n",
            "1/1 [==============================] - ETA: 0s - loss: 0.4347 - accuracy: 0.8000\n",
            "Epoch 72: val_loss did not improve from 0.50923\n",
            "1/1 [==============================] - 1s 777ms/step - loss: 0.4347 - accuracy: 0.8000 - val_loss: 0.5172 - val_accuracy: 0.7500\n",
            "Training completed in time:  0:01:07.726134\n"
          ]
        }
      ]
    },
    {
      "cell_type": "code",
      "source": [
        "import pandas as pd\n",
        "import numpy as np\n",
        "pd.DataFrame(history.history).plot(figsize=(8,5))\n",
        "plt.grid(True)\n",
        "plt.gca().set_ylim(0,1)\n",
        "plt.show()\n",
        "print('1. If the validation loss is greater(are both high:) than the training loss. The model is underfitting.')\n",
        "print('2. If the validation loss is greater than the training loss,The model is overfitting.')\n",
        "print('3. If the training loss and validation loss both decrease and stabilize at a specific point:the model is good fit')"
      ],
      "metadata": {
        "id": "UJjxh4_0MkoG",
        "outputId": "93143679-69d0-43d9-b60e-933da10cbfd3",
        "colab": {
          "base_uri": "https://localhost:8080/",
          "height": 503
        }
      },
      "execution_count": 79,
      "outputs": [
        {
          "output_type": "display_data",
          "data": {
            "text/plain": [
              "<Figure size 800x500 with 1 Axes>"
            ],
            "image/png": "[encoded data removed]"
          },
          "metadata": {}
        },
        {
          "output_type": "stream",
          "name": "stdout",
          "text": [
            "1. If the validation loss is greater(are both high:) than the training loss. The model is underfitting.\n",
            "2. If the validation loss is greater than the training loss,The model is overfitting.\n",
            "3. If the training loss and validation loss both decrease and stabilize at a specific point:the model is good fit\n"
          ]
        }
      ]
    },
    {
      "cell_type": "code",
      "source": [
        "# Evaluating the model on the training and testing set\n",
        "score = model.evaluate(x_train, y_train, verbose=0)\n",
        "print(\"Training Accuracy: \", score[1]*100,\"%\")\n",
        "\n",
        "score = model.evaluate(x_test, y_test, verbose=0)\n",
        "print(\"Testing Accuracy: \", score[1]*100,\"%\")"
      ],
      "metadata": {
        "id": "uvJmIaLzMpVv",
        "outputId": "bc73402a-8110-4605-adc2-e87422069d1f",
        "colab": {
          "base_uri": "https://localhost:8080/"
        }
      },
      "execution_count": 80,
      "outputs": [
        {
          "output_type": "stream",
          "name": "stdout",
          "text": [
            "Training Accuracy:  81.25 %\n",
            "Testing Accuracy:  75.0 %\n"
          ]
        }
      ]
    },
    {
      "cell_type": "code",
      "source": [
        "from sklearn.metrics import precision_score,recall_score,f1_score\n",
        "\n",
        "# Predict class labels on test set\n",
        "y_pred = model.predict(x_test)\n",
        "y_pred = (y_pred > 0.5).astype(int)\n",
        "\n",
        "# Calculate precision score\n",
        "precision = precision_score(y_test, y_pred, average='weighted', zero_division=0)\n",
        "recall = recall_score(y_test, y_pred, average='weighted', zero_division=0)\n",
        "f1 = f1_score(y_test, y_pred, average='weighted', zero_division=0)\n",
        "\n",
        "# Print precision score\n",
        "print(\"Precision Score: \", precision)\n",
        "print(\"Recall: \", recall)\n",
        "print(\"F1 Score: \", f1)"
      ],
      "metadata": {
        "colab": {
          "base_uri": "https://localhost:8080/"
        },
        "id": "cheGKtzZGq63",
        "outputId": "12865653-fc3a-4b52-bc44-8561b7a5fdd0"
      },
      "execution_count": 81,
      "outputs": [
        {
          "output_type": "stream",
          "name": "stdout",
          "text": [
            "2/2 [==============================] - 0s 14ms/step\n",
            "Precision Score:  0.778\n",
            "Recall:  0.75\n",
            "F1 Score:  0.7462121212121212\n"
          ]
        }
      ]
    },
    {
      "cell_type": "code",
      "source": [
        "def print_prediction(file_name):\n",
        "    prediction_feature = extract_features(file_name) \n",
        "    prediction_feature = prediction_feature.reshape(1, num_rows, num_columns, num_channels)\n",
        "\n",
        "    predicted_vector = model.predict(prediction_feature)\n",
        "    predicted_class = le.inverse_transform(np.argmax(predicted_vector, axis=-1)) \n",
        "    print(\"The predicted class is:\", predicted_class[0], '\\n') \n",
        "\n",
        "    predicted_proba_vector = predicted_vector\n",
        "    for i in range(len(predicted_proba_vector[0])): \n",
        "        category = le.inverse_transform(np.array([i]))\n",
        "        print(category[0], \"\\t\\t : \", format(predicted_proba_vector[0][i]*100,'.32f'),\"%\")"
      ],
      "metadata": {
        "id": "UfcU6ZicMv-V"
      },
      "execution_count": 82,
      "outputs": []
    },
    {
      "cell_type": "code",
      "source": [
        "from pydub import AudioSegment\n",
        "\n",
        "# set the file paths\n",
        "input_file = \"/content/sample-195283.mp3\"\n",
        "output_file = \"/content/output.wav\"\n",
        "\n",
        "audio = AudioSegment.from_file(input_file, format=\"mp3\")\n",
        "\n",
        "audio.export(output_file, format=\"wav\")"
      ],
      "metadata": {
        "id": "cZ78n72ZQufO",
        "outputId": "acf110e5-880c-4597-db56-807efd106266",
        "colab": {
          "base_uri": "https://localhost:8080/"
        }
      },
      "execution_count": 83,
      "outputs": [
        {
          "output_type": "execute_result",
          "data": {
            "text/plain": [
              "<_io.BufferedRandom name='/content/output.wav'>"
            ]
          },
          "metadata": {},
          "execution_count": 83
        }
      ]
    },
    {
      "cell_type": "code",
      "source": [
        "filename = '/content/output.wav' \n",
        "print_prediction(filename) "
      ],
      "metadata": {
        "id": "kojRxIGdMzUv",
        "outputId": "ac40abe4-8a3f-4aef-8257-712883eb8d93",
        "colab": {
          "base_uri": "https://localhost:8080/"
        }
      },
      "execution_count": 84,
      "outputs": [
        {
          "output_type": "stream",
          "name": "stdout",
          "text": [
            "1/1 [==============================] - 0s 32ms/step\n",
            "The predicted class is: female \n",
            "\n",
            "female \t\t :  95.00447511672973632812500000000000 %\n",
            "male \t\t :  4.99552898108959197998046875000000 %\n"
          ]
        }
      ]
    },
    {
      "cell_type": "markdown",
      "source": [
        "#  Early  Stopping"
      ],
      "metadata": {
        "id": "vUX_qkCQNaWv"
      }
    },
    {
      "cell_type": "code",
      "source": [
        "\n",
        "# Construct model \n",
        "model = Sequential()\n",
        "model.add(Conv2D(filters=16, kernel_size=2, input_shape=(num_rows, num_columns, num_channels), activation='relu'))\n",
        "model.add(MaxPooling2D(pool_size=2))\n",
        "model.add(Dropout(0.2))\n",
        "\n",
        "model.add(Conv2D(filters=32, kernel_size=2, activation='relu'))\n",
        "model.add(MaxPooling2D(pool_size=2))\n",
        "model.add(Dropout(0.2))\n",
        "\n",
        "model.add(Conv2D(filters=64, kernel_size=2, activation='relu'))\n",
        "model.add(MaxPooling2D(pool_size=2))\n",
        "model.add(Dropout(0.2))\n",
        "\n",
        "model.add(Conv2D(filters=128, kernel_size=2, activation='relu'))\n",
        "model.add(MaxPooling2D(pool_size=2))\n",
        "model.add(Dropout(0.2))\n",
        "model.add(GlobalAveragePooling2D())\n",
        "\n",
        "model.add(Dense(num_labels, activation='softmax')) \n"
      ],
      "metadata": {
        "id": "b6jqPr1pNey3"
      },
      "execution_count": 85,
      "outputs": []
    },
    {
      "cell_type": "code",
      "source": [
        "# Compile the model\n",
        "model.compile(loss='categorical_crossentropy', metrics=['accuracy'], optimizer='adam') "
      ],
      "metadata": {
        "id": "hc84zUvPOc8t"
      },
      "execution_count": 86,
      "outputs": []
    },
    {
      "cell_type": "code",
      "source": [
        "# Display model architecture summary \n",
        "model.summary()\n",
        "\n",
        "# Calculate pre-training accuracy \n",
        "score = model.evaluate(x_test, y_test, verbose=1)\n",
        "accuracy = 100*score[1]\n",
        "\n",
        "print(\"Pre-training accuracy: %.4f%%\" % accuracy)"
      ],
      "metadata": {
        "id": "fUjMVgqmNmAG",
        "outputId": "5732468c-a412-436d-9719-ba91d64d9e90",
        "colab": {
          "base_uri": "https://localhost:8080/"
        }
      },
      "execution_count": 87,
      "outputs": [
        {
          "output_type": "stream",
          "name": "stdout",
          "text": [
            "Model: \"sequential_5\"\n",
            "_________________________________________________________________\n",
            " Layer (type)                Output Shape              Param #   \n",
            "=================================================================\n",
            " conv2d_20 (Conv2D)          (None, 39, 173, 16)       80        \n",
            "                                                                 \n",
            " max_pooling2d_20 (MaxPoolin  (None, 19, 86, 16)       0         \n",
            " g2D)                                                            \n",
            "                                                                 \n",
            " dropout_8 (Dropout)         (None, 19, 86, 16)        0         \n",
            "                                                                 \n",
            " conv2d_21 (Conv2D)          (None, 18, 85, 32)        2080      \n",
            "                                                                 \n",
            " max_pooling2d_21 (MaxPoolin  (None, 9, 42, 32)        0         \n",
            " g2D)                                                            \n",
            "                                                                 \n",
            " dropout_9 (Dropout)         (None, 9, 42, 32)         0         \n",
            "                                                                 \n",
            " conv2d_22 (Conv2D)          (None, 8, 41, 64)         8256      \n",
            "                                                                 \n",
            " max_pooling2d_22 (MaxPoolin  (None, 4, 20, 64)        0         \n",
            " g2D)                                                            \n",
            "                                                                 \n",
            " dropout_10 (Dropout)        (None, 4, 20, 64)         0         \n",
            "                                                                 \n",
            " conv2d_23 (Conv2D)          (None, 3, 19, 128)        32896     \n",
            "                                                                 \n",
            " max_pooling2d_23 (MaxPoolin  (None, 1, 9, 128)        0         \n",
            " g2D)                                                            \n",
            "                                                                 \n",
            " dropout_11 (Dropout)        (None, 1, 9, 128)         0         \n",
            "                                                                 \n",
            " global_average_pooling2d_5   (None, 128)              0         \n",
            " (GlobalAveragePooling2D)                                        \n",
            "                                                                 \n",
            " dense_11 (Dense)            (None, 2)                 258       \n",
            "                                                                 \n",
            "=================================================================\n",
            "Total params: 43,570\n",
            "Trainable params: 43,570\n",
            "Non-trainable params: 0\n",
            "_________________________________________________________________\n",
            "2/2 [==============================] - 0s 16ms/step - loss: 7.3790 - accuracy: 0.5250\n",
            "Pre-training accuracy: 52.5000%\n"
          ]
        }
      ]
    },
    {
      "cell_type": "code",
      "source": [
        "from keras.callbacks import ModelCheckpoint \n",
        "from datetime import datetime \n",
        "from keras.callbacks import EarlyStopping\n",
        "\n",
        "earlystop= EarlyStopping(monitor='val_accuracy', patience=3)\n",
        "num_epochs = 36\n",
        "num_batch_size = 256\n",
        "\n",
        "start = datetime.now()\n",
        "\n",
        "history=model.fit(x_train, y_train, batch_size=num_batch_size, epochs=num_epochs, validation_data=(x_test, y_test),callbacks=[earlystop], verbose=1)\n",
        "\n",
        "\n",
        "duration = datetime.now() - start\n",
        "print(\"Training completed in time: \", duration)"
      ],
      "metadata": {
        "id": "3TNxAueWNs4R",
        "outputId": "7cdcae69-185b-44e8-ad63-7309e6dbd598",
        "colab": {
          "base_uri": "https://localhost:8080/"
        }
      },
      "execution_count": 88,
      "outputs": [
        {
          "output_type": "stream",
          "name": "stdout",
          "text": [
            "Epoch 1/36\n",
            "1/1 [==============================] - 2s 2s/step - loss: 16.1208 - accuracy: 0.4938 - val_loss: 1.2645 - val_accuracy: 0.6000\n",
            "Epoch 2/36\n",
            "1/1 [==============================] - 1s 835ms/step - loss: 3.9014 - accuracy: 0.4938 - val_loss: 4.5071 - val_accuracy: 0.4750\n",
            "Epoch 3/36\n",
            "1/1 [==============================] - 1s 781ms/step - loss: 6.1132 - accuracy: 0.5000 - val_loss: 5.5785 - val_accuracy: 0.4750\n",
            "Epoch 4/36\n",
            "1/1 [==============================] - 1s 843ms/step - loss: 8.2574 - accuracy: 0.5063 - val_loss: 4.9442 - val_accuracy: 0.4750\n",
            "Training completed in time:  0:00:04.657612\n"
          ]
        }
      ]
    },
    {
      "cell_type": "code",
      "source": [
        "import pandas as pd\n",
        "import numpy as np\n",
        "pd.DataFrame(history.history).plot(figsize=(8,5))\n",
        "plt.grid(True)\n",
        "plt.gca().set_ylim(0,1)\n",
        "plt.show()\n",
        "print('1. If the validation loss is greater(are both high:) than the training loss. The model is underfitting.')\n",
        "print('2. If the validation loss is greater than the training loss,The model is overfitting.')\n",
        "print('3. If the training loss and validation loss both decrease and stabilize at a specific point:the model is good fit')"
      ],
      "metadata": {
        "id": "6oSjr9y3NxzB",
        "outputId": "f311916d-3bf9-4e6b-eca6-63ab8bb4aafd",
        "colab": {
          "base_uri": "https://localhost:8080/",
          "height": 503
        }
      },
      "execution_count": 89,
      "outputs": [
        {
          "output_type": "display_data",
          "data": {
            "text/plain": [
              "<Figure size 800x500 with 1 Axes>"
            ],
            "image/png": "[encoded data removed]"
          },
          "metadata": {}
        },
        {
          "output_type": "stream",
          "name": "stdout",
          "text": [
            "1. If the validation loss is greater(are both high:) than the training loss. The model is underfitting.\n",
            "2. If the validation loss is greater than the training loss,The model is overfitting.\n",
            "3. If the training loss and validation loss both decrease and stabilize at a specific point:the model is good fit\n"
          ]
        }
      ]
    },
    {
      "cell_type": "code",
      "source": [
        "# Evaluating the model on the training and testing set\n",
        "score = model.evaluate(x_train, y_train, verbose=0)\n",
        "print(\"Training Accuracy: \", score[1]*100,\"%\")\n",
        "\n",
        "score = model.evaluate(x_test, y_test, verbose=0)\n",
        "print(\"Testing Accuracy: \", score[1]*100,\"%\")"
      ],
      "metadata": {
        "id": "W4dqIBe_NyRC",
        "outputId": "e215dd4c-a421-444b-de74-cc4b8ebf57ec",
        "colab": {
          "base_uri": "https://localhost:8080/"
        }
      },
      "execution_count": 90,
      "outputs": [
        {
          "output_type": "stream",
          "name": "stdout",
          "text": [
            "Training Accuracy:  50.62500238418579 %\n",
            "Testing Accuracy:  47.49999940395355 %\n"
          ]
        }
      ]
    },
    {
      "cell_type": "code",
      "source": [
        "from sklearn.metrics import precision_score,recall_score,f1_score\n",
        "\n",
        "# Predict class labels on test set\n",
        "y_pred = model.predict(x_test)\n",
        "y_pred = (y_pred > 0.5).astype(int)\n",
        "\n",
        "# Calculate precision score\n",
        "precision = precision_score(y_test, y_pred, average='weighted', zero_division=0)\n",
        "recall = recall_score(y_test, y_pred, average='weighted', zero_division=0)\n",
        "f1 = f1_score(y_test, y_pred, average='weighted', zero_division=0)\n",
        "\n",
        "# Print precision score\n",
        "print(\"Precision Score: \", precision)\n",
        "print(\"Recall: \", recall)\n",
        "print(\"F1 Score: \", f1)"
      ],
      "metadata": {
        "colab": {
          "base_uri": "https://localhost:8080/"
        },
        "id": "KlG9oR0-GtfL",
        "outputId": "6374dc73-215b-4823-dd61-7ed1843c9fa7"
      },
      "execution_count": 91,
      "outputs": [
        {
          "output_type": "stream",
          "name": "stderr",
          "text": [
            "WARNING:tensorflow:5 out of the last 24 calls to <function Model.make_predict_function.<locals>.predict_function at 0x7f76a08891f0> triggered tf.function retracing. Tracing is expensive and the excessive number of tracings could be due to (1) creating @tf.function repeatedly in a loop, (2) passing tensors with different shapes, (3) passing Python objects instead of tensors. For (1), please define your @tf.function outside of the loop. For (2), @tf.function has reduce_retracing=True option that can avoid unnecessary retracing. For (3), please refer to https://www.tensorflow.org/guide/function#controlling_retracing and https://www.tensorflow.org/api_docs/python/tf/function for  more details.\n"
          ]
        },
        {
          "output_type": "stream",
          "name": "stdout",
          "text": [
            "2/2 [==============================] - 0s 22ms/step\n",
            "Precision Score:  0.22562500000000002\n",
            "Recall:  0.475\n",
            "F1 Score:  0.3059322033898305\n"
          ]
        }
      ]
    },
    {
      "cell_type": "code",
      "source": [
        "def print_prediction(file_name):\n",
        "    prediction_feature = extract_features(file_name) \n",
        "    prediction_feature = prediction_feature.reshape(1, num_rows, num_columns, num_channels)\n",
        "\n",
        "    predicted_vector = model.predict(prediction_feature)\n",
        "    predicted_class = le.inverse_transform(np.argmax(predicted_vector, axis=-1)) \n",
        "    print(\"The predicted class is:\", predicted_class[0], '\\n') \n",
        "\n",
        "    predicted_proba_vector = predicted_vector\n",
        "    for i in range(len(predicted_proba_vector[0])): \n",
        "        category = le.inverse_transform(np.array([i]))\n",
        "        print(category[0], \"\\t\\t : \", format(predicted_proba_vector[0][i]*100,'.32f'),\"%\")"
      ],
      "metadata": {
        "id": "TZ0QPhO2N8RP"
      },
      "execution_count": 92,
      "outputs": []
    },
    {
      "cell_type": "code",
      "source": [
        "from pydub import AudioSegment\n",
        "\n",
        "# set the file paths\n",
        "input_file = \"/content/sample-195283.mp3\"\n",
        "output_file = \"/content/output.wav\"\n",
        "\n",
        "audio = AudioSegment.from_file(input_file, format=\"mp3\")\n",
        "\n",
        "audio.export(output_file, format=\"wav\")"
      ],
      "metadata": {
        "id": "gX206F7cQ2Yk",
        "outputId": "251582d8-012c-45c3-c60d-339ac3c193ae",
        "colab": {
          "base_uri": "https://localhost:8080/"
        }
      },
      "execution_count": 93,
      "outputs": [
        {
          "output_type": "execute_result",
          "data": {
            "text/plain": [
              "<_io.BufferedRandom name='/content/output.wav'>"
            ]
          },
          "metadata": {},
          "execution_count": 93
        }
      ]
    },
    {
      "cell_type": "code",
      "source": [
        "filename = '/content/output.wav' \n",
        "print_prediction(filename) "
      ],
      "metadata": {
        "id": "yzfjVsdWN8aa",
        "outputId": "ab513efb-401e-462d-d7ca-7aad8fe7581e",
        "colab": {
          "base_uri": "https://localhost:8080/"
        }
      },
      "execution_count": 94,
      "outputs": [
        {
          "output_type": "stream",
          "name": "stdout",
          "text": [
            "1/1 [==============================] - 0s 43ms/step\n",
            "The predicted class is: female \n",
            "\n",
            "female \t\t :  99.99928474426269531250000000000000 %\n",
            "male \t\t :  0.00071152439886645879596471786499 %\n"
          ]
        }
      ]
    }
  ],
  "metadata": {
    "kernelspec": {
      "display_name": "Python 3",
      "language": "python",
      "name": "python3"
    },
    "language_info": {
      "codemirror_mode": {
        "name": "ipython",
        "version": 3
      },
      "file_extension": ".py",
      "mimetype": "text/x-python",
      "name": "python",
      "nbconvert_exporter": "python",
      "pygments_lexer": "ipython3",
      "version": "3.10.1"
    },
    "colab": {
      "provenance": [],
      "include_colab_link": true
    }
  },
  "nbformat": 4,
  "nbformat_minor": 0
}