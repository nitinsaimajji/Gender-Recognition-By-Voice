{
  "cells": [
    {
      "cell_type": "markdown",
      "metadata": {
        "id": "view-in-github",
        "colab_type": "text"
      },
      "source": [
        "<a href=\"https://colab.research.google.com/github/nitinsaimajji/voice1/blob/main/weekly_code/Week_8.ipynb\" target=\"_parent\"><img src=\"https://colab.research.google.com/assets/colab-badge.svg\" alt=\"Open In Colab\"/></a>"
      ]
    },
    {
      "cell_type": "code",
      "execution_count": 149,
      "metadata": {
        "id": "qzpV-lbxaKAe",
        "outputId": "215d63b8-6c6a-497b-937b-986e1a3316d7",
        "colab": {
          "base_uri": "https://localhost:8080/"
        }
      },
      "outputs": [
        {
          "output_type": "stream",
          "name": "stdout",
          "text": [
            "Looking in indexes: https://pypi.org/simple, https://us-python.pkg.dev/colab-wheels/public/simple/\n",
            "Requirement already satisfied: python_speech_features in /usr/local/lib/python3.9/dist-packages (0.6)\n"
          ]
        }
      ],
      "source": [
        "pip install python_speech_features\n"
      ]
    },
    {
      "cell_type": "code",
      "source": [
        "!git clone https://github.com/nitinsaimajji/voice1.git"
      ],
      "metadata": {
        "colab": {
          "base_uri": "https://localhost:8080/"
        },
        "id": "r0Uz-4pobGse",
        "outputId": "d4a47234-2fb9-4458-aadd-ba4a60ddc16f"
      },
      "execution_count": 150,
      "outputs": [
        {
          "output_type": "stream",
          "name": "stdout",
          "text": [
            "fatal: destination path 'voice1' already exists and is not an empty directory.\n"
          ]
        }
      ]
    },
    {
      "cell_type": "code",
      "source": [
        "pip install pydub"
      ],
      "metadata": {
        "colab": {
          "base_uri": "https://localhost:8080/"
        },
        "id": "x67ZxGUVZzTH",
        "outputId": "322b0685-e872-4a59-c69c-75d982654100"
      },
      "execution_count": 151,
      "outputs": [
        {
          "output_type": "stream",
          "name": "stdout",
          "text": [
            "Looking in indexes: https://pypi.org/simple, https://us-python.pkg.dev/colab-wheels/public/simple/\n",
            "Requirement already satisfied: pydub in /usr/local/lib/python3.9/dist-packages (0.25.1)\n"
          ]
        }
      ]
    },
    {
      "cell_type": "code",
      "execution_count": 151,
      "metadata": {
        "id": "HtefZ9dDaKAn"
      },
      "outputs": [],
      "source": []
    },
    {
      "cell_type": "markdown",
      "source": [
        "## **A1**"
      ],
      "metadata": {
        "id": "73l5XscFUr_A"
      }
    },
    {
      "cell_type": "code",
      "source": [
        "import os\n",
        "import librosa\n",
        "import numpy as np\n",
        "import pandas as pd\n",
        "import matplotlib.pyplot as plt\n",
        "import seaborn as sns\n",
        "from tqdm import tqdm\n",
        "from sklearn.model_selection import train_test_split\n",
        "from sklearn.svm import SVC\n",
        "from sklearn.metrics import confusion_matrix\n",
        "from pydub import AudioSegment\n",
        "from python_speech_features import mfcc\n",
        "from time import time\n",
        "import IPython.display as ipd\n",
        "import librosa\n",
        "import librosa.display"
      ],
      "metadata": {
        "id": "NPMRDy_hIWk1"
      },
      "execution_count": 152,
      "outputs": []
    },
    {
      "cell_type": "code",
      "source": [
        "df = pd.read_csv('/content/voice1/wav_check.csv')\n",
        "df.head()"
      ],
      "metadata": {
        "id": "26ZqBBYCvxvG",
        "outputId": "e11ccea7-0982-48db-ce3c-fc56ad71b530",
        "colab": {
          "base_uri": "https://localhost:8080/",
          "height": 206
        }
      },
      "execution_count": 153,
      "outputs": [
        {
          "output_type": "execute_result",
          "data": {
            "text/plain": [
              "                 filename gender\n",
              "0  male-sample-000008.wav   male\n",
              "1  male-sample-000014.wav   male\n",
              "2  male-sample-000019.wav   male\n",
              "3  male-sample-000020.wav   male\n",
              "4  male-sample-000023.wav   male"
            ],
            "text/html": [
              "\n",
              "  <div id=\"df-198a4e45-3429-4baf-8548-a9d4df926c12\">\n",
              "    <div class=\"colab-df-container\">\n",
              "      <div>\n",
              "<style scoped>\n",
              "    .dataframe tbody tr th:only-of-type {\n",
              "        vertical-align: middle;\n",
              "    }\n",
              "\n",
              "    .dataframe tbody tr th {\n",
              "        vertical-align: top;\n",
              "    }\n",
              "\n",
              "    .dataframe thead th {\n",
              "        text-align: right;\n",
              "    }\n",
              "</style>\n",
              "<table border=\"1\" class=\"dataframe\">\n",
              "  <thead>\n",
              "    <tr style=\"text-align: right;\">\n",
              "      <th></th>\n",
              "      <th>filename</th>\n",
              "      <th>gender</th>\n",
              "    </tr>\n",
              "  </thead>\n",
              "  <tbody>\n",
              "    <tr>\n",
              "      <th>0</th>\n",
              "      <td>male-sample-000008.wav</td>\n",
              "      <td>male</td>\n",
              "    </tr>\n",
              "    <tr>\n",
              "      <th>1</th>\n",
              "      <td>male-sample-000014.wav</td>\n",
              "      <td>male</td>\n",
              "    </tr>\n",
              "    <tr>\n",
              "      <th>2</th>\n",
              "      <td>male-sample-000019.wav</td>\n",
              "      <td>male</td>\n",
              "    </tr>\n",
              "    <tr>\n",
              "      <th>3</th>\n",
              "      <td>male-sample-000020.wav</td>\n",
              "      <td>male</td>\n",
              "    </tr>\n",
              "    <tr>\n",
              "      <th>4</th>\n",
              "      <td>male-sample-000023.wav</td>\n",
              "      <td>male</td>\n",
              "    </tr>\n",
              "  </tbody>\n",
              "</table>\n",
              "</div>\n",
              "      <button class=\"colab-df-convert\" onclick=\"convertToInteractive('df-198a4e45-3429-4baf-8548-a9d4df926c12')\"\n",
              "              title=\"Convert this dataframe to an interactive table.\"\n",
              "              style=\"display:none;\">\n",
              "        \n",
              "  <svg xmlns=\"http://www.w3.org/2000/svg\" height=\"24px\"viewBox=\"0 0 24 24\"\n",
              "       width=\"24px\">\n",
              "    <path d=\"M0 0h24v24H0V0z\" fill=\"none\"/>\n",
              "    <path d=\"M18.56 5.44l.94 2.06.94-2.06 2.06-.94-2.06-.94-.94-2.06-.94 2.06-2.06.94zm-11 1L8.5 8.5l.94-2.06 2.06-.94-2.06-.94L8.5 2.5l-.94 2.06-2.06.94zm10 10l.94 2.06.94-2.06 2.06-.94-2.06-.94-.94-2.06-.94 2.06-2.06.94z\"/><path d=\"M17.41 7.96l-1.37-1.37c-.4-.4-.92-.59-1.43-.59-.52 0-1.04.2-1.43.59L10.3 9.45l-7.72 7.72c-.78.78-.78 2.05 0 2.83L4 21.41c.39.39.9.59 1.41.59.51 0 1.02-.2 1.41-.59l7.78-7.78 2.81-2.81c.8-.78.8-2.07 0-2.86zM5.41 20L4 18.59l7.72-7.72 1.47 1.35L5.41 20z\"/>\n",
              "  </svg>\n",
              "      </button>\n",
              "      \n",
              "  <style>\n",
              "    .colab-df-container {\n",
              "      display:flex;\n",
              "      flex-wrap:wrap;\n",
              "      gap: 12px;\n",
              "    }\n",
              "\n",
              "    .colab-df-convert {\n",
              "      background-color: #E8F0FE;\n",
              "      border: none;\n",
              "      border-radius: 50%;\n",
              "      cursor: pointer;\n",
              "      display: none;\n",
              "      fill: #1967D2;\n",
              "      height: 32px;\n",
              "      padding: 0 0 0 0;\n",
              "      width: 32px;\n",
              "    }\n",
              "\n",
              "    .colab-df-convert:hover {\n",
              "      background-color: #E2EBFA;\n",
              "      box-shadow: 0px 1px 2px rgba(60, 64, 67, 0.3), 0px 1px 3px 1px rgba(60, 64, 67, 0.15);\n",
              "      fill: #174EA6;\n",
              "    }\n",
              "\n",
              "    [theme=dark] .colab-df-convert {\n",
              "      background-color: #3B4455;\n",
              "      fill: #D2E3FC;\n",
              "    }\n",
              "\n",
              "    [theme=dark] .colab-df-convert:hover {\n",
              "      background-color: #434B5C;\n",
              "      box-shadow: 0px 1px 3px 1px rgba(0, 0, 0, 0.15);\n",
              "      filter: drop-shadow(0px 1px 2px rgba(0, 0, 0, 0.3));\n",
              "      fill: #FFFFFF;\n",
              "    }\n",
              "  </style>\n",
              "\n",
              "      <script>\n",
              "        const buttonEl =\n",
              "          document.querySelector('#df-198a4e45-3429-4baf-8548-a9d4df926c12 button.colab-df-convert');\n",
              "        buttonEl.style.display =\n",
              "          google.colab.kernel.accessAllowed ? 'block' : 'none';\n",
              "\n",
              "        async function convertToInteractive(key) {\n",
              "          const element = document.querySelector('#df-198a4e45-3429-4baf-8548-a9d4df926c12');\n",
              "          const dataTable =\n",
              "            await google.colab.kernel.invokeFunction('convertToInteractive',\n",
              "                                                     [key], {});\n",
              "          if (!dataTable) return;\n",
              "\n",
              "          const docLinkHtml = 'Like what you see? Visit the ' +\n",
              "            '<a target=\"_blank\" href=https://colab.research.google.com/notebooks/data_table.ipynb>data table notebook</a>'\n",
              "            + ' to learn more about interactive tables.';\n",
              "          element.innerHTML = '';\n",
              "          dataTable['output_type'] = 'display_data';\n",
              "          await google.colab.output.renderOutput(dataTable, element);\n",
              "          const docLink = document.createElement('div');\n",
              "          docLink.innerHTML = docLinkHtml;\n",
              "          element.appendChild(docLink);\n",
              "        }\n",
              "      </script>\n",
              "    </div>\n",
              "  </div>\n",
              "  "
            ]
          },
          "metadata": {},
          "execution_count": 153
        }
      ]
    },
    {
      "cell_type": "code",
      "source": [
        "TRAIN_PATH = '/content/voice/cv-valid-train/'\n",
        "!pip install wavefile\n",
        "!pip install helpers"
      ],
      "metadata": {
        "id": "7Qj2O2rCv2UR",
        "outputId": "9a1e8f6e-db99-489a-b3cf-b6df2fc84d84",
        "colab": {
          "base_uri": "https://localhost:8080/"
        }
      },
      "execution_count": 154,
      "outputs": [
        {
          "output_type": "stream",
          "name": "stdout",
          "text": [
            "Looking in indexes: https://pypi.org/simple, https://us-python.pkg.dev/colab-wheels/public/simple/\n",
            "Requirement already satisfied: wavefile in /usr/local/lib/python3.9/dist-packages (1.5)\n",
            "Requirement already satisfied: numpy in /usr/local/lib/python3.9/dist-packages (from wavefile) (1.22.4)\n",
            "Looking in indexes: https://pypi.org/simple, https://us-python.pkg.dev/colab-wheels/public/simple/\n",
            "Requirement already satisfied: helpers in /usr/local/lib/python3.9/dist-packages (0.2.0)\n"
          ]
        }
      ]
    },
    {
      "cell_type": "code",
      "source": [
        "max_pad_len = 174\n",
        "\n",
        "def extract_features(file_name):\n",
        "    try:\n",
        "        audio, sample_rate = librosa.load(file_name) \n",
        "        mfccs = librosa.feature.mfcc(y=audio, sr=sample_rate, n_mfcc=40)\n",
        "        \n",
        "        if mfccs.shape[1] < max_pad_len:\n",
        "            pad_width = max_pad_len - mfccs.shape[1]\n",
        "            mfccs = np.pad(mfccs, pad_width=((0, 0), (0, pad_width)), mode='constant')\n",
        "        else:\n",
        "            mfccs = mfccs[:, :max_pad_len]\n",
        "            \n",
        "    except Exception as e:\n",
        "        print(\"Error encountered while parsing file: \", file_name)\n",
        "        return None \n",
        "     \n",
        "    return mfccs\n"
      ],
      "metadata": {
        "id": "lQftXfpiv5rp"
      },
      "execution_count": 155,
      "outputs": []
    },
    {
      "cell_type": "code",
      "source": [
        "\n",
        "import os\n",
        "\n",
        "fulldatasetpath = '/content/voice1/dataset1'\n",
        "\n",
        "df = pd.read_csv('/content/voice1/wav_check.csv')\n",
        "\n",
        "\n",
        "features = []\n",
        "\n",
        "\n",
        "for index, row in df.iterrows():\n",
        "    \n",
        "    file_name = os.path.join(os.path.abspath(fulldatasetpath)+'/',str(row[\"filename\"]))\n",
        "    \n",
        "    class_label = row[\"gender\"]\n",
        "    data = extract_features(file_name)\n",
        "    \n",
        "    features.append([data, class_label])\n",
        "\n",
        "\n",
        "featuresdf = pd.DataFrame(features, columns=['feature','class_label'])\n",
        "\n",
        "print('Finished feature extraction from ', len(featuresdf), ' files') "
      ],
      "metadata": {
        "id": "Su6uUdC4wCMw",
        "outputId": "f395a834-04e1-47cf-d79a-7fc6199095e6",
        "colab": {
          "base_uri": "https://localhost:8080/"
        }
      },
      "execution_count": 156,
      "outputs": [
        {
          "output_type": "stream",
          "name": "stdout",
          "text": [
            "Finished feature extraction from  200  files\n"
          ]
        }
      ]
    },
    {
      "cell_type": "code",
      "source": [
        "from sklearn.preprocessing import LabelEncoder\n",
        "from keras.utils import to_categorical\n",
        "X = np.array(featuresdf.feature.tolist())\n",
        "y = np.array(featuresdf.class_label.tolist())\n",
        "le = LabelEncoder()\n",
        "yy = to_categorical(le.fit_transform(y)) \n",
        "from sklearn.model_selection import train_test_split \n",
        "\n",
        "x_train, x_test, y_train, y_test = train_test_split(X, yy, test_size=0.2, random_state = 42)"
      ],
      "metadata": {
        "id": "LEDlMKjWwD87"
      },
      "execution_count": 157,
      "outputs": []
    },
    {
      "cell_type": "markdown",
      "source": [
        "## CNN ARCHITECTURE"
      ],
      "metadata": {
        "id": "NVlm0-jJwJ1G"
      }
    },
    {
      "cell_type": "code",
      "source": [
        "from keras.models import Sequential\n",
        "from keras.layers import Dense, Dropout, Activation, Flatten\n",
        "from keras.layers import Convolution2D, Conv2D, MaxPooling2D, GlobalAveragePooling2D\n",
        "from keras.optimizers import Adam\n",
        "from keras.utils import np_utils\n",
        "from sklearn import metrics \n",
        "\n",
        "num_rows = 40\n",
        "num_columns = 174\n",
        "num_channels = 1\n",
        "\n",
        "x_train = x_train.reshape(x_train.shape[0], num_rows, num_columns, num_channels)\n",
        "x_test = x_test.reshape(x_test.shape[0], num_rows, num_columns, num_channels)\n",
        "\n",
        "num_labels = yy.shape[1]\n",
        "filter_size = 2\n"
      ],
      "metadata": {
        "id": "qvhOiFyDwOjz"
      },
      "execution_count": 158,
      "outputs": []
    },
    {
      "cell_type": "code",
      "source": [
        "from keras import regularizers"
      ],
      "metadata": {
        "id": "sg6y0BiIKgES"
      },
      "execution_count": 159,
      "outputs": []
    },
    {
      "cell_type": "markdown",
      "source": [
        "## Regularization : L2 & L1 regularization"
      ],
      "metadata": {
        "id": "n1D4d5EGKgvf"
      }
    },
    {
      "cell_type": "code",
      "source": [
        "\n",
        "# Construct model \n",
        "model = Sequential()\n",
        "model.add(Conv2D(filters=16, kernel_size=2, input_shape=(num_rows, num_columns, num_channels), activation='relu'))\n",
        "model.add(MaxPooling2D(pool_size=2))\n",
        "# model.add(Dropout(0.2))\n",
        "\n",
        "model.add(Conv2D(filters=32, kernel_size=2, activation='relu'))\n",
        "model.add(MaxPooling2D(pool_size=2))\n",
        "# model.add(Dropout(0.2))\n",
        "\n",
        "model.add(Conv2D(filters=64, kernel_size=2, activation='relu'))\n",
        "model.add(MaxPooling2D(pool_size=2))\n",
        "# model.add(Dropout(0.2))\n",
        "\n",
        "model.add(Conv2D(filters=128, kernel_size=2, activation='relu'))\n",
        "model.add(MaxPooling2D(pool_size=2))\n",
        "# model.add(Dropout(0.2))\n",
        "model.add(GlobalAveragePooling2D())\n",
        "\n",
        "model.add(Dense(num_labels, activation='softmax')) \n",
        "model.add(Dense(500,kernel_regularizer=regularizers.l2(0.01),activation=\"relu\"))\n",
        "model.add(Dense(2,activation=\"softmax\"))#2 represent output layer neurons "
      ],
      "metadata": {
        "id": "E-HoPlexJjEu"
      },
      "execution_count": 160,
      "outputs": []
    },
    {
      "cell_type": "markdown",
      "source": [],
      "metadata": {
        "id": "IUjVRV0FJiKq"
      }
    },
    {
      "cell_type": "code",
      "source": [
        "# Compile the model\n",
        "model.compile(loss='categorical_crossentropy', metrics=['accuracy'], optimizer='adam') "
      ],
      "metadata": {
        "id": "4rPEOfbowPDo"
      },
      "execution_count": 161,
      "outputs": []
    },
    {
      "cell_type": "code",
      "source": [
        "# Display model architecture summary \n",
        "model.summary()\n",
        "\n",
        "# Calculate pre-training accuracy \n",
        "score = model.evaluate(x_test, y_test, verbose=1)\n",
        "accuracy = 100*score[1]\n",
        "\n",
        "print(\"Pre-training accuracy: %.4f%%\" % accuracy)"
      ],
      "metadata": {
        "id": "UJxfrfSGwRrl",
        "outputId": "9849144a-6abe-4f8c-d14a-42fe69c20040",
        "colab": {
          "base_uri": "https://localhost:8080/"
        }
      },
      "execution_count": 162,
      "outputs": [
        {
          "output_type": "stream",
          "name": "stdout",
          "text": [
            "Model: \"sequential_10\"\n",
            "_________________________________________________________________\n",
            " Layer (type)                Output Shape              Param #   \n",
            "=================================================================\n",
            " conv2d_40 (Conv2D)          (None, 39, 173, 16)       80        \n",
            "                                                                 \n",
            " max_pooling2d_40 (MaxPoolin  (None, 19, 86, 16)       0         \n",
            " g2D)                                                            \n",
            "                                                                 \n",
            " conv2d_41 (Conv2D)          (None, 18, 85, 32)        2080      \n",
            "                                                                 \n",
            " max_pooling2d_41 (MaxPoolin  (None, 9, 42, 32)        0         \n",
            " g2D)                                                            \n",
            "                                                                 \n",
            " conv2d_42 (Conv2D)          (None, 8, 41, 64)         8256      \n",
            "                                                                 \n",
            " max_pooling2d_42 (MaxPoolin  (None, 4, 20, 64)        0         \n",
            " g2D)                                                            \n",
            "                                                                 \n",
            " conv2d_43 (Conv2D)          (None, 3, 19, 128)        32896     \n",
            "                                                                 \n",
            " max_pooling2d_43 (MaxPoolin  (None, 1, 9, 128)        0         \n",
            " g2D)                                                            \n",
            "                                                                 \n",
            " global_average_pooling2d_10  (None, 128)              0         \n",
            "  (GlobalAveragePooling2D)                                       \n",
            "                                                                 \n",
            " dense_18 (Dense)            (None, 2)                 258       \n",
            "                                                                 \n",
            " dense_19 (Dense)            (None, 500)               1500      \n",
            "                                                                 \n",
            " dense_20 (Dense)            (None, 2)                 1002      \n",
            "                                                                 \n",
            "=================================================================\n",
            "Total params: 46,072\n",
            "Trainable params: 46,072\n",
            "Non-trainable params: 0\n",
            "_________________________________________________________________\n",
            "2/2 [==============================] - 1s 27ms/step - loss: 0.7328 - accuracy: 0.4750\n",
            "Pre-training accuracy: 47.5000%\n"
          ]
        }
      ]
    },
    {
      "cell_type": "code",
      "source": [
        "from keras.callbacks import ModelCheckpoint \n",
        "from datetime import datetime \n",
        "\n",
        "num_epochs = 72\n",
        "num_batch_size = 256\n",
        "\n",
        "checkpointer = ModelCheckpoint(filepath='saved_models/weights.best.basic_cnn.hdf5', \n",
        "                               verbose=1, save_best_only=True)\n",
        "start = datetime.now()\n",
        "\n",
        "history=model.fit(x_train, y_train, batch_size=num_batch_size, epochs=num_epochs, validation_data=(x_test, y_test), callbacks=[checkpointer], verbose=1)\n",
        "\n",
        "\n",
        "duration = datetime.now() - start\n",
        "print(\"Training completed in time: \", duration)"
      ],
      "metadata": {
        "id": "sVNbobr1wTlk",
        "outputId": "2035452a-a5c4-48bc-e047-8228c3f80aba",
        "colab": {
          "base_uri": "https://localhost:8080/"
        }
      },
      "execution_count": 163,
      "outputs": [
        {
          "output_type": "stream",
          "name": "stdout",
          "text": [
            "Epoch 1/72\n",
            "1/1 [==============================] - ETA: 0s - loss: 0.7320 - accuracy: 0.5063\n",
            "Epoch 1: val_loss improved from inf to 0.73068, saving model to saved_models/weights.best.basic_cnn.hdf5\n",
            "1/1 [==============================] - 2s 2s/step - loss: 0.7320 - accuracy: 0.5063 - val_loss: 0.7307 - val_accuracy: 0.5250\n",
            "Epoch 2/72\n",
            "1/1 [==============================] - ETA: 0s - loss: 0.7311 - accuracy: 0.4938\n",
            "Epoch 2: val_loss improved from 0.73068 to 0.73056, saving model to saved_models/weights.best.basic_cnn.hdf5\n",
            "1/1 [==============================] - 1s 748ms/step - loss: 0.7311 - accuracy: 0.4938 - val_loss: 0.7306 - val_accuracy: 0.4750\n",
            "Epoch 3/72\n",
            "1/1 [==============================] - ETA: 0s - loss: 0.7299 - accuracy: 0.5063\n",
            "Epoch 3: val_loss improved from 0.73056 to 0.73051, saving model to saved_models/weights.best.basic_cnn.hdf5\n",
            "1/1 [==============================] - 1s 760ms/step - loss: 0.7299 - accuracy: 0.5063 - val_loss: 0.7305 - val_accuracy: 0.4750\n",
            "Epoch 4/72\n",
            "1/1 [==============================] - ETA: 0s - loss: 0.7290 - accuracy: 0.5063\n",
            "Epoch 4: val_loss improved from 0.73051 to 0.72964, saving model to saved_models/weights.best.basic_cnn.hdf5\n",
            "1/1 [==============================] - 1s 887ms/step - loss: 0.7290 - accuracy: 0.5063 - val_loss: 0.7296 - val_accuracy: 0.4750\n",
            "Epoch 5/72\n",
            "1/1 [==============================] - ETA: 0s - loss: 0.7280 - accuracy: 0.5063\n",
            "Epoch 5: val_loss improved from 0.72964 to 0.72822, saving model to saved_models/weights.best.basic_cnn.hdf5\n",
            "1/1 [==============================] - 1s 1s/step - loss: 0.7280 - accuracy: 0.5063 - val_loss: 0.7282 - val_accuracy: 0.4750\n",
            "Epoch 6/72\n",
            "1/1 [==============================] - ETA: 0s - loss: 0.7270 - accuracy: 0.5063\n",
            "Epoch 6: val_loss improved from 0.72822 to 0.72670, saving model to saved_models/weights.best.basic_cnn.hdf5\n",
            "1/1 [==============================] - 2s 2s/step - loss: 0.7270 - accuracy: 0.5063 - val_loss: 0.7267 - val_accuracy: 0.4750\n",
            "Epoch 7/72\n",
            "1/1 [==============================] - ETA: 0s - loss: 0.7260 - accuracy: 0.5063\n",
            "Epoch 7: val_loss improved from 0.72670 to 0.72537, saving model to saved_models/weights.best.basic_cnn.hdf5\n",
            "1/1 [==============================] - 2s 2s/step - loss: 0.7260 - accuracy: 0.5063 - val_loss: 0.7254 - val_accuracy: 0.4750\n",
            "Epoch 8/72\n",
            "1/1 [==============================] - ETA: 0s - loss: 0.7251 - accuracy: 0.5063\n",
            "Epoch 8: val_loss improved from 0.72537 to 0.72432, saving model to saved_models/weights.best.basic_cnn.hdf5\n",
            "1/1 [==============================] - 2s 2s/step - loss: 0.7251 - accuracy: 0.5063 - val_loss: 0.7243 - val_accuracy: 0.4750\n",
            "Epoch 9/72\n",
            "1/1 [==============================] - ETA: 0s - loss: 0.7242 - accuracy: 0.5063\n",
            "Epoch 9: val_loss improved from 0.72432 to 0.72354, saving model to saved_models/weights.best.basic_cnn.hdf5\n",
            "1/1 [==============================] - 1s 1s/step - loss: 0.7242 - accuracy: 0.5063 - val_loss: 0.7235 - val_accuracy: 0.4750\n",
            "Epoch 10/72\n",
            "1/1 [==============================] - ETA: 0s - loss: 0.7233 - accuracy: 0.5063\n",
            "Epoch 10: val_loss improved from 0.72354 to 0.72293, saving model to saved_models/weights.best.basic_cnn.hdf5\n",
            "1/1 [==============================] - 2s 2s/step - loss: 0.7233 - accuracy: 0.5063 - val_loss: 0.7229 - val_accuracy: 0.4750\n",
            "Epoch 11/72\n",
            "1/1 [==============================] - ETA: 0s - loss: 0.7224 - accuracy: 0.5063\n",
            "Epoch 11: val_loss improved from 0.72293 to 0.72241, saving model to saved_models/weights.best.basic_cnn.hdf5\n",
            "1/1 [==============================] - 1s 1s/step - loss: 0.7224 - accuracy: 0.5063 - val_loss: 0.7224 - val_accuracy: 0.4750\n",
            "Epoch 12/72\n",
            "1/1 [==============================] - ETA: 0s - loss: 0.7215 - accuracy: 0.5063\n",
            "Epoch 12: val_loss improved from 0.72241 to 0.72184, saving model to saved_models/weights.best.basic_cnn.hdf5\n",
            "1/1 [==============================] - 1s 1s/step - loss: 0.7215 - accuracy: 0.5063 - val_loss: 0.7218 - val_accuracy: 0.4750\n",
            "Epoch 13/72\n",
            "1/1 [==============================] - ETA: 0s - loss: 0.7207 - accuracy: 0.5063\n",
            "Epoch 13: val_loss improved from 0.72184 to 0.72113, saving model to saved_models/weights.best.basic_cnn.hdf5\n",
            "1/1 [==============================] - 2s 2s/step - loss: 0.7207 - accuracy: 0.5063 - val_loss: 0.7211 - val_accuracy: 0.4750\n",
            "Epoch 14/72\n",
            "1/1 [==============================] - ETA: 0s - loss: 0.7199 - accuracy: 0.5063\n",
            "Epoch 14: val_loss improved from 0.72113 to 0.72025, saving model to saved_models/weights.best.basic_cnn.hdf5\n",
            "1/1 [==============================] - 1s 1s/step - loss: 0.7199 - accuracy: 0.5063 - val_loss: 0.7202 - val_accuracy: 0.4750\n",
            "Epoch 15/72\n",
            "1/1 [==============================] - ETA: 0s - loss: 0.7191 - accuracy: 0.5063\n",
            "Epoch 15: val_loss improved from 0.72025 to 0.71926, saving model to saved_models/weights.best.basic_cnn.hdf5\n",
            "1/1 [==============================] - 2s 2s/step - loss: 0.7191 - accuracy: 0.5063 - val_loss: 0.7193 - val_accuracy: 0.4750\n",
            "Epoch 16/72\n",
            "1/1 [==============================] - ETA: 0s - loss: 0.7183 - accuracy: 0.5063\n",
            "Epoch 16: val_loss improved from 0.71926 to 0.71826, saving model to saved_models/weights.best.basic_cnn.hdf5\n",
            "1/1 [==============================] - 2s 2s/step - loss: 0.7183 - accuracy: 0.5063 - val_loss: 0.7183 - val_accuracy: 0.4750\n",
            "Epoch 17/72\n",
            "1/1 [==============================] - ETA: 0s - loss: 0.7175 - accuracy: 0.5063\n",
            "Epoch 17: val_loss improved from 0.71826 to 0.71734, saving model to saved_models/weights.best.basic_cnn.hdf5\n",
            "1/1 [==============================] - 2s 2s/step - loss: 0.7175 - accuracy: 0.5063 - val_loss: 0.7173 - val_accuracy: 0.4750\n",
            "Epoch 18/72\n",
            "1/1 [==============================] - ETA: 0s - loss: 0.7168 - accuracy: 0.5063\n",
            "Epoch 18: val_loss improved from 0.71734 to 0.71654, saving model to saved_models/weights.best.basic_cnn.hdf5\n",
            "1/1 [==============================] - 2s 2s/step - loss: 0.7168 - accuracy: 0.5063 - val_loss: 0.7165 - val_accuracy: 0.4750\n",
            "Epoch 19/72\n",
            "1/1 [==============================] - ETA: 0s - loss: 0.7161 - accuracy: 0.5063\n",
            "Epoch 19: val_loss improved from 0.71654 to 0.71588, saving model to saved_models/weights.best.basic_cnn.hdf5\n",
            "1/1 [==============================] - 1s 1s/step - loss: 0.7161 - accuracy: 0.5063 - val_loss: 0.7159 - val_accuracy: 0.4750\n",
            "Epoch 20/72\n",
            "1/1 [==============================] - ETA: 0s - loss: 0.7154 - accuracy: 0.5063\n",
            "Epoch 20: val_loss improved from 0.71588 to 0.71531, saving model to saved_models/weights.best.basic_cnn.hdf5\n",
            "1/1 [==============================] - 1s 1s/step - loss: 0.7154 - accuracy: 0.5063 - val_loss: 0.7153 - val_accuracy: 0.4750\n",
            "Epoch 21/72\n",
            "1/1 [==============================] - ETA: 0s - loss: 0.7147 - accuracy: 0.5063\n",
            "Epoch 21: val_loss improved from 0.71531 to 0.71481, saving model to saved_models/weights.best.basic_cnn.hdf5\n",
            "1/1 [==============================] - 1s 1s/step - loss: 0.7147 - accuracy: 0.5063 - val_loss: 0.7148 - val_accuracy: 0.4750\n",
            "Epoch 22/72\n",
            "1/1 [==============================] - ETA: 0s - loss: 0.7140 - accuracy: 0.5063\n",
            "Epoch 22: val_loss improved from 0.71481 to 0.71430, saving model to saved_models/weights.best.basic_cnn.hdf5\n",
            "1/1 [==============================] - 1s 1s/step - loss: 0.7140 - accuracy: 0.5063 - val_loss: 0.7143 - val_accuracy: 0.4750\n",
            "Epoch 23/72\n",
            "1/1 [==============================] - ETA: 0s - loss: 0.7134 - accuracy: 0.5063\n",
            "Epoch 23: val_loss improved from 0.71430 to 0.71374, saving model to saved_models/weights.best.basic_cnn.hdf5\n",
            "1/1 [==============================] - 3s 3s/step - loss: 0.7134 - accuracy: 0.5063 - val_loss: 0.7137 - val_accuracy: 0.4750\n",
            "Epoch 24/72\n",
            "1/1 [==============================] - ETA: 0s - loss: 0.7127 - accuracy: 0.5063\n",
            "Epoch 24: val_loss improved from 0.71374 to 0.71311, saving model to saved_models/weights.best.basic_cnn.hdf5\n",
            "1/1 [==============================] - 2s 2s/step - loss: 0.7127 - accuracy: 0.5063 - val_loss: 0.7131 - val_accuracy: 0.4750\n",
            "Epoch 25/72\n",
            "1/1 [==============================] - ETA: 0s - loss: 0.7121 - accuracy: 0.5063\n",
            "Epoch 25: val_loss improved from 0.71311 to 0.71241, saving model to saved_models/weights.best.basic_cnn.hdf5\n",
            "1/1 [==============================] - 2s 2s/step - loss: 0.7121 - accuracy: 0.5063 - val_loss: 0.7124 - val_accuracy: 0.4750\n",
            "Epoch 26/72\n",
            "1/1 [==============================] - ETA: 0s - loss: 0.7115 - accuracy: 0.5063\n",
            "Epoch 26: val_loss improved from 0.71241 to 0.71170, saving model to saved_models/weights.best.basic_cnn.hdf5\n",
            "1/1 [==============================] - 1s 1s/step - loss: 0.7115 - accuracy: 0.5063 - val_loss: 0.7117 - val_accuracy: 0.4750\n",
            "Epoch 27/72\n",
            "1/1 [==============================] - ETA: 0s - loss: 0.7109 - accuracy: 0.5063\n",
            "Epoch 27: val_loss improved from 0.71170 to 0.71102, saving model to saved_models/weights.best.basic_cnn.hdf5\n",
            "1/1 [==============================] - 1s 758ms/step - loss: 0.7109 - accuracy: 0.5063 - val_loss: 0.7110 - val_accuracy: 0.4750\n",
            "Epoch 28/72\n",
            "1/1 [==============================] - ETA: 0s - loss: 0.7104 - accuracy: 0.5063\n",
            "Epoch 28: val_loss improved from 0.71102 to 0.71041, saving model to saved_models/weights.best.basic_cnn.hdf5\n",
            "1/1 [==============================] - 1s 718ms/step - loss: 0.7104 - accuracy: 0.5063 - val_loss: 0.7104 - val_accuracy: 0.4750\n",
            "Epoch 29/72\n",
            "1/1 [==============================] - ETA: 0s - loss: 0.7098 - accuracy: 0.5063\n",
            "Epoch 29: val_loss improved from 0.71041 to 0.70988, saving model to saved_models/weights.best.basic_cnn.hdf5\n",
            "1/1 [==============================] - 1s 733ms/step - loss: 0.7098 - accuracy: 0.5063 - val_loss: 0.7099 - val_accuracy: 0.4750\n",
            "Epoch 30/72\n",
            "1/1 [==============================] - ETA: 0s - loss: 0.7093 - accuracy: 0.5063\n",
            "Epoch 30: val_loss improved from 0.70988 to 0.70943, saving model to saved_models/weights.best.basic_cnn.hdf5\n",
            "1/1 [==============================] - 1s 738ms/step - loss: 0.7093 - accuracy: 0.5063 - val_loss: 0.7094 - val_accuracy: 0.4750\n",
            "Epoch 31/72\n",
            "1/1 [==============================] - ETA: 0s - loss: 0.7087 - accuracy: 0.5063\n",
            "Epoch 31: val_loss improved from 0.70943 to 0.70902, saving model to saved_models/weights.best.basic_cnn.hdf5\n",
            "1/1 [==============================] - 1s 733ms/step - loss: 0.7087 - accuracy: 0.5063 - val_loss: 0.7090 - val_accuracy: 0.4750\n",
            "Epoch 32/72\n",
            "1/1 [==============================] - ETA: 0s - loss: 0.7082 - accuracy: 0.5063\n",
            "Epoch 32: val_loss improved from 0.70902 to 0.70860, saving model to saved_models/weights.best.basic_cnn.hdf5\n",
            "1/1 [==============================] - 1s 759ms/step - loss: 0.7082 - accuracy: 0.5063 - val_loss: 0.7086 - val_accuracy: 0.4750\n",
            "Epoch 33/72\n",
            "1/1 [==============================] - ETA: 0s - loss: 0.7077 - accuracy: 0.5063\n",
            "Epoch 33: val_loss improved from 0.70860 to 0.70816, saving model to saved_models/weights.best.basic_cnn.hdf5\n",
            "1/1 [==============================] - 1s 746ms/step - loss: 0.7077 - accuracy: 0.5063 - val_loss: 0.7082 - val_accuracy: 0.4750\n",
            "Epoch 34/72\n",
            "1/1 [==============================] - ETA: 0s - loss: 0.7073 - accuracy: 0.5063\n",
            "Epoch 34: val_loss improved from 0.70816 to 0.70767, saving model to saved_models/weights.best.basic_cnn.hdf5\n",
            "1/1 [==============================] - 1s 873ms/step - loss: 0.7073 - accuracy: 0.5063 - val_loss: 0.7077 - val_accuracy: 0.4750\n",
            "Epoch 35/72\n",
            "1/1 [==============================] - ETA: 0s - loss: 0.7068 - accuracy: 0.5063\n",
            "Epoch 35: val_loss improved from 0.70767 to 0.70717, saving model to saved_models/weights.best.basic_cnn.hdf5\n",
            "1/1 [==============================] - 1s 1s/step - loss: 0.7068 - accuracy: 0.5063 - val_loss: 0.7072 - val_accuracy: 0.4750\n",
            "Epoch 36/72\n",
            "1/1 [==============================] - ETA: 0s - loss: 0.7063 - accuracy: 0.5063\n",
            "Epoch 36: val_loss improved from 0.70717 to 0.70665, saving model to saved_models/weights.best.basic_cnn.hdf5\n",
            "1/1 [==============================] - 1s 1s/step - loss: 0.7063 - accuracy: 0.5063 - val_loss: 0.7067 - val_accuracy: 0.4750\n",
            "Epoch 37/72\n",
            "1/1 [==============================] - ETA: 0s - loss: 0.7059 - accuracy: 0.5063\n",
            "Epoch 37: val_loss improved from 0.70665 to 0.70617, saving model to saved_models/weights.best.basic_cnn.hdf5\n",
            "1/1 [==============================] - 1s 750ms/step - loss: 0.7059 - accuracy: 0.5063 - val_loss: 0.7062 - val_accuracy: 0.4750\n",
            "Epoch 38/72\n",
            "1/1 [==============================] - ETA: 0s - loss: 0.7055 - accuracy: 0.5063\n",
            "Epoch 38: val_loss improved from 0.70617 to 0.70574, saving model to saved_models/weights.best.basic_cnn.hdf5\n",
            "1/1 [==============================] - 1s 749ms/step - loss: 0.7055 - accuracy: 0.5063 - val_loss: 0.7057 - val_accuracy: 0.4750\n",
            "Epoch 39/72\n",
            "1/1 [==============================] - ETA: 0s - loss: 0.7051 - accuracy: 0.5063\n",
            "Epoch 39: val_loss improved from 0.70574 to 0.70536, saving model to saved_models/weights.best.basic_cnn.hdf5\n",
            "1/1 [==============================] - 1s 751ms/step - loss: 0.7051 - accuracy: 0.5063 - val_loss: 0.7054 - val_accuracy: 0.4750\n",
            "Epoch 40/72\n",
            "1/1 [==============================] - ETA: 0s - loss: 0.7047 - accuracy: 0.5063\n",
            "Epoch 40: val_loss improved from 0.70536 to 0.70502, saving model to saved_models/weights.best.basic_cnn.hdf5\n",
            "1/1 [==============================] - 1s 750ms/step - loss: 0.7047 - accuracy: 0.5063 - val_loss: 0.7050 - val_accuracy: 0.4750\n",
            "Epoch 41/72\n",
            "1/1 [==============================] - ETA: 0s - loss: 0.7043 - accuracy: 0.5063\n",
            "Epoch 41: val_loss improved from 0.70502 to 0.70469, saving model to saved_models/weights.best.basic_cnn.hdf5\n",
            "1/1 [==============================] - 1s 757ms/step - loss: 0.7043 - accuracy: 0.5063 - val_loss: 0.7047 - val_accuracy: 0.4750\n",
            "Epoch 42/72\n",
            "1/1 [==============================] - ETA: 0s - loss: 0.7039 - accuracy: 0.5063\n",
            "Epoch 42: val_loss improved from 0.70469 to 0.70435, saving model to saved_models/weights.best.basic_cnn.hdf5\n",
            "1/1 [==============================] - 1s 764ms/step - loss: 0.7039 - accuracy: 0.5063 - val_loss: 0.7044 - val_accuracy: 0.4750\n",
            "Epoch 43/72\n",
            "1/1 [==============================] - ETA: 0s - loss: 0.7035 - accuracy: 0.5063\n",
            "Epoch 43: val_loss improved from 0.70435 to 0.70400, saving model to saved_models/weights.best.basic_cnn.hdf5\n",
            "1/1 [==============================] - 1s 744ms/step - loss: 0.7035 - accuracy: 0.5063 - val_loss: 0.7040 - val_accuracy: 0.4750\n",
            "Epoch 44/72\n",
            "1/1 [==============================] - ETA: 0s - loss: 0.7032 - accuracy: 0.5063\n",
            "Epoch 44: val_loss improved from 0.70400 to 0.70363, saving model to saved_models/weights.best.basic_cnn.hdf5\n",
            "1/1 [==============================] - 1s 783ms/step - loss: 0.7032 - accuracy: 0.5063 - val_loss: 0.7036 - val_accuracy: 0.4750\n",
            "Epoch 45/72\n",
            "1/1 [==============================] - ETA: 0s - loss: 0.7028 - accuracy: 0.5063\n",
            "Epoch 45: val_loss improved from 0.70363 to 0.70326, saving model to saved_models/weights.best.basic_cnn.hdf5\n",
            "1/1 [==============================] - 1s 746ms/step - loss: 0.7028 - accuracy: 0.5063 - val_loss: 0.7033 - val_accuracy: 0.4750\n",
            "Epoch 46/72\n",
            "1/1 [==============================] - ETA: 0s - loss: 0.7025 - accuracy: 0.5063\n",
            "Epoch 46: val_loss improved from 0.70326 to 0.70291, saving model to saved_models/weights.best.basic_cnn.hdf5\n",
            "1/1 [==============================] - 1s 739ms/step - loss: 0.7025 - accuracy: 0.5063 - val_loss: 0.7029 - val_accuracy: 0.4750\n",
            "Epoch 47/72\n",
            "1/1 [==============================] - ETA: 0s - loss: 0.7022 - accuracy: 0.5063\n",
            "Epoch 47: val_loss improved from 0.70291 to 0.70258, saving model to saved_models/weights.best.basic_cnn.hdf5\n",
            "1/1 [==============================] - 1s 769ms/step - loss: 0.7022 - accuracy: 0.5063 - val_loss: 0.7026 - val_accuracy: 0.4750\n",
            "Epoch 48/72\n",
            "1/1 [==============================] - ETA: 0s - loss: 0.7019 - accuracy: 0.5063\n",
            "Epoch 48: val_loss improved from 0.70258 to 0.70229, saving model to saved_models/weights.best.basic_cnn.hdf5\n",
            "1/1 [==============================] - 1s 771ms/step - loss: 0.7019 - accuracy: 0.5063 - val_loss: 0.7023 - val_accuracy: 0.4750\n",
            "Epoch 49/72\n",
            "1/1 [==============================] - ETA: 0s - loss: 0.7015 - accuracy: 0.5063\n",
            "Epoch 49: val_loss improved from 0.70229 to 0.70202, saving model to saved_models/weights.best.basic_cnn.hdf5\n",
            "1/1 [==============================] - 1s 764ms/step - loss: 0.7015 - accuracy: 0.5063 - val_loss: 0.7020 - val_accuracy: 0.4750\n",
            "Epoch 50/72\n",
            "1/1 [==============================] - ETA: 0s - loss: 0.7013 - accuracy: 0.5063\n",
            "Epoch 50: val_loss improved from 0.70202 to 0.70176, saving model to saved_models/weights.best.basic_cnn.hdf5\n",
            "1/1 [==============================] - 1s 1s/step - loss: 0.7013 - accuracy: 0.5063 - val_loss: 0.7018 - val_accuracy: 0.4750\n",
            "Epoch 51/72\n",
            "1/1 [==============================] - ETA: 0s - loss: 0.7010 - accuracy: 0.5063\n",
            "Epoch 51: val_loss improved from 0.70176 to 0.70150, saving model to saved_models/weights.best.basic_cnn.hdf5\n",
            "1/1 [==============================] - 1s 1s/step - loss: 0.7010 - accuracy: 0.5063 - val_loss: 0.7015 - val_accuracy: 0.4750\n",
            "Epoch 52/72\n",
            "1/1 [==============================] - ETA: 0s - loss: 0.7007 - accuracy: 0.5063\n",
            "Epoch 52: val_loss improved from 0.70150 to 0.70124, saving model to saved_models/weights.best.basic_cnn.hdf5\n",
            "1/1 [==============================] - 1s 913ms/step - loss: 0.7007 - accuracy: 0.5063 - val_loss: 0.7012 - val_accuracy: 0.4750\n",
            "Epoch 53/72\n",
            "1/1 [==============================] - ETA: 0s - loss: 0.7004 - accuracy: 0.5063\n",
            "Epoch 53: val_loss improved from 0.70124 to 0.70096, saving model to saved_models/weights.best.basic_cnn.hdf5\n",
            "1/1 [==============================] - 1s 754ms/step - loss: 0.7004 - accuracy: 0.5063 - val_loss: 0.7010 - val_accuracy: 0.4750\n",
            "Epoch 54/72\n",
            "1/1 [==============================] - ETA: 0s - loss: 0.7002 - accuracy: 0.5063\n",
            "Epoch 54: val_loss improved from 0.70096 to 0.70069, saving model to saved_models/weights.best.basic_cnn.hdf5\n",
            "1/1 [==============================] - 1s 760ms/step - loss: 0.7002 - accuracy: 0.5063 - val_loss: 0.7007 - val_accuracy: 0.4750\n",
            "Epoch 55/72\n",
            "1/1 [==============================] - ETA: 0s - loss: 0.6999 - accuracy: 0.5063\n",
            "Epoch 55: val_loss improved from 0.70069 to 0.70043, saving model to saved_models/weights.best.basic_cnn.hdf5\n",
            "1/1 [==============================] - 1s 762ms/step - loss: 0.6999 - accuracy: 0.5063 - val_loss: 0.7004 - val_accuracy: 0.4750\n",
            "Epoch 56/72\n",
            "1/1 [==============================] - ETA: 0s - loss: 0.6997 - accuracy: 0.5063\n",
            "Epoch 56: val_loss improved from 0.70043 to 0.70020, saving model to saved_models/weights.best.basic_cnn.hdf5\n",
            "1/1 [==============================] - 1s 755ms/step - loss: 0.6997 - accuracy: 0.5063 - val_loss: 0.7002 - val_accuracy: 0.4750\n",
            "Epoch 57/72\n",
            "1/1 [==============================] - ETA: 0s - loss: 0.6994 - accuracy: 0.5063\n",
            "Epoch 57: val_loss improved from 0.70020 to 0.69998, saving model to saved_models/weights.best.basic_cnn.hdf5\n",
            "1/1 [==============================] - 1s 757ms/step - loss: 0.6994 - accuracy: 0.5063 - val_loss: 0.7000 - val_accuracy: 0.4750\n",
            "Epoch 58/72\n",
            "1/1 [==============================] - ETA: 0s - loss: 0.6992 - accuracy: 0.5063\n",
            "Epoch 58: val_loss improved from 0.69998 to 0.69978, saving model to saved_models/weights.best.basic_cnn.hdf5\n",
            "1/1 [==============================] - 1s 740ms/step - loss: 0.6992 - accuracy: 0.5063 - val_loss: 0.6998 - val_accuracy: 0.4750\n",
            "Epoch 59/72\n",
            "1/1 [==============================] - ETA: 0s - loss: 0.6990 - accuracy: 0.5063\n",
            "Epoch 59: val_loss improved from 0.69978 to 0.69958, saving model to saved_models/weights.best.basic_cnn.hdf5\n",
            "1/1 [==============================] - 1s 732ms/step - loss: 0.6990 - accuracy: 0.5063 - val_loss: 0.6996 - val_accuracy: 0.4750\n",
            "Epoch 60/72\n",
            "1/1 [==============================] - ETA: 0s - loss: 0.6988 - accuracy: 0.5063\n",
            "Epoch 60: val_loss improved from 0.69958 to 0.69937, saving model to saved_models/weights.best.basic_cnn.hdf5\n",
            "1/1 [==============================] - 1s 742ms/step - loss: 0.6988 - accuracy: 0.5063 - val_loss: 0.6994 - val_accuracy: 0.4750\n",
            "Epoch 61/72\n",
            "1/1 [==============================] - ETA: 0s - loss: 0.6986 - accuracy: 0.5063\n",
            "Epoch 61: val_loss improved from 0.69937 to 0.69916, saving model to saved_models/weights.best.basic_cnn.hdf5\n",
            "1/1 [==============================] - 1s 745ms/step - loss: 0.6986 - accuracy: 0.5063 - val_loss: 0.6992 - val_accuracy: 0.4750\n",
            "Epoch 62/72\n",
            "1/1 [==============================] - ETA: 0s - loss: 0.6984 - accuracy: 0.5063\n",
            "Epoch 62: val_loss improved from 0.69916 to 0.69895, saving model to saved_models/weights.best.basic_cnn.hdf5\n",
            "1/1 [==============================] - 1s 765ms/step - loss: 0.6984 - accuracy: 0.5063 - val_loss: 0.6990 - val_accuracy: 0.4750\n",
            "Epoch 63/72\n",
            "1/1 [==============================] - ETA: 0s - loss: 0.6982 - accuracy: 0.5063\n",
            "Epoch 63: val_loss improved from 0.69895 to 0.69876, saving model to saved_models/weights.best.basic_cnn.hdf5\n",
            "1/1 [==============================] - 1s 732ms/step - loss: 0.6982 - accuracy: 0.5063 - val_loss: 0.6988 - val_accuracy: 0.4750\n",
            "Epoch 64/72\n",
            "1/1 [==============================] - ETA: 0s - loss: 0.6980 - accuracy: 0.5063\n",
            "Epoch 64: val_loss improved from 0.69876 to 0.69859, saving model to saved_models/weights.best.basic_cnn.hdf5\n",
            "1/1 [==============================] - 1s 726ms/step - loss: 0.6980 - accuracy: 0.5063 - val_loss: 0.6986 - val_accuracy: 0.4750\n",
            "Epoch 65/72\n",
            "1/1 [==============================] - ETA: 0s - loss: 0.6978 - accuracy: 0.5063\n",
            "Epoch 65: val_loss improved from 0.69859 to 0.69842, saving model to saved_models/weights.best.basic_cnn.hdf5\n",
            "1/1 [==============================] - 1s 897ms/step - loss: 0.6978 - accuracy: 0.5063 - val_loss: 0.6984 - val_accuracy: 0.4750\n",
            "Epoch 66/72\n",
            "1/1 [==============================] - ETA: 0s - loss: 0.6976 - accuracy: 0.5063\n",
            "Epoch 66: val_loss improved from 0.69842 to 0.69826, saving model to saved_models/weights.best.basic_cnn.hdf5\n",
            "1/1 [==============================] - 1s 1s/step - loss: 0.6976 - accuracy: 0.5063 - val_loss: 0.6983 - val_accuracy: 0.4750\n",
            "Epoch 67/72\n",
            "1/1 [==============================] - ETA: 0s - loss: 0.6975 - accuracy: 0.5063\n",
            "Epoch 67: val_loss improved from 0.69826 to 0.69810, saving model to saved_models/weights.best.basic_cnn.hdf5\n",
            "1/1 [==============================] - 1s 1s/step - loss: 0.6975 - accuracy: 0.5063 - val_loss: 0.6981 - val_accuracy: 0.4750\n",
            "Epoch 68/72\n",
            "1/1 [==============================] - ETA: 0s - loss: 0.6973 - accuracy: 0.5063\n",
            "Epoch 68: val_loss improved from 0.69810 to 0.69793, saving model to saved_models/weights.best.basic_cnn.hdf5\n",
            "1/1 [==============================] - 1s 745ms/step - loss: 0.6973 - accuracy: 0.5063 - val_loss: 0.6979 - val_accuracy: 0.4750\n",
            "Epoch 69/72\n",
            "1/1 [==============================] - ETA: 0s - loss: 0.6972 - accuracy: 0.5063\n",
            "Epoch 69: val_loss improved from 0.69793 to 0.69778, saving model to saved_models/weights.best.basic_cnn.hdf5\n",
            "1/1 [==============================] - 1s 786ms/step - loss: 0.6972 - accuracy: 0.5063 - val_loss: 0.6978 - val_accuracy: 0.4750\n",
            "Epoch 70/72\n",
            "1/1 [==============================] - ETA: 0s - loss: 0.6970 - accuracy: 0.5063\n",
            "Epoch 70: val_loss improved from 0.69778 to 0.69764, saving model to saved_models/weights.best.basic_cnn.hdf5\n",
            "1/1 [==============================] - 1s 768ms/step - loss: 0.6970 - accuracy: 0.5063 - val_loss: 0.6976 - val_accuracy: 0.4750\n",
            "Epoch 71/72\n",
            "1/1 [==============================] - ETA: 0s - loss: 0.6969 - accuracy: 0.5063\n",
            "Epoch 71: val_loss improved from 0.69764 to 0.69750, saving model to saved_models/weights.best.basic_cnn.hdf5\n",
            "1/1 [==============================] - 1s 748ms/step - loss: 0.6969 - accuracy: 0.5063 - val_loss: 0.6975 - val_accuracy: 0.4750\n",
            "Epoch 72/72\n",
            "1/1 [==============================] - ETA: 0s - loss: 0.6967 - accuracy: 0.5063\n",
            "Epoch 72: val_loss improved from 0.69750 to 0.69736, saving model to saved_models/weights.best.basic_cnn.hdf5\n",
            "1/1 [==============================] - 1s 731ms/step - loss: 0.6967 - accuracy: 0.5063 - val_loss: 0.6974 - val_accuracy: 0.4750\n",
            "Training completed in time:  0:01:23.420509\n"
          ]
        }
      ]
    },
    {
      "cell_type": "code",
      "source": [
        "import pandas as pd\n",
        "import numpy as np\n",
        "pd.DataFrame(history.history).plot(figsize=(8,5))\n",
        "plt.grid(True)\n",
        "plt.gca().set_ylim(0,1)\n",
        "plt.show()\n",
        "print('1. If the validation loss is greater(are both high:) than the training loss. The model is underfitting.')\n",
        "print('2. If the validation loss is greater than the training loss,The model is overfitting.')\n",
        "print('3. If the training loss and validation loss both decrease and stabilize at a specific point:the model is good fit')"
      ],
      "metadata": {
        "id": "-rTGssOE2Dtt",
        "outputId": "73603ff9-811c-495b-a923-8bf20dce5aa6",
        "colab": {
          "base_uri": "https://localhost:8080/",
          "height": 503
        }
      },
      "execution_count": 164,
      "outputs": [
        {
          "output_type": "display_data",
          "data": {
            "text/plain": [
              "<Figure size 800x500 with 1 Axes>"
            ],
            "image/png": "[encoded data removed]"
          },
          "metadata": {}
        },
        {
          "output_type": "stream",
          "name": "stdout",
          "text": [
            "1. If the validation loss is greater(are both high:) than the training loss. The model is underfitting.\n",
            "2. If the validation loss is greater than the training loss,The model is overfitting.\n",
            "3. If the training loss and validation loss both decrease and stabilize at a specific point:the model is good fit\n"
          ]
        }
      ]
    },
    {
      "cell_type": "code",
      "source": [
        "# Evaluating the model on the training and testing set\n",
        "score = model.evaluate(x_train, y_train, verbose=0)\n",
        "print(\"Training Accuracy: \", score[1]*100,\"%\")\n",
        "\n",
        "score = model.evaluate(x_test, y_test, verbose=0)\n",
        "print(\"Testing Accuracy: \", score[1]*100,\"%\")"
      ],
      "metadata": {
        "id": "qiPi7bZowWZr",
        "outputId": "95bf8cc8-290d-49d9-d24e-58c0e92274e6",
        "colab": {
          "base_uri": "https://localhost:8080/"
        }
      },
      "execution_count": 165,
      "outputs": [
        {
          "output_type": "stream",
          "name": "stdout",
          "text": [
            "Training Accuracy:  50.62500238418579 %\n",
            "Testing Accuracy:  47.49999940395355 %\n"
          ]
        }
      ]
    },
    {
      "cell_type": "code",
      "source": [
        "loss, accuracy = model.evaluate(x_test, y_test, verbose=2)\n",
        "print(f'Test loss: {loss:.3f}, Test accuracy: {accuracy:.3f}')"
      ],
      "metadata": {
        "id": "aBHPRR5cLEDa",
        "outputId": "c27c9721-40b6-41ff-c5a1-c940c869e540",
        "colab": {
          "base_uri": "https://localhost:8080/"
        }
      },
      "execution_count": 166,
      "outputs": [
        {
          "output_type": "stream",
          "name": "stdout",
          "text": [
            "2/2 - 0s - loss: 0.6974 - accuracy: 0.4750 - 62ms/epoch - 31ms/step\n",
            "Test loss: 0.697, Test accuracy: 0.475\n"
          ]
        }
      ]
    },
    {
      "cell_type": "code",
      "source": [
        "from sklearn.metrics import precision_score,recall_score,f1_score\n",
        "\n",
        "# Predict class labels on test set\n",
        "y_pred = model.predict(x_test)\n",
        "y_pred = (y_pred > 0.5).astype(int)\n",
        "\n",
        "# Calculate precision score\n",
        "precision = precision_score(y_test, y_pred, average='weighted', zero_division=0)\n",
        "recall = recall_score(y_test, y_pred, average='weighted', zero_division=0)\n",
        "f1 = f1_score(y_test, y_pred, average='weighted', zero_division=0)\n",
        "\n",
        "# Print precision score\n",
        "print(\"Precision Score: \", precision)\n",
        "print(\"Recall: \", recall)\n",
        "print(\"F1 Score: \", f1)"
      ],
      "metadata": {
        "colab": {
          "base_uri": "https://localhost:8080/"
        },
        "id": "MCbQmkFTGIdw",
        "outputId": "933472cf-34e8-4e59-f35f-2f1a4b17f475"
      },
      "execution_count": 167,
      "outputs": [
        {
          "output_type": "stream",
          "name": "stdout",
          "text": [
            "2/2 [==============================] - 0s 15ms/step\n",
            "Precision Score:  0.22562500000000002\n",
            "Recall:  0.475\n",
            "F1 Score:  0.3059322033898305\n"
          ]
        }
      ]
    },
    {
      "cell_type": "code",
      "source": [
        "def print_prediction(file_name):\n",
        "    prediction_feature = extract_features(file_name) \n",
        "    prediction_feature = prediction_feature.reshape(1, num_rows, num_columns, num_channels)\n",
        "\n",
        "    predicted_vector = model.predict(prediction_feature)\n",
        "    predicted_class = le.inverse_transform(np.argmax(predicted_vector, axis=-1)) \n",
        "    print(\"The predicted class is:\", predicted_class[0], '\\n') \n",
        "\n",
        "    predicted_proba_vector = predicted_vector\n",
        "    for i in range(len(predicted_proba_vector[0])): \n",
        "        category = le.inverse_transform(np.array([i]))\n",
        "        print(category[0], \"\\t\\t : \", format(predicted_proba_vector[0][i]*100,'.32f'),\"%\")"
      ],
      "metadata": {
        "id": "8Qou2J59wYzd"
      },
      "execution_count": 168,
      "outputs": []
    },
    {
      "cell_type": "code",
      "source": [
        "from pydub import AudioSegment\n",
        "\n",
        "# set the file paths\n",
        "input_file = \"/content/sample-195283.mp3\"\n",
        "output_file = \"/content/output.wav\"\n",
        "\n",
        "audio = AudioSegment.from_file(input_file, format=\"mp3\")\n",
        "\n",
        "audio.export(output_file, format=\"wav\")"
      ],
      "metadata": {
        "id": "QOW-OVlbQaHP",
        "outputId": "310eabf5-dda0-4f18-d040-fe0ce20dab5f",
        "colab": {
          "base_uri": "https://localhost:8080/"
        }
      },
      "execution_count": 169,
      "outputs": [
        {
          "output_type": "execute_result",
          "data": {
            "text/plain": [
              "<_io.BufferedRandom name='/content/output.wav'>"
            ]
          },
          "metadata": {},
          "execution_count": 169
        }
      ]
    },
    {
      "cell_type": "code",
      "source": [
        "filename = '/content/output.wav' \n",
        "print_prediction(filename) "
      ],
      "metadata": {
        "id": "JcFVazmbwbFo",
        "outputId": "f0ff1c05-4aa3-4099-9886-66a84ad5b118",
        "colab": {
          "base_uri": "https://localhost:8080/"
        }
      },
      "execution_count": 170,
      "outputs": [
        {
          "output_type": "stream",
          "name": "stdout",
          "text": [
            "1/1 [==============================] - 0s 33ms/step\n",
            "The predicted class is: female \n",
            "\n",
            "female \t\t :  50.62226653099060058593750000000000 %\n",
            "male \t\t :  49.37773048877716064453125000000000 %\n"
          ]
        }
      ]
    },
    {
      "cell_type": "code",
      "source": [],
      "metadata": {
        "id": "rf-K1B94MsbW"
      },
      "execution_count": 170,
      "outputs": []
    },
    {
      "cell_type": "markdown",
      "source": [
        "# Dropout"
      ],
      "metadata": {
        "id": "bsy6blcMT2OC"
      }
    },
    {
      "cell_type": "code",
      "source": [
        "\n",
        "# Construct model \n",
        "model = Sequential()\n",
        "model.add(Conv2D(filters=16, kernel_size=2, input_shape=(num_rows, num_columns, num_channels), activation='relu'))\n",
        "model.add(MaxPooling2D(pool_size=2))\n",
        "model.add(Dropout(0.2))\n",
        "\n",
        "model.add(Conv2D(filters=32, kernel_size=2, activation='relu'))\n",
        "model.add(MaxPooling2D(pool_size=2))\n",
        "model.add(Dropout(0.2))\n",
        "\n",
        "model.add(Conv2D(filters=64, kernel_size=2, activation='relu'))\n",
        "model.add(MaxPooling2D(pool_size=2))\n",
        "model.add(Dropout(0.2))\n",
        "\n",
        "model.add(Conv2D(filters=128, kernel_size=2, activation='relu'))\n",
        "model.add(MaxPooling2D(pool_size=2))\n",
        "model.add(Dropout(0.2))\n",
        "model.add(GlobalAveragePooling2D())\n",
        "\n",
        "model.add(Dense(num_labels, activation='softmax')) \n"
      ],
      "metadata": {
        "id": "nmq9XIeQwdi5"
      },
      "execution_count": 171,
      "outputs": []
    },
    {
      "cell_type": "code",
      "source": [
        "# Compile the model\n",
        "model.compile(loss='categorical_crossentropy', metrics=['accuracy'], optimizer='adam') "
      ],
      "metadata": {
        "id": "0oMCYWjhMMYs"
      },
      "execution_count": 172,
      "outputs": []
    },
    {
      "cell_type": "code",
      "source": [
        "# Display model architecture summary \n",
        "model.summary()\n",
        "\n",
        "# Calculate pre-training accuracy \n",
        "score = model.evaluate(x_test, y_test, verbose=1)\n",
        "accuracy = 100*score[1]\n",
        "\n",
        "print(\"Pre-training accuracy: %.4f%%\" % accuracy)"
      ],
      "metadata": {
        "id": "LOb9zQByMR3M",
        "outputId": "44694c4e-1311-4fa1-bc7b-285d27caa6ab",
        "colab": {
          "base_uri": "https://localhost:8080/"
        }
      },
      "execution_count": 173,
      "outputs": [
        {
          "output_type": "stream",
          "name": "stdout",
          "text": [
            "Model: \"sequential_11\"\n",
            "_________________________________________________________________\n",
            " Layer (type)                Output Shape              Param #   \n",
            "=================================================================\n",
            " conv2d_44 (Conv2D)          (None, 39, 173, 16)       80        \n",
            "                                                                 \n",
            " max_pooling2d_44 (MaxPoolin  (None, 19, 86, 16)       0         \n",
            " g2D)                                                            \n",
            "                                                                 \n",
            " dropout_24 (Dropout)        (None, 19, 86, 16)        0         \n",
            "                                                                 \n",
            " conv2d_45 (Conv2D)          (None, 18, 85, 32)        2080      \n",
            "                                                                 \n",
            " max_pooling2d_45 (MaxPoolin  (None, 9, 42, 32)        0         \n",
            " g2D)                                                            \n",
            "                                                                 \n",
            " dropout_25 (Dropout)        (None, 9, 42, 32)         0         \n",
            "                                                                 \n",
            " conv2d_46 (Conv2D)          (None, 8, 41, 64)         8256      \n",
            "                                                                 \n",
            " max_pooling2d_46 (MaxPoolin  (None, 4, 20, 64)        0         \n",
            " g2D)                                                            \n",
            "                                                                 \n",
            " dropout_26 (Dropout)        (None, 4, 20, 64)         0         \n",
            "                                                                 \n",
            " conv2d_47 (Conv2D)          (None, 3, 19, 128)        32896     \n",
            "                                                                 \n",
            " max_pooling2d_47 (MaxPoolin  (None, 1, 9, 128)        0         \n",
            " g2D)                                                            \n",
            "                                                                 \n",
            " dropout_27 (Dropout)        (None, 1, 9, 128)         0         \n",
            "                                                                 \n",
            " global_average_pooling2d_11  (None, 128)              0         \n",
            "  (GlobalAveragePooling2D)                                       \n",
            "                                                                 \n",
            " dense_21 (Dense)            (None, 2)                 258       \n",
            "                                                                 \n",
            "=================================================================\n",
            "Total params: 43,570\n",
            "Trainable params: 43,570\n",
            "Non-trainable params: 0\n",
            "_________________________________________________________________\n",
            "2/2 [==============================] - 0s 16ms/step - loss: 1.3629 - accuracy: 0.3250\n",
            "Pre-training accuracy: 32.5000%\n"
          ]
        }
      ]
    },
    {
      "cell_type": "code",
      "source": [
        "from keras.callbacks import ModelCheckpoint \n",
        "from datetime import datetime \n",
        "\n",
        "num_epochs = 72\n",
        "num_batch_size = 256\n",
        "\n",
        "checkpointer = ModelCheckpoint(filepath='saved_models/weights.best.basic_cnn.hdf5', \n",
        "                               verbose=1, save_best_only=True)\n",
        "start = datetime.now()\n",
        "\n",
        "history=model.fit(x_train, y_train, batch_size=num_batch_size, epochs=num_epochs, validation_data=(x_test, y_test), callbacks=[checkpointer], verbose=1)\n",
        "\n",
        "\n",
        "duration = datetime.now() - start\n",
        "print(\"Training completed in time: \", duration)"
      ],
      "metadata": {
        "id": "LFbO6dqcMSzF",
        "outputId": "755e6de1-466f-49ec-d597-7744c81bfc11",
        "colab": {
          "base_uri": "https://localhost:8080/"
        }
      },
      "execution_count": 174,
      "outputs": [
        {
          "output_type": "stream",
          "name": "stdout",
          "text": [
            "Epoch 1/72\n",
            "1/1 [==============================] - ETA: 0s - loss: 3.0719 - accuracy: 0.4750\n",
            "Epoch 1: val_loss improved from inf to 4.49365, saving model to saved_models/weights.best.basic_cnn.hdf5\n",
            "1/1 [==============================] - 3s 3s/step - loss: 3.0719 - accuracy: 0.4750 - val_loss: 4.4937 - val_accuracy: 0.5250\n",
            "Epoch 2/72\n",
            "1/1 [==============================] - ETA: 0s - loss: 6.1893 - accuracy: 0.4938\n",
            "Epoch 2: val_loss improved from 4.49365 to 3.36590, saving model to saved_models/weights.best.basic_cnn.hdf5\n",
            "1/1 [==============================] - 1s 845ms/step - loss: 6.1893 - accuracy: 0.4938 - val_loss: 3.3659 - val_accuracy: 0.5250\n",
            "Epoch 3/72\n",
            "1/1 [==============================] - ETA: 0s - loss: 4.2024 - accuracy: 0.4938\n",
            "Epoch 3: val_loss improved from 3.36590 to 1.48878, saving model to saved_models/weights.best.basic_cnn.hdf5\n",
            "1/1 [==============================] - 1s 823ms/step - loss: 4.2024 - accuracy: 0.4938 - val_loss: 1.4888 - val_accuracy: 0.4750\n",
            "Epoch 4/72\n",
            "1/1 [==============================] - ETA: 0s - loss: 1.3885 - accuracy: 0.4875\n",
            "Epoch 4: val_loss improved from 1.48878 to 1.25576, saving model to saved_models/weights.best.basic_cnn.hdf5\n",
            "1/1 [==============================] - 1s 840ms/step - loss: 1.3885 - accuracy: 0.4875 - val_loss: 1.2558 - val_accuracy: 0.4500\n",
            "Epoch 5/72\n",
            "1/1 [==============================] - ETA: 0s - loss: 2.9705 - accuracy: 0.5000\n",
            "Epoch 5: val_loss did not improve from 1.25576\n",
            "1/1 [==============================] - 1s 797ms/step - loss: 2.9705 - accuracy: 0.5000 - val_loss: 1.4477 - val_accuracy: 0.4750\n",
            "Epoch 6/72\n",
            "1/1 [==============================] - ETA: 0s - loss: 3.3844 - accuracy: 0.5063\n",
            "Epoch 6: val_loss improved from 1.25576 to 1.10545, saving model to saved_models/weights.best.basic_cnn.hdf5\n",
            "1/1 [==============================] - 1s 840ms/step - loss: 3.3844 - accuracy: 0.5063 - val_loss: 1.1054 - val_accuracy: 0.4500\n",
            "Epoch 7/72\n",
            "1/1 [==============================] - ETA: 0s - loss: 2.4174 - accuracy: 0.4875\n",
            "Epoch 7: val_loss improved from 1.10545 to 0.86527, saving model to saved_models/weights.best.basic_cnn.hdf5\n",
            "1/1 [==============================] - 1s 836ms/step - loss: 2.4174 - accuracy: 0.4875 - val_loss: 0.8653 - val_accuracy: 0.4250\n",
            "Epoch 8/72\n",
            "1/1 [==============================] - ETA: 0s - loss: 1.3139 - accuracy: 0.4750\n",
            "Epoch 8: val_loss did not improve from 0.86527\n",
            "1/1 [==============================] - 1s 797ms/step - loss: 1.3139 - accuracy: 0.4750 - val_loss: 1.2249 - val_accuracy: 0.5250\n",
            "Epoch 9/72\n",
            "1/1 [==============================] - ETA: 0s - loss: 1.3584 - accuracy: 0.4688\n",
            "Epoch 9: val_loss did not improve from 0.86527\n",
            "1/1 [==============================] - 1s 790ms/step - loss: 1.3584 - accuracy: 0.4688 - val_loss: 1.5870 - val_accuracy: 0.5250\n",
            "Epoch 10/72\n",
            "1/1 [==============================] - ETA: 0s - loss: 1.8312 - accuracy: 0.5125\n",
            "Epoch 10: val_loss did not improve from 0.86527\n",
            "1/1 [==============================] - 1s 787ms/step - loss: 1.8312 - accuracy: 0.5125 - val_loss: 1.6017 - val_accuracy: 0.5250\n",
            "Epoch 11/72\n",
            "1/1 [==============================] - ETA: 0s - loss: 1.9908 - accuracy: 0.4938\n",
            "Epoch 11: val_loss did not improve from 0.86527\n",
            "1/1 [==============================] - 1s 786ms/step - loss: 1.9908 - accuracy: 0.4938 - val_loss: 1.3218 - val_accuracy: 0.5250\n",
            "Epoch 12/72\n",
            "1/1 [==============================] - ETA: 0s - loss: 1.5222 - accuracy: 0.5188\n",
            "Epoch 12: val_loss did not improve from 0.86527\n",
            "1/1 [==============================] - 1s 803ms/step - loss: 1.5222 - accuracy: 0.5188 - val_loss: 0.9501 - val_accuracy: 0.5250\n",
            "Epoch 13/72\n",
            "1/1 [==============================] - ETA: 0s - loss: 1.0347 - accuracy: 0.4750\n",
            "Epoch 13: val_loss improved from 0.86527 to 0.73978, saving model to saved_models/weights.best.basic_cnn.hdf5\n",
            "1/1 [==============================] - 1s 814ms/step - loss: 1.0347 - accuracy: 0.4750 - val_loss: 0.7398 - val_accuracy: 0.4750\n",
            "Epoch 14/72\n",
            "1/1 [==============================] - ETA: 0s - loss: 0.8200 - accuracy: 0.5938\n",
            "Epoch 14: val_loss did not improve from 0.73978\n",
            "1/1 [==============================] - 1s 1s/step - loss: 0.8200 - accuracy: 0.5938 - val_loss: 0.7454 - val_accuracy: 0.5250\n",
            "Epoch 15/72\n",
            "1/1 [==============================] - ETA: 0s - loss: 1.2649 - accuracy: 0.4875\n",
            "Epoch 15: val_loss did not improve from 0.73978\n",
            "1/1 [==============================] - 1s 1s/step - loss: 1.2649 - accuracy: 0.4875 - val_loss: 0.7858 - val_accuracy: 0.5000\n",
            "Epoch 16/72\n",
            "1/1 [==============================] - ETA: 0s - loss: 1.3210 - accuracy: 0.5375\n",
            "Epoch 16: val_loss did not improve from 0.73978\n",
            "1/1 [==============================] - 1s 875ms/step - loss: 1.3210 - accuracy: 0.5375 - val_loss: 0.7687 - val_accuracy: 0.5000\n",
            "Epoch 17/72\n",
            "1/1 [==============================] - ETA: 0s - loss: 1.1782 - accuracy: 0.5312\n",
            "Epoch 17: val_loss improved from 0.73978 to 0.72243, saving model to saved_models/weights.best.basic_cnn.hdf5\n",
            "1/1 [==============================] - 1s 848ms/step - loss: 1.1782 - accuracy: 0.5312 - val_loss: 0.7224 - val_accuracy: 0.5500\n",
            "Epoch 18/72\n",
            "1/1 [==============================] - ETA: 0s - loss: 0.9583 - accuracy: 0.5375\n",
            "Epoch 18: val_loss improved from 0.72243 to 0.70829, saving model to saved_models/weights.best.basic_cnn.hdf5\n",
            "1/1 [==============================] - 1s 809ms/step - loss: 0.9583 - accuracy: 0.5375 - val_loss: 0.7083 - val_accuracy: 0.6000\n",
            "Epoch 19/72\n",
            "1/1 [==============================] - ETA: 0s - loss: 0.7449 - accuracy: 0.6000\n",
            "Epoch 19: val_loss did not improve from 0.70829\n",
            "1/1 [==============================] - 1s 779ms/step - loss: 0.7449 - accuracy: 0.6000 - val_loss: 0.7529 - val_accuracy: 0.4750\n",
            "Epoch 20/72\n",
            "1/1 [==============================] - ETA: 0s - loss: 0.7343 - accuracy: 0.6062\n",
            "Epoch 20: val_loss did not improve from 0.70829\n",
            "1/1 [==============================] - 1s 788ms/step - loss: 0.7343 - accuracy: 0.6062 - val_loss: 0.8178 - val_accuracy: 0.5000\n",
            "Epoch 21/72\n",
            "1/1 [==============================] - ETA: 0s - loss: 0.9495 - accuracy: 0.5813\n",
            "Epoch 21: val_loss did not improve from 0.70829\n",
            "1/1 [==============================] - 1s 792ms/step - loss: 0.9495 - accuracy: 0.5813 - val_loss: 0.8468 - val_accuracy: 0.5000\n",
            "Epoch 22/72\n",
            "1/1 [==============================] - ETA: 0s - loss: 0.9293 - accuracy: 0.5938\n",
            "Epoch 22: val_loss did not improve from 0.70829\n",
            "1/1 [==============================] - 1s 791ms/step - loss: 0.9293 - accuracy: 0.5938 - val_loss: 0.8255 - val_accuracy: 0.5000\n",
            "Epoch 23/72\n",
            "1/1 [==============================] - ETA: 0s - loss: 0.8658 - accuracy: 0.6062\n",
            "Epoch 23: val_loss did not improve from 0.70829\n",
            "1/1 [==============================] - 1s 807ms/step - loss: 0.8658 - accuracy: 0.6062 - val_loss: 0.7711 - val_accuracy: 0.5500\n",
            "Epoch 24/72\n",
            "1/1 [==============================] - ETA: 0s - loss: 0.8616 - accuracy: 0.5813\n",
            "Epoch 24: val_loss did not improve from 0.70829\n",
            "1/1 [==============================] - 1s 821ms/step - loss: 0.8616 - accuracy: 0.5813 - val_loss: 0.7146 - val_accuracy: 0.5500\n",
            "Epoch 25/72\n",
            "1/1 [==============================] - ETA: 0s - loss: 0.7318 - accuracy: 0.6125\n",
            "Epoch 25: val_loss improved from 0.70829 to 0.68890, saving model to saved_models/weights.best.basic_cnn.hdf5\n",
            "1/1 [==============================] - 1s 823ms/step - loss: 0.7318 - accuracy: 0.6125 - val_loss: 0.6889 - val_accuracy: 0.6500\n",
            "Epoch 26/72\n",
            "1/1 [==============================] - ETA: 0s - loss: 0.7365 - accuracy: 0.6250\n",
            "Epoch 26: val_loss did not improve from 0.68890\n",
            "1/1 [==============================] - 1s 770ms/step - loss: 0.7365 - accuracy: 0.6250 - val_loss: 0.6923 - val_accuracy: 0.6500\n",
            "Epoch 27/72\n",
            "1/1 [==============================] - ETA: 0s - loss: 0.6674 - accuracy: 0.6812\n",
            "Epoch 27: val_loss did not improve from 0.68890\n",
            "1/1 [==============================] - 1s 784ms/step - loss: 0.6674 - accuracy: 0.6812 - val_loss: 0.7034 - val_accuracy: 0.5750\n",
            "Epoch 28/72\n",
            "1/1 [==============================] - ETA: 0s - loss: 0.7883 - accuracy: 0.6187\n",
            "Epoch 28: val_loss did not improve from 0.68890\n",
            "1/1 [==============================] - 1s 989ms/step - loss: 0.7883 - accuracy: 0.6187 - val_loss: 0.7069 - val_accuracy: 0.6000\n",
            "Epoch 29/72\n",
            "1/1 [==============================] - ETA: 0s - loss: 0.7544 - accuracy: 0.6187\n",
            "Epoch 29: val_loss did not improve from 0.68890\n",
            "1/1 [==============================] - 1s 1s/step - loss: 0.7544 - accuracy: 0.6187 - val_loss: 0.6957 - val_accuracy: 0.5750\n",
            "Epoch 30/72\n",
            "1/1 [==============================] - ETA: 0s - loss: 0.8160 - accuracy: 0.6062\n",
            "Epoch 30: val_loss improved from 0.68890 to 0.67963, saving model to saved_models/weights.best.basic_cnn.hdf5\n",
            "1/1 [==============================] - 1s 1s/step - loss: 0.8160 - accuracy: 0.6062 - val_loss: 0.6796 - val_accuracy: 0.6750\n",
            "Epoch 31/72\n",
            "1/1 [==============================] - ETA: 0s - loss: 0.6884 - accuracy: 0.6750\n",
            "Epoch 31: val_loss improved from 0.67963 to 0.67102, saving model to saved_models/weights.best.basic_cnn.hdf5\n",
            "1/1 [==============================] - 1s 816ms/step - loss: 0.6884 - accuracy: 0.6750 - val_loss: 0.6710 - val_accuracy: 0.7000\n",
            "Epoch 32/72\n",
            "1/1 [==============================] - ETA: 0s - loss: 0.6547 - accuracy: 0.6812\n",
            "Epoch 32: val_loss did not improve from 0.67102\n",
            "1/1 [==============================] - 1s 811ms/step - loss: 0.6547 - accuracy: 0.6812 - val_loss: 0.6748 - val_accuracy: 0.6250\n",
            "Epoch 33/72\n",
            "1/1 [==============================] - ETA: 0s - loss: 0.6999 - accuracy: 0.5938\n",
            "Epoch 33: val_loss did not improve from 0.67102\n",
            "1/1 [==============================] - 1s 799ms/step - loss: 0.6999 - accuracy: 0.5938 - val_loss: 0.6843 - val_accuracy: 0.6250\n",
            "Epoch 34/72\n",
            "1/1 [==============================] - ETA: 0s - loss: 0.6655 - accuracy: 0.6625\n",
            "Epoch 34: val_loss did not improve from 0.67102\n",
            "1/1 [==============================] - 1s 835ms/step - loss: 0.6655 - accuracy: 0.6625 - val_loss: 0.6913 - val_accuracy: 0.6000\n",
            "Epoch 35/72\n",
            "1/1 [==============================] - ETA: 0s - loss: 0.7452 - accuracy: 0.6062\n",
            "Epoch 35: val_loss did not improve from 0.67102\n",
            "1/1 [==============================] - 1s 816ms/step - loss: 0.7452 - accuracy: 0.6062 - val_loss: 0.6884 - val_accuracy: 0.6000\n",
            "Epoch 36/72\n",
            "1/1 [==============================] - ETA: 0s - loss: 0.6256 - accuracy: 0.7000\n",
            "Epoch 36: val_loss did not improve from 0.67102\n",
            "1/1 [==============================] - 1s 782ms/step - loss: 0.6256 - accuracy: 0.7000 - val_loss: 0.6784 - val_accuracy: 0.6250\n",
            "Epoch 37/72\n",
            "1/1 [==============================] - ETA: 0s - loss: 0.6557 - accuracy: 0.6250\n",
            "Epoch 37: val_loss improved from 0.67102 to 0.66474, saving model to saved_models/weights.best.basic_cnn.hdf5\n",
            "1/1 [==============================] - 1s 833ms/step - loss: 0.6557 - accuracy: 0.6250 - val_loss: 0.6647 - val_accuracy: 0.6250\n",
            "Epoch 38/72\n",
            "1/1 [==============================] - ETA: 0s - loss: 0.6118 - accuracy: 0.6812\n",
            "Epoch 38: val_loss improved from 0.66474 to 0.65405, saving model to saved_models/weights.best.basic_cnn.hdf5\n",
            "1/1 [==============================] - 1s 820ms/step - loss: 0.6118 - accuracy: 0.6812 - val_loss: 0.6541 - val_accuracy: 0.6500\n",
            "Epoch 39/72\n",
            "1/1 [==============================] - ETA: 0s - loss: 0.5839 - accuracy: 0.7250\n",
            "Epoch 39: val_loss improved from 0.65405 to 0.64956, saving model to saved_models/weights.best.basic_cnn.hdf5\n",
            "1/1 [==============================] - 1s 823ms/step - loss: 0.5839 - accuracy: 0.7250 - val_loss: 0.6496 - val_accuracy: 0.7250\n",
            "Epoch 40/72\n",
            "1/1 [==============================] - ETA: 0s - loss: 0.6578 - accuracy: 0.6687\n",
            "Epoch 40: val_loss improved from 0.64956 to 0.64867, saving model to saved_models/weights.best.basic_cnn.hdf5\n",
            "1/1 [==============================] - 1s 801ms/step - loss: 0.6578 - accuracy: 0.6687 - val_loss: 0.6487 - val_accuracy: 0.7250\n",
            "Epoch 41/72\n",
            "1/1 [==============================] - ETA: 0s - loss: 0.6237 - accuracy: 0.6562\n",
            "Epoch 41: val_loss improved from 0.64867 to 0.64751, saving model to saved_models/weights.best.basic_cnn.hdf5\n",
            "1/1 [==============================] - 1s 791ms/step - loss: 0.6237 - accuracy: 0.6562 - val_loss: 0.6475 - val_accuracy: 0.7250\n",
            "Epoch 42/72\n",
            "1/1 [==============================] - ETA: 0s - loss: 0.6379 - accuracy: 0.6750\n",
            "Epoch 42: val_loss improved from 0.64751 to 0.64422, saving model to saved_models/weights.best.basic_cnn.hdf5\n",
            "1/1 [==============================] - 1s 916ms/step - loss: 0.6379 - accuracy: 0.6750 - val_loss: 0.6442 - val_accuracy: 0.7250\n",
            "Epoch 43/72\n",
            "1/1 [==============================] - ETA: 0s - loss: 0.6441 - accuracy: 0.6938\n",
            "Epoch 43: val_loss improved from 0.64422 to 0.64020, saving model to saved_models/weights.best.basic_cnn.hdf5\n",
            "1/1 [==============================] - 2s 2s/step - loss: 0.6441 - accuracy: 0.6938 - val_loss: 0.6402 - val_accuracy: 0.7250\n",
            "Epoch 44/72\n",
            "1/1 [==============================] - ETA: 0s - loss: 0.6527 - accuracy: 0.6500\n",
            "Epoch 44: val_loss improved from 0.64020 to 0.63786, saving model to saved_models/weights.best.basic_cnn.hdf5\n",
            "1/1 [==============================] - 1s 1s/step - loss: 0.6527 - accuracy: 0.6500 - val_loss: 0.6379 - val_accuracy: 0.7000\n",
            "Epoch 45/72\n",
            "1/1 [==============================] - ETA: 0s - loss: 0.5975 - accuracy: 0.7312\n",
            "Epoch 45: val_loss did not improve from 0.63786\n",
            "1/1 [==============================] - 1s 791ms/step - loss: 0.5975 - accuracy: 0.7312 - val_loss: 0.6397 - val_accuracy: 0.6750\n",
            "Epoch 46/72\n",
            "1/1 [==============================] - ETA: 0s - loss: 0.5784 - accuracy: 0.7563\n",
            "Epoch 46: val_loss did not improve from 0.63786\n",
            "1/1 [==============================] - 1s 810ms/step - loss: 0.5784 - accuracy: 0.7563 - val_loss: 0.6442 - val_accuracy: 0.6750\n",
            "Epoch 47/72\n",
            "1/1 [==============================] - ETA: 0s - loss: 0.6221 - accuracy: 0.6687\n",
            "Epoch 47: val_loss did not improve from 0.63786\n",
            "1/1 [==============================] - 1s 791ms/step - loss: 0.6221 - accuracy: 0.6687 - val_loss: 0.6474 - val_accuracy: 0.6000\n",
            "Epoch 48/72\n",
            "1/1 [==============================] - ETA: 0s - loss: 0.5911 - accuracy: 0.6812\n",
            "Epoch 48: val_loss did not improve from 0.63786\n",
            "1/1 [==============================] - 1s 782ms/step - loss: 0.5911 - accuracy: 0.6812 - val_loss: 0.6456 - val_accuracy: 0.6000\n",
            "Epoch 49/72\n",
            "1/1 [==============================] - ETA: 0s - loss: 0.5545 - accuracy: 0.7188\n",
            "Epoch 49: val_loss did not improve from 0.63786\n",
            "1/1 [==============================] - 1s 776ms/step - loss: 0.5545 - accuracy: 0.7188 - val_loss: 0.6397 - val_accuracy: 0.6250\n",
            "Epoch 50/72\n",
            "1/1 [==============================] - ETA: 0s - loss: 0.6323 - accuracy: 0.6875\n",
            "Epoch 50: val_loss improved from 0.63786 to 0.63208, saving model to saved_models/weights.best.basic_cnn.hdf5\n",
            "1/1 [==============================] - 1s 829ms/step - loss: 0.6323 - accuracy: 0.6875 - val_loss: 0.6321 - val_accuracy: 0.6750\n",
            "Epoch 51/72\n",
            "1/1 [==============================] - ETA: 0s - loss: 0.5627 - accuracy: 0.7188\n",
            "Epoch 51: val_loss improved from 0.63208 to 0.62438, saving model to saved_models/weights.best.basic_cnn.hdf5\n",
            "1/1 [==============================] - 1s 823ms/step - loss: 0.5627 - accuracy: 0.7188 - val_loss: 0.6244 - val_accuracy: 0.6750\n",
            "Epoch 52/72\n",
            "1/1 [==============================] - ETA: 0s - loss: 0.6140 - accuracy: 0.6875\n",
            "Epoch 52: val_loss improved from 0.62438 to 0.61955, saving model to saved_models/weights.best.basic_cnn.hdf5\n",
            "1/1 [==============================] - 1s 805ms/step - loss: 0.6140 - accuracy: 0.6875 - val_loss: 0.6196 - val_accuracy: 0.6750\n",
            "Epoch 53/72\n",
            "1/1 [==============================] - ETA: 0s - loss: 0.5379 - accuracy: 0.7312\n",
            "Epoch 53: val_loss improved from 0.61955 to 0.61663, saving model to saved_models/weights.best.basic_cnn.hdf5\n",
            "1/1 [==============================] - 1s 798ms/step - loss: 0.5379 - accuracy: 0.7312 - val_loss: 0.6166 - val_accuracy: 0.6750\n",
            "Epoch 54/72\n",
            "1/1 [==============================] - ETA: 0s - loss: 0.5507 - accuracy: 0.7125\n",
            "Epoch 54: val_loss improved from 0.61663 to 0.61491, saving model to saved_models/weights.best.basic_cnn.hdf5\n",
            "1/1 [==============================] - 1s 801ms/step - loss: 0.5507 - accuracy: 0.7125 - val_loss: 0.6149 - val_accuracy: 0.6750\n",
            "Epoch 55/72\n",
            "1/1 [==============================] - ETA: 0s - loss: 0.5498 - accuracy: 0.7188\n",
            "Epoch 55: val_loss improved from 0.61491 to 0.61307, saving model to saved_models/weights.best.basic_cnn.hdf5\n",
            "1/1 [==============================] - 1s 804ms/step - loss: 0.5498 - accuracy: 0.7188 - val_loss: 0.6131 - val_accuracy: 0.6500\n",
            "Epoch 56/72\n",
            "1/1 [==============================] - ETA: 0s - loss: 0.5958 - accuracy: 0.6812\n",
            "Epoch 56: val_loss improved from 0.61307 to 0.61247, saving model to saved_models/weights.best.basic_cnn.hdf5\n",
            "1/1 [==============================] - 1s 801ms/step - loss: 0.5958 - accuracy: 0.6812 - val_loss: 0.6125 - val_accuracy: 0.6250\n",
            "Epoch 57/72\n",
            "1/1 [==============================] - ETA: 0s - loss: 0.5712 - accuracy: 0.7312\n",
            "Epoch 57: val_loss improved from 0.61247 to 0.61152, saving model to saved_models/weights.best.basic_cnn.hdf5\n",
            "1/1 [==============================] - 2s 2s/step - loss: 0.5712 - accuracy: 0.7312 - val_loss: 0.6115 - val_accuracy: 0.6250\n",
            "Epoch 58/72\n",
            "1/1 [==============================] - ETA: 0s - loss: 0.5265 - accuracy: 0.7437\n",
            "Epoch 58: val_loss improved from 0.61152 to 0.61004, saving model to saved_models/weights.best.basic_cnn.hdf5\n",
            "1/1 [==============================] - 1s 1s/step - loss: 0.5265 - accuracy: 0.7437 - val_loss: 0.6100 - val_accuracy: 0.6500\n",
            "Epoch 59/72\n",
            "1/1 [==============================] - ETA: 0s - loss: 0.5392 - accuracy: 0.7000\n",
            "Epoch 59: val_loss improved from 0.61004 to 0.60700, saving model to saved_models/weights.best.basic_cnn.hdf5\n",
            "1/1 [==============================] - 1s 813ms/step - loss: 0.5392 - accuracy: 0.7000 - val_loss: 0.6070 - val_accuracy: 0.6500\n",
            "Epoch 60/72\n",
            "1/1 [==============================] - ETA: 0s - loss: 0.4802 - accuracy: 0.7563\n",
            "Epoch 60: val_loss improved from 0.60700 to 0.60363, saving model to saved_models/weights.best.basic_cnn.hdf5\n",
            "1/1 [==============================] - 1s 799ms/step - loss: 0.4802 - accuracy: 0.7563 - val_loss: 0.6036 - val_accuracy: 0.6500\n",
            "Epoch 61/72\n",
            "1/1 [==============================] - ETA: 0s - loss: 0.5410 - accuracy: 0.7188\n",
            "Epoch 61: val_loss improved from 0.60363 to 0.59964, saving model to saved_models/weights.best.basic_cnn.hdf5\n",
            "1/1 [==============================] - 1s 848ms/step - loss: 0.5410 - accuracy: 0.7188 - val_loss: 0.5996 - val_accuracy: 0.6250\n",
            "Epoch 62/72\n",
            "1/1 [==============================] - ETA: 0s - loss: 0.5531 - accuracy: 0.7000\n",
            "Epoch 62: val_loss improved from 0.59964 to 0.59761, saving model to saved_models/weights.best.basic_cnn.hdf5\n",
            "1/1 [==============================] - 1s 835ms/step - loss: 0.5531 - accuracy: 0.7000 - val_loss: 0.5976 - val_accuracy: 0.6250\n",
            "Epoch 63/72\n",
            "1/1 [==============================] - ETA: 0s - loss: 0.4933 - accuracy: 0.7875\n",
            "Epoch 63: val_loss improved from 0.59761 to 0.59297, saving model to saved_models/weights.best.basic_cnn.hdf5\n",
            "1/1 [==============================] - 1s 833ms/step - loss: 0.4933 - accuracy: 0.7875 - val_loss: 0.5930 - val_accuracy: 0.6250\n",
            "Epoch 64/72\n",
            "1/1 [==============================] - ETA: 0s - loss: 0.5277 - accuracy: 0.7688\n",
            "Epoch 64: val_loss improved from 0.59297 to 0.58795, saving model to saved_models/weights.best.basic_cnn.hdf5\n",
            "1/1 [==============================] - 1s 805ms/step - loss: 0.5277 - accuracy: 0.7688 - val_loss: 0.5880 - val_accuracy: 0.6250\n",
            "Epoch 65/72\n",
            "1/1 [==============================] - ETA: 0s - loss: 0.5485 - accuracy: 0.7500\n",
            "Epoch 65: val_loss improved from 0.58795 to 0.58203, saving model to saved_models/weights.best.basic_cnn.hdf5\n",
            "1/1 [==============================] - 1s 813ms/step - loss: 0.5485 - accuracy: 0.7500 - val_loss: 0.5820 - val_accuracy: 0.6250\n",
            "Epoch 66/72\n",
            "1/1 [==============================] - ETA: 0s - loss: 0.5322 - accuracy: 0.7250\n",
            "Epoch 66: val_loss improved from 0.58203 to 0.57706, saving model to saved_models/weights.best.basic_cnn.hdf5\n",
            "1/1 [==============================] - 1s 832ms/step - loss: 0.5322 - accuracy: 0.7250 - val_loss: 0.5771 - val_accuracy: 0.6250\n",
            "Epoch 67/72\n",
            "1/1 [==============================] - ETA: 0s - loss: 0.4868 - accuracy: 0.7812\n",
            "Epoch 67: val_loss improved from 0.57706 to 0.57066, saving model to saved_models/weights.best.basic_cnn.hdf5\n",
            "1/1 [==============================] - 1s 804ms/step - loss: 0.4868 - accuracy: 0.7812 - val_loss: 0.5707 - val_accuracy: 0.6250\n",
            "Epoch 68/72\n",
            "1/1 [==============================] - ETA: 0s - loss: 0.5144 - accuracy: 0.7437\n",
            "Epoch 68: val_loss improved from 0.57066 to 0.56386, saving model to saved_models/weights.best.basic_cnn.hdf5\n",
            "1/1 [==============================] - 1s 782ms/step - loss: 0.5144 - accuracy: 0.7437 - val_loss: 0.5639 - val_accuracy: 0.6250\n",
            "Epoch 69/72\n",
            "1/1 [==============================] - ETA: 0s - loss: 0.5242 - accuracy: 0.7437\n",
            "Epoch 69: val_loss improved from 0.56386 to 0.55668, saving model to saved_models/weights.best.basic_cnn.hdf5\n",
            "1/1 [==============================] - 1s 811ms/step - loss: 0.5242 - accuracy: 0.7437 - val_loss: 0.5567 - val_accuracy: 0.6500\n",
            "Epoch 70/72\n",
            "1/1 [==============================] - ETA: 0s - loss: 0.4973 - accuracy: 0.7312\n",
            "Epoch 70: val_loss improved from 0.55668 to 0.55055, saving model to saved_models/weights.best.basic_cnn.hdf5\n",
            "1/1 [==============================] - 1s 945ms/step - loss: 0.4973 - accuracy: 0.7312 - val_loss: 0.5506 - val_accuracy: 0.6500\n",
            "Epoch 71/72\n",
            "1/1 [==============================] - ETA: 0s - loss: 0.5144 - accuracy: 0.7563\n",
            "Epoch 71: val_loss improved from 0.55055 to 0.54521, saving model to saved_models/weights.best.basic_cnn.hdf5\n",
            "1/1 [==============================] - 1s 1s/step - loss: 0.5144 - accuracy: 0.7563 - val_loss: 0.5452 - val_accuracy: 0.6750\n",
            "Epoch 72/72\n",
            "1/1 [==============================] - ETA: 0s - loss: 0.4637 - accuracy: 0.7563\n",
            "Epoch 72: val_loss improved from 0.54521 to 0.53951, saving model to saved_models/weights.best.basic_cnn.hdf5\n",
            "1/1 [==============================] - 1s 1s/step - loss: 0.4637 - accuracy: 0.7563 - val_loss: 0.5395 - val_accuracy: 0.6750\n",
            "Training completed in time:  0:01:23.692315\n"
          ]
        }
      ]
    },
    {
      "cell_type": "code",
      "source": [
        "import pandas as pd\n",
        "import numpy as np\n",
        "pd.DataFrame(history.history).plot(figsize=(8,5))\n",
        "plt.grid(True)\n",
        "plt.gca().set_ylim(0,1)\n",
        "plt.show()\n",
        "print('1. If the validation loss is greater(are both high:) than the training loss. The model is underfitting.')\n",
        "print('2. If the validation loss is greater than the training loss,The model is overfitting.')\n",
        "print('3. If the training loss and validation loss both decrease and stabilize at a specific point:the model is good fit')"
      ],
      "metadata": {
        "id": "UJjxh4_0MkoG",
        "outputId": "8ce3406e-b8a9-4149-bcc3-c6db7d5caa4d",
        "colab": {
          "base_uri": "https://localhost:8080/",
          "height": 503
        }
      },
      "execution_count": 175,
      "outputs": [
        {
          "output_type": "display_data",
          "data": {
            "text/plain": [
              "<Figure size 800x500 with 1 Axes>"
            ],
            "image/png": "[encoded data removed]"
          },
          "metadata": {}
        },
        {
          "output_type": "stream",
          "name": "stdout",
          "text": [
            "1. If the validation loss is greater(are both high:) than the training loss. The model is underfitting.\n",
            "2. If the validation loss is greater than the training loss,The model is overfitting.\n",
            "3. If the training loss and validation loss both decrease and stabilize at a specific point:the model is good fit\n"
          ]
        }
      ]
    },
    {
      "cell_type": "code",
      "source": [
        "# Evaluating the model on the training and testing set\n",
        "score = model.evaluate(x_train, y_train, verbose=0)\n",
        "print(\"Training Accuracy: \", score[1]*100,\"%\")\n",
        "\n",
        "score = model.evaluate(x_test, y_test, verbose=0)\n",
        "print(\"Testing Accuracy: \", score[1]*100,\"%\")"
      ],
      "metadata": {
        "id": "uvJmIaLzMpVv",
        "outputId": "514831e5-fd81-4a0e-c4a9-3981da72c931",
        "colab": {
          "base_uri": "https://localhost:8080/"
        }
      },
      "execution_count": 176,
      "outputs": [
        {
          "output_type": "stream",
          "name": "stdout",
          "text": [
            "Training Accuracy:  81.25 %\n",
            "Testing Accuracy:  67.5000011920929 %\n"
          ]
        }
      ]
    },
    {
      "cell_type": "code",
      "source": [
        "loss, accuracy = model.evaluate(x_test, y_test, verbose=2)\n",
        "print(f'Test loss: {loss:.3f}, Test accuracy: {accuracy:.3f}')"
      ],
      "metadata": {
        "id": "I5RaIcDYK_-a",
        "outputId": "7358f40f-91ce-45e9-b050-534e3811f59b",
        "colab": {
          "base_uri": "https://localhost:8080/"
        }
      },
      "execution_count": 177,
      "outputs": [
        {
          "output_type": "stream",
          "name": "stdout",
          "text": [
            "2/2 - 0s - loss: 0.5395 - accuracy: 0.6750 - 63ms/epoch - 32ms/step\n",
            "Test loss: 0.540, Test accuracy: 0.675\n"
          ]
        }
      ]
    },
    {
      "cell_type": "code",
      "source": [
        "from sklearn.metrics import precision_score,recall_score,f1_score\n",
        "\n",
        "# Predict class labels on test set\n",
        "y_pred = model.predict(x_test)\n",
        "y_pred = (y_pred > 0.5).astype(int)\n",
        "\n",
        "# Calculate precision score\n",
        "precision = precision_score(y_test, y_pred, average='weighted', zero_division=0)\n",
        "recall = recall_score(y_test, y_pred, average='weighted', zero_division=0)\n",
        "f1 = f1_score(y_test, y_pred, average='weighted', zero_division=0)\n",
        "\n",
        "# Print precision score\n",
        "print(\"Precision Score: \", precision)\n",
        "print(\"Recall: \", recall)\n",
        "print(\"F1 Score: \", f1)"
      ],
      "metadata": {
        "colab": {
          "base_uri": "https://localhost:8080/"
        },
        "id": "cheGKtzZGq63",
        "outputId": "27a839da-cda6-4a8d-ca3b-a2cb88b15a35"
      },
      "execution_count": 178,
      "outputs": [
        {
          "output_type": "stream",
          "name": "stdout",
          "text": [
            "2/2 [==============================] - 0s 14ms/step\n",
            "Precision Score:  0.6825549450549451\n",
            "Recall:  0.675\n",
            "F1 Score:  0.6676660219213411\n"
          ]
        }
      ]
    },
    {
      "cell_type": "code",
      "source": [
        "def print_prediction(file_name):\n",
        "    prediction_feature = extract_features(file_name) \n",
        "    prediction_feature = prediction_feature.reshape(1, num_rows, num_columns, num_channels)\n",
        "\n",
        "    predicted_vector = model.predict(prediction_feature)\n",
        "    predicted_class = le.inverse_transform(np.argmax(predicted_vector, axis=-1)) \n",
        "    print(\"The predicted class is:\", predicted_class[0], '\\n') \n",
        "\n",
        "    predicted_proba_vector = predicted_vector\n",
        "    for i in range(len(predicted_proba_vector[0])): \n",
        "        category = le.inverse_transform(np.array([i]))\n",
        "        print(category[0], \"\\t\\t : \", format(predicted_proba_vector[0][i]*100,'.32f'),\"%\")"
      ],
      "metadata": {
        "id": "UfcU6ZicMv-V"
      },
      "execution_count": 179,
      "outputs": []
    },
    {
      "cell_type": "code",
      "source": [
        "from pydub import AudioSegment\n",
        "\n",
        "# set the file paths\n",
        "input_file = \"/content/sample-195283.mp3\"\n",
        "output_file = \"/content/output.wav\"\n",
        "\n",
        "audio = AudioSegment.from_file(input_file, format=\"mp3\")\n",
        "\n",
        "audio.export(output_file, format=\"wav\")"
      ],
      "metadata": {
        "id": "cZ78n72ZQufO",
        "outputId": "40f6c73a-a4dc-42c4-aa5e-e6570c2862c7",
        "colab": {
          "base_uri": "https://localhost:8080/"
        }
      },
      "execution_count": 180,
      "outputs": [
        {
          "output_type": "execute_result",
          "data": {
            "text/plain": [
              "<_io.BufferedRandom name='/content/output.wav'>"
            ]
          },
          "metadata": {},
          "execution_count": 180
        }
      ]
    },
    {
      "cell_type": "code",
      "source": [
        "filename = '/content/output.wav' \n",
        "print_prediction(filename) "
      ],
      "metadata": {
        "id": "kojRxIGdMzUv",
        "outputId": "e34313ec-8305-448a-ab9f-f1c1dd0523b8",
        "colab": {
          "base_uri": "https://localhost:8080/"
        }
      },
      "execution_count": 181,
      "outputs": [
        {
          "output_type": "stream",
          "name": "stdout",
          "text": [
            "1/1 [==============================] - 0s 30ms/step\n",
            "The predicted class is: female \n",
            "\n",
            "female \t\t :  79.08149957656860351562500000000000 %\n",
            "male \t\t :  20.91850042343139648437500000000000 %\n"
          ]
        }
      ]
    },
    {
      "cell_type": "markdown",
      "source": [
        "#  Early  Stopping"
      ],
      "metadata": {
        "id": "vUX_qkCQNaWv"
      }
    },
    {
      "cell_type": "code",
      "source": [
        "\n",
        "# Construct model \n",
        "model = Sequential()\n",
        "model.add(Conv2D(filters=16, kernel_size=2, input_shape=(num_rows, num_columns, num_channels), activation='relu'))\n",
        "model.add(MaxPooling2D(pool_size=2))\n",
        "model.add(Dropout(0.2))\n",
        "\n",
        "model.add(Conv2D(filters=32, kernel_size=2, activation='relu'))\n",
        "model.add(MaxPooling2D(pool_size=2))\n",
        "model.add(Dropout(0.2))\n",
        "\n",
        "model.add(Conv2D(filters=64, kernel_size=2, activation='relu'))\n",
        "model.add(MaxPooling2D(pool_size=2))\n",
        "model.add(Dropout(0.2))\n",
        "\n",
        "model.add(Conv2D(filters=128, kernel_size=2, activation='relu'))\n",
        "model.add(MaxPooling2D(pool_size=2))\n",
        "model.add(Dropout(0.2))\n",
        "model.add(GlobalAveragePooling2D())\n",
        "\n",
        "model.add(Dense(num_labels, activation='softmax')) \n"
      ],
      "metadata": {
        "id": "b6jqPr1pNey3"
      },
      "execution_count": 182,
      "outputs": []
    },
    {
      "cell_type": "code",
      "source": [
        "# Compile the model\n",
        "model.compile(loss='categorical_crossentropy', metrics=['accuracy'], optimizer='adam') "
      ],
      "metadata": {
        "id": "hc84zUvPOc8t"
      },
      "execution_count": 183,
      "outputs": []
    },
    {
      "cell_type": "code",
      "source": [
        "# Display model architecture summary \n",
        "model.summary()\n",
        "\n",
        "# Calculate pre-training accuracy \n",
        "score = model.evaluate(x_test, y_test, verbose=1)\n",
        "accuracy = 100*score[1]\n",
        "\n",
        "print(\"Pre-training accuracy: %.4f%%\" % accuracy)"
      ],
      "metadata": {
        "id": "fUjMVgqmNmAG",
        "outputId": "eef075e4-8313-424d-ccec-51c325c291b3",
        "colab": {
          "base_uri": "https://localhost:8080/"
        }
      },
      "execution_count": 184,
      "outputs": [
        {
          "output_type": "stream",
          "name": "stdout",
          "text": [
            "Model: \"sequential_12\"\n",
            "_________________________________________________________________\n",
            " Layer (type)                Output Shape              Param #   \n",
            "=================================================================\n",
            " conv2d_48 (Conv2D)          (None, 39, 173, 16)       80        \n",
            "                                                                 \n",
            " max_pooling2d_48 (MaxPoolin  (None, 19, 86, 16)       0         \n",
            " g2D)                                                            \n",
            "                                                                 \n",
            " dropout_28 (Dropout)        (None, 19, 86, 16)        0         \n",
            "                                                                 \n",
            " conv2d_49 (Conv2D)          (None, 18, 85, 32)        2080      \n",
            "                                                                 \n",
            " max_pooling2d_49 (MaxPoolin  (None, 9, 42, 32)        0         \n",
            " g2D)                                                            \n",
            "                                                                 \n",
            " dropout_29 (Dropout)        (None, 9, 42, 32)         0         \n",
            "                                                                 \n",
            " conv2d_50 (Conv2D)          (None, 8, 41, 64)         8256      \n",
            "                                                                 \n",
            " max_pooling2d_50 (MaxPoolin  (None, 4, 20, 64)        0         \n",
            " g2D)                                                            \n",
            "                                                                 \n",
            " dropout_30 (Dropout)        (None, 4, 20, 64)         0         \n",
            "                                                                 \n",
            " conv2d_51 (Conv2D)          (None, 3, 19, 128)        32896     \n",
            "                                                                 \n",
            " max_pooling2d_51 (MaxPoolin  (None, 1, 9, 128)        0         \n",
            " g2D)                                                            \n",
            "                                                                 \n",
            " dropout_31 (Dropout)        (None, 1, 9, 128)         0         \n",
            "                                                                 \n",
            " global_average_pooling2d_12  (None, 128)              0         \n",
            "  (GlobalAveragePooling2D)                                       \n",
            "                                                                 \n",
            " dense_22 (Dense)            (None, 2)                 258       \n",
            "                                                                 \n",
            "=================================================================\n",
            "Total params: 43,570\n",
            "Trainable params: 43,570\n",
            "Non-trainable params: 0\n",
            "_________________________________________________________________\n",
            "2/2 [==============================] - 0s 16ms/step - loss: 2.1359 - accuracy: 0.4500\n",
            "Pre-training accuracy: 45.0000%\n"
          ]
        }
      ]
    },
    {
      "cell_type": "code",
      "source": [
        "from keras.callbacks import ModelCheckpoint \n",
        "from datetime import datetime \n",
        "from keras.callbacks import EarlyStopping\n",
        "\n",
        "earlystop= EarlyStopping(monitor='val_accuracy', patience=3)\n",
        "num_epochs = 36\n",
        "num_batch_size = 256\n",
        "\n",
        "start = datetime.now()\n",
        "\n",
        "history=model.fit(x_train, y_train, batch_size=num_batch_size, epochs=num_epochs, validation_data=(x_test, y_test),callbacks=[earlystop], verbose=1)\n",
        "\n",
        "\n",
        "duration = datetime.now() - start\n",
        "print(\"Training completed in time: \", duration)"
      ],
      "metadata": {
        "id": "3TNxAueWNs4R",
        "outputId": "53c6464d-08b7-45c4-dc39-b4e2ef69ac1e",
        "colab": {
          "base_uri": "https://localhost:8080/"
        }
      },
      "execution_count": 185,
      "outputs": [
        {
          "output_type": "stream",
          "name": "stdout",
          "text": [
            "Epoch 1/36\n",
            "1/1 [==============================] - 3s 3s/step - loss: 5.0752 - accuracy: 0.4938 - val_loss: 4.8707 - val_accuracy: 0.5250\n",
            "Epoch 2/36\n",
            "1/1 [==============================] - 1s 793ms/step - loss: 7.5061 - accuracy: 0.4938 - val_loss: 4.1185 - val_accuracy: 0.5250\n",
            "Epoch 3/36\n",
            "1/1 [==============================] - 2s 2s/step - loss: 6.0785 - accuracy: 0.5000 - val_loss: 1.7480 - val_accuracy: 0.5500\n",
            "Epoch 4/36\n",
            "1/1 [==============================] - 1s 1s/step - loss: 2.2044 - accuracy: 0.4875 - val_loss: 1.5197 - val_accuracy: 0.4250\n",
            "Epoch 5/36\n",
            "1/1 [==============================] - 1s 838ms/step - loss: 3.5066 - accuracy: 0.5000 - val_loss: 2.1378 - val_accuracy: 0.4750\n",
            "Epoch 6/36\n",
            "1/1 [==============================] - 1s 843ms/step - loss: 4.5291 - accuracy: 0.5125 - val_loss: 1.6735 - val_accuracy: 0.4500\n",
            "Training completed in time:  0:00:08.271488\n"
          ]
        }
      ]
    },
    {
      "cell_type": "code",
      "source": [
        "import pandas as pd\n",
        "import numpy as np\n",
        "pd.DataFrame(history.history).plot(figsize=(8,5))\n",
        "plt.grid(True)\n",
        "plt.gca().set_ylim(0,1)\n",
        "plt.show()\n",
        "print('1. If the validation loss is greater(are both high:) than the training loss. The model is underfitting.')\n",
        "print('2. If the validation loss is greater than the training loss,The model is overfitting.')\n",
        "print('3. If the training loss and validation loss both decrease and stabilize at a specific point:the model is good fit')"
      ],
      "metadata": {
        "id": "6oSjr9y3NxzB",
        "outputId": "e76812c0-82e5-440a-b482-d4fff5ce6571",
        "colab": {
          "base_uri": "https://localhost:8080/",
          "height": 503
        }
      },
      "execution_count": 186,
      "outputs": [
        {
          "output_type": "display_data",
          "data": {
            "text/plain": [
              "<Figure size 800x500 with 1 Axes>"
            ],
            "image/png": "[encoded data removed]"
          },
          "metadata": {}
        },
        {
          "output_type": "stream",
          "name": "stdout",
          "text": [
            "1. If the validation loss is greater(are both high:) than the training loss. The model is underfitting.\n",
            "2. If the validation loss is greater than the training loss,The model is overfitting.\n",
            "3. If the training loss and validation loss both decrease and stabilize at a specific point:the model is good fit\n"
          ]
        }
      ]
    },
    {
      "cell_type": "code",
      "source": [
        "# Evaluating the model on the training and testing set\n",
        "score = model.evaluate(x_train, y_train, verbose=0)\n",
        "print(\"Training Accuracy: \", score[1]*100,\"%\")\n",
        "\n",
        "score = model.evaluate(x_test, y_test, verbose=0)\n",
        "print(\"Testing Accuracy: \", score[1]*100,\"%\")"
      ],
      "metadata": {
        "id": "W4dqIBe_NyRC",
        "outputId": "6d725205-02e6-496b-cb3d-c6552749d195",
        "colab": {
          "base_uri": "https://localhost:8080/"
        }
      },
      "execution_count": 187,
      "outputs": [
        {
          "output_type": "stream",
          "name": "stdout",
          "text": [
            "Training Accuracy:  50.0 %\n",
            "Testing Accuracy:  44.999998807907104 %\n"
          ]
        }
      ]
    },
    {
      "cell_type": "code",
      "source": [
        "loss, accuracy = model.evaluate(x_test, y_test, verbose=2)\n",
        "print(f'Test loss: {loss:.3f}, Test accuracy: {accuracy:.3f}')"
      ],
      "metadata": {
        "id": "lM1Jcb4gKtN3",
        "outputId": "2cb5ab92-35d2-41a3-8f7f-221d1725d665",
        "colab": {
          "base_uri": "https://localhost:8080/"
        }
      },
      "execution_count": 188,
      "outputs": [
        {
          "output_type": "stream",
          "name": "stdout",
          "text": [
            "2/2 - 0s - loss: 1.6735 - accuracy: 0.4500 - 64ms/epoch - 32ms/step\n",
            "Test loss: 1.673, Test accuracy: 0.450\n"
          ]
        }
      ]
    },
    {
      "cell_type": "code",
      "source": [
        "from sklearn.metrics import precision_score,recall_score,f1_score\n",
        "\n",
        "# Predict class labels on test set\n",
        "y_pred = model.predict(x_test)\n",
        "y_pred = (y_pred > 0.5).astype(int)\n",
        "\n",
        "# Calculate precision score\n",
        "precision = precision_score(y_test, y_pred, average='weighted', zero_division=0)\n",
        "recall = recall_score(y_test, y_pred, average='weighted', zero_division=0)\n",
        "f1 = f1_score(y_test, y_pred, average='weighted', zero_division=0)\n",
        "\n",
        "# Print precision score\n",
        "print(\"Precision Score: \", precision)\n",
        "print(\"Recall: \", recall)\n",
        "print(\"F1 Score: \", f1)"
      ],
      "metadata": {
        "colab": {
          "base_uri": "https://localhost:8080/"
        },
        "id": "KlG9oR0-GtfL",
        "outputId": "afc4c497-967d-4305-f66e-2fda7c766708"
      },
      "execution_count": 189,
      "outputs": [
        {
          "output_type": "stream",
          "name": "stdout",
          "text": [
            "2/2 [==============================] - 0s 21ms/step\n",
            "Precision Score:  0.21923076923076926\n",
            "Recall:  0.45\n",
            "F1 Score:  0.2948275862068966\n"
          ]
        }
      ]
    },
    {
      "cell_type": "code",
      "source": [
        "def print_prediction(file_name):\n",
        "    prediction_feature = extract_features(file_name) \n",
        "    prediction_feature = prediction_feature.reshape(1, num_rows, num_columns, num_channels)\n",
        "\n",
        "    predicted_vector = model.predict(prediction_feature)\n",
        "    predicted_class = le.inverse_transform(np.argmax(predicted_vector, axis=-1)) \n",
        "    print(\"The predicted class is:\", predicted_class[0], '\\n') \n",
        "\n",
        "    predicted_proba_vector = predicted_vector\n",
        "    for i in range(len(predicted_proba_vector[0])): \n",
        "        category = le.inverse_transform(np.array([i]))\n",
        "        print(category[0], \"\\t\\t : \", format(predicted_proba_vector[0][i]*100,'.32f'),\"%\")"
      ],
      "metadata": {
        "id": "TZ0QPhO2N8RP"
      },
      "execution_count": 190,
      "outputs": []
    },
    {
      "cell_type": "code",
      "source": [
        "from pydub import AudioSegment\n",
        "\n",
        "# set the file paths\n",
        "input_file = \"/content/sample-195283.mp3\"\n",
        "output_file = \"/content/output.wav\"\n",
        "\n",
        "audio = AudioSegment.from_file(input_file, format=\"mp3\")\n",
        "\n",
        "audio.export(output_file, format=\"wav\")"
      ],
      "metadata": {
        "id": "gX206F7cQ2Yk",
        "outputId": "72856c90-c06e-4519-98a5-366288a8561a",
        "colab": {
          "base_uri": "https://localhost:8080/"
        }
      },
      "execution_count": 191,
      "outputs": [
        {
          "output_type": "execute_result",
          "data": {
            "text/plain": [
              "<_io.BufferedRandom name='/content/output.wav'>"
            ]
          },
          "metadata": {},
          "execution_count": 191
        }
      ]
    },
    {
      "cell_type": "code",
      "source": [
        "filename = '/content/output.wav' \n",
        "print_prediction(filename) "
      ],
      "metadata": {
        "id": "yzfjVsdWN8aa",
        "outputId": "51f33dce-11c0-43cb-ad43-ddb3a18acffc",
        "colab": {
          "base_uri": "https://localhost:8080/"
        }
      },
      "execution_count": 192,
      "outputs": [
        {
          "output_type": "stream",
          "name": "stdout",
          "text": [
            "1/1 [==============================] - 0s 40ms/step\n",
            "The predicted class is: female \n",
            "\n",
            "female \t\t :  96.79620862007141113281250000000000 %\n",
            "male \t\t :  3.20379547774791717529296875000000 %\n"
          ]
        }
      ]
    }
  ],
  "metadata": {
    "kernelspec": {
      "display_name": "Python 3",
      "language": "python",
      "name": "python3"
    },
    "language_info": {
      "codemirror_mode": {
        "name": "ipython",
        "version": 3
      },
      "file_extension": ".py",
      "mimetype": "text/x-python",
      "name": "python",
      "nbconvert_exporter": "python",
      "pygments_lexer": "ipython3",
      "version": "3.10.1"
    },
    "colab": {
      "provenance": [],
      "include_colab_link": true
    }
  },
  "nbformat": 4,
  "nbformat_minor": 0
}