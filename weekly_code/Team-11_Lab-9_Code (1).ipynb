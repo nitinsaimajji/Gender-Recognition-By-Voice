{
  "cells": [
    {
      "cell_type": "code",
      "execution_count": null,
      "metadata": {
        "id": "qzpV-lbxaKAe",
        "outputId": "4fd70ed4-d38b-4bad-91df-a33079125ffd",
        "colab": {
          "base_uri": "https://localhost:8080/"
        }
      },
      "outputs": [
        {
          "output_type": "stream",
          "name": "stdout",
          "text": [
            "Looking in indexes: https://pypi.org/simple, https://us-python.pkg.dev/colab-wheels/public/simple/\n",
            "Requirement already satisfied: python_speech_features in /usr/local/lib/python3.9/dist-packages (0.6)\n"
          ]
        }
      ],
      "source": [
        "pip install python_speech_features\n"
      ]
    },
    {
      "cell_type": "code",
      "source": [
        "!git clone https://github.com/nitinsaimajji/voice1.git"
      ],
      "metadata": {
        "colab": {
          "base_uri": "https://localhost:8080/"
        },
        "id": "r0Uz-4pobGse",
        "outputId": "0ab0da29-4e67-46ec-ed7e-fcb982bf428b"
      },
      "execution_count": null,
      "outputs": [
        {
          "output_type": "stream",
          "name": "stdout",
          "text": [
            "fatal: destination path 'voice1' already exists and is not an empty directory.\n"
          ]
        }
      ]
    },
    {
      "cell_type": "code",
      "source": [
        "pip install pydub"
      ],
      "metadata": {
        "colab": {
          "base_uri": "https://localhost:8080/"
        },
        "id": "x67ZxGUVZzTH",
        "outputId": "e9a6f65e-fc01-441e-a50b-f82a45221589"
      },
      "execution_count": null,
      "outputs": [
        {
          "output_type": "stream",
          "name": "stdout",
          "text": [
            "Looking in indexes: https://pypi.org/simple, https://us-python.pkg.dev/colab-wheels/public/simple/\n",
            "Requirement already satisfied: pydub in /usr/local/lib/python3.9/dist-packages (0.25.1)\n"
          ]
        }
      ]
    },
    {
      "cell_type": "code",
      "execution_count": null,
      "metadata": {
        "id": "HtefZ9dDaKAn"
      },
      "outputs": [],
      "source": []
    },
    {
      "cell_type": "markdown",
      "source": [
        "## **A1**"
      ],
      "metadata": {
        "id": "73l5XscFUr_A"
      }
    },
    {
      "cell_type": "code",
      "source": [
        "import os\n",
        "import librosa\n",
        "import numpy as np\n",
        "import pandas as pd\n",
        "import matplotlib.pyplot as plt\n",
        "import seaborn as sns\n",
        "from tqdm import tqdm\n",
        "from sklearn.model_selection import train_test_split\n",
        "from sklearn.svm import SVC\n",
        "from sklearn.metrics import confusion_matrix\n",
        "from pydub import AudioSegment\n",
        "from python_speech_features import mfcc\n",
        "from time import time\n",
        "import IPython.display as ipd\n",
        "import librosa\n",
        "import librosa.display"
      ],
      "metadata": {
        "id": "NPMRDy_hIWk1"
      },
      "execution_count": null,
      "outputs": []
    },
    {
      "cell_type": "code",
      "source": [
        "df = pd.read_csv('/content/voice1/wav_check.csv')\n",
        "df.head()"
      ],
      "metadata": {
        "id": "26ZqBBYCvxvG",
        "outputId": "7b449da8-a7b9-4706-9d03-6ae0b0c307b3",
        "colab": {
          "base_uri": "https://localhost:8080/",
          "height": 206
        }
      },
      "execution_count": null,
      "outputs": [
        {
          "output_type": "execute_result",
          "data": {
            "text/plain": [
              "                 filename gender\n",
              "0  male-sample-000008.wav   male\n",
              "1  male-sample-000014.wav   male\n",
              "2  male-sample-000019.wav   male\n",
              "3  male-sample-000020.wav   male\n",
              "4  male-sample-000023.wav   male"
            ],
            "text/html": [
              "\n",
              "  <div id=\"df-1ba920b9-3e4f-4853-9efb-9d98706655cf\">\n",
              "    <div class=\"colab-df-container\">\n",
              "      <div>\n",
              "<style scoped>\n",
              "    .dataframe tbody tr th:only-of-type {\n",
              "        vertical-align: middle;\n",
              "    }\n",
              "\n",
              "    .dataframe tbody tr th {\n",
              "        vertical-align: top;\n",
              "    }\n",
              "\n",
              "    .dataframe thead th {\n",
              "        text-align: right;\n",
              "    }\n",
              "</style>\n",
              "<table border=\"1\" class=\"dataframe\">\n",
              "  <thead>\n",
              "    <tr style=\"text-align: right;\">\n",
              "      <th></th>\n",
              "      <th>filename</th>\n",
              "      <th>gender</th>\n",
              "    </tr>\n",
              "  </thead>\n",
              "  <tbody>\n",
              "    <tr>\n",
              "      <th>0</th>\n",
              "      <td>male-sample-000008.wav</td>\n",
              "      <td>male</td>\n",
              "    </tr>\n",
              "    <tr>\n",
              "      <th>1</th>\n",
              "      <td>male-sample-000014.wav</td>\n",
              "      <td>male</td>\n",
              "    </tr>\n",
              "    <tr>\n",
              "      <th>2</th>\n",
              "      <td>male-sample-000019.wav</td>\n",
              "      <td>male</td>\n",
              "    </tr>\n",
              "    <tr>\n",
              "      <th>3</th>\n",
              "      <td>male-sample-000020.wav</td>\n",
              "      <td>male</td>\n",
              "    </tr>\n",
              "    <tr>\n",
              "      <th>4</th>\n",
              "      <td>male-sample-000023.wav</td>\n",
              "      <td>male</td>\n",
              "    </tr>\n",
              "  </tbody>\n",
              "</table>\n",
              "</div>\n",
              "      <button class=\"colab-df-convert\" onclick=\"convertToInteractive('df-1ba920b9-3e4f-4853-9efb-9d98706655cf')\"\n",
              "              title=\"Convert this dataframe to an interactive table.\"\n",
              "              style=\"display:none;\">\n",
              "        \n",
              "  <svg xmlns=\"http://www.w3.org/2000/svg\" height=\"24px\"viewBox=\"0 0 24 24\"\n",
              "       width=\"24px\">\n",
              "    <path d=\"M0 0h24v24H0V0z\" fill=\"none\"/>\n",
              "    <path d=\"M18.56 5.44l.94 2.06.94-2.06 2.06-.94-2.06-.94-.94-2.06-.94 2.06-2.06.94zm-11 1L8.5 8.5l.94-2.06 2.06-.94-2.06-.94L8.5 2.5l-.94 2.06-2.06.94zm10 10l.94 2.06.94-2.06 2.06-.94-2.06-.94-.94-2.06-.94 2.06-2.06.94z\"/><path d=\"M17.41 7.96l-1.37-1.37c-.4-.4-.92-.59-1.43-.59-.52 0-1.04.2-1.43.59L10.3 9.45l-7.72 7.72c-.78.78-.78 2.05 0 2.83L4 21.41c.39.39.9.59 1.41.59.51 0 1.02-.2 1.41-.59l7.78-7.78 2.81-2.81c.8-.78.8-2.07 0-2.86zM5.41 20L4 18.59l7.72-7.72 1.47 1.35L5.41 20z\"/>\n",
              "  </svg>\n",
              "      </button>\n",
              "      \n",
              "  <style>\n",
              "    .colab-df-container {\n",
              "      display:flex;\n",
              "      flex-wrap:wrap;\n",
              "      gap: 12px;\n",
              "    }\n",
              "\n",
              "    .colab-df-convert {\n",
              "      background-color: #E8F0FE;\n",
              "      border: none;\n",
              "      border-radius: 50%;\n",
              "      cursor: pointer;\n",
              "      display: none;\n",
              "      fill: #1967D2;\n",
              "      height: 32px;\n",
              "      padding: 0 0 0 0;\n",
              "      width: 32px;\n",
              "    }\n",
              "\n",
              "    .colab-df-convert:hover {\n",
              "      background-color: #E2EBFA;\n",
              "      box-shadow: 0px 1px 2px rgba(60, 64, 67, 0.3), 0px 1px 3px 1px rgba(60, 64, 67, 0.15);\n",
              "      fill: #174EA6;\n",
              "    }\n",
              "\n",
              "    [theme=dark] .colab-df-convert {\n",
              "      background-color: #3B4455;\n",
              "      fill: #D2E3FC;\n",
              "    }\n",
              "\n",
              "    [theme=dark] .colab-df-convert:hover {\n",
              "      background-color: #434B5C;\n",
              "      box-shadow: 0px 1px 3px 1px rgba(0, 0, 0, 0.15);\n",
              "      filter: drop-shadow(0px 1px 2px rgba(0, 0, 0, 0.3));\n",
              "      fill: #FFFFFF;\n",
              "    }\n",
              "  </style>\n",
              "\n",
              "      <script>\n",
              "        const buttonEl =\n",
              "          document.querySelector('#df-1ba920b9-3e4f-4853-9efb-9d98706655cf button.colab-df-convert');\n",
              "        buttonEl.style.display =\n",
              "          google.colab.kernel.accessAllowed ? 'block' : 'none';\n",
              "\n",
              "        async function convertToInteractive(key) {\n",
              "          const element = document.querySelector('#df-1ba920b9-3e4f-4853-9efb-9d98706655cf');\n",
              "          const dataTable =\n",
              "            await google.colab.kernel.invokeFunction('convertToInteractive',\n",
              "                                                     [key], {});\n",
              "          if (!dataTable) return;\n",
              "\n",
              "          const docLinkHtml = 'Like what you see? Visit the ' +\n",
              "            '<a target=\"_blank\" href=https://colab.research.google.com/notebooks/data_table.ipynb>data table notebook</a>'\n",
              "            + ' to learn more about interactive tables.';\n",
              "          element.innerHTML = '';\n",
              "          dataTable['output_type'] = 'display_data';\n",
              "          await google.colab.output.renderOutput(dataTable, element);\n",
              "          const docLink = document.createElement('div');\n",
              "          docLink.innerHTML = docLinkHtml;\n",
              "          element.appendChild(docLink);\n",
              "        }\n",
              "      </script>\n",
              "    </div>\n",
              "  </div>\n",
              "  "
            ]
          },
          "metadata": {},
          "execution_count": 77
        }
      ]
    },
    {
      "cell_type": "code",
      "source": [
        "TRAIN_PATH = '/content/voice/cv-valid-train/'\n",
        "!pip install wavefile\n",
        "!pip install helpers"
      ],
      "metadata": {
        "id": "7Qj2O2rCv2UR",
        "outputId": "2be8681c-3fe2-4232-de43-bf2c69f4db2e",
        "colab": {
          "base_uri": "https://localhost:8080/"
        }
      },
      "execution_count": null,
      "outputs": [
        {
          "output_type": "stream",
          "name": "stdout",
          "text": [
            "Looking in indexes: https://pypi.org/simple, https://us-python.pkg.dev/colab-wheels/public/simple/\n",
            "Requirement already satisfied: wavefile in /usr/local/lib/python3.9/dist-packages (1.5)\n",
            "Requirement already satisfied: numpy in /usr/local/lib/python3.9/dist-packages (from wavefile) (1.22.4)\n",
            "Looking in indexes: https://pypi.org/simple, https://us-python.pkg.dev/colab-wheels/public/simple/\n",
            "Requirement already satisfied: helpers in /usr/local/lib/python3.9/dist-packages (0.2.0)\n"
          ]
        }
      ]
    },
    {
      "cell_type": "code",
      "source": [
        "max_pad_len = 174\n",
        "\n",
        "def extract_features(file_name):\n",
        "    try:\n",
        "        audio, sample_rate = librosa.load(file_name) \n",
        "        mfccs = librosa.feature.mfcc(y=audio, sr=sample_rate, n_mfcc=40)\n",
        "        \n",
        "        if mfccs.shape[1] < max_pad_len:\n",
        "            pad_width = max_pad_len - mfccs.shape[1]\n",
        "            mfccs = np.pad(mfccs, pad_width=((0, 0), (0, pad_width)), mode='constant')\n",
        "        else:\n",
        "            mfccs = mfccs[:, :max_pad_len]\n",
        "            \n",
        "    except Exception as e:\n",
        "        print(\"Error encountered while parsing file: \", file_name)\n",
        "        return None \n",
        "     \n",
        "    return mfccs\n"
      ],
      "metadata": {
        "id": "lQftXfpiv5rp"
      },
      "execution_count": null,
      "outputs": []
    },
    {
      "cell_type": "code",
      "source": [
        "\n",
        "import os\n",
        "\n",
        "fulldatasetpath = '/content/voice1/dataset1'\n",
        "\n",
        "df = pd.read_csv('/content/voice1/wav_check.csv')\n",
        "\n",
        "\n",
        "features = []\n",
        "\n",
        "\n",
        "for index, row in df.iterrows():\n",
        "    \n",
        "    file_name = os.path.join(os.path.abspath(fulldatasetpath)+'/',str(row[\"filename\"]))\n",
        "    \n",
        "    class_label = row[\"gender\"]\n",
        "    data = extract_features(file_name)\n",
        "    \n",
        "    features.append([data, class_label])\n",
        "\n",
        "\n",
        "featuresdf = pd.DataFrame(features, columns=['feature','class_label'])\n",
        "\n",
        "print('Finished feature extraction from ', len(featuresdf), ' files') "
      ],
      "metadata": {
        "id": "Su6uUdC4wCMw",
        "outputId": "ccdda44a-ed5b-4d4e-f292-afd7eb138bb3",
        "colab": {
          "base_uri": "https://localhost:8080/"
        }
      },
      "execution_count": null,
      "outputs": [
        {
          "output_type": "stream",
          "name": "stdout",
          "text": [
            "Finished feature extraction from  200  files\n"
          ]
        }
      ]
    },
    {
      "cell_type": "code",
      "source": [
        "from sklearn.preprocessing import LabelEncoder\n",
        "from keras.utils import to_categorical\n",
        "X = np.array(featuresdf.feature.tolist())\n",
        "y = np.array(featuresdf.class_label.tolist())\n",
        "le = LabelEncoder()\n",
        "yy = to_categorical(le.fit_transform(y)) \n",
        "from sklearn.model_selection import train_test_split \n",
        "\n",
        "x_train, x_test, y_train, y_test = train_test_split(X, yy, test_size=0.2, random_state = 42)"
      ],
      "metadata": {
        "id": "LEDlMKjWwD87"
      },
      "execution_count": null,
      "outputs": []
    },
    {
      "cell_type": "markdown",
      "source": [
        "## CNN ARCHITECTURE\n",
        "\n",
        "\n",
        "#### ADAM"
      ],
      "metadata": {
        "id": "NVlm0-jJwJ1G"
      }
    },
    {
      "cell_type": "code",
      "source": [
        "from keras.models import Sequential\n",
        "from keras.layers import Dense, Dropout, Activation, Flatten\n",
        "from keras.layers import Convolution2D, Conv2D, MaxPooling2D, GlobalAveragePooling2D\n",
        "from keras.optimizers import Adam\n",
        "from keras.utils import np_utils\n",
        "from sklearn import metrics \n",
        "\n",
        "num_rows = 40\n",
        "num_columns = 174\n",
        "num_channels = 1\n",
        "\n",
        "x_train = x_train.reshape(x_train.shape[0], num_rows, num_columns, num_channels)\n",
        "x_test = x_test.reshape(x_test.shape[0], num_rows, num_columns, num_channels)\n",
        "\n",
        "num_labels = yy.shape[1]\n",
        "filter_size = 2\n"
      ],
      "metadata": {
        "id": "qvhOiFyDwOjz"
      },
      "execution_count": null,
      "outputs": []
    },
    {
      "cell_type": "code",
      "source": [
        "\n",
        "# Construct model \n",
        "model = Sequential()\n",
        "model.add(Conv2D(filters=16, kernel_size=2, input_shape=(num_rows, num_columns, num_channels), activation='relu'))\n",
        "model.add(MaxPooling2D(pool_size=2))\n",
        "model.add(Dropout(0.2))\n",
        "\n",
        "model.add(Conv2D(filters=32, kernel_size=2, activation='relu'))\n",
        "model.add(MaxPooling2D(pool_size=2))\n",
        "model.add(Dropout(0.2))\n",
        "\n",
        "model.add(Conv2D(filters=64, kernel_size=2, activation='relu'))\n",
        "model.add(MaxPooling2D(pool_size=2))\n",
        "model.add(Dropout(0.2))\n",
        "\n",
        "model.add(Conv2D(filters=128, kernel_size=2, activation='relu'))\n",
        "model.add(MaxPooling2D(pool_size=2))\n",
        "model.add(Dropout(0.2))\n",
        "model.add(GlobalAveragePooling2D())\n",
        "\n",
        "model.add(Dense(num_labels, activation='softmax')) \n"
      ],
      "metadata": {
        "id": "nmq9XIeQwdi5"
      },
      "execution_count": null,
      "outputs": []
    },
    {
      "cell_type": "code",
      "source": [
        "# Compile the model\n",
        "model.compile(loss='categorical_crossentropy', metrics=['accuracy'],optimizer=Adam(lr=0.001)) "
      ],
      "metadata": {
        "id": "0oMCYWjhMMYs",
        "colab": {
          "base_uri": "https://localhost:8080/"
        },
        "outputId": "938e814c-4a2c-48c8-c9b8-8f33007e222e"
      },
      "execution_count": null,
      "outputs": [
        {
          "output_type": "stream",
          "name": "stderr",
          "text": [
            "/usr/local/lib/python3.9/dist-packages/keras/optimizers/legacy/adam.py:117: UserWarning: The `lr` argument is deprecated, use `learning_rate` instead.\n",
            "  super().__init__(name, **kwargs)\n"
          ]
        }
      ]
    },
    {
      "cell_type": "code",
      "source": [
        "# Display model architecture summary \n",
        "model.summary()\n",
        "\n",
        "# Calculate pre-training accuracy \n",
        "score = model.evaluate(x_test, y_test, verbose=1)\n",
        "accuracy = 100*score[1]\n",
        "\n",
        "print(\"Pre-training accuracy: %.4f%%\" % accuracy)"
      ],
      "metadata": {
        "id": "LOb9zQByMR3M",
        "outputId": "36ce17d1-8d9e-4b12-93ca-ab2207e41471",
        "colab": {
          "base_uri": "https://localhost:8080/"
        }
      },
      "execution_count": null,
      "outputs": [
        {
          "output_type": "stream",
          "name": "stdout",
          "text": [
            "Model: \"sequential_5\"\n",
            "_________________________________________________________________\n",
            " Layer (type)                Output Shape              Param #   \n",
            "=================================================================\n",
            " conv2d_20 (Conv2D)          (None, 39, 173, 16)       80        \n",
            "                                                                 \n",
            " max_pooling2d_20 (MaxPoolin  (None, 19, 86, 16)       0         \n",
            " g2D)                                                            \n",
            "                                                                 \n",
            " dropout_20 (Dropout)        (None, 19, 86, 16)        0         \n",
            "                                                                 \n",
            " conv2d_21 (Conv2D)          (None, 18, 85, 32)        2080      \n",
            "                                                                 \n",
            " max_pooling2d_21 (MaxPoolin  (None, 9, 42, 32)        0         \n",
            " g2D)                                                            \n",
            "                                                                 \n",
            " dropout_21 (Dropout)        (None, 9, 42, 32)         0         \n",
            "                                                                 \n",
            " conv2d_22 (Conv2D)          (None, 8, 41, 64)         8256      \n",
            "                                                                 \n",
            " max_pooling2d_22 (MaxPoolin  (None, 4, 20, 64)        0         \n",
            " g2D)                                                            \n",
            "                                                                 \n",
            " dropout_22 (Dropout)        (None, 4, 20, 64)         0         \n",
            "                                                                 \n",
            " conv2d_23 (Conv2D)          (None, 3, 19, 128)        32896     \n",
            "                                                                 \n",
            " max_pooling2d_23 (MaxPoolin  (None, 1, 9, 128)        0         \n",
            " g2D)                                                            \n",
            "                                                                 \n",
            " dropout_23 (Dropout)        (None, 1, 9, 128)         0         \n",
            "                                                                 \n",
            " global_average_pooling2d_5   (None, 128)              0         \n",
            " (GlobalAveragePooling2D)                                        \n",
            "                                                                 \n",
            " dense_5 (Dense)             (None, 2)                 258       \n",
            "                                                                 \n",
            "=================================================================\n",
            "Total params: 43,570\n",
            "Trainable params: 43,570\n",
            "Non-trainable params: 0\n",
            "_________________________________________________________________\n",
            "2/2 [==============================] - 1s 37ms/step - loss: 4.8128 - accuracy: 0.5250\n",
            "Pre-training accuracy: 52.5000%\n"
          ]
        }
      ]
    },
    {
      "cell_type": "code",
      "source": [
        "from keras.callbacks import ModelCheckpoint \n",
        "from datetime import datetime \n",
        "\n",
        "num_epochs = 72\n",
        "num_batch_size = 256\n",
        "\n",
        "checkpointer = ModelCheckpoint(filepath='saved_models/weights.best.basic_cnn.hdf5', \n",
        "                               verbose=1, save_best_only=True)\n",
        "start = datetime.now()\n",
        "\n",
        "history=model.fit(x_train, y_train, batch_size=num_batch_size, epochs=num_epochs, validation_data=(x_test, y_test), callbacks=[checkpointer], verbose=1)\n",
        "\n",
        "\n",
        "duration = datetime.now() - start\n",
        "print(\"Training completed in time: \", duration)"
      ],
      "metadata": {
        "id": "LFbO6dqcMSzF",
        "outputId": "9f6c8d97-97aa-4b9d-a7ee-d65a98b7a2b6",
        "colab": {
          "base_uri": "https://localhost:8080/"
        }
      },
      "execution_count": null,
      "outputs": [
        {
          "output_type": "stream",
          "name": "stdout",
          "text": [
            "Epoch 1/72\n",
            "1/1 [==============================] - ETA: 0s - loss: 7.1962 - accuracy: 0.4688\n",
            "Epoch 1: val_loss improved from inf to 9.15197, saving model to saved_models/weights.best.basic_cnn.hdf5\n",
            "1/1 [==============================] - 2s 2s/step - loss: 7.1962 - accuracy: 0.4688 - val_loss: 9.1520 - val_accuracy: 0.4750\n",
            "Epoch 2/72\n",
            "1/1 [==============================] - ETA: 0s - loss: 12.9036 - accuracy: 0.5063\n",
            "Epoch 2: val_loss improved from 9.15197 to 8.45895, saving model to saved_models/weights.best.basic_cnn.hdf5\n",
            "1/1 [==============================] - 1s 1s/step - loss: 12.9036 - accuracy: 0.5063 - val_loss: 8.4589 - val_accuracy: 0.4750\n",
            "Epoch 3/72\n",
            "1/1 [==============================] - ETA: 0s - loss: 12.0083 - accuracy: 0.5063\n",
            "Epoch 3: val_loss improved from 8.45895 to 4.96321, saving model to saved_models/weights.best.basic_cnn.hdf5\n",
            "1/1 [==============================] - 1s 1s/step - loss: 12.0083 - accuracy: 0.5063 - val_loss: 4.9632 - val_accuracy: 0.4750\n",
            "Epoch 4/72\n",
            "1/1 [==============================] - ETA: 0s - loss: 5.9049 - accuracy: 0.4938\n",
            "Epoch 4: val_loss improved from 4.96321 to 0.87685, saving model to saved_models/weights.best.basic_cnn.hdf5\n",
            "1/1 [==============================] - 1s 1s/step - loss: 5.9049 - accuracy: 0.4938 - val_loss: 0.8768 - val_accuracy: 0.4750\n",
            "Epoch 5/72\n",
            "1/1 [==============================] - ETA: 0s - loss: 2.7979 - accuracy: 0.5312\n",
            "Epoch 5: val_loss did not improve from 0.87685\n",
            "1/1 [==============================] - 2s 2s/step - loss: 2.7979 - accuracy: 0.5312 - val_loss: 1.8874 - val_accuracy: 0.5250\n",
            "Epoch 6/72\n",
            "1/1 [==============================] - ETA: 0s - loss: 6.8207 - accuracy: 0.5000\n",
            "Epoch 6: val_loss did not improve from 0.87685\n",
            "1/1 [==============================] - 3s 3s/step - loss: 6.8207 - accuracy: 0.5000 - val_loss: 1.8138 - val_accuracy: 0.5250\n",
            "Epoch 7/72\n",
            "1/1 [==============================] - ETA: 0s - loss: 6.9202 - accuracy: 0.4938\n",
            "Epoch 7: val_loss improved from 0.87685 to 0.76983, saving model to saved_models/weights.best.basic_cnn.hdf5\n",
            "1/1 [==============================] - 2s 2s/step - loss: 6.9202 - accuracy: 0.4938 - val_loss: 0.7698 - val_accuracy: 0.5750\n",
            "Epoch 8/72\n",
            "1/1 [==============================] - ETA: 0s - loss: 3.7478 - accuracy: 0.5000\n",
            "Epoch 8: val_loss did not improve from 0.76983\n",
            "1/1 [==============================] - 2s 2s/step - loss: 3.7478 - accuracy: 0.5000 - val_loss: 1.7292 - val_accuracy: 0.4750\n",
            "Epoch 9/72\n",
            "1/1 [==============================] - ETA: 0s - loss: 2.2638 - accuracy: 0.4563\n",
            "Epoch 9: val_loss did not improve from 0.76983\n",
            "1/1 [==============================] - 2s 2s/step - loss: 2.2638 - accuracy: 0.4563 - val_loss: 3.1581 - val_accuracy: 0.4750\n",
            "Epoch 10/72\n",
            "1/1 [==============================] - ETA: 0s - loss: 3.4439 - accuracy: 0.5063\n",
            "Epoch 10: val_loss did not improve from 0.76983\n",
            "1/1 [==============================] - 2s 2s/step - loss: 3.4439 - accuracy: 0.5063 - val_loss: 3.6017 - val_accuracy: 0.4750\n",
            "Epoch 11/72\n",
            "1/1 [==============================] - ETA: 0s - loss: 4.6482 - accuracy: 0.5125\n",
            "Epoch 11: val_loss did not improve from 0.76983\n",
            "1/1 [==============================] - 2s 2s/step - loss: 4.6482 - accuracy: 0.5125 - val_loss: 3.2324 - val_accuracy: 0.4750\n",
            "Epoch 12/72\n",
            "1/1 [==============================] - ETA: 0s - loss: 3.9185 - accuracy: 0.5000\n",
            "Epoch 12: val_loss did not improve from 0.76983\n",
            "1/1 [==============================] - 2s 2s/step - loss: 3.9185 - accuracy: 0.5000 - val_loss: 2.3277 - val_accuracy: 0.4750\n",
            "Epoch 13/72\n",
            "1/1 [==============================] - ETA: 0s - loss: 2.5540 - accuracy: 0.4938\n",
            "Epoch 13: val_loss did not improve from 0.76983\n",
            "1/1 [==============================] - 2s 2s/step - loss: 2.5540 - accuracy: 0.4938 - val_loss: 1.2502 - val_accuracy: 0.4750\n",
            "Epoch 14/72\n",
            "1/1 [==============================] - ETA: 0s - loss: 1.5786 - accuracy: 0.5125\n",
            "Epoch 14: val_loss improved from 0.76983 to 0.65286, saving model to saved_models/weights.best.basic_cnn.hdf5\n",
            "1/1 [==============================] - 2s 2s/step - loss: 1.5786 - accuracy: 0.5125 - val_loss: 0.6529 - val_accuracy: 0.5750\n",
            "Epoch 15/72\n",
            "1/1 [==============================] - ETA: 0s - loss: 2.3066 - accuracy: 0.5063\n",
            "Epoch 15: val_loss did not improve from 0.65286\n",
            "1/1 [==============================] - 2s 2s/step - loss: 2.3066 - accuracy: 0.5063 - val_loss: 0.6561 - val_accuracy: 0.6250\n",
            "Epoch 16/72\n",
            "1/1 [==============================] - ETA: 0s - loss: 2.7072 - accuracy: 0.5375\n",
            "Epoch 16: val_loss improved from 0.65286 to 0.64346, saving model to saved_models/weights.best.basic_cnn.hdf5\n",
            "1/1 [==============================] - 2s 2s/step - loss: 2.7072 - accuracy: 0.5375 - val_loss: 0.6435 - val_accuracy: 0.7250\n",
            "Epoch 17/72\n",
            "1/1 [==============================] - ETA: 0s - loss: 2.6185 - accuracy: 0.5125\n",
            "Epoch 17: val_loss did not improve from 0.64346\n",
            "1/1 [==============================] - 2s 2s/step - loss: 2.6185 - accuracy: 0.5125 - val_loss: 0.6828 - val_accuracy: 0.5250\n",
            "Epoch 18/72\n",
            "1/1 [==============================] - ETA: 0s - loss: 1.8833 - accuracy: 0.5437\n",
            "Epoch 18: val_loss did not improve from 0.64346\n",
            "1/1 [==============================] - 2s 2s/step - loss: 1.8833 - accuracy: 0.5437 - val_loss: 1.0114 - val_accuracy: 0.4500\n",
            "Epoch 19/72\n",
            "1/1 [==============================] - ETA: 0s - loss: 1.4229 - accuracy: 0.5250\n",
            "Epoch 19: val_loss did not improve from 0.64346\n",
            "1/1 [==============================] - 3s 3s/step - loss: 1.4229 - accuracy: 0.5250 - val_loss: 1.4499 - val_accuracy: 0.4750\n",
            "Epoch 20/72\n",
            "1/1 [==============================] - ETA: 0s - loss: 1.7623 - accuracy: 0.5375\n",
            "Epoch 20: val_loss did not improve from 0.64346\n",
            "1/1 [==============================] - 2s 2s/step - loss: 1.7623 - accuracy: 0.5375 - val_loss: 1.7003 - val_accuracy: 0.4750\n",
            "Epoch 21/72\n",
            "1/1 [==============================] - ETA: 0s - loss: 1.9678 - accuracy: 0.5500\n",
            "Epoch 21: val_loss did not improve from 0.64346\n",
            "1/1 [==============================] - 2s 2s/step - loss: 1.9678 - accuracy: 0.5500 - val_loss: 1.7176 - val_accuracy: 0.4750\n",
            "Epoch 22/72\n",
            "1/1 [==============================] - ETA: 0s - loss: 1.9636 - accuracy: 0.5500\n",
            "Epoch 22: val_loss did not improve from 0.64346\n",
            "1/1 [==============================] - 2s 2s/step - loss: 1.9636 - accuracy: 0.5500 - val_loss: 1.5110 - val_accuracy: 0.4750\n",
            "Epoch 23/72\n",
            "1/1 [==============================] - ETA: 0s - loss: 1.6941 - accuracy: 0.5250\n",
            "Epoch 23: val_loss did not improve from 0.64346\n",
            "1/1 [==============================] - 2s 2s/step - loss: 1.6941 - accuracy: 0.5250 - val_loss: 1.1830 - val_accuracy: 0.4500\n",
            "Epoch 24/72\n",
            "1/1 [==============================] - ETA: 0s - loss: 1.4300 - accuracy: 0.5500\n",
            "Epoch 24: val_loss did not improve from 0.64346\n",
            "1/1 [==============================] - 2s 2s/step - loss: 1.4300 - accuracy: 0.5500 - val_loss: 0.8720 - val_accuracy: 0.5250\n",
            "Epoch 25/72\n",
            "1/1 [==============================] - ETA: 0s - loss: 1.3238 - accuracy: 0.5500\n",
            "Epoch 25: val_loss did not improve from 0.64346\n",
            "1/1 [==============================] - 1s 1s/step - loss: 1.3238 - accuracy: 0.5500 - val_loss: 0.7076 - val_accuracy: 0.6000\n",
            "Epoch 26/72\n",
            "1/1 [==============================] - ETA: 0s - loss: 1.6152 - accuracy: 0.6125\n",
            "Epoch 26: val_loss did not improve from 0.64346\n",
            "1/1 [==============================] - 2s 2s/step - loss: 1.6152 - accuracy: 0.6125 - val_loss: 0.6708 - val_accuracy: 0.6500\n",
            "Epoch 27/72\n",
            "1/1 [==============================] - ETA: 0s - loss: 1.6093 - accuracy: 0.5437\n",
            "Epoch 27: val_loss did not improve from 0.64346\n",
            "1/1 [==============================] - 2s 2s/step - loss: 1.6093 - accuracy: 0.5437 - val_loss: 0.6770 - val_accuracy: 0.6500\n",
            "Epoch 28/72\n",
            "1/1 [==============================] - ETA: 0s - loss: 1.7526 - accuracy: 0.5250\n",
            "Epoch 28: val_loss did not improve from 0.64346\n",
            "1/1 [==============================] - 2s 2s/step - loss: 1.7526 - accuracy: 0.5250 - val_loss: 0.7349 - val_accuracy: 0.6250\n",
            "Epoch 29/72\n",
            "1/1 [==============================] - ETA: 0s - loss: 1.3016 - accuracy: 0.5813\n",
            "Epoch 29: val_loss did not improve from 0.64346\n",
            "1/1 [==============================] - 2s 2s/step - loss: 1.3016 - accuracy: 0.5813 - val_loss: 0.8673 - val_accuracy: 0.5000\n",
            "Epoch 30/72\n",
            "1/1 [==============================] - ETA: 0s - loss: 1.1546 - accuracy: 0.5875\n",
            "Epoch 30: val_loss did not improve from 0.64346\n",
            "1/1 [==============================] - 2s 2s/step - loss: 1.1546 - accuracy: 0.5875 - val_loss: 1.0195 - val_accuracy: 0.4750\n",
            "Epoch 31/72\n",
            "1/1 [==============================] - ETA: 0s - loss: 1.2066 - accuracy: 0.5562\n",
            "Epoch 31: val_loss did not improve from 0.64346\n",
            "1/1 [==============================] - 1s 1s/step - loss: 1.2066 - accuracy: 0.5562 - val_loss: 1.1264 - val_accuracy: 0.4500\n",
            "Epoch 32/72\n",
            "1/1 [==============================] - ETA: 0s - loss: 1.2312 - accuracy: 0.5562\n",
            "Epoch 32: val_loss did not improve from 0.64346\n",
            "1/1 [==============================] - 1s 897ms/step - loss: 1.2312 - accuracy: 0.5562 - val_loss: 1.1438 - val_accuracy: 0.4500\n",
            "Epoch 33/72\n",
            "1/1 [==============================] - ETA: 0s - loss: 1.1425 - accuracy: 0.5813\n",
            "Epoch 33: val_loss did not improve from 0.64346\n",
            "1/1 [==============================] - 1s 911ms/step - loss: 1.1425 - accuracy: 0.5813 - val_loss: 1.0621 - val_accuracy: 0.4750\n",
            "Epoch 34/72\n",
            "1/1 [==============================] - ETA: 0s - loss: 0.9682 - accuracy: 0.6438\n",
            "Epoch 34: val_loss did not improve from 0.64346\n",
            "1/1 [==============================] - 1s 1s/step - loss: 0.9682 - accuracy: 0.6438 - val_loss: 0.9401 - val_accuracy: 0.5000\n",
            "Epoch 35/72\n",
            "1/1 [==============================] - ETA: 0s - loss: 1.0472 - accuracy: 0.6313\n",
            "Epoch 35: val_loss did not improve from 0.64346\n",
            "1/1 [==============================] - 2s 2s/step - loss: 1.0472 - accuracy: 0.6313 - val_loss: 0.8215 - val_accuracy: 0.5250\n",
            "Epoch 36/72\n",
            "1/1 [==============================] - ETA: 0s - loss: 0.8790 - accuracy: 0.6313\n",
            "Epoch 36: val_loss did not improve from 0.64346\n",
            "1/1 [==============================] - 1s 1s/step - loss: 0.8790 - accuracy: 0.6313 - val_loss: 0.7396 - val_accuracy: 0.6250\n",
            "Epoch 37/72\n",
            "1/1 [==============================] - ETA: 0s - loss: 0.9737 - accuracy: 0.6187\n",
            "Epoch 37: val_loss did not improve from 0.64346\n",
            "1/1 [==============================] - 1s 927ms/step - loss: 0.9737 - accuracy: 0.6187 - val_loss: 0.6955 - val_accuracy: 0.7000\n",
            "Epoch 38/72\n",
            "1/1 [==============================] - ETA: 0s - loss: 1.1169 - accuracy: 0.5562\n",
            "Epoch 38: val_loss did not improve from 0.64346\n",
            "1/1 [==============================] - 1s 902ms/step - loss: 1.1169 - accuracy: 0.5562 - val_loss: 0.6793 - val_accuracy: 0.7000\n",
            "Epoch 39/72\n",
            "1/1 [==============================] - ETA: 0s - loss: 1.0396 - accuracy: 0.6125\n",
            "Epoch 39: val_loss did not improve from 0.64346\n",
            "1/1 [==============================] - 1s 917ms/step - loss: 1.0396 - accuracy: 0.6125 - val_loss: 0.6851 - val_accuracy: 0.7000\n",
            "Epoch 40/72\n",
            "1/1 [==============================] - ETA: 0s - loss: 1.0796 - accuracy: 0.5375\n",
            "Epoch 40: val_loss did not improve from 0.64346\n",
            "1/1 [==============================] - 1s 890ms/step - loss: 1.0796 - accuracy: 0.5375 - val_loss: 0.7103 - val_accuracy: 0.6500\n",
            "Epoch 41/72\n",
            "1/1 [==============================] - ETA: 0s - loss: 0.7936 - accuracy: 0.6687\n",
            "Epoch 41: val_loss did not improve from 0.64346\n",
            "1/1 [==============================] - 1s 919ms/step - loss: 0.7936 - accuracy: 0.6687 - val_loss: 0.7540 - val_accuracy: 0.6000\n",
            "Epoch 42/72\n",
            "1/1 [==============================] - ETA: 0s - loss: 0.9928 - accuracy: 0.5688\n",
            "Epoch 42: val_loss did not improve from 0.64346\n",
            "1/1 [==============================] - 1s 890ms/step - loss: 0.9928 - accuracy: 0.5688 - val_loss: 0.8002 - val_accuracy: 0.5000\n",
            "Epoch 43/72\n",
            "1/1 [==============================] - ETA: 0s - loss: 0.9440 - accuracy: 0.5875\n",
            "Epoch 43: val_loss did not improve from 0.64346\n",
            "1/1 [==============================] - 1s 915ms/step - loss: 0.9440 - accuracy: 0.5875 - val_loss: 0.8140 - val_accuracy: 0.5250\n",
            "Epoch 44/72\n",
            "1/1 [==============================] - ETA: 0s - loss: 0.9983 - accuracy: 0.6125\n",
            "Epoch 44: val_loss did not improve from 0.64346\n",
            "1/1 [==============================] - 1s 1s/step - loss: 0.9983 - accuracy: 0.6125 - val_loss: 0.7846 - val_accuracy: 0.5000\n",
            "Epoch 45/72\n",
            "1/1 [==============================] - ETA: 0s - loss: 0.8954 - accuracy: 0.6562\n",
            "Epoch 45: val_loss did not improve from 0.64346\n",
            "1/1 [==============================] - 3s 3s/step - loss: 0.8954 - accuracy: 0.6562 - val_loss: 0.7391 - val_accuracy: 0.6250\n",
            "Epoch 46/72\n",
            "1/1 [==============================] - ETA: 0s - loss: 0.8446 - accuracy: 0.6500\n",
            "Epoch 46: val_loss did not improve from 0.64346\n",
            "1/1 [==============================] - 3s 3s/step - loss: 0.8446 - accuracy: 0.6500 - val_loss: 0.6943 - val_accuracy: 0.7000\n",
            "Epoch 47/72\n",
            "1/1 [==============================] - ETA: 0s - loss: 0.8501 - accuracy: 0.6375\n",
            "Epoch 47: val_loss did not improve from 0.64346\n",
            "1/1 [==============================] - 2s 2s/step - loss: 0.8501 - accuracy: 0.6375 - val_loss: 0.6558 - val_accuracy: 0.7250\n",
            "Epoch 48/72\n",
            "1/1 [==============================] - ETA: 0s - loss: 0.9946 - accuracy: 0.6062\n",
            "Epoch 48: val_loss improved from 0.64346 to 0.63471, saving model to saved_models/weights.best.basic_cnn.hdf5\n",
            "1/1 [==============================] - 3s 3s/step - loss: 0.9946 - accuracy: 0.6062 - val_loss: 0.6347 - val_accuracy: 0.7750\n",
            "Epoch 49/72\n",
            "1/1 [==============================] - ETA: 0s - loss: 0.9311 - accuracy: 0.6250\n",
            "Epoch 49: val_loss improved from 0.63471 to 0.62984, saving model to saved_models/weights.best.basic_cnn.hdf5\n",
            "1/1 [==============================] - 2s 2s/step - loss: 0.9311 - accuracy: 0.6250 - val_loss: 0.6298 - val_accuracy: 0.7750\n",
            "Epoch 50/72\n",
            "1/1 [==============================] - ETA: 0s - loss: 0.9399 - accuracy: 0.5875\n",
            "Epoch 50: val_loss did not improve from 0.62984\n",
            "1/1 [==============================] - 3s 3s/step - loss: 0.9399 - accuracy: 0.5875 - val_loss: 0.6355 - val_accuracy: 0.7750\n",
            "Epoch 51/72\n",
            "1/1 [==============================] - ETA: 0s - loss: 0.7687 - accuracy: 0.6562\n",
            "Epoch 51: val_loss did not improve from 0.62984\n",
            "1/1 [==============================] - 3s 3s/step - loss: 0.7687 - accuracy: 0.6562 - val_loss: 0.6524 - val_accuracy: 0.7000\n",
            "Epoch 52/72\n",
            "1/1 [==============================] - ETA: 0s - loss: 0.7841 - accuracy: 0.6687\n",
            "Epoch 52: val_loss did not improve from 0.62984\n",
            "1/1 [==============================] - 2s 2s/step - loss: 0.7841 - accuracy: 0.6687 - val_loss: 0.6666 - val_accuracy: 0.7000\n",
            "Epoch 53/72\n",
            "1/1 [==============================] - ETA: 0s - loss: 0.8151 - accuracy: 0.6313\n",
            "Epoch 53: val_loss did not improve from 0.62984\n",
            "1/1 [==============================] - 2s 2s/step - loss: 0.8151 - accuracy: 0.6313 - val_loss: 0.6754 - val_accuracy: 0.7000\n",
            "Epoch 54/72\n",
            "1/1 [==============================] - ETA: 0s - loss: 0.6831 - accuracy: 0.6938\n",
            "Epoch 54: val_loss did not improve from 0.62984\n",
            "1/1 [==============================] - 2s 2s/step - loss: 0.6831 - accuracy: 0.6938 - val_loss: 0.6669 - val_accuracy: 0.7000\n",
            "Epoch 55/72\n",
            "1/1 [==============================] - ETA: 0s - loss: 0.8626 - accuracy: 0.6375\n",
            "Epoch 55: val_loss did not improve from 0.62984\n",
            "1/1 [==============================] - 2s 2s/step - loss: 0.8626 - accuracy: 0.6375 - val_loss: 0.6442 - val_accuracy: 0.7250\n",
            "Epoch 56/72\n",
            "1/1 [==============================] - ETA: 0s - loss: 0.6966 - accuracy: 0.7000\n",
            "Epoch 56: val_loss improved from 0.62984 to 0.62160, saving model to saved_models/weights.best.basic_cnn.hdf5\n",
            "1/1 [==============================] - 3s 3s/step - loss: 0.6966 - accuracy: 0.7000 - val_loss: 0.6216 - val_accuracy: 0.7500\n",
            "Epoch 57/72\n",
            "1/1 [==============================] - ETA: 0s - loss: 0.5883 - accuracy: 0.7125\n",
            "Epoch 57: val_loss improved from 0.62160 to 0.60186, saving model to saved_models/weights.best.basic_cnn.hdf5\n",
            "1/1 [==============================] - 2s 2s/step - loss: 0.5883 - accuracy: 0.7125 - val_loss: 0.6019 - val_accuracy: 0.7250\n",
            "Epoch 58/72\n",
            "1/1 [==============================] - ETA: 0s - loss: 0.8356 - accuracy: 0.6938\n",
            "Epoch 58: val_loss improved from 0.60186 to 0.59449, saving model to saved_models/weights.best.basic_cnn.hdf5\n",
            "1/1 [==============================] - 1s 1s/step - loss: 0.8356 - accuracy: 0.6938 - val_loss: 0.5945 - val_accuracy: 0.7250\n",
            "Epoch 59/72\n",
            "1/1 [==============================] - ETA: 0s - loss: 0.7944 - accuracy: 0.6438\n",
            "Epoch 59: val_loss improved from 0.59449 to 0.59305, saving model to saved_models/weights.best.basic_cnn.hdf5\n",
            "1/1 [==============================] - 2s 2s/step - loss: 0.7944 - accuracy: 0.6438 - val_loss: 0.5930 - val_accuracy: 0.7250\n",
            "Epoch 60/72\n",
            "1/1 [==============================] - ETA: 0s - loss: 0.7059 - accuracy: 0.6875\n",
            "Epoch 60: val_loss did not improve from 0.59305\n",
            "1/1 [==============================] - 1s 1s/step - loss: 0.7059 - accuracy: 0.6875 - val_loss: 0.5958 - val_accuracy: 0.7250\n",
            "Epoch 61/72\n",
            "1/1 [==============================] - ETA: 0s - loss: 0.6234 - accuracy: 0.7188\n",
            "Epoch 61: val_loss did not improve from 0.59305\n",
            "1/1 [==============================] - 1s 1s/step - loss: 0.6234 - accuracy: 0.7188 - val_loss: 0.6031 - val_accuracy: 0.7250\n",
            "Epoch 62/72\n",
            "1/1 [==============================] - ETA: 0s - loss: 0.6308 - accuracy: 0.6812\n",
            "Epoch 62: val_loss did not improve from 0.59305\n",
            "1/1 [==============================] - 2s 2s/step - loss: 0.6308 - accuracy: 0.6812 - val_loss: 0.6043 - val_accuracy: 0.7500\n",
            "Epoch 63/72\n",
            "1/1 [==============================] - ETA: 0s - loss: 0.7157 - accuracy: 0.7125\n",
            "Epoch 63: val_loss did not improve from 0.59305\n",
            "1/1 [==============================] - 6s 6s/step - loss: 0.7157 - accuracy: 0.7125 - val_loss: 0.6005 - val_accuracy: 0.7250\n",
            "Epoch 64/72\n",
            "1/1 [==============================] - ETA: 0s - loss: 0.7053 - accuracy: 0.6875\n",
            "Epoch 64: val_loss improved from 0.59305 to 0.59183, saving model to saved_models/weights.best.basic_cnn.hdf5\n",
            "1/1 [==============================] - 3s 3s/step - loss: 0.7053 - accuracy: 0.6875 - val_loss: 0.5918 - val_accuracy: 0.7250\n",
            "Epoch 65/72\n",
            "1/1 [==============================] - ETA: 0s - loss: 0.5674 - accuracy: 0.7250\n",
            "Epoch 65: val_loss improved from 0.59183 to 0.58002, saving model to saved_models/weights.best.basic_cnn.hdf5\n",
            "1/1 [==============================] - 2s 2s/step - loss: 0.5674 - accuracy: 0.7250 - val_loss: 0.5800 - val_accuracy: 0.7000\n",
            "Epoch 66/72\n",
            "1/1 [==============================] - ETA: 0s - loss: 0.7006 - accuracy: 0.6625\n",
            "Epoch 66: val_loss improved from 0.58002 to 0.57418, saving model to saved_models/weights.best.basic_cnn.hdf5\n",
            "1/1 [==============================] - 1s 949ms/step - loss: 0.7006 - accuracy: 0.6625 - val_loss: 0.5742 - val_accuracy: 0.7000\n",
            "Epoch 67/72\n",
            "1/1 [==============================] - ETA: 0s - loss: 0.6785 - accuracy: 0.6875\n",
            "Epoch 67: val_loss did not improve from 0.57418\n",
            "1/1 [==============================] - 1s 1s/step - loss: 0.6785 - accuracy: 0.6875 - val_loss: 0.5763 - val_accuracy: 0.7000\n",
            "Epoch 68/72\n",
            "1/1 [==============================] - ETA: 0s - loss: 0.5451 - accuracy: 0.7563\n",
            "Epoch 68: val_loss did not improve from 0.57418\n",
            "1/1 [==============================] - 1s 1s/step - loss: 0.5451 - accuracy: 0.7563 - val_loss: 0.5850 - val_accuracy: 0.7250\n",
            "Epoch 69/72\n",
            "1/1 [==============================] - ETA: 0s - loss: 0.5535 - accuracy: 0.7375\n",
            "Epoch 69: val_loss did not improve from 0.57418\n",
            "1/1 [==============================] - 2s 2s/step - loss: 0.5535 - accuracy: 0.7375 - val_loss: 0.6066 - val_accuracy: 0.7500\n",
            "Epoch 70/72\n",
            "1/1 [==============================] - ETA: 0s - loss: 0.5456 - accuracy: 0.7375\n",
            "Epoch 70: val_loss did not improve from 0.57418\n",
            "1/1 [==============================] - 2s 2s/step - loss: 0.5456 - accuracy: 0.7375 - val_loss: 0.6252 - val_accuracy: 0.7500\n",
            "Epoch 71/72\n",
            "1/1 [==============================] - ETA: 0s - loss: 0.5997 - accuracy: 0.7125\n",
            "Epoch 71: val_loss did not improve from 0.57418\n",
            "1/1 [==============================] - 1s 1s/step - loss: 0.5997 - accuracy: 0.7125 - val_loss: 0.6331 - val_accuracy: 0.7500\n",
            "Epoch 72/72\n",
            "1/1 [==============================] - ETA: 0s - loss: 0.5965 - accuracy: 0.7500\n",
            "Epoch 72: val_loss did not improve from 0.57418\n",
            "1/1 [==============================] - 1s 1s/step - loss: 0.5965 - accuracy: 0.7500 - val_loss: 0.6194 - val_accuracy: 0.7500\n",
            "Training completed in time:  0:02:22.880692\n"
          ]
        }
      ]
    },
    {
      "cell_type": "code",
      "source": [
        "import pandas as pd\n",
        "import numpy as np\n",
        "pd.DataFrame(history.history).plot(figsize=(8,5))\n",
        "plt.grid(True)\n",
        "plt.gca().set_ylim(0,1)\n",
        "plt.show()\n",
        "print('1. If the validation loss is greater(are both high:) than the training loss. The model is underfitting.')\n",
        "print('2. If the validation loss is greater than the training loss,The model is overfitting.')\n",
        "print('3. If the training loss and validation loss both decrease and stabilize at a specific point:the model is good fit')"
      ],
      "metadata": {
        "id": "UJjxh4_0MkoG",
        "outputId": "08a2531b-6e7e-43a3-a3d0-174ed2af14e3",
        "colab": {
          "base_uri": "https://localhost:8080/",
          "height": 503
        }
      },
      "execution_count": null,
      "outputs": [
        {
          "output_type": "display_data",
          "data": {
            "text/plain": [
              "<Figure size 800x500 with 1 Axes>"
            ],
            "image/png": "[encoded data removed]"
          },
          "metadata": {}
        },
        {
          "output_type": "stream",
          "name": "stdout",
          "text": [
            "1. If the validation loss is greater(are both high:) than the training loss. The model is underfitting.\n",
            "2. If the validation loss is greater than the training loss,The model is overfitting.\n",
            "3. If the training loss and validation loss both decrease and stabilize at a specific point:the model is good fit\n"
          ]
        }
      ]
    },
    {
      "cell_type": "code",
      "source": [
        "# Evaluating the model on the training and testing set\n",
        "score = model.evaluate(x_train, y_train, verbose=0)\n",
        "print(\"Training Accuracy: \", score[1]*100,\"%\")\n",
        "\n",
        "score = model.evaluate(x_test, y_test, verbose=0)\n",
        "print(\"Testing Accuracy: \", score[1]*100,\"%\")"
      ],
      "metadata": {
        "id": "uvJmIaLzMpVv",
        "outputId": "13193e39-1f84-4ceb-9058-4d765fe748c4",
        "colab": {
          "base_uri": "https://localhost:8080/"
        }
      },
      "execution_count": null,
      "outputs": [
        {
          "output_type": "stream",
          "name": "stdout",
          "text": [
            "Training Accuracy:  80.62499761581421 %\n",
            "Testing Accuracy:  75.0 %\n"
          ]
        }
      ]
    },
    {
      "cell_type": "code",
      "source": [
        "loss, accuracy = model.evaluate(x_test, y_test, verbose=2)\n",
        "print(f'Test loss: {loss:.3f}, Test accuracy: {accuracy:.3f}')"
      ],
      "metadata": {
        "colab": {
          "base_uri": "https://localhost:8080/"
        },
        "id": "sBllugWedKih",
        "outputId": "eb881c59-cf3c-4a17-ae43-e58b09f7167c"
      },
      "execution_count": null,
      "outputs": [
        {
          "output_type": "stream",
          "name": "stdout",
          "text": [
            "2/2 - 0s - loss: 0.6194 - accuracy: 0.7500 - 79ms/epoch - 39ms/step\n",
            "Test loss: 0.619, Test accuracy: 0.750\n"
          ]
        }
      ]
    },
    {
      "cell_type": "code",
      "source": [
        "from sklearn.metrics import precision_score,recall_score,f1_score\n",
        "\n",
        "# Predict class labels on test set\n",
        "y_pred = model.predict(x_test)\n",
        "y_pred = (y_pred > 0.5).astype(int)\n",
        "\n",
        "# Calculate precision score\n",
        "precision = precision_score(y_test, y_pred, average='weighted', zero_division=0)\n",
        "recall = recall_score(y_test, y_pred, average='weighted', zero_division=0)\n",
        "f1 = f1_score(y_test, y_pred, average='weighted', zero_division=0)\n",
        "\n",
        "# Print precision score\n",
        "print(\"Precision Score: \", precision)\n",
        "print(\"Recall: \", recall)\n",
        "print(\"F1 Score: \", f1)"
      ],
      "metadata": {
        "colab": {
          "base_uri": "https://localhost:8080/"
        },
        "id": "cheGKtzZGq63",
        "outputId": "ffc973a8-9874-46b0-f10c-3891aef65b14"
      },
      "execution_count": null,
      "outputs": [
        {
          "output_type": "stream",
          "name": "stdout",
          "text": [
            "2/2 [==============================] - 0s 19ms/step\n",
            "Precision Score:  0.778\n",
            "Recall:  0.75\n",
            "F1 Score:  0.7462121212121212\n"
          ]
        }
      ]
    },
    {
      "cell_type": "code",
      "source": [
        "def print_prediction(file_name):\n",
        "    prediction_feature = extract_features(file_name) \n",
        "    prediction_feature = prediction_feature.reshape(1, num_rows, num_columns, num_channels)\n",
        "\n",
        "    predicted_vector = model.predict(prediction_feature)\n",
        "    predicted_class = le.inverse_transform(np.argmax(predicted_vector, axis=-1)) \n",
        "    print(\"The predicted class is:\", predicted_class[0], '\\n') \n",
        "\n",
        "    predicted_proba_vector = predicted_vector\n",
        "    for i in range(len(predicted_proba_vector[0])): \n",
        "        category = le.inverse_transform(np.array([i]))\n",
        "        print(category[0], \"\\t\\t : \", format(predicted_proba_vector[0][i]*100,'.32f'),\"%\")"
      ],
      "metadata": {
        "id": "UfcU6ZicMv-V"
      },
      "execution_count": null,
      "outputs": []
    },
    {
      "cell_type": "code",
      "source": [
        "from pydub import AudioSegment\n",
        "\n",
        "# set the file paths\n",
        "input_file = \"/content/sample-195283.mp3\"\n",
        "output_file = \"/content/output.wav\"\n",
        "\n",
        "audio = AudioSegment.from_file(input_file, format=\"mp3\")\n",
        "\n",
        "audio.export(output_file, format=\"wav\")"
      ],
      "metadata": {
        "id": "cZ78n72ZQufO",
        "outputId": "8a901136-02e7-4a9c-f1a6-98077aea2284",
        "colab": {
          "base_uri": "https://localhost:8080/"
        }
      },
      "execution_count": null,
      "outputs": [
        {
          "output_type": "execute_result",
          "data": {
            "text/plain": [
              "<_io.BufferedRandom name='/content/output.wav'>"
            ]
          },
          "metadata": {},
          "execution_count": 47
        }
      ]
    },
    {
      "cell_type": "code",
      "source": [
        "filename = '/content/output.wav' \n",
        "print_prediction(filename) "
      ],
      "metadata": {
        "id": "kojRxIGdMzUv",
        "outputId": "7b415565-bd35-4a31-e3b5-4a0849f718d5",
        "colab": {
          "base_uri": "https://localhost:8080/"
        }
      },
      "execution_count": null,
      "outputs": [
        {
          "output_type": "stream",
          "name": "stdout",
          "text": [
            "1/1 [==============================] - 0s 39ms/step\n",
            "The predicted class is: female \n",
            "\n",
            "female \t\t :  92.07939505577087402343750000000000 %\n",
            "male \t\t :  7.92060121893882751464843750000000 %\n"
          ]
        }
      ]
    },
    {
      "cell_type": "code",
      "source": [],
      "metadata": {
        "id": "zm8wHfwte1DD"
      },
      "execution_count": null,
      "outputs": []
    },
    {
      "cell_type": "markdown",
      "source": [
        "## **SGD**"
      ],
      "metadata": {
        "id": "-ZYfPOoXfFk0"
      }
    },
    {
      "cell_type": "code",
      "source": [
        "from keras.models import Sequential\n",
        "from keras.layers import Dense, Dropout, Activation, Flatten\n",
        "from keras.layers import Convolution2D, Conv2D, MaxPooling2D, GlobalAveragePooling2D\n",
        "from keras.utils import np_utils\n",
        "from sklearn import metrics \n",
        "from keras.optimizers import SGD\n",
        "from keras.optimizers import RMSprop\n",
        "\n",
        "\n",
        "num_rows = 40\n",
        "num_columns = 174\n",
        "num_channels = 1\n",
        "\n",
        "x_train = x_train.reshape(x_train.shape[0], num_rows, num_columns, num_channels)\n",
        "x_test = x_test.reshape(x_test.shape[0], num_rows, num_columns, num_channels)\n",
        "\n",
        "num_labels = yy.shape[1]\n",
        "filter_size = 2\n"
      ],
      "metadata": {
        "id": "nOzxdbnJfBPf"
      },
      "execution_count": null,
      "outputs": []
    },
    {
      "cell_type": "markdown",
      "source": [
        "# Dropout"
      ],
      "metadata": {
        "id": "MA__zhwsfBPg"
      }
    },
    {
      "cell_type": "code",
      "source": [
        "\n",
        "# Construct model \n",
        "model = Sequential()\n",
        "model.add(Conv2D(filters=16, kernel_size=2, input_shape=(num_rows, num_columns, num_channels), activation='relu'))\n",
        "model.add(MaxPooling2D(pool_size=2))\n",
        "model.add(Dropout(0.2))\n",
        "\n",
        "model.add(Conv2D(filters=32, kernel_size=2, activation='relu'))\n",
        "model.add(MaxPooling2D(pool_size=2))\n",
        "model.add(Dropout(0.2))\n",
        "\n",
        "model.add(Conv2D(filters=64, kernel_size=2, activation='relu'))\n",
        "model.add(MaxPooling2D(pool_size=2))\n",
        "model.add(Dropout(0.2))\n",
        "\n",
        "model.add(Conv2D(filters=128, kernel_size=2, activation='relu'))\n",
        "model.add(MaxPooling2D(pool_size=2))\n",
        "model.add(Dropout(0.2))\n",
        "model.add(GlobalAveragePooling2D())\n",
        "\n",
        "model.add(Dense(num_labels, activation='softmax')) \n"
      ],
      "metadata": {
        "id": "1OmRzFrEfBPg"
      },
      "execution_count": null,
      "outputs": []
    },
    {
      "cell_type": "code",
      "source": [
        "# Compile the model\n",
        "model.compile(loss='categorical_crossentropy', metrics=['accuracy'], optimizer=SGD(lr=0.01)) "
      ],
      "metadata": {
        "colab": {
          "base_uri": "https://localhost:8080/"
        },
        "id": "TQLhtif7fBPh",
        "outputId": "4cf75778-d217-4e86-ad0b-09b7b71e1106"
      },
      "execution_count": null,
      "outputs": [
        {
          "output_type": "stream",
          "name": "stderr",
          "text": [
            "/usr/local/lib/python3.9/dist-packages/keras/optimizers/legacy/gradient_descent.py:114: UserWarning: The `lr` argument is deprecated, use `learning_rate` instead.\n",
            "  super().__init__(name, **kwargs)\n"
          ]
        }
      ]
    },
    {
      "cell_type": "code",
      "source": [
        "# Display model architecture summary \n",
        "model.summary()\n",
        "\n",
        "# Calculate pre-training accuracy \n",
        "score = model.evaluate(x_test, y_test, verbose=1)\n",
        "accuracy = 100*score[1]\n",
        "\n",
        "print(\"Pre-training accuracy: %.4f%%\" % accuracy)"
      ],
      "metadata": {
        "outputId": "81b9a1fd-c7c3-4323-c5ad-44cad162f1ef",
        "colab": {
          "base_uri": "https://localhost:8080/"
        },
        "id": "WYTHe1YefBPi"
      },
      "execution_count": null,
      "outputs": [
        {
          "output_type": "stream",
          "name": "stdout",
          "text": [
            "Model: \"sequential_3\"\n",
            "_________________________________________________________________\n",
            " Layer (type)                Output Shape              Param #   \n",
            "=================================================================\n",
            " conv2d_12 (Conv2D)          (None, 39, 173, 16)       80        \n",
            "                                                                 \n",
            " max_pooling2d_12 (MaxPoolin  (None, 19, 86, 16)       0         \n",
            " g2D)                                                            \n",
            "                                                                 \n",
            " dropout_12 (Dropout)        (None, 19, 86, 16)        0         \n",
            "                                                                 \n",
            " conv2d_13 (Conv2D)          (None, 18, 85, 32)        2080      \n",
            "                                                                 \n",
            " max_pooling2d_13 (MaxPoolin  (None, 9, 42, 32)        0         \n",
            " g2D)                                                            \n",
            "                                                                 \n",
            " dropout_13 (Dropout)        (None, 9, 42, 32)         0         \n",
            "                                                                 \n",
            " conv2d_14 (Conv2D)          (None, 8, 41, 64)         8256      \n",
            "                                                                 \n",
            " max_pooling2d_14 (MaxPoolin  (None, 4, 20, 64)        0         \n",
            " g2D)                                                            \n",
            "                                                                 \n",
            " dropout_14 (Dropout)        (None, 4, 20, 64)         0         \n",
            "                                                                 \n",
            " conv2d_15 (Conv2D)          (None, 3, 19, 128)        32896     \n",
            "                                                                 \n",
            " max_pooling2d_15 (MaxPoolin  (None, 1, 9, 128)        0         \n",
            " g2D)                                                            \n",
            "                                                                 \n",
            " dropout_15 (Dropout)        (None, 1, 9, 128)         0         \n",
            "                                                                 \n",
            " global_average_pooling2d_3   (None, 128)              0         \n",
            " (GlobalAveragePooling2D)                                        \n",
            "                                                                 \n",
            " dense_3 (Dense)             (None, 2)                 258       \n",
            "                                                                 \n",
            "=================================================================\n",
            "Total params: 43,570\n",
            "Trainable params: 43,570\n",
            "Non-trainable params: 0\n",
            "_________________________________________________________________\n",
            "2/2 [==============================] - 0s 25ms/step - loss: 1.0834 - accuracy: 0.5500\n",
            "Pre-training accuracy: 55.0000%\n"
          ]
        }
      ]
    },
    {
      "cell_type": "code",
      "source": [
        "from keras.callbacks import ModelCheckpoint \n",
        "from datetime import datetime \n",
        "\n",
        "num_epochs = 72\n",
        "num_batch_size = 256\n",
        "\n",
        "checkpointer = ModelCheckpoint(filepath='saved_models/weights.best.basic_cnn.hdf5', \n",
        "                               verbose=1, save_best_only=True)\n",
        "start = datetime.now()\n",
        "\n",
        "history=model.fit(x_train, y_train, batch_size=num_batch_size, epochs=num_epochs, validation_data=(x_test, y_test), callbacks=[checkpointer], verbose=1)\n",
        "\n",
        "\n",
        "duration = datetime.now() - start\n",
        "print(\"Training completed in time: \", duration)"
      ],
      "metadata": {
        "outputId": "86e74be5-be58-45ac-f9a7-6ba6788b68b8",
        "colab": {
          "base_uri": "https://localhost:8080/"
        },
        "id": "AjlfeP06fBPj"
      },
      "execution_count": null,
      "outputs": [
        {
          "output_type": "stream",
          "name": "stdout",
          "text": [
            "Epoch 1/72\n",
            "1/1 [==============================] - ETA: 0s - loss: 1.8170 - accuracy: 0.5500\n",
            "Epoch 1: val_loss improved from inf to 38.63960, saving model to saved_models/weights.best.basic_cnn.hdf5\n",
            "1/1 [==============================] - 2s 2s/step - loss: 1.8170 - accuracy: 0.5500 - val_loss: 38.6396 - val_accuracy: 0.4750\n",
            "Epoch 2/72\n",
            "1/1 [==============================] - ETA: 0s - loss: 58.4899 - accuracy: 0.5063\n",
            "Epoch 2: val_loss improved from 38.63960 to 0.73043, saving model to saved_models/weights.best.basic_cnn.hdf5\n",
            "1/1 [==============================] - 2s 2s/step - loss: 58.4899 - accuracy: 0.5063 - val_loss: 0.7304 - val_accuracy: 0.4500\n",
            "Epoch 3/72\n",
            "1/1 [==============================] - ETA: 0s - loss: 0.7990 - accuracy: 0.4375\n",
            "Epoch 3: val_loss improved from 0.73043 to 0.70192, saving model to saved_models/weights.best.basic_cnn.hdf5\n",
            "1/1 [==============================] - 1s 930ms/step - loss: 0.7990 - accuracy: 0.4375 - val_loss: 0.7019 - val_accuracy: 0.5000\n",
            "Epoch 4/72\n",
            "1/1 [==============================] - ETA: 0s - loss: 0.7847 - accuracy: 0.4938\n",
            "Epoch 4: val_loss did not improve from 0.70192\n",
            "1/1 [==============================] - 1s 941ms/step - loss: 0.7847 - accuracy: 0.4938 - val_loss: 0.9065 - val_accuracy: 0.4750\n",
            "Epoch 5/72\n",
            "1/1 [==============================] - ETA: 0s - loss: 1.0955 - accuracy: 0.5063\n",
            "Epoch 5: val_loss did not improve from 0.70192\n",
            "1/1 [==============================] - 1s 926ms/step - loss: 1.0955 - accuracy: 0.5063 - val_loss: 0.8551 - val_accuracy: 0.5250\n",
            "Epoch 6/72\n",
            "1/1 [==============================] - ETA: 0s - loss: 1.4186 - accuracy: 0.4938\n",
            "Epoch 6: val_loss did not improve from 0.70192\n",
            "1/1 [==============================] - 1s 1s/step - loss: 1.4186 - accuracy: 0.4938 - val_loss: 0.7065 - val_accuracy: 0.5000\n",
            "Epoch 7/72\n",
            "1/1 [==============================] - ETA: 0s - loss: 0.7135 - accuracy: 0.4812\n",
            "Epoch 7: val_loss improved from 0.70192 to 0.69230, saving model to saved_models/weights.best.basic_cnn.hdf5\n",
            "1/1 [==============================] - 2s 2s/step - loss: 0.7135 - accuracy: 0.4812 - val_loss: 0.6923 - val_accuracy: 0.4500\n",
            "Epoch 8/72\n",
            "1/1 [==============================] - ETA: 0s - loss: 0.6930 - accuracy: 0.5437\n",
            "Epoch 8: val_loss improved from 0.69230 to 0.69024, saving model to saved_models/weights.best.basic_cnn.hdf5\n",
            "1/1 [==============================] - 1s 1s/step - loss: 0.6930 - accuracy: 0.5437 - val_loss: 0.6902 - val_accuracy: 0.4750\n",
            "Epoch 9/72\n",
            "1/1 [==============================] - ETA: 0s - loss: 0.6928 - accuracy: 0.5250\n",
            "Epoch 9: val_loss improved from 0.69024 to 0.68696, saving model to saved_models/weights.best.basic_cnn.hdf5\n",
            "1/1 [==============================] - 1s 938ms/step - loss: 0.6928 - accuracy: 0.5250 - val_loss: 0.6870 - val_accuracy: 0.4750\n",
            "Epoch 10/72\n",
            "1/1 [==============================] - ETA: 0s - loss: 0.6675 - accuracy: 0.5938\n",
            "Epoch 10: val_loss improved from 0.68696 to 0.68566, saving model to saved_models/weights.best.basic_cnn.hdf5\n",
            "1/1 [==============================] - 1s 928ms/step - loss: 0.6675 - accuracy: 0.5938 - val_loss: 0.6857 - val_accuracy: 0.4750\n",
            "Epoch 11/72\n",
            "1/1 [==============================] - ETA: 0s - loss: 0.7109 - accuracy: 0.4812\n",
            "Epoch 11: val_loss improved from 0.68566 to 0.68143, saving model to saved_models/weights.best.basic_cnn.hdf5\n",
            "1/1 [==============================] - 1s 934ms/step - loss: 0.7109 - accuracy: 0.4812 - val_loss: 0.6814 - val_accuracy: 0.4750\n",
            "Epoch 12/72\n",
            "1/1 [==============================] - ETA: 0s - loss: 0.6859 - accuracy: 0.5437\n",
            "Epoch 12: val_loss improved from 0.68143 to 0.67900, saving model to saved_models/weights.best.basic_cnn.hdf5\n",
            "1/1 [==============================] - 1s 922ms/step - loss: 0.6859 - accuracy: 0.5437 - val_loss: 0.6790 - val_accuracy: 0.5000\n",
            "Epoch 13/72\n",
            "1/1 [==============================] - ETA: 0s - loss: 0.6701 - accuracy: 0.6187\n",
            "Epoch 13: val_loss improved from 0.67900 to 0.67778, saving model to saved_models/weights.best.basic_cnn.hdf5\n",
            "1/1 [==============================] - 1s 949ms/step - loss: 0.6701 - accuracy: 0.6187 - val_loss: 0.6778 - val_accuracy: 0.5250\n",
            "Epoch 14/72\n",
            "1/1 [==============================] - ETA: 0s - loss: 0.6700 - accuracy: 0.5375\n",
            "Epoch 14: val_loss improved from 0.67778 to 0.67633, saving model to saved_models/weights.best.basic_cnn.hdf5\n",
            "1/1 [==============================] - 1s 912ms/step - loss: 0.6700 - accuracy: 0.5375 - val_loss: 0.6763 - val_accuracy: 0.5500\n",
            "Epoch 15/72\n",
            "1/1 [==============================] - ETA: 0s - loss: 0.6665 - accuracy: 0.6500\n",
            "Epoch 15: val_loss improved from 0.67633 to 0.67489, saving model to saved_models/weights.best.basic_cnn.hdf5\n",
            "1/1 [==============================] - 1s 925ms/step - loss: 0.6665 - accuracy: 0.6500 - val_loss: 0.6749 - val_accuracy: 0.5750\n",
            "Epoch 16/72\n",
            "1/1 [==============================] - ETA: 0s - loss: 0.6501 - accuracy: 0.6187\n",
            "Epoch 16: val_loss improved from 0.67489 to 0.67091, saving model to saved_models/weights.best.basic_cnn.hdf5\n",
            "1/1 [==============================] - 1s 939ms/step - loss: 0.6501 - accuracy: 0.6187 - val_loss: 0.6709 - val_accuracy: 0.6750\n",
            "Epoch 17/72\n",
            "1/1 [==============================] - ETA: 0s - loss: 0.6497 - accuracy: 0.6500\n",
            "Epoch 17: val_loss did not improve from 0.67091\n",
            "1/1 [==============================] - 1s 913ms/step - loss: 0.6497 - accuracy: 0.6500 - val_loss: 0.6713 - val_accuracy: 0.6000\n",
            "Epoch 18/72\n",
            "1/1 [==============================] - ETA: 0s - loss: 0.6444 - accuracy: 0.5938\n",
            "Epoch 18: val_loss improved from 0.67091 to 0.66987, saving model to saved_models/weights.best.basic_cnn.hdf5\n",
            "1/1 [==============================] - 1s 933ms/step - loss: 0.6444 - accuracy: 0.5938 - val_loss: 0.6699 - val_accuracy: 0.6000\n",
            "Epoch 19/72\n",
            "1/1 [==============================] - ETA: 0s - loss: 0.6705 - accuracy: 0.6062\n",
            "Epoch 19: val_loss improved from 0.66987 to 0.66568, saving model to saved_models/weights.best.basic_cnn.hdf5\n",
            "1/1 [==============================] - 1s 1s/step - loss: 0.6705 - accuracy: 0.6062 - val_loss: 0.6657 - val_accuracy: 0.7250\n",
            "Epoch 20/72\n",
            "1/1 [==============================] - ETA: 0s - loss: 0.6355 - accuracy: 0.6500\n",
            "Epoch 20: val_loss improved from 0.66568 to 0.66548, saving model to saved_models/weights.best.basic_cnn.hdf5\n",
            "1/1 [==============================] - 2s 2s/step - loss: 0.6355 - accuracy: 0.6500 - val_loss: 0.6655 - val_accuracy: 0.7250\n",
            "Epoch 21/72\n",
            "1/1 [==============================] - ETA: 0s - loss: 0.6157 - accuracy: 0.7188\n",
            "Epoch 21: val_loss improved from 0.66548 to 0.66443, saving model to saved_models/weights.best.basic_cnn.hdf5\n",
            "1/1 [==============================] - 1s 946ms/step - loss: 0.6157 - accuracy: 0.7188 - val_loss: 0.6644 - val_accuracy: 0.7250\n",
            "Epoch 22/72\n",
            "1/1 [==============================] - ETA: 0s - loss: 0.6366 - accuracy: 0.6313\n",
            "Epoch 22: val_loss improved from 0.66443 to 0.66307, saving model to saved_models/weights.best.basic_cnn.hdf5\n",
            "1/1 [==============================] - 1s 1s/step - loss: 0.6366 - accuracy: 0.6313 - val_loss: 0.6631 - val_accuracy: 0.7250\n",
            "Epoch 23/72\n",
            "1/1 [==============================] - ETA: 0s - loss: 0.6300 - accuracy: 0.6687\n",
            "Epoch 23: val_loss improved from 0.66307 to 0.66239, saving model to saved_models/weights.best.basic_cnn.hdf5\n",
            "1/1 [==============================] - 1s 1s/step - loss: 0.6300 - accuracy: 0.6687 - val_loss: 0.6624 - val_accuracy: 0.6750\n",
            "Epoch 24/72\n",
            "1/1 [==============================] - ETA: 0s - loss: 0.6295 - accuracy: 0.6250\n",
            "Epoch 24: val_loss improved from 0.66239 to 0.66054, saving model to saved_models/weights.best.basic_cnn.hdf5\n",
            "1/1 [==============================] - 1s 915ms/step - loss: 0.6295 - accuracy: 0.6250 - val_loss: 0.6605 - val_accuracy: 0.7000\n",
            "Epoch 25/72\n",
            "1/1 [==============================] - ETA: 0s - loss: 0.6289 - accuracy: 0.6125\n",
            "Epoch 25: val_loss improved from 0.66054 to 0.65806, saving model to saved_models/weights.best.basic_cnn.hdf5\n",
            "1/1 [==============================] - 1s 927ms/step - loss: 0.6289 - accuracy: 0.6125 - val_loss: 0.6581 - val_accuracy: 0.7500\n",
            "Epoch 26/72\n",
            "1/1 [==============================] - ETA: 0s - loss: 0.6104 - accuracy: 0.7063\n",
            "Epoch 26: val_loss did not improve from 0.65806\n",
            "1/1 [==============================] - 1s 921ms/step - loss: 0.6104 - accuracy: 0.7063 - val_loss: 0.6582 - val_accuracy: 0.7000\n",
            "Epoch 27/72\n",
            "1/1 [==============================] - ETA: 0s - loss: 0.6123 - accuracy: 0.6812\n",
            "Epoch 27: val_loss improved from 0.65806 to 0.65651, saving model to saved_models/weights.best.basic_cnn.hdf5\n",
            "1/1 [==============================] - 1s 926ms/step - loss: 0.6123 - accuracy: 0.6812 - val_loss: 0.6565 - val_accuracy: 0.7000\n",
            "Epoch 28/72\n",
            "1/1 [==============================] - ETA: 0s - loss: 0.6062 - accuracy: 0.7188\n",
            "Epoch 28: val_loss did not improve from 0.65651\n",
            "1/1 [==============================] - 1s 930ms/step - loss: 0.6062 - accuracy: 0.7188 - val_loss: 0.6572 - val_accuracy: 0.7000\n",
            "Epoch 29/72\n",
            "1/1 [==============================] - ETA: 0s - loss: 0.6017 - accuracy: 0.6812\n",
            "Epoch 29: val_loss improved from 0.65651 to 0.65507, saving model to saved_models/weights.best.basic_cnn.hdf5\n",
            "1/1 [==============================] - 1s 913ms/step - loss: 0.6017 - accuracy: 0.6812 - val_loss: 0.6551 - val_accuracy: 0.7000\n",
            "Epoch 30/72\n",
            "1/1 [==============================] - ETA: 0s - loss: 0.6171 - accuracy: 0.6438\n",
            "Epoch 30: val_loss improved from 0.65507 to 0.65288, saving model to saved_models/weights.best.basic_cnn.hdf5\n",
            "1/1 [==============================] - 1s 920ms/step - loss: 0.6171 - accuracy: 0.6438 - val_loss: 0.6529 - val_accuracy: 0.7000\n",
            "Epoch 31/72\n",
            "1/1 [==============================] - ETA: 0s - loss: 0.6143 - accuracy: 0.6687\n",
            "Epoch 31: val_loss improved from 0.65288 to 0.65264, saving model to saved_models/weights.best.basic_cnn.hdf5\n",
            "1/1 [==============================] - 1s 1s/step - loss: 0.6143 - accuracy: 0.6687 - val_loss: 0.6526 - val_accuracy: 0.7000\n",
            "Epoch 32/72\n",
            "1/1 [==============================] - ETA: 0s - loss: 0.5826 - accuracy: 0.7375\n",
            "Epoch 32: val_loss improved from 0.65264 to 0.65021, saving model to saved_models/weights.best.basic_cnn.hdf5\n",
            "1/1 [==============================] - 2s 2s/step - loss: 0.5826 - accuracy: 0.7375 - val_loss: 0.6502 - val_accuracy: 0.7000\n",
            "Epoch 33/72\n",
            "1/1 [==============================] - ETA: 0s - loss: 0.6059 - accuracy: 0.6750\n",
            "Epoch 33: val_loss improved from 0.65021 to 0.64285, saving model to saved_models/weights.best.basic_cnn.hdf5\n",
            "1/1 [==============================] - 1s 1s/step - loss: 0.6059 - accuracy: 0.6750 - val_loss: 0.6428 - val_accuracy: 0.7250\n",
            "Epoch 34/72\n",
            "1/1 [==============================] - ETA: 0s - loss: 0.5764 - accuracy: 0.7437\n",
            "Epoch 34: val_loss did not improve from 0.64285\n",
            "1/1 [==============================] - 1s 896ms/step - loss: 0.5764 - accuracy: 0.7437 - val_loss: 0.6441 - val_accuracy: 0.7000\n",
            "Epoch 35/72\n",
            "1/1 [==============================] - ETA: 0s - loss: 0.5870 - accuracy: 0.7125\n",
            "Epoch 35: val_loss improved from 0.64285 to 0.63933, saving model to saved_models/weights.best.basic_cnn.hdf5\n",
            "1/1 [==============================] - 1s 914ms/step - loss: 0.5870 - accuracy: 0.7125 - val_loss: 0.6393 - val_accuracy: 0.7250\n",
            "Epoch 36/72\n",
            "1/1 [==============================] - ETA: 0s - loss: 0.5750 - accuracy: 0.7312\n",
            "Epoch 36: val_loss did not improve from 0.63933\n",
            "1/1 [==============================] - 1s 905ms/step - loss: 0.5750 - accuracy: 0.7312 - val_loss: 0.6405 - val_accuracy: 0.7000\n",
            "Epoch 37/72\n",
            "1/1 [==============================] - ETA: 0s - loss: 0.6151 - accuracy: 0.6875\n",
            "Epoch 37: val_loss improved from 0.63933 to 0.63495, saving model to saved_models/weights.best.basic_cnn.hdf5\n",
            "1/1 [==============================] - 1s 944ms/step - loss: 0.6151 - accuracy: 0.6875 - val_loss: 0.6349 - val_accuracy: 0.7250\n",
            "Epoch 38/72\n",
            "1/1 [==============================] - ETA: 0s - loss: 0.5700 - accuracy: 0.7188\n",
            "Epoch 38: val_loss did not improve from 0.63495\n",
            "1/1 [==============================] - 1s 915ms/step - loss: 0.5700 - accuracy: 0.7188 - val_loss: 0.6370 - val_accuracy: 0.6750\n",
            "Epoch 39/72\n",
            "1/1 [==============================] - ETA: 0s - loss: 0.5538 - accuracy: 0.7250\n",
            "Epoch 39: val_loss improved from 0.63495 to 0.63074, saving model to saved_models/weights.best.basic_cnn.hdf5\n",
            "1/1 [==============================] - 1s 929ms/step - loss: 0.5538 - accuracy: 0.7250 - val_loss: 0.6307 - val_accuracy: 0.7250\n",
            "Epoch 40/72\n",
            "1/1 [==============================] - ETA: 0s - loss: 0.5536 - accuracy: 0.7437\n",
            "Epoch 40: val_loss improved from 0.63074 to 0.63060, saving model to saved_models/weights.best.basic_cnn.hdf5\n",
            "1/1 [==============================] - 1s 915ms/step - loss: 0.5536 - accuracy: 0.7437 - val_loss: 0.6306 - val_accuracy: 0.6750\n",
            "Epoch 41/72\n",
            "1/1 [==============================] - ETA: 0s - loss: 0.5591 - accuracy: 0.6938\n",
            "Epoch 41: val_loss improved from 0.63060 to 0.62661, saving model to saved_models/weights.best.basic_cnn.hdf5\n",
            "1/1 [==============================] - 1s 941ms/step - loss: 0.5591 - accuracy: 0.6938 - val_loss: 0.6266 - val_accuracy: 0.7250\n",
            "Epoch 42/72\n",
            "1/1 [==============================] - ETA: 0s - loss: 0.5590 - accuracy: 0.7188\n",
            "Epoch 42: val_loss improved from 0.62661 to 0.62383, saving model to saved_models/weights.best.basic_cnn.hdf5\n",
            "1/1 [==============================] - 1s 927ms/step - loss: 0.5590 - accuracy: 0.7188 - val_loss: 0.6238 - val_accuracy: 0.7250\n",
            "Epoch 43/72\n",
            "1/1 [==============================] - ETA: 0s - loss: 0.5675 - accuracy: 0.6938\n",
            "Epoch 43: val_loss did not improve from 0.62383\n",
            "1/1 [==============================] - 1s 895ms/step - loss: 0.5675 - accuracy: 0.6938 - val_loss: 0.6243 - val_accuracy: 0.6750\n",
            "Epoch 44/72\n",
            "1/1 [==============================] - ETA: 0s - loss: 0.5292 - accuracy: 0.7625\n",
            "Epoch 44: val_loss improved from 0.62383 to 0.61888, saving model to saved_models/weights.best.basic_cnn.hdf5\n",
            "1/1 [==============================] - 1s 1s/step - loss: 0.5292 - accuracy: 0.7625 - val_loss: 0.6189 - val_accuracy: 0.7250\n",
            "Epoch 45/72\n",
            "1/1 [==============================] - ETA: 0s - loss: 0.5416 - accuracy: 0.7563\n",
            "Epoch 45: val_loss improved from 0.61888 to 0.61493, saving model to saved_models/weights.best.basic_cnn.hdf5\n",
            "1/1 [==============================] - 2s 2s/step - loss: 0.5416 - accuracy: 0.7563 - val_loss: 0.6149 - val_accuracy: 0.7250\n",
            "Epoch 46/72\n",
            "1/1 [==============================] - ETA: 0s - loss: 0.5491 - accuracy: 0.7437\n",
            "Epoch 46: val_loss improved from 0.61493 to 0.61200, saving model to saved_models/weights.best.basic_cnn.hdf5\n",
            "1/1 [==============================] - 1s 1s/step - loss: 0.5491 - accuracy: 0.7437 - val_loss: 0.6120 - val_accuracy: 0.7250\n",
            "Epoch 47/72\n",
            "1/1 [==============================] - ETA: 0s - loss: 0.5533 - accuracy: 0.7688\n",
            "Epoch 47: val_loss improved from 0.61200 to 0.60814, saving model to saved_models/weights.best.basic_cnn.hdf5\n",
            "1/1 [==============================] - 1s 1s/step - loss: 0.5533 - accuracy: 0.7688 - val_loss: 0.6081 - val_accuracy: 0.7250\n",
            "Epoch 48/72\n",
            "1/1 [==============================] - ETA: 0s - loss: 0.5345 - accuracy: 0.7437\n",
            "Epoch 48: val_loss did not improve from 0.60814\n",
            "1/1 [==============================] - 1s 890ms/step - loss: 0.5345 - accuracy: 0.7437 - val_loss: 0.6104 - val_accuracy: 0.7250\n",
            "Epoch 49/72\n",
            "1/1 [==============================] - ETA: 0s - loss: 0.5644 - accuracy: 0.7688\n",
            "Epoch 49: val_loss improved from 0.60814 to 0.59991, saving model to saved_models/weights.best.basic_cnn.hdf5\n",
            "1/1 [==============================] - 1s 917ms/step - loss: 0.5644 - accuracy: 0.7688 - val_loss: 0.5999 - val_accuracy: 0.7500\n",
            "Epoch 50/72\n",
            "1/1 [==============================] - ETA: 0s - loss: 0.5411 - accuracy: 0.7750\n",
            "Epoch 50: val_loss did not improve from 0.59991\n",
            "1/1 [==============================] - 1s 918ms/step - loss: 0.5411 - accuracy: 0.7750 - val_loss: 0.6023 - val_accuracy: 0.7250\n",
            "Epoch 51/72\n",
            "1/1 [==============================] - ETA: 0s - loss: 0.5430 - accuracy: 0.7437\n",
            "Epoch 51: val_loss improved from 0.59991 to 0.59318, saving model to saved_models/weights.best.basic_cnn.hdf5\n",
            "1/1 [==============================] - 1s 969ms/step - loss: 0.5430 - accuracy: 0.7437 - val_loss: 0.5932 - val_accuracy: 0.7500\n",
            "Epoch 52/72\n",
            "1/1 [==============================] - ETA: 0s - loss: 0.5439 - accuracy: 0.7437\n",
            "Epoch 52: val_loss did not improve from 0.59318\n",
            "1/1 [==============================] - 1s 906ms/step - loss: 0.5439 - accuracy: 0.7437 - val_loss: 0.5957 - val_accuracy: 0.7250\n",
            "Epoch 53/72\n",
            "1/1 [==============================] - ETA: 0s - loss: 0.5199 - accuracy: 0.7375\n",
            "Epoch 53: val_loss improved from 0.59318 to 0.58713, saving model to saved_models/weights.best.basic_cnn.hdf5\n",
            "1/1 [==============================] - 1s 908ms/step - loss: 0.5199 - accuracy: 0.7375 - val_loss: 0.5871 - val_accuracy: 0.7500\n",
            "Epoch 54/72\n",
            "1/1 [==============================] - ETA: 0s - loss: 0.5095 - accuracy: 0.7750\n",
            "Epoch 54: val_loss did not improve from 0.58713\n",
            "1/1 [==============================] - 1s 894ms/step - loss: 0.5095 - accuracy: 0.7750 - val_loss: 0.5953 - val_accuracy: 0.7750\n",
            "Epoch 55/72\n",
            "1/1 [==============================] - ETA: 0s - loss: 0.5437 - accuracy: 0.7437\n",
            "Epoch 55: val_loss improved from 0.58713 to 0.57939, saving model to saved_models/weights.best.basic_cnn.hdf5\n",
            "1/1 [==============================] - 1s 930ms/step - loss: 0.5437 - accuracy: 0.7437 - val_loss: 0.5794 - val_accuracy: 0.7250\n",
            "Epoch 56/72\n",
            "1/1 [==============================] - ETA: 0s - loss: 0.5176 - accuracy: 0.7563\n",
            "Epoch 56: val_loss did not improve from 0.57939\n",
            "1/1 [==============================] - 1s 1s/step - loss: 0.5176 - accuracy: 0.7563 - val_loss: 0.5966 - val_accuracy: 0.7000\n",
            "Epoch 57/72\n",
            "1/1 [==============================] - ETA: 0s - loss: 0.5202 - accuracy: 0.7563\n",
            "Epoch 57: val_loss improved from 0.57939 to 0.57386, saving model to saved_models/weights.best.basic_cnn.hdf5\n",
            "1/1 [==============================] - 2s 2s/step - loss: 0.5202 - accuracy: 0.7563 - val_loss: 0.5739 - val_accuracy: 0.7250\n",
            "Epoch 58/72\n",
            "1/1 [==============================] - ETA: 0s - loss: 0.5472 - accuracy: 0.7312\n",
            "Epoch 58: val_loss did not improve from 0.57386\n",
            "1/1 [==============================] - 1s 1s/step - loss: 0.5472 - accuracy: 0.7312 - val_loss: 0.5856 - val_accuracy: 0.7750\n",
            "Epoch 59/72\n",
            "1/1 [==============================] - ETA: 0s - loss: 0.5169 - accuracy: 0.7500\n",
            "Epoch 59: val_loss improved from 0.57386 to 0.56427, saving model to saved_models/weights.best.basic_cnn.hdf5\n",
            "1/1 [==============================] - 1s 937ms/step - loss: 0.5169 - accuracy: 0.7500 - val_loss: 0.5643 - val_accuracy: 0.7250\n",
            "Epoch 60/72\n",
            "1/1 [==============================] - ETA: 0s - loss: 0.4927 - accuracy: 0.8125\n",
            "Epoch 60: val_loss did not improve from 0.56427\n",
            "1/1 [==============================] - 1s 887ms/step - loss: 0.4927 - accuracy: 0.8125 - val_loss: 0.5703 - val_accuracy: 0.7500\n",
            "Epoch 61/72\n",
            "1/1 [==============================] - ETA: 0s - loss: 0.5161 - accuracy: 0.7563\n",
            "Epoch 61: val_loss improved from 0.56427 to 0.55911, saving model to saved_models/weights.best.basic_cnn.hdf5\n",
            "1/1 [==============================] - 1s 956ms/step - loss: 0.5161 - accuracy: 0.7563 - val_loss: 0.5591 - val_accuracy: 0.7500\n",
            "Epoch 62/72\n",
            "1/1 [==============================] - ETA: 0s - loss: 0.4742 - accuracy: 0.8188\n",
            "Epoch 62: val_loss did not improve from 0.55911\n",
            "1/1 [==============================] - 1s 940ms/step - loss: 0.4742 - accuracy: 0.8188 - val_loss: 0.5596 - val_accuracy: 0.7750\n",
            "Epoch 63/72\n",
            "1/1 [==============================] - ETA: 0s - loss: 0.4839 - accuracy: 0.8062\n",
            "Epoch 63: val_loss improved from 0.55911 to 0.55637, saving model to saved_models/weights.best.basic_cnn.hdf5\n",
            "1/1 [==============================] - 1s 944ms/step - loss: 0.4839 - accuracy: 0.8062 - val_loss: 0.5564 - val_accuracy: 0.7750\n",
            "Epoch 64/72\n",
            "1/1 [==============================] - ETA: 0s - loss: 0.4897 - accuracy: 0.7750\n",
            "Epoch 64: val_loss improved from 0.55637 to 0.55369, saving model to saved_models/weights.best.basic_cnn.hdf5\n",
            "1/1 [==============================] - 1s 913ms/step - loss: 0.4897 - accuracy: 0.7750 - val_loss: 0.5537 - val_accuracy: 0.7750\n",
            "Epoch 65/72\n",
            "1/1 [==============================] - ETA: 0s - loss: 0.4981 - accuracy: 0.8188\n",
            "Epoch 65: val_loss improved from 0.55369 to 0.55035, saving model to saved_models/weights.best.basic_cnn.hdf5\n",
            "1/1 [==============================] - 1s 1s/step - loss: 0.4981 - accuracy: 0.8188 - val_loss: 0.5504 - val_accuracy: 0.7750\n",
            "Epoch 66/72\n",
            "1/1 [==============================] - ETA: 0s - loss: 0.4860 - accuracy: 0.7812\n",
            "Epoch 66: val_loss improved from 0.55035 to 0.54798, saving model to saved_models/weights.best.basic_cnn.hdf5\n",
            "1/1 [==============================] - 1s 930ms/step - loss: 0.4860 - accuracy: 0.7812 - val_loss: 0.5480 - val_accuracy: 0.7750\n",
            "Epoch 67/72\n",
            "1/1 [==============================] - ETA: 0s - loss: 0.4778 - accuracy: 0.7937\n",
            "Epoch 67: val_loss did not improve from 0.54798\n",
            "1/1 [==============================] - 1s 897ms/step - loss: 0.4778 - accuracy: 0.7937 - val_loss: 0.5481 - val_accuracy: 0.7750\n",
            "Epoch 68/72\n",
            "1/1 [==============================] - ETA: 0s - loss: 0.4579 - accuracy: 0.8313\n",
            "Epoch 68: val_loss improved from 0.54798 to 0.54562, saving model to saved_models/weights.best.basic_cnn.hdf5\n",
            "1/1 [==============================] - 1s 930ms/step - loss: 0.4579 - accuracy: 0.8313 - val_loss: 0.5456 - val_accuracy: 0.7750\n",
            "Epoch 69/72\n",
            "1/1 [==============================] - ETA: 0s - loss: 0.4652 - accuracy: 0.8125\n",
            "Epoch 69: val_loss improved from 0.54562 to 0.54282, saving model to saved_models/weights.best.basic_cnn.hdf5\n",
            "1/1 [==============================] - 1s 1s/step - loss: 0.4652 - accuracy: 0.8125 - val_loss: 0.5428 - val_accuracy: 0.7750\n",
            "Epoch 70/72\n",
            "1/1 [==============================] - ETA: 0s - loss: 0.4557 - accuracy: 0.8188\n",
            "Epoch 70: val_loss improved from 0.54282 to 0.54097, saving model to saved_models/weights.best.basic_cnn.hdf5\n",
            "1/1 [==============================] - 2s 2s/step - loss: 0.4557 - accuracy: 0.8188 - val_loss: 0.5410 - val_accuracy: 0.7750\n",
            "Epoch 71/72\n",
            "1/1 [==============================] - ETA: 0s - loss: 0.4554 - accuracy: 0.8062\n",
            "Epoch 71: val_loss improved from 0.54097 to 0.54010, saving model to saved_models/weights.best.basic_cnn.hdf5\n",
            "1/1 [==============================] - 1s 1s/step - loss: 0.4554 - accuracy: 0.8062 - val_loss: 0.5401 - val_accuracy: 0.7750\n",
            "Epoch 72/72\n",
            "1/1 [==============================] - ETA: 0s - loss: 0.4573 - accuracy: 0.8000\n",
            "Epoch 72: val_loss improved from 0.54010 to 0.53437, saving model to saved_models/weights.best.basic_cnn.hdf5\n",
            "1/1 [==============================] - 1s 944ms/step - loss: 0.4573 - accuracy: 0.8000 - val_loss: 0.5344 - val_accuracy: 0.7750\n",
            "Training completed in time:  0:01:22.723600\n"
          ]
        }
      ]
    },
    {
      "cell_type": "code",
      "source": [
        "import pandas as pd\n",
        "import numpy as np\n",
        "pd.DataFrame(history.history).plot(figsize=(8,5))\n",
        "plt.grid(True)\n",
        "plt.gca().set_ylim(0,1)\n",
        "plt.show()\n",
        "print('1. If the validation loss is greater(are both high:) than the training loss. The model is underfitting.')\n",
        "print('2. If the validation loss is greater than the training loss,The model is overfitting.')\n",
        "print('3. If the training loss and validation loss both decrease and stabilize at a specific point:the model is good fit')"
      ],
      "metadata": {
        "outputId": "961eb91b-12e9-42c2-ecfb-9de10ad909c8",
        "colab": {
          "base_uri": "https://localhost:8080/",
          "height": 503
        },
        "id": "LF8vywwAfBPk"
      },
      "execution_count": null,
      "outputs": [
        {
          "output_type": "display_data",
          "data": {
            "text/plain": [
              "<Figure size 800x500 with 1 Axes>"
            ],
            "image/png": "[encoded data removed]"
          },
          "metadata": {}
        },
        {
          "output_type": "stream",
          "name": "stdout",
          "text": [
            "1. If the validation loss is greater(are both high:) than the training loss. The model is underfitting.\n",
            "2. If the validation loss is greater than the training loss,The model is overfitting.\n",
            "3. If the training loss and validation loss both decrease and stabilize at a specific point:the model is good fit\n"
          ]
        }
      ]
    },
    {
      "cell_type": "code",
      "source": [
        "# Evaluating the model on the training and testing set\n",
        "score = model.evaluate(x_train, y_train, verbose=0)\n",
        "print(\"Training Accuracy: \", score[1]*100,\"%\")\n",
        "\n",
        "score = model.evaluate(x_test, y_test, verbose=0)\n",
        "print(\"Testing Accuracy: \", score[1]*100,\"%\")"
      ],
      "metadata": {
        "outputId": "375beaca-0e9e-453a-e850-203b6a291f25",
        "colab": {
          "base_uri": "https://localhost:8080/"
        },
        "id": "a87oPEL4fBPl"
      },
      "execution_count": null,
      "outputs": [
        {
          "output_type": "stream",
          "name": "stdout",
          "text": [
            "Training Accuracy:  83.74999761581421 %\n",
            "Testing Accuracy:  77.49999761581421 %\n"
          ]
        }
      ]
    },
    {
      "cell_type": "code",
      "source": [
        "loss, accuracy = model.evaluate(x_test, y_test, verbose=2)\n",
        "print(f'Test loss: {loss:.3f}, Test accuracy: {accuracy:.3f}')"
      ],
      "metadata": {
        "outputId": "3304e0c2-6f9d-4423-b5e3-fc7a2c6440b4",
        "colab": {
          "base_uri": "https://localhost:8080/"
        },
        "id": "SUbZVTkZfBPl"
      },
      "execution_count": null,
      "outputs": [
        {
          "output_type": "stream",
          "name": "stdout",
          "text": [
            "2/2 - 0s - loss: 0.5344 - accuracy: 0.7750 - 75ms/epoch - 37ms/step\n",
            "Test loss: 0.534, Test accuracy: 0.775\n"
          ]
        }
      ]
    },
    {
      "cell_type": "code",
      "source": [
        "from sklearn.metrics import precision_score,recall_score,f1_score\n",
        "\n",
        "# Predict class labels on test set\n",
        "y_pred = model.predict(x_test)\n",
        "y_pred = (y_pred > 0.5).astype(int)\n",
        "\n",
        "# Calculate precision score\n",
        "precision = precision_score(y_test, y_pred, average='weighted', zero_division=0)\n",
        "recall = recall_score(y_test, y_pred, average='weighted', zero_division=0)\n",
        "f1 = f1_score(y_test, y_pred, average='weighted', zero_division=0)\n",
        "\n",
        "# Print precision score\n",
        "print(\"Precision Score: \", precision)\n",
        "print(\"Recall: \", recall)\n",
        "print(\"F1 Score: \", f1)"
      ],
      "metadata": {
        "colab": {
          "base_uri": "https://localhost:8080/"
        },
        "outputId": "ee7964c6-98a4-4e90-c74e-98ae3303adf4",
        "id": "bGy4cl70fBPm"
      },
      "execution_count": null,
      "outputs": [
        {
          "output_type": "stream",
          "name": "stdout",
          "text": [
            "2/2 [==============================] - 0s 17ms/step\n",
            "Precision Score:  0.77625\n",
            "Recall:  0.775\n",
            "F1 Score:  0.775140712945591\n"
          ]
        }
      ]
    },
    {
      "cell_type": "code",
      "source": [
        "def print_prediction(file_name):\n",
        "    prediction_feature = extract_features(file_name) \n",
        "    prediction_feature = prediction_feature.reshape(1, num_rows, num_columns, num_channels)\n",
        "\n",
        "    predicted_vector = model.predict(prediction_feature)\n",
        "    predicted_class = le.inverse_transform(np.argmax(predicted_vector, axis=-1)) \n",
        "    print(\"The predicted class is:\", predicted_class[0], '\\n') \n",
        "\n",
        "    predicted_proba_vector = predicted_vector\n",
        "    for i in range(len(predicted_proba_vector[0])): \n",
        "        category = le.inverse_transform(np.array([i]))\n",
        "        print(category[0], \"\\t\\t : \", format(predicted_proba_vector[0][i]*100,'.32f'),\"%\")"
      ],
      "metadata": {
        "id": "VK0FNdX3fBPn"
      },
      "execution_count": null,
      "outputs": []
    },
    {
      "cell_type": "code",
      "source": [
        "from pydub import AudioSegment\n",
        "\n",
        "# set the file paths\n",
        "input_file = \"/content/sample-195283.mp3\"\n",
        "output_file = \"/content/output.wav\"\n",
        "\n",
        "audio = AudioSegment.from_file(input_file, format=\"mp3\")\n",
        "\n",
        "audio.export(output_file, format=\"wav\")"
      ],
      "metadata": {
        "outputId": "7ed83430-7dfe-422c-8498-d90d437d6f6b",
        "colab": {
          "base_uri": "https://localhost:8080/"
        },
        "id": "JNcvgyg3fBPo"
      },
      "execution_count": null,
      "outputs": [
        {
          "output_type": "execute_result",
          "data": {
            "text/plain": [
              "<_io.BufferedRandom name='/content/output.wav'>"
            ]
          },
          "metadata": {},
          "execution_count": 59
        }
      ]
    },
    {
      "cell_type": "code",
      "source": [
        "filename = '/content/output.wav' \n",
        "print_prediction(filename) "
      ],
      "metadata": {
        "outputId": "ad6aed07-a751-425c-ffdf-c8b5cbc2c56b",
        "colab": {
          "base_uri": "https://localhost:8080/"
        },
        "id": "uSdV2ADufBPo"
      },
      "execution_count": null,
      "outputs": [
        {
          "output_type": "stream",
          "name": "stdout",
          "text": [
            "1/1 [==============================] - 0s 37ms/step\n",
            "The predicted class is: female \n",
            "\n",
            "female \t\t :  60.60996651649475097656250000000000 %\n",
            "male \t\t :  39.39003050327301025390625000000000 %\n"
          ]
        }
      ]
    },
    {
      "cell_type": "code",
      "source": [],
      "metadata": {
        "id": "oGFTCEpyfBPr"
      },
      "execution_count": null,
      "outputs": []
    },
    {
      "cell_type": "markdown",
      "source": [
        "## **RMSProp optimizer**"
      ],
      "metadata": {
        "id": "6LzFf24cg7rP"
      }
    },
    {
      "cell_type": "code",
      "source": [
        "from keras.models import Sequential\n",
        "from keras.layers import Dense, Dropout, Activation, Flatten\n",
        "from keras.layers import Convolution2D, Conv2D, MaxPooling2D, GlobalAveragePooling2D\n",
        "from keras.utils import np_utils\n",
        "from sklearn import metrics \n",
        "from keras.optimizers import SGD\n",
        "from keras.optimizers import RMSprop\n",
        "\n",
        "\n",
        "num_rows = 40\n",
        "num_columns = 174\n",
        "num_channels = 1\n",
        "\n",
        "x_train = x_train.reshape(x_train.shape[0], num_rows, num_columns, num_channels)\n",
        "x_test = x_test.reshape(x_test.shape[0], num_rows, num_columns, num_channels)\n",
        "\n",
        "num_labels = yy.shape[1]\n",
        "filter_size = 2\n"
      ],
      "metadata": {
        "id": "IzSqb4OKg7rQ"
      },
      "execution_count": null,
      "outputs": []
    },
    {
      "cell_type": "code",
      "source": [],
      "metadata": {
        "id": "Ivt0_xINg827"
      },
      "execution_count": null,
      "outputs": []
    },
    {
      "cell_type": "markdown",
      "source": [],
      "metadata": {
        "id": "HeggIkx0gl9f"
      }
    },
    {
      "cell_type": "code",
      "source": [
        "\n",
        "# Construct model \n",
        "model = Sequential()\n",
        "model.add(Conv2D(filters=16, kernel_size=2, input_shape=(num_rows, num_columns, num_channels), activation='relu'))\n",
        "model.add(MaxPooling2D(pool_size=2))\n",
        "model.add(Dropout(0.2))\n",
        "\n",
        "model.add(Conv2D(filters=32, kernel_size=2, activation='relu'))\n",
        "model.add(MaxPooling2D(pool_size=2))\n",
        "model.add(Dropout(0.2))\n",
        "\n",
        "model.add(Conv2D(filters=64, kernel_size=2, activation='relu'))\n",
        "model.add(MaxPooling2D(pool_size=2))\n",
        "model.add(Dropout(0.2))\n",
        "\n",
        "model.add(Conv2D(filters=128, kernel_size=2, activation='relu'))\n",
        "model.add(MaxPooling2D(pool_size=2))\n",
        "model.add(Dropout(0.2))\n",
        "model.add(GlobalAveragePooling2D())\n",
        "\n",
        "model.add(Dense(num_labels, activation='softmax')) \n"
      ],
      "metadata": {
        "id": "A3aqRDMqgjoP"
      },
      "execution_count": null,
      "outputs": []
    },
    {
      "cell_type": "code",
      "source": [
        "# Compile the model\n",
        "model.compile(loss='categorical_crossentropy', metrics=['accuracy'], optimizer=RMSprop(lr=0.001)) "
      ],
      "metadata": {
        "colab": {
          "base_uri": "https://localhost:8080/"
        },
        "id": "ns4EztFugjoe",
        "outputId": "3c5d0d26-960e-4f28-d31f-2f579e2b7a70"
      },
      "execution_count": null,
      "outputs": [
        {
          "output_type": "stream",
          "name": "stderr",
          "text": [
            "/usr/local/lib/python3.9/dist-packages/keras/optimizers/legacy/rmsprop.py:143: UserWarning: The `lr` argument is deprecated, use `learning_rate` instead.\n",
            "  super().__init__(name, **kwargs)\n"
          ]
        }
      ]
    },
    {
      "cell_type": "code",
      "source": [
        "# Display model architecture summary \n",
        "model.summary()\n",
        "\n",
        "# Calculate pre-training accuracy \n",
        "score = model.evaluate(x_test, y_test, verbose=1)\n",
        "accuracy = 100*score[1]\n",
        "\n",
        "print(\"Pre-training accuracy: %.4f%%\" % accuracy)"
      ],
      "metadata": {
        "outputId": "ca8a1094-ec2e-49c7-99af-dc17f70f0ae2",
        "colab": {
          "base_uri": "https://localhost:8080/"
        },
        "id": "9kojYudYgjof"
      },
      "execution_count": null,
      "outputs": [
        {
          "output_type": "stream",
          "name": "stdout",
          "text": [
            "Model: \"sequential_4\"\n",
            "_________________________________________________________________\n",
            " Layer (type)                Output Shape              Param #   \n",
            "=================================================================\n",
            " conv2d_16 (Conv2D)          (None, 39, 173, 16)       80        \n",
            "                                                                 \n",
            " max_pooling2d_16 (MaxPoolin  (None, 19, 86, 16)       0         \n",
            " g2D)                                                            \n",
            "                                                                 \n",
            " dropout_16 (Dropout)        (None, 19, 86, 16)        0         \n",
            "                                                                 \n",
            " conv2d_17 (Conv2D)          (None, 18, 85, 32)        2080      \n",
            "                                                                 \n",
            " max_pooling2d_17 (MaxPoolin  (None, 9, 42, 32)        0         \n",
            " g2D)                                                            \n",
            "                                                                 \n",
            " dropout_17 (Dropout)        (None, 9, 42, 32)         0         \n",
            "                                                                 \n",
            " conv2d_18 (Conv2D)          (None, 8, 41, 64)         8256      \n",
            "                                                                 \n",
            " max_pooling2d_18 (MaxPoolin  (None, 4, 20, 64)        0         \n",
            " g2D)                                                            \n",
            "                                                                 \n",
            " dropout_18 (Dropout)        (None, 4, 20, 64)         0         \n",
            "                                                                 \n",
            " conv2d_19 (Conv2D)          (None, 3, 19, 128)        32896     \n",
            "                                                                 \n",
            " max_pooling2d_19 (MaxPoolin  (None, 1, 9, 128)        0         \n",
            " g2D)                                                            \n",
            "                                                                 \n",
            " dropout_19 (Dropout)        (None, 1, 9, 128)         0         \n",
            "                                                                 \n",
            " global_average_pooling2d_4   (None, 128)              0         \n",
            " (GlobalAveragePooling2D)                                        \n",
            "                                                                 \n",
            " dense_4 (Dense)             (None, 2)                 258       \n",
            "                                                                 \n",
            "=================================================================\n",
            "Total params: 43,570\n",
            "Trainable params: 43,570\n",
            "Non-trainable params: 0\n",
            "_________________________________________________________________\n",
            "2/2 [==============================] - 0s 21ms/step - loss: 9.2049 - accuracy: 0.4750\n",
            "Pre-training accuracy: 47.5000%\n"
          ]
        }
      ]
    },
    {
      "cell_type": "code",
      "source": [
        "from keras.callbacks import ModelCheckpoint \n",
        "from datetime import datetime \n",
        "\n",
        "num_epochs = 72\n",
        "num_batch_size = 256\n",
        "\n",
        "checkpointer = ModelCheckpoint(filepath='saved_models/weights.best.basic_cnn.hdf5', \n",
        "                               verbose=1, save_best_only=True)\n",
        "start = datetime.now()\n",
        "\n",
        "history=model.fit(x_train, y_train, batch_size=num_batch_size, epochs=num_epochs, validation_data=(x_test, y_test), callbacks=[checkpointer], verbose=1)\n",
        "\n",
        "\n",
        "duration = datetime.now() - start\n",
        "print(\"Training completed in time: \", duration)"
      ],
      "metadata": {
        "outputId": "3f94dda1-d9e2-4f02-cc9f-2347da7db44f",
        "colab": {
          "base_uri": "https://localhost:8080/"
        },
        "id": "c3-xkZoDgjof"
      },
      "execution_count": null,
      "outputs": [
        {
          "output_type": "stream",
          "name": "stdout",
          "text": [
            "Epoch 1/72\n",
            "1/1 [==============================] - ETA: 0s - loss: 12.7108 - accuracy: 0.5063\n",
            "Epoch 1: val_loss improved from inf to 18.85670, saving model to saved_models/weights.best.basic_cnn.hdf5\n",
            "1/1 [==============================] - 3s 3s/step - loss: 12.7108 - accuracy: 0.5063 - val_loss: 18.8567 - val_accuracy: 0.5250\n",
            "Epoch 2/72\n",
            "1/1 [==============================] - ETA: 0s - loss: 36.1496 - accuracy: 0.4938\n",
            "Epoch 2: val_loss improved from 18.85670 to 0.91788, saving model to saved_models/weights.best.basic_cnn.hdf5\n",
            "1/1 [==============================] - 1s 1s/step - loss: 36.1496 - accuracy: 0.4938 - val_loss: 0.9179 - val_accuracy: 0.5750\n",
            "Epoch 3/72\n",
            "1/1 [==============================] - ETA: 0s - loss: 3.6375 - accuracy: 0.4750\n",
            "Epoch 3: val_loss did not improve from 0.91788\n",
            "1/1 [==============================] - 1s 918ms/step - loss: 3.6375 - accuracy: 0.4750 - val_loss: 7.9411 - val_accuracy: 0.4750\n",
            "Epoch 4/72\n",
            "1/1 [==============================] - ETA: 0s - loss: 10.6932 - accuracy: 0.5063\n",
            "Epoch 4: val_loss improved from 0.91788 to 0.73444, saving model to saved_models/weights.best.basic_cnn.hdf5\n",
            "1/1 [==============================] - 1s 929ms/step - loss: 10.6932 - accuracy: 0.5063 - val_loss: 0.7344 - val_accuracy: 0.6250\n",
            "Epoch 5/72\n",
            "1/1 [==============================] - ETA: 0s - loss: 2.6750 - accuracy: 0.5250\n",
            "Epoch 5: val_loss did not improve from 0.73444\n",
            "1/1 [==============================] - 1s 917ms/step - loss: 2.6750 - accuracy: 0.5250 - val_loss: 5.3826 - val_accuracy: 0.4750\n",
            "Epoch 6/72\n",
            "1/1 [==============================] - ETA: 0s - loss: 6.8188 - accuracy: 0.5063\n",
            "Epoch 6: val_loss improved from 0.73444 to 0.70000, saving model to saved_models/weights.best.basic_cnn.hdf5\n",
            "1/1 [==============================] - 1s 956ms/step - loss: 6.8188 - accuracy: 0.5063 - val_loss: 0.7000 - val_accuracy: 0.6500\n",
            "Epoch 7/72\n",
            "1/1 [==============================] - ETA: 0s - loss: 2.6689 - accuracy: 0.5000\n",
            "Epoch 7: val_loss did not improve from 0.70000\n",
            "1/1 [==============================] - 1s 907ms/step - loss: 2.6689 - accuracy: 0.5000 - val_loss: 4.0552 - val_accuracy: 0.4750\n",
            "Epoch 8/72\n",
            "1/1 [==============================] - ETA: 0s - loss: 4.7440 - accuracy: 0.5063\n",
            "Epoch 8: val_loss did not improve from 0.70000\n",
            "1/1 [==============================] - 1s 907ms/step - loss: 4.7440 - accuracy: 0.5063 - val_loss: 0.7278 - val_accuracy: 0.6000\n",
            "Epoch 9/72\n",
            "1/1 [==============================] - ETA: 0s - loss: 2.6484 - accuracy: 0.5000\n",
            "Epoch 9: val_loss did not improve from 0.70000\n",
            "1/1 [==============================] - 1s 922ms/step - loss: 2.6484 - accuracy: 0.5000 - val_loss: 3.3809 - val_accuracy: 0.4750\n",
            "Epoch 10/72\n",
            "1/1 [==============================] - ETA: 0s - loss: 4.0605 - accuracy: 0.5063\n",
            "Epoch 10: val_loss improved from 0.70000 to 0.67956, saving model to saved_models/weights.best.basic_cnn.hdf5\n",
            "1/1 [==============================] - 1s 966ms/step - loss: 4.0605 - accuracy: 0.5063 - val_loss: 0.6796 - val_accuracy: 0.7000\n",
            "Epoch 11/72\n",
            "1/1 [==============================] - ETA: 0s - loss: 2.4295 - accuracy: 0.5250\n",
            "Epoch 11: val_loss did not improve from 0.67956\n",
            "1/1 [==============================] - 1s 912ms/step - loss: 2.4295 - accuracy: 0.5250 - val_loss: 2.9092 - val_accuracy: 0.4750\n",
            "Epoch 12/72\n",
            "1/1 [==============================] - ETA: 0s - loss: 3.5205 - accuracy: 0.5063\n",
            "Epoch 12: val_loss improved from 0.67956 to 0.65463, saving model to saved_models/weights.best.basic_cnn.hdf5\n",
            "1/1 [==============================] - 1s 1s/step - loss: 3.5205 - accuracy: 0.5063 - val_loss: 0.6546 - val_accuracy: 0.7250\n",
            "Epoch 13/72\n",
            "1/1 [==============================] - ETA: 0s - loss: 2.2369 - accuracy: 0.4750\n",
            "Epoch 13: val_loss did not improve from 0.65463\n",
            "1/1 [==============================] - 2s 2s/step - loss: 2.2369 - accuracy: 0.4750 - val_loss: 2.4911 - val_accuracy: 0.4750\n",
            "Epoch 14/72\n",
            "1/1 [==============================] - ETA: 0s - loss: 3.0136 - accuracy: 0.5188\n",
            "Epoch 14: val_loss improved from 0.65463 to 0.64758, saving model to saved_models/weights.best.basic_cnn.hdf5\n",
            "1/1 [==============================] - 1s 1s/step - loss: 3.0136 - accuracy: 0.5188 - val_loss: 0.6476 - val_accuracy: 0.7250\n",
            "Epoch 15/72\n",
            "1/1 [==============================] - ETA: 0s - loss: 1.9966 - accuracy: 0.5312\n",
            "Epoch 15: val_loss did not improve from 0.64758\n",
            "1/1 [==============================] - 1s 914ms/step - loss: 1.9966 - accuracy: 0.5312 - val_loss: 2.0153 - val_accuracy: 0.4750\n",
            "Epoch 16/72\n",
            "1/1 [==============================] - ETA: 0s - loss: 2.0949 - accuracy: 0.5375\n",
            "Epoch 16: val_loss improved from 0.64758 to 0.64505, saving model to saved_models/weights.best.basic_cnn.hdf5\n",
            "1/1 [==============================] - 1s 935ms/step - loss: 2.0949 - accuracy: 0.5375 - val_loss: 0.6451 - val_accuracy: 0.7500\n",
            "Epoch 17/72\n",
            "1/1 [==============================] - ETA: 0s - loss: 2.0238 - accuracy: 0.4938\n",
            "Epoch 17: val_loss did not improve from 0.64505\n",
            "1/1 [==============================] - 1s 890ms/step - loss: 2.0238 - accuracy: 0.4938 - val_loss: 2.0424 - val_accuracy: 0.4750\n",
            "Epoch 18/72\n",
            "1/1 [==============================] - ETA: 0s - loss: 2.3320 - accuracy: 0.5000\n",
            "Epoch 18: val_loss improved from 0.64505 to 0.63698, saving model to saved_models/weights.best.basic_cnn.hdf5\n",
            "1/1 [==============================] - 1s 920ms/step - loss: 2.3320 - accuracy: 0.5000 - val_loss: 0.6370 - val_accuracy: 0.7500\n",
            "Epoch 19/72\n",
            "1/1 [==============================] - ETA: 0s - loss: 1.7499 - accuracy: 0.5312\n",
            "Epoch 19: val_loss did not improve from 0.63698\n",
            "1/1 [==============================] - 1s 916ms/step - loss: 1.7499 - accuracy: 0.5312 - val_loss: 1.7354 - val_accuracy: 0.4750\n",
            "Epoch 20/72\n",
            "1/1 [==============================] - ETA: 0s - loss: 2.0227 - accuracy: 0.5000\n",
            "Epoch 20: val_loss improved from 0.63698 to 0.63369, saving model to saved_models/weights.best.basic_cnn.hdf5\n",
            "1/1 [==============================] - 1s 949ms/step - loss: 2.0227 - accuracy: 0.5000 - val_loss: 0.6337 - val_accuracy: 0.7500\n",
            "Epoch 21/72\n",
            "1/1 [==============================] - ETA: 0s - loss: 1.5928 - accuracy: 0.5312\n",
            "Epoch 21: val_loss did not improve from 0.63369\n",
            "1/1 [==============================] - 1s 882ms/step - loss: 1.5928 - accuracy: 0.5312 - val_loss: 1.5013 - val_accuracy: 0.4750\n",
            "Epoch 22/72\n",
            "1/1 [==============================] - ETA: 0s - loss: 1.5082 - accuracy: 0.5312\n",
            "Epoch 22: val_loss improved from 0.63369 to 0.61595, saving model to saved_models/weights.best.basic_cnn.hdf5\n",
            "1/1 [==============================] - 2s 2s/step - loss: 1.5082 - accuracy: 0.5312 - val_loss: 0.6160 - val_accuracy: 0.7250\n",
            "Epoch 23/72\n",
            "1/1 [==============================] - ETA: 0s - loss: 1.5053 - accuracy: 0.5750\n",
            "Epoch 23: val_loss did not improve from 0.61595\n",
            "1/1 [==============================] - 1s 890ms/step - loss: 1.5053 - accuracy: 0.5750 - val_loss: 1.3527 - val_accuracy: 0.4750\n",
            "Epoch 24/72\n",
            "1/1 [==============================] - ETA: 0s - loss: 1.5487 - accuracy: 0.5500\n",
            "Epoch 24: val_loss improved from 0.61595 to 0.60623, saving model to saved_models/weights.best.basic_cnn.hdf5\n",
            "1/1 [==============================] - 1s 1s/step - loss: 1.5487 - accuracy: 0.5500 - val_loss: 0.6062 - val_accuracy: 0.7500\n",
            "Epoch 25/72\n",
            "1/1 [==============================] - ETA: 0s - loss: 1.3115 - accuracy: 0.5562\n",
            "Epoch 25: val_loss did not improve from 0.60623\n",
            "1/1 [==============================] - 2s 2s/step - loss: 1.3115 - accuracy: 0.5562 - val_loss: 1.2241 - val_accuracy: 0.5000\n",
            "Epoch 26/72\n",
            "1/1 [==============================] - ETA: 0s - loss: 1.4037 - accuracy: 0.5250\n",
            "Epoch 26: val_loss improved from 0.60623 to 0.58417, saving model to saved_models/weights.best.basic_cnn.hdf5\n",
            "1/1 [==============================] - 1s 1s/step - loss: 1.4037 - accuracy: 0.5250 - val_loss: 0.5842 - val_accuracy: 0.7250\n",
            "Epoch 27/72\n",
            "1/1 [==============================] - ETA: 0s - loss: 1.1802 - accuracy: 0.5813\n",
            "Epoch 27: val_loss did not improve from 0.58417\n",
            "1/1 [==============================] - 1s 913ms/step - loss: 1.1802 - accuracy: 0.5813 - val_loss: 1.0768 - val_accuracy: 0.5000\n",
            "Epoch 28/72\n",
            "1/1 [==============================] - ETA: 0s - loss: 1.3333 - accuracy: 0.5437\n",
            "Epoch 28: val_loss improved from 0.58417 to 0.56305, saving model to saved_models/weights.best.basic_cnn.hdf5\n",
            "1/1 [==============================] - 1s 927ms/step - loss: 1.3333 - accuracy: 0.5437 - val_loss: 0.5630 - val_accuracy: 0.7250\n",
            "Epoch 29/72\n",
            "1/1 [==============================] - ETA: 0s - loss: 1.3586 - accuracy: 0.5813\n",
            "Epoch 29: val_loss did not improve from 0.56305\n",
            "1/1 [==============================] - 1s 930ms/step - loss: 1.3586 - accuracy: 0.5813 - val_loss: 1.0851 - val_accuracy: 0.5000\n",
            "Epoch 30/72\n",
            "1/1 [==============================] - ETA: 0s - loss: 1.3528 - accuracy: 0.5437\n",
            "Epoch 30: val_loss improved from 0.56305 to 0.55375, saving model to saved_models/weights.best.basic_cnn.hdf5\n",
            "1/1 [==============================] - 1s 945ms/step - loss: 1.3528 - accuracy: 0.5437 - val_loss: 0.5537 - val_accuracy: 0.7500\n",
            "Epoch 31/72\n",
            "1/1 [==============================] - ETA: 0s - loss: 1.1149 - accuracy: 0.6062\n",
            "Epoch 31: val_loss did not improve from 0.55375\n",
            "1/1 [==============================] - 1s 905ms/step - loss: 1.1149 - accuracy: 0.6062 - val_loss: 0.9363 - val_accuracy: 0.5250\n",
            "Epoch 32/72\n",
            "1/1 [==============================] - ETA: 0s - loss: 1.1073 - accuracy: 0.5938\n",
            "Epoch 32: val_loss improved from 0.55375 to 0.54490, saving model to saved_models/weights.best.basic_cnn.hdf5\n",
            "1/1 [==============================] - 1s 930ms/step - loss: 1.1073 - accuracy: 0.5938 - val_loss: 0.5449 - val_accuracy: 0.7750\n",
            "Epoch 33/72\n",
            "1/1 [==============================] - ETA: 0s - loss: 1.0455 - accuracy: 0.5938\n",
            "Epoch 33: val_loss did not improve from 0.54490\n",
            "1/1 [==============================] - 1s 896ms/step - loss: 1.0455 - accuracy: 0.5938 - val_loss: 0.9179 - val_accuracy: 0.5500\n",
            "Epoch 34/72\n",
            "1/1 [==============================] - ETA: 0s - loss: 1.0927 - accuracy: 0.5875\n",
            "Epoch 34: val_loss improved from 0.54490 to 0.51194, saving model to saved_models/weights.best.basic_cnn.hdf5\n",
            "1/1 [==============================] - 1s 937ms/step - loss: 1.0927 - accuracy: 0.5875 - val_loss: 0.5119 - val_accuracy: 0.7750\n",
            "Epoch 35/72\n",
            "1/1 [==============================] - ETA: 0s - loss: 0.8961 - accuracy: 0.6313\n",
            "Epoch 35: val_loss did not improve from 0.51194\n",
            "1/1 [==============================] - 1s 894ms/step - loss: 0.8961 - accuracy: 0.6313 - val_loss: 0.8003 - val_accuracy: 0.5500\n",
            "Epoch 36/72\n",
            "1/1 [==============================] - ETA: 0s - loss: 0.8701 - accuracy: 0.6062\n",
            "Epoch 36: val_loss improved from 0.51194 to 0.49790, saving model to saved_models/weights.best.basic_cnn.hdf5\n",
            "1/1 [==============================] - 1s 903ms/step - loss: 0.8701 - accuracy: 0.6062 - val_loss: 0.4979 - val_accuracy: 0.7750\n",
            "Epoch 37/72\n",
            "1/1 [==============================] - ETA: 0s - loss: 0.8527 - accuracy: 0.6500\n",
            "Epoch 37: val_loss did not improve from 0.49790\n",
            "1/1 [==============================] - 1s 1s/step - loss: 0.8527 - accuracy: 0.6500 - val_loss: 0.6625 - val_accuracy: 0.6750\n",
            "Epoch 38/72\n",
            "1/1 [==============================] - ETA: 0s - loss: 0.8000 - accuracy: 0.6938\n",
            "Epoch 38: val_loss improved from 0.49790 to 0.48234, saving model to saved_models/weights.best.basic_cnn.hdf5\n",
            "1/1 [==============================] - 2s 2s/step - loss: 0.8000 - accuracy: 0.6938 - val_loss: 0.4823 - val_accuracy: 0.8000\n",
            "Epoch 39/72\n",
            "1/1 [==============================] - ETA: 0s - loss: 0.7122 - accuracy: 0.6875\n",
            "Epoch 39: val_loss did not improve from 0.48234\n",
            "1/1 [==============================] - 1s 924ms/step - loss: 0.7122 - accuracy: 0.6875 - val_loss: 0.6431 - val_accuracy: 0.6500\n",
            "Epoch 40/72\n",
            "1/1 [==============================] - ETA: 0s - loss: 0.7241 - accuracy: 0.6750\n",
            "Epoch 40: val_loss improved from 0.48234 to 0.46389, saving model to saved_models/weights.best.basic_cnn.hdf5\n",
            "1/1 [==============================] - 1s 931ms/step - loss: 0.7241 - accuracy: 0.6750 - val_loss: 0.4639 - val_accuracy: 0.7500\n",
            "Epoch 41/72\n",
            "1/1 [==============================] - ETA: 0s - loss: 0.7073 - accuracy: 0.7437\n",
            "Epoch 41: val_loss did not improve from 0.46389\n",
            "1/1 [==============================] - 1s 910ms/step - loss: 0.7073 - accuracy: 0.7437 - val_loss: 0.5969 - val_accuracy: 0.7000\n",
            "Epoch 42/72\n",
            "1/1 [==============================] - ETA: 0s - loss: 0.5882 - accuracy: 0.7437\n",
            "Epoch 42: val_loss improved from 0.46389 to 0.45315, saving model to saved_models/weights.best.basic_cnn.hdf5\n",
            "1/1 [==============================] - 1s 926ms/step - loss: 0.5882 - accuracy: 0.7437 - val_loss: 0.4532 - val_accuracy: 0.7750\n",
            "Epoch 43/72\n",
            "1/1 [==============================] - ETA: 0s - loss: 0.6246 - accuracy: 0.7375\n",
            "Epoch 43: val_loss did not improve from 0.45315\n",
            "1/1 [==============================] - 1s 915ms/step - loss: 0.6246 - accuracy: 0.7375 - val_loss: 0.6017 - val_accuracy: 0.7500\n",
            "Epoch 44/72\n",
            "1/1 [==============================] - ETA: 0s - loss: 0.5858 - accuracy: 0.7375\n",
            "Epoch 44: val_loss improved from 0.45315 to 0.45111, saving model to saved_models/weights.best.basic_cnn.hdf5\n",
            "1/1 [==============================] - 1s 927ms/step - loss: 0.5858 - accuracy: 0.7375 - val_loss: 0.4511 - val_accuracy: 0.8250\n",
            "Epoch 45/72\n",
            "1/1 [==============================] - ETA: 0s - loss: 0.6799 - accuracy: 0.7437\n",
            "Epoch 45: val_loss did not improve from 0.45111\n",
            "1/1 [==============================] - 1s 910ms/step - loss: 0.6799 - accuracy: 0.7437 - val_loss: 0.5944 - val_accuracy: 0.7500\n",
            "Epoch 46/72\n",
            "1/1 [==============================] - ETA: 0s - loss: 0.6478 - accuracy: 0.6875\n",
            "Epoch 46: val_loss improved from 0.45111 to 0.44036, saving model to saved_models/weights.best.basic_cnn.hdf5\n",
            "1/1 [==============================] - 1s 906ms/step - loss: 0.6478 - accuracy: 0.6875 - val_loss: 0.4404 - val_accuracy: 0.8250\n",
            "Epoch 47/72\n",
            "1/1 [==============================] - ETA: 0s - loss: 0.5517 - accuracy: 0.8062\n",
            "Epoch 47: val_loss did not improve from 0.44036\n",
            "1/1 [==============================] - 1s 904ms/step - loss: 0.5517 - accuracy: 0.8062 - val_loss: 0.5710 - val_accuracy: 0.7750\n",
            "Epoch 48/72\n",
            "1/1 [==============================] - ETA: 0s - loss: 0.5587 - accuracy: 0.7500\n",
            "Epoch 48: val_loss improved from 0.44036 to 0.43805, saving model to saved_models/weights.best.basic_cnn.hdf5\n",
            "1/1 [==============================] - 1s 944ms/step - loss: 0.5587 - accuracy: 0.7500 - val_loss: 0.4381 - val_accuracy: 0.8000\n",
            "Epoch 49/72\n",
            "1/1 [==============================] - ETA: 0s - loss: 0.5338 - accuracy: 0.7937\n",
            "Epoch 49: val_loss did not improve from 0.43805\n",
            "1/1 [==============================] - 1s 1s/step - loss: 0.5338 - accuracy: 0.7937 - val_loss: 0.5557 - val_accuracy: 0.7750\n",
            "Epoch 50/72\n",
            "1/1 [==============================] - ETA: 0s - loss: 0.6288 - accuracy: 0.7750\n",
            "Epoch 50: val_loss improved from 0.43805 to 0.43429, saving model to saved_models/weights.best.basic_cnn.hdf5\n",
            "1/1 [==============================] - 2s 2s/step - loss: 0.6288 - accuracy: 0.7750 - val_loss: 0.4343 - val_accuracy: 0.8250\n",
            "Epoch 51/72\n",
            "1/1 [==============================] - ETA: 0s - loss: 0.5490 - accuracy: 0.7937\n",
            "Epoch 51: val_loss did not improve from 0.43429\n",
            "1/1 [==============================] - 1s 1s/step - loss: 0.5490 - accuracy: 0.7937 - val_loss: 0.5632 - val_accuracy: 0.7750\n",
            "Epoch 52/72\n",
            "1/1 [==============================] - ETA: 0s - loss: 0.5387 - accuracy: 0.7875\n",
            "Epoch 52: val_loss improved from 0.43429 to 0.43231, saving model to saved_models/weights.best.basic_cnn.hdf5\n",
            "1/1 [==============================] - 1s 932ms/step - loss: 0.5387 - accuracy: 0.7875 - val_loss: 0.4323 - val_accuracy: 0.8250\n",
            "Epoch 53/72\n",
            "1/1 [==============================] - ETA: 0s - loss: 0.6363 - accuracy: 0.7750\n",
            "Epoch 53: val_loss did not improve from 0.43231\n",
            "1/1 [==============================] - 1s 895ms/step - loss: 0.6363 - accuracy: 0.7750 - val_loss: 0.5956 - val_accuracy: 0.7750\n",
            "Epoch 54/72\n",
            "1/1 [==============================] - ETA: 0s - loss: 0.6204 - accuracy: 0.7250\n",
            "Epoch 54: val_loss did not improve from 0.43231\n",
            "1/1 [==============================] - 1s 916ms/step - loss: 0.6204 - accuracy: 0.7250 - val_loss: 0.4335 - val_accuracy: 0.8250\n",
            "Epoch 55/72\n",
            "1/1 [==============================] - ETA: 0s - loss: 0.6317 - accuracy: 0.7688\n",
            "Epoch 55: val_loss did not improve from 0.43231\n",
            "1/1 [==============================] - 1s 905ms/step - loss: 0.6317 - accuracy: 0.7688 - val_loss: 0.5696 - val_accuracy: 0.7750\n",
            "Epoch 56/72\n",
            "1/1 [==============================] - ETA: 0s - loss: 0.5132 - accuracy: 0.7563\n",
            "Epoch 56: val_loss improved from 0.43231 to 0.41931, saving model to saved_models/weights.best.basic_cnn.hdf5\n",
            "1/1 [==============================] - 1s 935ms/step - loss: 0.5132 - accuracy: 0.7563 - val_loss: 0.4193 - val_accuracy: 0.8250\n",
            "Epoch 57/72\n",
            "1/1 [==============================] - ETA: 0s - loss: 0.5820 - accuracy: 0.8000\n",
            "Epoch 57: val_loss did not improve from 0.41931\n",
            "1/1 [==============================] - 1s 903ms/step - loss: 0.5820 - accuracy: 0.8000 - val_loss: 0.6075 - val_accuracy: 0.7750\n",
            "Epoch 58/72\n",
            "1/1 [==============================] - ETA: 0s - loss: 0.6157 - accuracy: 0.7500\n",
            "Epoch 58: val_loss did not improve from 0.41931\n",
            "1/1 [==============================] - 1s 907ms/step - loss: 0.6157 - accuracy: 0.7500 - val_loss: 0.4284 - val_accuracy: 0.8500\n",
            "Epoch 59/72\n",
            "1/1 [==============================] - ETA: 0s - loss: 0.6569 - accuracy: 0.7437\n",
            "Epoch 59: val_loss did not improve from 0.41931\n",
            "1/1 [==============================] - 1s 892ms/step - loss: 0.6569 - accuracy: 0.7437 - val_loss: 0.5968 - val_accuracy: 0.7750\n",
            "Epoch 60/72\n",
            "1/1 [==============================] - ETA: 0s - loss: 0.6061 - accuracy: 0.7312\n",
            "Epoch 60: val_loss did not improve from 0.41931\n",
            "1/1 [==============================] - 1s 908ms/step - loss: 0.6061 - accuracy: 0.7312 - val_loss: 0.4210 - val_accuracy: 0.8250\n",
            "Epoch 61/72\n",
            "1/1 [==============================] - ETA: 0s - loss: 0.5499 - accuracy: 0.7937\n",
            "Epoch 61: val_loss did not improve from 0.41931\n",
            "1/1 [==============================] - 1s 1s/step - loss: 0.5499 - accuracy: 0.7937 - val_loss: 0.5433 - val_accuracy: 0.7750\n",
            "Epoch 62/72\n",
            "1/1 [==============================] - ETA: 0s - loss: 0.4739 - accuracy: 0.8250\n",
            "Epoch 62: val_loss improved from 0.41931 to 0.41454, saving model to saved_models/weights.best.basic_cnn.hdf5\n",
            "1/1 [==============================] - 1s 1s/step - loss: 0.4739 - accuracy: 0.8250 - val_loss: 0.4145 - val_accuracy: 0.8000\n",
            "Epoch 63/72\n",
            "1/1 [==============================] - ETA: 0s - loss: 0.4789 - accuracy: 0.8000\n",
            "Epoch 63: val_loss did not improve from 0.41454\n",
            "1/1 [==============================] - 2s 2s/step - loss: 0.4789 - accuracy: 0.8000 - val_loss: 0.4938 - val_accuracy: 0.7750\n",
            "Epoch 64/72\n",
            "1/1 [==============================] - ETA: 0s - loss: 0.4323 - accuracy: 0.8438\n",
            "Epoch 64: val_loss did not improve from 0.41454\n",
            "1/1 [==============================] - 1s 1s/step - loss: 0.4323 - accuracy: 0.8438 - val_loss: 0.4274 - val_accuracy: 0.7750\n",
            "Epoch 65/72\n",
            "1/1 [==============================] - ETA: 0s - loss: 0.4257 - accuracy: 0.8250\n",
            "Epoch 65: val_loss did not improve from 0.41454\n",
            "1/1 [==============================] - 1s 894ms/step - loss: 0.4257 - accuracy: 0.8250 - val_loss: 0.4477 - val_accuracy: 0.8000\n",
            "Epoch 66/72\n",
            "1/1 [==============================] - ETA: 0s - loss: 0.4233 - accuracy: 0.8313\n",
            "Epoch 66: val_loss did not improve from 0.41454\n",
            "1/1 [==============================] - 1s 926ms/step - loss: 0.4233 - accuracy: 0.8313 - val_loss: 0.4266 - val_accuracy: 0.7750\n",
            "Epoch 67/72\n",
            "1/1 [==============================] - ETA: 0s - loss: 0.4027 - accuracy: 0.8313\n",
            "Epoch 67: val_loss did not improve from 0.41454\n",
            "1/1 [==============================] - 1s 1s/step - loss: 0.4027 - accuracy: 0.8313 - val_loss: 0.4608 - val_accuracy: 0.7750\n",
            "Epoch 68/72\n",
            "1/1 [==============================] - ETA: 0s - loss: 0.4273 - accuracy: 0.8062\n",
            "Epoch 68: val_loss improved from 0.41454 to 0.40938, saving model to saved_models/weights.best.basic_cnn.hdf5\n",
            "1/1 [==============================] - 1s 1s/step - loss: 0.4273 - accuracy: 0.8062 - val_loss: 0.4094 - val_accuracy: 0.8000\n",
            "Epoch 69/72\n",
            "1/1 [==============================] - ETA: 0s - loss: 0.4155 - accuracy: 0.8188\n",
            "Epoch 69: val_loss did not improve from 0.40938\n",
            "1/1 [==============================] - 1s 936ms/step - loss: 0.4155 - accuracy: 0.8188 - val_loss: 0.5136 - val_accuracy: 0.7750\n",
            "Epoch 70/72\n",
            "1/1 [==============================] - ETA: 0s - loss: 0.4975 - accuracy: 0.7750\n",
            "Epoch 70: val_loss improved from 0.40938 to 0.40637, saving model to saved_models/weights.best.basic_cnn.hdf5\n",
            "1/1 [==============================] - 1s 970ms/step - loss: 0.4975 - accuracy: 0.7750 - val_loss: 0.4064 - val_accuracy: 0.8250\n",
            "Epoch 71/72\n",
            "1/1 [==============================] - ETA: 0s - loss: 0.4974 - accuracy: 0.8062\n",
            "Epoch 71: val_loss did not improve from 0.40637\n",
            "1/1 [==============================] - 1s 899ms/step - loss: 0.4974 - accuracy: 0.8062 - val_loss: 0.5246 - val_accuracy: 0.7750\n",
            "Epoch 72/72\n",
            "1/1 [==============================] - ETA: 0s - loss: 0.4966 - accuracy: 0.7812\n",
            "Epoch 72: val_loss did not improve from 0.40637\n",
            "1/1 [==============================] - 1s 913ms/step - loss: 0.4966 - accuracy: 0.7812 - val_loss: 0.4066 - val_accuracy: 0.8000\n",
            "Training completed in time:  0:01:23.462478\n"
          ]
        }
      ]
    },
    {
      "cell_type": "code",
      "source": [
        "import pandas as pd\n",
        "import numpy as np\n",
        "pd.DataFrame(history.history).plot(figsize=(8,5))\n",
        "plt.grid(True)\n",
        "plt.gca().set_ylim(0,1)\n",
        "plt.show()\n",
        "print('1. If the validation loss is greater(are both high:) than the training loss. The model is underfitting.')\n",
        "print('2. If the validation loss is greater than the training loss,The model is overfitting.')\n",
        "print('3. If the training loss and validation loss both decrease and stabilize at a specific point:the model is good fit')"
      ],
      "metadata": {
        "outputId": "00049c8d-b7c0-4bc4-f2df-265f1c70f442",
        "colab": {
          "base_uri": "https://localhost:8080/",
          "height": 503
        },
        "id": "daEGgrO5gjof"
      },
      "execution_count": null,
      "outputs": [
        {
          "output_type": "display_data",
          "data": {
            "text/plain": [
              "<Figure size 800x500 with 1 Axes>"
            ],
            "image/png": "[encoded data removed]"
          },
          "metadata": {}
        },
        {
          "output_type": "stream",
          "name": "stdout",
          "text": [
            "1. If the validation loss is greater(are both high:) than the training loss. The model is underfitting.\n",
            "2. If the validation loss is greater than the training loss,The model is overfitting.\n",
            "3. If the training loss and validation loss both decrease and stabilize at a specific point:the model is good fit\n"
          ]
        }
      ]
    },
    {
      "cell_type": "code",
      "source": [
        "# Evaluating the model on the training and testing set\n",
        "score = model.evaluate(x_train, y_train, verbose=0)\n",
        "print(\"Training Accuracy: \", score[1]*100,\"%\")\n",
        "\n",
        "score = model.evaluate(x_test, y_test, verbose=0)\n",
        "print(\"Testing Accuracy: \", score[1]*100,\"%\")"
      ],
      "metadata": {
        "outputId": "055113ed-e09c-4732-a3e9-56e6abf892ff",
        "colab": {
          "base_uri": "https://localhost:8080/"
        },
        "id": "soHxPGlBgjog"
      },
      "execution_count": null,
      "outputs": [
        {
          "output_type": "stream",
          "name": "stdout",
          "text": [
            "Training Accuracy:  86.2500011920929 %\n",
            "Testing Accuracy:  80.0000011920929 %\n"
          ]
        }
      ]
    },
    {
      "cell_type": "code",
      "source": [
        "loss, accuracy = model.evaluate(x_test, y_test, verbose=2)\n",
        "print(f'Test loss: {loss:.3f}, Test accuracy: {accuracy:.3f}')"
      ],
      "metadata": {
        "outputId": "4d9bd3ee-afdb-48cf-9a25-e5ce51fbf747",
        "colab": {
          "base_uri": "https://localhost:8080/"
        },
        "id": "ylqcBkKFgjog"
      },
      "execution_count": null,
      "outputs": [
        {
          "output_type": "stream",
          "name": "stdout",
          "text": [
            "2/2 - 0s - loss: 0.4066 - accuracy: 0.8000 - 79ms/epoch - 40ms/step\n",
            "Test loss: 0.407, Test accuracy: 0.800\n"
          ]
        }
      ]
    },
    {
      "cell_type": "code",
      "source": [
        "from sklearn.metrics import precision_score,recall_score,f1_score\n",
        "\n",
        "# Predict class labels on test set\n",
        "y_pred = model.predict(x_test)\n",
        "y_pred = (y_pred > 0.5).astype(int)\n",
        "\n",
        "# Calculate precision score\n",
        "precision = precision_score(y_test, y_pred, average='weighted', zero_division=0)\n",
        "recall = recall_score(y_test, y_pred, average='weighted', zero_division=0)\n",
        "f1 = f1_score(y_test, y_pred, average='weighted', zero_division=0)\n",
        "\n",
        "# Print precision score\n",
        "print(\"Precision Score: \", precision)\n",
        "print(\"Recall: \", recall)\n",
        "print(\"F1 Score: \", f1)"
      ],
      "metadata": {
        "colab": {
          "base_uri": "https://localhost:8080/"
        },
        "outputId": "de7e842d-4825-4d7a-e508-a7882ca9864a",
        "id": "omyqXEMCgjog"
      },
      "execution_count": null,
      "outputs": [
        {
          "output_type": "stream",
          "name": "stdout",
          "text": [
            "2/2 [==============================] - 0s 17ms/step\n",
            "Precision Score:  0.8106666666666668\n",
            "Recall:  0.8\n",
            "F1 Score:  0.7969309462915601\n"
          ]
        }
      ]
    },
    {
      "cell_type": "code",
      "source": [
        "def print_prediction(file_name):\n",
        "    prediction_feature = extract_features(file_name) \n",
        "    prediction_feature = prediction_feature.reshape(1, num_rows, num_columns, num_channels)\n",
        "\n",
        "    predicted_vector = model.predict(prediction_feature)\n",
        "    predicted_class = le.inverse_transform(np.argmax(predicted_vector, axis=-1)) \n",
        "    print(\"The predicted class is:\", predicted_class[0], '\\n') \n",
        "\n",
        "    predicted_proba_vector = predicted_vector\n",
        "    for i in range(len(predicted_proba_vector[0])): \n",
        "        category = le.inverse_transform(np.array([i]))\n",
        "        print(category[0], \"\\t\\t : \", format(predicted_proba_vector[0][i]*100,'.32f'),\"%\")"
      ],
      "metadata": {
        "id": "0PEtfV7ugjog"
      },
      "execution_count": null,
      "outputs": []
    },
    {
      "cell_type": "code",
      "source": [
        "from pydub import AudioSegment\n",
        "\n",
        "# set the file paths\n",
        "input_file = \"/content/sample-195283.mp3\"\n",
        "output_file = \"/content/output.wav\"\n",
        "\n",
        "audio = AudioSegment.from_file(input_file, format=\"mp3\")\n",
        "\n",
        "audio.export(output_file, format=\"wav\")"
      ],
      "metadata": {
        "outputId": "b99bfe5c-84f6-400e-8ee4-76f03838c645",
        "colab": {
          "base_uri": "https://localhost:8080/"
        },
        "id": "gtCluM3ogjoh"
      },
      "execution_count": null,
      "outputs": [
        {
          "output_type": "execute_result",
          "data": {
            "text/plain": [
              "<_io.BufferedRandom name='/content/output.wav'>"
            ]
          },
          "metadata": {},
          "execution_count": 71
        }
      ]
    },
    {
      "cell_type": "code",
      "source": [
        "filename = '/content/output.wav' \n",
        "print_prediction(filename) "
      ],
      "metadata": {
        "outputId": "39ef1d38-df9c-4134-8a20-9b166c1eea4b",
        "colab": {
          "base_uri": "https://localhost:8080/"
        },
        "id": "WG63rogygjoh"
      },
      "execution_count": null,
      "outputs": [
        {
          "output_type": "stream",
          "name": "stdout",
          "text": [
            "1/1 [==============================] - 0s 38ms/step\n",
            "The predicted class is: female \n",
            "\n",
            "female \t\t :  72.72157073020935058593750000000000 %\n",
            "male \t\t :  27.27842926979064941406250000000000 %\n"
          ]
        }
      ]
    },
    {
      "cell_type": "code",
      "source": [],
      "metadata": {
        "id": "GOQo-1Jcgjoh"
      },
      "execution_count": null,
      "outputs": []
    },
    {
      "cell_type": "markdown",
      "source": [
        "## **Adagrad Optimizer**"
      ],
      "metadata": {
        "id": "sxCP79ArhjgF"
      }
    },
    {
      "cell_type": "code",
      "source": [
        "from keras.models import Sequential\n",
        "from keras.layers import Dense, Dropout, Activation, Flatten\n",
        "from keras.layers import Convolution2D, Conv2D, MaxPooling2D, GlobalAveragePooling2D\n",
        "from keras.utils import np_utils\n",
        "from sklearn import metrics \n",
        "from keras.optimizers import SGD\n",
        "from keras.optimizers import RMSprop\n",
        "from keras.optimizers import Adagrad\n",
        "\n",
        "\n",
        "num_rows = 40\n",
        "num_columns = 174\n",
        "num_channels = 1\n",
        "\n",
        "x_train = x_train.reshape(x_train.shape[0], num_rows, num_columns, num_channels)\n",
        "x_test = x_test.reshape(x_test.shape[0], num_rows, num_columns, num_channels)\n",
        "\n",
        "num_labels = yy.shape[1]\n",
        "filter_size = 2\n"
      ],
      "metadata": {
        "id": "RDXMSGV_hjgF"
      },
      "execution_count": null,
      "outputs": []
    },
    {
      "cell_type": "code",
      "source": [],
      "metadata": {
        "id": "aAB64kG5hjgG"
      },
      "execution_count": null,
      "outputs": []
    },
    {
      "cell_type": "markdown",
      "source": [],
      "metadata": {
        "id": "xH3A3zx6hjgG"
      }
    },
    {
      "cell_type": "code",
      "source": [
        "\n",
        "# Construct model \n",
        "model = Sequential()\n",
        "model.add(Conv2D(filters=16, kernel_size=2, input_shape=(num_rows, num_columns, num_channels), activation='relu'))\n",
        "model.add(MaxPooling2D(pool_size=2))\n",
        "model.add(Dropout(0.2))\n",
        "\n",
        "model.add(Conv2D(filters=32, kernel_size=2, activation='relu'))\n",
        "model.add(MaxPooling2D(pool_size=2))\n",
        "model.add(Dropout(0.2))\n",
        "\n",
        "model.add(Conv2D(filters=64, kernel_size=2, activation='relu'))\n",
        "model.add(MaxPooling2D(pool_size=2))\n",
        "model.add(Dropout(0.2))\n",
        "\n",
        "model.add(Conv2D(filters=128, kernel_size=2, activation='relu'))\n",
        "model.add(MaxPooling2D(pool_size=2))\n",
        "model.add(Dropout(0.2))\n",
        "model.add(GlobalAveragePooling2D())\n",
        "\n",
        "model.add(Dense(num_labels, activation='softmax')) \n"
      ],
      "metadata": {
        "id": "qFk-FYAqhjgG"
      },
      "execution_count": null,
      "outputs": []
    },
    {
      "cell_type": "code",
      "source": [
        "# Compile the model\n",
        "model.compile(loss='categorical_crossentropy', metrics=['accuracy'], optimizer=Adagrad(lr=0.01)) "
      ],
      "metadata": {
        "id": "GgqRZNJ8hjgG",
        "outputId": "cffe9182-6da8-47cb-985c-8cd4e0b08a1e",
        "colab": {
          "base_uri": "https://localhost:8080/"
        }
      },
      "execution_count": null,
      "outputs": [
        {
          "output_type": "stream",
          "name": "stderr",
          "text": [
            "/usr/local/lib/python3.9/dist-packages/keras/optimizers/legacy/adagrad.py:84: UserWarning: The `lr` argument is deprecated, use `learning_rate` instead.\n",
            "  super().__init__(name, **kwargs)\n"
          ]
        }
      ]
    },
    {
      "cell_type": "code",
      "source": [
        "# Display model architecture summary \n",
        "model.summary()\n",
        "\n",
        "# Calculate pre-training accuracy \n",
        "score = model.evaluate(x_test, y_test, verbose=1)\n",
        "accuracy = 100*score[1]\n",
        "\n",
        "print(\"Pre-training accuracy: %.4f%%\" % accuracy)"
      ],
      "metadata": {
        "id": "XR2grYEfhjgH",
        "outputId": "6076096f-4eb0-4ce4-a890-6194bfb6ab0d",
        "colab": {
          "base_uri": "https://localhost:8080/"
        }
      },
      "execution_count": null,
      "outputs": [
        {
          "output_type": "stream",
          "name": "stdout",
          "text": [
            "Model: \"sequential_6\"\n",
            "_________________________________________________________________\n",
            " Layer (type)                Output Shape              Param #   \n",
            "=================================================================\n",
            " conv2d_24 (Conv2D)          (None, 39, 173, 16)       80        \n",
            "                                                                 \n",
            " max_pooling2d_24 (MaxPoolin  (None, 19, 86, 16)       0         \n",
            " g2D)                                                            \n",
            "                                                                 \n",
            " dropout_24 (Dropout)        (None, 19, 86, 16)        0         \n",
            "                                                                 \n",
            " conv2d_25 (Conv2D)          (None, 18, 85, 32)        2080      \n",
            "                                                                 \n",
            " max_pooling2d_25 (MaxPoolin  (None, 9, 42, 32)        0         \n",
            " g2D)                                                            \n",
            "                                                                 \n",
            " dropout_25 (Dropout)        (None, 9, 42, 32)         0         \n",
            "                                                                 \n",
            " conv2d_26 (Conv2D)          (None, 8, 41, 64)         8256      \n",
            "                                                                 \n",
            " max_pooling2d_26 (MaxPoolin  (None, 4, 20, 64)        0         \n",
            " g2D)                                                            \n",
            "                                                                 \n",
            " dropout_26 (Dropout)        (None, 4, 20, 64)         0         \n",
            "                                                                 \n",
            " conv2d_27 (Conv2D)          (None, 3, 19, 128)        32896     \n",
            "                                                                 \n",
            " max_pooling2d_27 (MaxPoolin  (None, 1, 9, 128)        0         \n",
            " g2D)                                                            \n",
            "                                                                 \n",
            " dropout_27 (Dropout)        (None, 1, 9, 128)         0         \n",
            "                                                                 \n",
            " global_average_pooling2d_6   (None, 128)              0         \n",
            " (GlobalAveragePooling2D)                                        \n",
            "                                                                 \n",
            " dense_6 (Dense)             (None, 2)                 258       \n",
            "                                                                 \n",
            "=================================================================\n",
            "Total params: 43,570\n",
            "Trainable params: 43,570\n",
            "Non-trainable params: 0\n",
            "_________________________________________________________________\n",
            "2/2 [==============================] - 1s 35ms/step - loss: 6.5060 - accuracy: 0.4750\n",
            "Pre-training accuracy: 47.5000%\n"
          ]
        }
      ]
    },
    {
      "cell_type": "code",
      "source": [
        "from keras.callbacks import ModelCheckpoint \n",
        "from datetime import datetime \n",
        "\n",
        "num_epochs = 72\n",
        "num_batch_size = 256\n",
        "\n",
        "checkpointer = ModelCheckpoint(filepath='saved_models/weights.best.basic_cnn.hdf5', \n",
        "                               verbose=1, save_best_only=True)\n",
        "start = datetime.now()\n",
        "\n",
        "history=model.fit(x_train, y_train, batch_size=num_batch_size, epochs=num_epochs, validation_data=(x_test, y_test), callbacks=[checkpointer], verbose=1)\n",
        "\n",
        "\n",
        "duration = datetime.now() - start\n",
        "print(\"Training completed in time: \", duration)"
      ],
      "metadata": {
        "id": "yppLNwpChjgH",
        "outputId": "d14f9254-1c4f-4eca-858b-2ff9aa9c75a0",
        "colab": {
          "base_uri": "https://localhost:8080/"
        }
      },
      "execution_count": null,
      "outputs": [
        {
          "output_type": "stream",
          "name": "stdout",
          "text": [
            "Epoch 1/72\n",
            "1/1 [==============================] - ETA: 0s - loss: 15.3151 - accuracy: 0.5063\n",
            "Epoch 1: val_loss improved from inf to 53.12366, saving model to saved_models/weights.best.basic_cnn.hdf5\n",
            "1/1 [==============================] - 2s 2s/step - loss: 15.3151 - accuracy: 0.5063 - val_loss: 53.1237 - val_accuracy: 0.5250\n",
            "Epoch 2/72\n",
            "1/1 [==============================] - ETA: 0s - loss: 95.9145 - accuracy: 0.4938\n",
            "Epoch 2: val_loss improved from 53.12366 to 6.41293, saving model to saved_models/weights.best.basic_cnn.hdf5\n",
            "1/1 [==============================] - 1s 978ms/step - loss: 95.9145 - accuracy: 0.4938 - val_loss: 6.4129 - val_accuracy: 0.5250\n",
            "Epoch 3/72\n",
            "1/1 [==============================] - ETA: 0s - loss: 13.6635 - accuracy: 0.4938\n",
            "Epoch 3: val_loss improved from 6.41293 to 1.05455, saving model to saved_models/weights.best.basic_cnn.hdf5\n",
            "1/1 [==============================] - 2s 2s/step - loss: 13.6635 - accuracy: 0.4938 - val_loss: 1.0545 - val_accuracy: 0.5250\n",
            "Epoch 4/72\n",
            "1/1 [==============================] - ETA: 0s - loss: 3.3044 - accuracy: 0.4938\n",
            "Epoch 4: val_loss did not improve from 1.05455\n",
            "1/1 [==============================] - 2s 2s/step - loss: 3.3044 - accuracy: 0.4938 - val_loss: 3.4740 - val_accuracy: 0.4750\n",
            "Epoch 5/72\n",
            "1/1 [==============================] - ETA: 0s - loss: 4.4604 - accuracy: 0.5063\n",
            "Epoch 5: val_loss improved from 1.05455 to 0.95413, saving model to saved_models/weights.best.basic_cnn.hdf5\n",
            "1/1 [==============================] - 2s 2s/step - loss: 4.4604 - accuracy: 0.5063 - val_loss: 0.9541 - val_accuracy: 0.5250\n",
            "Epoch 6/72\n",
            "1/1 [==============================] - ETA: 0s - loss: 2.7257 - accuracy: 0.4938\n",
            "Epoch 6: val_loss did not improve from 0.95413\n",
            "1/1 [==============================] - 2s 2s/step - loss: 2.7257 - accuracy: 0.4938 - val_loss: 1.5359 - val_accuracy: 0.4750\n",
            "Epoch 7/72\n",
            "1/1 [==============================] - ETA: 0s - loss: 1.8590 - accuracy: 0.5125\n",
            "Epoch 7: val_loss improved from 0.95413 to 0.76851, saving model to saved_models/weights.best.basic_cnn.hdf5\n",
            "1/1 [==============================] - 3s 3s/step - loss: 1.8590 - accuracy: 0.5125 - val_loss: 0.7685 - val_accuracy: 0.5250\n",
            "Epoch 8/72\n",
            "1/1 [==============================] - ETA: 0s - loss: 1.8604 - accuracy: 0.5063\n",
            "Epoch 8: val_loss did not improve from 0.76851\n",
            "1/1 [==============================] - 2s 2s/step - loss: 1.8604 - accuracy: 0.5063 - val_loss: 1.2404 - val_accuracy: 0.4750\n",
            "Epoch 9/72\n",
            "1/1 [==============================] - ETA: 0s - loss: 1.3939 - accuracy: 0.5125\n",
            "Epoch 9: val_loss improved from 0.76851 to 0.69655, saving model to saved_models/weights.best.basic_cnn.hdf5\n",
            "1/1 [==============================] - 2s 2s/step - loss: 1.3939 - accuracy: 0.5125 - val_loss: 0.6965 - val_accuracy: 0.6250\n",
            "Epoch 10/72\n",
            "1/1 [==============================] - ETA: 0s - loss: 1.3464 - accuracy: 0.4938\n",
            "Epoch 10: val_loss did not improve from 0.69655\n",
            "1/1 [==============================] - 2s 2s/step - loss: 1.3464 - accuracy: 0.4938 - val_loss: 1.0382 - val_accuracy: 0.4750\n",
            "Epoch 11/72\n",
            "1/1 [==============================] - ETA: 0s - loss: 1.0637 - accuracy: 0.5250\n",
            "Epoch 11: val_loss improved from 0.69655 to 0.68883, saving model to saved_models/weights.best.basic_cnn.hdf5\n",
            "1/1 [==============================] - 2s 2s/step - loss: 1.0637 - accuracy: 0.5250 - val_loss: 0.6888 - val_accuracy: 0.5000\n",
            "Epoch 12/72\n",
            "1/1 [==============================] - ETA: 0s - loss: 1.1350 - accuracy: 0.4812\n",
            "Epoch 12: val_loss did not improve from 0.68883\n",
            "1/1 [==============================] - 2s 2s/step - loss: 1.1350 - accuracy: 0.4812 - val_loss: 0.9359 - val_accuracy: 0.4750\n",
            "Epoch 13/72\n",
            "1/1 [==============================] - ETA: 0s - loss: 0.8657 - accuracy: 0.5312\n",
            "Epoch 13: val_loss did not improve from 0.68883\n",
            "1/1 [==============================] - 2s 2s/step - loss: 0.8657 - accuracy: 0.5312 - val_loss: 0.6951 - val_accuracy: 0.5250\n",
            "Epoch 14/72\n",
            "1/1 [==============================] - ETA: 0s - loss: 0.8825 - accuracy: 0.5063\n",
            "Epoch 14: val_loss did not improve from 0.68883\n",
            "1/1 [==============================] - 3s 3s/step - loss: 0.8825 - accuracy: 0.5063 - val_loss: 0.8424 - val_accuracy: 0.4750\n",
            "Epoch 15/72\n",
            "1/1 [==============================] - ETA: 0s - loss: 0.8854 - accuracy: 0.4875\n",
            "Epoch 15: val_loss did not improve from 0.68883\n",
            "1/1 [==============================] - 2s 2s/step - loss: 0.8854 - accuracy: 0.4875 - val_loss: 0.7000 - val_accuracy: 0.5250\n",
            "Epoch 16/72\n",
            "1/1 [==============================] - ETA: 0s - loss: 0.8216 - accuracy: 0.5688\n",
            "Epoch 16: val_loss did not improve from 0.68883\n",
            "1/1 [==============================] - 2s 2s/step - loss: 0.8216 - accuracy: 0.5688 - val_loss: 0.7802 - val_accuracy: 0.4750\n",
            "Epoch 17/72\n",
            "1/1 [==============================] - ETA: 0s - loss: 0.8497 - accuracy: 0.5500\n",
            "Epoch 17: val_loss did not improve from 0.68883\n",
            "1/1 [==============================] - 2s 2s/step - loss: 0.8497 - accuracy: 0.5500 - val_loss: 0.6895 - val_accuracy: 0.5500\n",
            "Epoch 18/72\n",
            "1/1 [==============================] - ETA: 0s - loss: 0.8328 - accuracy: 0.4938\n",
            "Epoch 18: val_loss did not improve from 0.68883\n",
            "1/1 [==============================] - 2s 2s/step - loss: 0.8328 - accuracy: 0.4938 - val_loss: 0.7866 - val_accuracy: 0.4750\n",
            "Epoch 19/72\n",
            "1/1 [==============================] - ETA: 0s - loss: 0.8070 - accuracy: 0.5562\n",
            "Epoch 19: val_loss improved from 0.68883 to 0.68582, saving model to saved_models/weights.best.basic_cnn.hdf5\n",
            "1/1 [==============================] - 2s 2s/step - loss: 0.8070 - accuracy: 0.5562 - val_loss: 0.6858 - val_accuracy: 0.5250\n",
            "Epoch 20/72\n",
            "1/1 [==============================] - ETA: 0s - loss: 0.8373 - accuracy: 0.5750\n",
            "Epoch 20: val_loss did not improve from 0.68582\n",
            "1/1 [==============================] - 3s 3s/step - loss: 0.8373 - accuracy: 0.5750 - val_loss: 0.7473 - val_accuracy: 0.4750\n",
            "Epoch 21/72\n",
            "1/1 [==============================] - ETA: 0s - loss: 0.8050 - accuracy: 0.5750\n",
            "Epoch 21: val_loss improved from 0.68582 to 0.68414, saving model to saved_models/weights.best.basic_cnn.hdf5\n",
            "1/1 [==============================] - 3s 3s/step - loss: 0.8050 - accuracy: 0.5750 - val_loss: 0.6841 - val_accuracy: 0.5250\n",
            "Epoch 22/72\n",
            "1/1 [==============================] - ETA: 0s - loss: 0.7539 - accuracy: 0.5250\n",
            "Epoch 22: val_loss did not improve from 0.68414\n",
            "1/1 [==============================] - 2s 2s/step - loss: 0.7539 - accuracy: 0.5250 - val_loss: 0.7347 - val_accuracy: 0.4750\n",
            "Epoch 23/72\n",
            "1/1 [==============================] - ETA: 0s - loss: 0.7509 - accuracy: 0.5938\n",
            "Epoch 23: val_loss improved from 0.68414 to 0.68040, saving model to saved_models/weights.best.basic_cnn.hdf5\n",
            "1/1 [==============================] - 2s 2s/step - loss: 0.7509 - accuracy: 0.5938 - val_loss: 0.6804 - val_accuracy: 0.5250\n",
            "Epoch 24/72\n",
            "1/1 [==============================] - ETA: 0s - loss: 0.7546 - accuracy: 0.5437\n",
            "Epoch 24: val_loss did not improve from 0.68040\n",
            "1/1 [==============================] - 1s 877ms/step - loss: 0.7546 - accuracy: 0.5437 - val_loss: 0.7286 - val_accuracy: 0.4750\n",
            "Epoch 25/72\n",
            "1/1 [==============================] - ETA: 0s - loss: 0.7770 - accuracy: 0.5500\n",
            "Epoch 25: val_loss improved from 0.68040 to 0.67399, saving model to saved_models/weights.best.basic_cnn.hdf5\n",
            "1/1 [==============================] - 1s 931ms/step - loss: 0.7770 - accuracy: 0.5500 - val_loss: 0.6740 - val_accuracy: 0.5500\n",
            "Epoch 26/72\n",
            "1/1 [==============================] - ETA: 0s - loss: 0.7343 - accuracy: 0.5562\n",
            "Epoch 26: val_loss did not improve from 0.67399\n",
            "1/1 [==============================] - 1s 912ms/step - loss: 0.7343 - accuracy: 0.5562 - val_loss: 0.7102 - val_accuracy: 0.5000\n",
            "Epoch 27/72\n",
            "1/1 [==============================] - ETA: 0s - loss: 0.7358 - accuracy: 0.5188\n",
            "Epoch 27: val_loss improved from 0.67399 to 0.66958, saving model to saved_models/weights.best.basic_cnn.hdf5\n",
            "1/1 [==============================] - 1s 917ms/step - loss: 0.7358 - accuracy: 0.5188 - val_loss: 0.6696 - val_accuracy: 0.5750\n",
            "Epoch 28/72\n",
            "1/1 [==============================] - ETA: 0s - loss: 0.7285 - accuracy: 0.5938\n",
            "Epoch 28: val_loss did not improve from 0.66958\n",
            "1/1 [==============================] - 1s 933ms/step - loss: 0.7285 - accuracy: 0.5938 - val_loss: 0.7040 - val_accuracy: 0.5000\n",
            "Epoch 29/72\n",
            "1/1 [==============================] - ETA: 0s - loss: 0.7480 - accuracy: 0.6062\n",
            "Epoch 29: val_loss improved from 0.66958 to 0.66115, saving model to saved_models/weights.best.basic_cnn.hdf5\n",
            "1/1 [==============================] - 1s 1s/step - loss: 0.7480 - accuracy: 0.6062 - val_loss: 0.6611 - val_accuracy: 0.6000\n",
            "Epoch 30/72\n",
            "1/1 [==============================] - ETA: 0s - loss: 0.7214 - accuracy: 0.5688\n",
            "Epoch 30: val_loss did not improve from 0.66115\n",
            "1/1 [==============================] - 2s 2s/step - loss: 0.7214 - accuracy: 0.5688 - val_loss: 0.7063 - val_accuracy: 0.5000\n",
            "Epoch 31/72\n",
            "1/1 [==============================] - ETA: 0s - loss: 0.7453 - accuracy: 0.5500\n",
            "Epoch 31: val_loss improved from 0.66115 to 0.65885, saving model to saved_models/weights.best.basic_cnn.hdf5\n",
            "1/1 [==============================] - 1s 1s/step - loss: 0.7453 - accuracy: 0.5500 - val_loss: 0.6589 - val_accuracy: 0.6250\n",
            "Epoch 32/72\n",
            "1/1 [==============================] - ETA: 0s - loss: 0.7368 - accuracy: 0.5250\n",
            "Epoch 32: val_loss did not improve from 0.65885\n",
            "1/1 [==============================] - 1s 896ms/step - loss: 0.7368 - accuracy: 0.5250 - val_loss: 0.6906 - val_accuracy: 0.5000\n",
            "Epoch 33/72\n",
            "1/1 [==============================] - ETA: 0s - loss: 0.7208 - accuracy: 0.5938\n",
            "Epoch 33: val_loss did not improve from 0.65885\n",
            "1/1 [==============================] - 1s 882ms/step - loss: 0.7208 - accuracy: 0.5938 - val_loss: 0.6596 - val_accuracy: 0.5750\n",
            "Epoch 34/72\n",
            "1/1 [==============================] - ETA: 0s - loss: 0.6761 - accuracy: 0.6500\n",
            "Epoch 34: val_loss did not improve from 0.65885\n",
            "1/1 [==============================] - 1s 903ms/step - loss: 0.6761 - accuracy: 0.6500 - val_loss: 0.6662 - val_accuracy: 0.5500\n",
            "Epoch 35/72\n",
            "1/1 [==============================] - ETA: 0s - loss: 0.6566 - accuracy: 0.6125\n",
            "Epoch 35: val_loss did not improve from 0.65885\n",
            "1/1 [==============================] - 1s 912ms/step - loss: 0.6566 - accuracy: 0.6125 - val_loss: 0.6672 - val_accuracy: 0.5500\n",
            "Epoch 36/72\n",
            "1/1 [==============================] - ETA: 0s - loss: 0.7082 - accuracy: 0.5813\n",
            "Epoch 36: val_loss did not improve from 0.65885\n",
            "1/1 [==============================] - 1s 909ms/step - loss: 0.7082 - accuracy: 0.5813 - val_loss: 0.6590 - val_accuracy: 0.5750\n",
            "Epoch 37/72\n",
            "1/1 [==============================] - ETA: 0s - loss: 0.6848 - accuracy: 0.6062\n",
            "Epoch 37: val_loss improved from 0.65885 to 0.65720, saving model to saved_models/weights.best.basic_cnn.hdf5\n",
            "1/1 [==============================] - 1s 943ms/step - loss: 0.6848 - accuracy: 0.6062 - val_loss: 0.6572 - val_accuracy: 0.5750\n",
            "Epoch 38/72\n",
            "1/1 [==============================] - ETA: 0s - loss: 0.6248 - accuracy: 0.6500\n",
            "Epoch 38: val_loss improved from 0.65720 to 0.65613, saving model to saved_models/weights.best.basic_cnn.hdf5\n",
            "1/1 [==============================] - 1s 931ms/step - loss: 0.6248 - accuracy: 0.6500 - val_loss: 0.6561 - val_accuracy: 0.5750\n",
            "Epoch 39/72\n",
            "1/1 [==============================] - ETA: 0s - loss: 0.5912 - accuracy: 0.6750\n",
            "Epoch 39: val_loss improved from 0.65613 to 0.64872, saving model to saved_models/weights.best.basic_cnn.hdf5\n",
            "1/1 [==============================] - 1s 930ms/step - loss: 0.5912 - accuracy: 0.6750 - val_loss: 0.6487 - val_accuracy: 0.6250\n",
            "Epoch 40/72\n",
            "1/1 [==============================] - ETA: 0s - loss: 0.6715 - accuracy: 0.6187\n",
            "Epoch 40: val_loss did not improve from 0.64872\n",
            "1/1 [==============================] - 1s 908ms/step - loss: 0.6715 - accuracy: 0.6187 - val_loss: 0.6532 - val_accuracy: 0.5750\n",
            "Epoch 41/72\n",
            "1/1 [==============================] - ETA: 0s - loss: 0.5877 - accuracy: 0.6625\n",
            "Epoch 41: val_loss improved from 0.64872 to 0.64334, saving model to saved_models/weights.best.basic_cnn.hdf5\n",
            "1/1 [==============================] - 1s 924ms/step - loss: 0.5877 - accuracy: 0.6625 - val_loss: 0.6433 - val_accuracy: 0.6250\n",
            "Epoch 42/72\n",
            "1/1 [==============================] - ETA: 0s - loss: 0.5870 - accuracy: 0.6875\n",
            "Epoch 42: val_loss did not improve from 0.64334\n",
            "1/1 [==============================] - 1s 1s/step - loss: 0.5870 - accuracy: 0.6875 - val_loss: 0.6506 - val_accuracy: 0.5750\n",
            "Epoch 43/72\n",
            "1/1 [==============================] - ETA: 0s - loss: 0.6585 - accuracy: 0.5688\n",
            "Epoch 43: val_loss improved from 0.64334 to 0.64188, saving model to saved_models/weights.best.basic_cnn.hdf5\n",
            "1/1 [==============================] - 2s 2s/step - loss: 0.6585 - accuracy: 0.5688 - val_loss: 0.6419 - val_accuracy: 0.6250\n",
            "Epoch 44/72\n",
            "1/1 [==============================] - ETA: 0s - loss: 0.6554 - accuracy: 0.6125\n",
            "Epoch 44: val_loss did not improve from 0.64188\n",
            "1/1 [==============================] - 1s 940ms/step - loss: 0.6554 - accuracy: 0.6125 - val_loss: 0.6446 - val_accuracy: 0.6250\n",
            "Epoch 45/72\n",
            "1/1 [==============================] - ETA: 0s - loss: 0.6369 - accuracy: 0.6500\n",
            "Epoch 45: val_loss improved from 0.64188 to 0.63666, saving model to saved_models/weights.best.basic_cnn.hdf5\n",
            "1/1 [==============================] - 1s 918ms/step - loss: 0.6369 - accuracy: 0.6500 - val_loss: 0.6367 - val_accuracy: 0.6000\n",
            "Epoch 46/72\n",
            "1/1 [==============================] - ETA: 0s - loss: 0.6266 - accuracy: 0.6250\n",
            "Epoch 46: val_loss did not improve from 0.63666\n",
            "1/1 [==============================] - 1s 925ms/step - loss: 0.6266 - accuracy: 0.6250 - val_loss: 0.6392 - val_accuracy: 0.6250\n",
            "Epoch 47/72\n",
            "1/1 [==============================] - ETA: 0s - loss: 0.6554 - accuracy: 0.6375\n",
            "Epoch 47: val_loss improved from 0.63666 to 0.62735, saving model to saved_models/weights.best.basic_cnn.hdf5\n",
            "1/1 [==============================] - 1s 938ms/step - loss: 0.6554 - accuracy: 0.6375 - val_loss: 0.6273 - val_accuracy: 0.7000\n",
            "Epoch 48/72\n",
            "1/1 [==============================] - ETA: 0s - loss: 0.6326 - accuracy: 0.6812\n",
            "Epoch 48: val_loss did not improve from 0.62735\n",
            "1/1 [==============================] - 1s 925ms/step - loss: 0.6326 - accuracy: 0.6812 - val_loss: 0.6361 - val_accuracy: 0.6250\n",
            "Epoch 49/72\n",
            "1/1 [==============================] - ETA: 0s - loss: 0.5818 - accuracy: 0.6687\n",
            "Epoch 49: val_loss improved from 0.62735 to 0.62316, saving model to saved_models/weights.best.basic_cnn.hdf5\n",
            "1/1 [==============================] - 1s 927ms/step - loss: 0.5818 - accuracy: 0.6687 - val_loss: 0.6232 - val_accuracy: 0.7000\n",
            "Epoch 50/72\n",
            "1/1 [==============================] - ETA: 0s - loss: 0.6284 - accuracy: 0.6313\n",
            "Epoch 50: val_loss did not improve from 0.62316\n",
            "1/1 [==============================] - 1s 907ms/step - loss: 0.6284 - accuracy: 0.6313 - val_loss: 0.6299 - val_accuracy: 0.6000\n",
            "Epoch 51/72\n",
            "1/1 [==============================] - ETA: 0s - loss: 0.6034 - accuracy: 0.6500\n",
            "Epoch 51: val_loss improved from 0.62316 to 0.61788, saving model to saved_models/weights.best.basic_cnn.hdf5\n",
            "1/1 [==============================] - 1s 939ms/step - loss: 0.6034 - accuracy: 0.6500 - val_loss: 0.6179 - val_accuracy: 0.6750\n",
            "Epoch 52/72\n",
            "1/1 [==============================] - ETA: 0s - loss: 0.6237 - accuracy: 0.6750\n",
            "Epoch 52: val_loss did not improve from 0.61788\n",
            "1/1 [==============================] - 1s 1s/step - loss: 0.6237 - accuracy: 0.6750 - val_loss: 0.6240 - val_accuracy: 0.6500\n",
            "Epoch 53/72\n",
            "1/1 [==============================] - ETA: 0s - loss: 0.6311 - accuracy: 0.6500\n",
            "Epoch 53: val_loss improved from 0.61788 to 0.61470, saving model to saved_models/weights.best.basic_cnn.hdf5\n",
            "1/1 [==============================] - 1s 936ms/step - loss: 0.6311 - accuracy: 0.6500 - val_loss: 0.6147 - val_accuracy: 0.7000\n",
            "Epoch 54/72\n",
            "1/1 [==============================] - ETA: 0s - loss: 0.6294 - accuracy: 0.6313\n",
            "Epoch 54: val_loss did not improve from 0.61470\n",
            "1/1 [==============================] - 1s 1s/step - loss: 0.6294 - accuracy: 0.6313 - val_loss: 0.6188 - val_accuracy: 0.6750\n",
            "Epoch 55/72\n",
            "1/1 [==============================] - ETA: 0s - loss: 0.6288 - accuracy: 0.6187\n",
            "Epoch 55: val_loss improved from 0.61470 to 0.60708, saving model to saved_models/weights.best.basic_cnn.hdf5\n",
            "1/1 [==============================] - 2s 2s/step - loss: 0.6288 - accuracy: 0.6187 - val_loss: 0.6071 - val_accuracy: 0.6500\n",
            "Epoch 56/72\n",
            "1/1 [==============================] - ETA: 0s - loss: 0.6019 - accuracy: 0.7000\n",
            "Epoch 56: val_loss did not improve from 0.60708\n",
            "1/1 [==============================] - 1s 1s/step - loss: 0.6019 - accuracy: 0.7000 - val_loss: 0.6151 - val_accuracy: 0.6500\n",
            "Epoch 57/72\n",
            "1/1 [==============================] - ETA: 0s - loss: 0.6271 - accuracy: 0.6250\n",
            "Epoch 57: val_loss improved from 0.60708 to 0.60283, saving model to saved_models/weights.best.basic_cnn.hdf5\n",
            "1/1 [==============================] - 1s 953ms/step - loss: 0.6271 - accuracy: 0.6250 - val_loss: 0.6028 - val_accuracy: 0.6750\n",
            "Epoch 58/72\n",
            "1/1 [==============================] - ETA: 0s - loss: 0.6222 - accuracy: 0.6562\n",
            "Epoch 58: val_loss did not improve from 0.60283\n",
            "1/1 [==============================] - 1s 896ms/step - loss: 0.6222 - accuracy: 0.6562 - val_loss: 0.6056 - val_accuracy: 0.7000\n",
            "Epoch 59/72\n",
            "1/1 [==============================] - ETA: 0s - loss: 0.5547 - accuracy: 0.7312\n",
            "Epoch 59: val_loss improved from 0.60283 to 0.59552, saving model to saved_models/weights.best.basic_cnn.hdf5\n",
            "1/1 [==============================] - 1s 945ms/step - loss: 0.5547 - accuracy: 0.7312 - val_loss: 0.5955 - val_accuracy: 0.7000\n",
            "Epoch 60/72\n",
            "1/1 [==============================] - ETA: 0s - loss: 0.6245 - accuracy: 0.6375\n",
            "Epoch 60: val_loss did not improve from 0.59552\n",
            "1/1 [==============================] - 1s 904ms/step - loss: 0.6245 - accuracy: 0.6375 - val_loss: 0.6120 - val_accuracy: 0.6500\n",
            "Epoch 61/72\n",
            "1/1 [==============================] - ETA: 0s - loss: 0.6735 - accuracy: 0.6125\n",
            "Epoch 61: val_loss improved from 0.59552 to 0.58811, saving model to saved_models/weights.best.basic_cnn.hdf5\n",
            "1/1 [==============================] - 1s 930ms/step - loss: 0.6735 - accuracy: 0.6125 - val_loss: 0.5881 - val_accuracy: 0.7000\n",
            "Epoch 62/72\n",
            "1/1 [==============================] - ETA: 0s - loss: 0.5543 - accuracy: 0.7063\n",
            "Epoch 62: val_loss did not improve from 0.58811\n",
            "1/1 [==============================] - 1s 927ms/step - loss: 0.5543 - accuracy: 0.7063 - val_loss: 0.6076 - val_accuracy: 0.6500\n",
            "Epoch 63/72\n",
            "1/1 [==============================] - ETA: 0s - loss: 0.5611 - accuracy: 0.7000\n",
            "Epoch 63: val_loss improved from 0.58811 to 0.58145, saving model to saved_models/weights.best.basic_cnn.hdf5\n",
            "1/1 [==============================] - 1s 931ms/step - loss: 0.5611 - accuracy: 0.7000 - val_loss: 0.5815 - val_accuracy: 0.7250\n",
            "Epoch 64/72\n",
            "1/1 [==============================] - ETA: 0s - loss: 0.5929 - accuracy: 0.6938\n",
            "Epoch 64: val_loss did not improve from 0.58145\n",
            "1/1 [==============================] - 1s 898ms/step - loss: 0.5929 - accuracy: 0.6938 - val_loss: 0.6070 - val_accuracy: 0.6250\n",
            "Epoch 65/72\n",
            "1/1 [==============================] - ETA: 0s - loss: 0.6386 - accuracy: 0.6750\n",
            "Epoch 65: val_loss improved from 0.58145 to 0.57739, saving model to saved_models/weights.best.basic_cnn.hdf5\n",
            "1/1 [==============================] - 1s 954ms/step - loss: 0.6386 - accuracy: 0.6750 - val_loss: 0.5774 - val_accuracy: 0.7000\n",
            "Epoch 66/72\n",
            "1/1 [==============================] - ETA: 0s - loss: 0.6284 - accuracy: 0.7250\n",
            "Epoch 66: val_loss did not improve from 0.57739\n",
            "1/1 [==============================] - 1s 908ms/step - loss: 0.6284 - accuracy: 0.7250 - val_loss: 0.6088 - val_accuracy: 0.6500\n",
            "Epoch 67/72\n",
            "1/1 [==============================] - ETA: 0s - loss: 0.6053 - accuracy: 0.6875\n",
            "Epoch 67: val_loss improved from 0.57739 to 0.57093, saving model to saved_models/weights.best.basic_cnn.hdf5\n",
            "1/1 [==============================] - 1s 1s/step - loss: 0.6053 - accuracy: 0.6875 - val_loss: 0.5709 - val_accuracy: 0.7000\n",
            "Epoch 68/72\n",
            "1/1 [==============================] - ETA: 0s - loss: 0.6049 - accuracy: 0.6938\n",
            "Epoch 68: val_loss did not improve from 0.57093\n",
            "1/1 [==============================] - 2s 2s/step - loss: 0.6049 - accuracy: 0.6938 - val_loss: 0.6224 - val_accuracy: 0.6250\n",
            "Epoch 69/72\n",
            "1/1 [==============================] - ETA: 0s - loss: 0.6229 - accuracy: 0.6313\n",
            "Epoch 69: val_loss improved from 0.57093 to 0.56540, saving model to saved_models/weights.best.basic_cnn.hdf5\n",
            "1/1 [==============================] - 1s 1s/step - loss: 0.6229 - accuracy: 0.6313 - val_loss: 0.5654 - val_accuracy: 0.7000\n",
            "Epoch 70/72\n",
            "1/1 [==============================] - ETA: 0s - loss: 0.6488 - accuracy: 0.6625\n",
            "Epoch 70: val_loss did not improve from 0.56540\n",
            "1/1 [==============================] - 1s 890ms/step - loss: 0.6488 - accuracy: 0.6625 - val_loss: 0.6099 - val_accuracy: 0.6500\n",
            "Epoch 71/72\n",
            "1/1 [==============================] - ETA: 0s - loss: 0.6278 - accuracy: 0.6687\n",
            "Epoch 71: val_loss improved from 0.56540 to 0.55756, saving model to saved_models/weights.best.basic_cnn.hdf5\n",
            "1/1 [==============================] - 1s 917ms/step - loss: 0.6278 - accuracy: 0.6687 - val_loss: 0.5576 - val_accuracy: 0.7000\n",
            "Epoch 72/72\n",
            "1/1 [==============================] - ETA: 0s - loss: 0.5236 - accuracy: 0.7250\n",
            "Epoch 72: val_loss did not improve from 0.55756\n",
            "1/1 [==============================] - 1s 898ms/step - loss: 0.5236 - accuracy: 0.7250 - val_loss: 0.5814 - val_accuracy: 0.6750\n",
            "Training completed in time:  0:01:36.060825\n"
          ]
        }
      ]
    },
    {
      "cell_type": "code",
      "source": [
        "import pandas as pd\n",
        "import numpy as np\n",
        "pd.DataFrame(history.history).plot(figsize=(8,5))\n",
        "plt.grid(True)\n",
        "plt.gca().set_ylim(0,1)\n",
        "plt.show()\n",
        "print('1. If the validation loss is greater(are both high:) than the training loss. The model is underfitting.')\n",
        "print('2. If the validation loss is greater than the training loss,The model is overfitting.')\n",
        "print('3. If the training loss and validation loss both decrease and stabilize at a specific point:the model is good fit')"
      ],
      "metadata": {
        "id": "4f2TpbnHhjgH",
        "outputId": "605e4377-fdf4-48df-82e2-b1652e4cff2a",
        "colab": {
          "base_uri": "https://localhost:8080/",
          "height": 503
        }
      },
      "execution_count": null,
      "outputs": [
        {
          "output_type": "display_data",
          "data": {
            "text/plain": [
              "<Figure size 800x500 with 1 Axes>"
            ],
            "image/png": "[encoded data removed]"
          },
          "metadata": {}
        },
        {
          "output_type": "stream",
          "name": "stdout",
          "text": [
            "1. If the validation loss is greater(are both high:) than the training loss. The model is underfitting.\n",
            "2. If the validation loss is greater than the training loss,The model is overfitting.\n",
            "3. If the training loss and validation loss both decrease and stabilize at a specific point:the model is good fit\n"
          ]
        }
      ]
    },
    {
      "cell_type": "code",
      "source": [
        "# Evaluating the model on the training and testing set\n",
        "score = model.evaluate(x_train, y_train, verbose=0)\n",
        "print(\"Training Accuracy: \", score[1]*100,\"%\")\n",
        "\n",
        "score = model.evaluate(x_test, y_test, verbose=0)\n",
        "print(\"Testing Accuracy: \", score[1]*100,\"%\")"
      ],
      "metadata": {
        "id": "_Fftr5XUhjgH",
        "outputId": "7ef8f3cd-2a9b-4bf1-ea72-d71fb4f656e0",
        "colab": {
          "base_uri": "https://localhost:8080/"
        }
      },
      "execution_count": null,
      "outputs": [
        {
          "output_type": "stream",
          "name": "stdout",
          "text": [
            "Training Accuracy:  75.0 %\n",
            "Testing Accuracy:  67.5000011920929 %\n"
          ]
        }
      ]
    },
    {
      "cell_type": "code",
      "source": [
        "loss, accuracy = model.evaluate(x_test, y_test, verbose=2)\n",
        "print(f'Test loss: {loss:.3f}, Test accuracy: {accuracy:.3f}')"
      ],
      "metadata": {
        "id": "GlLNJVxLhjgI",
        "outputId": "bd0faeb3-ba29-4b3d-e429-93b5545e4baf",
        "colab": {
          "base_uri": "https://localhost:8080/"
        }
      },
      "execution_count": null,
      "outputs": [
        {
          "output_type": "stream",
          "name": "stdout",
          "text": [
            "2/2 - 0s - loss: 0.5814 - accuracy: 0.6750 - 75ms/epoch - 38ms/step\n",
            "Test loss: 0.581, Test accuracy: 0.675\n"
          ]
        }
      ]
    },
    {
      "cell_type": "code",
      "source": [
        "from sklearn.metrics import precision_score,recall_score,f1_score\n",
        "\n",
        "# Predict class labels on test set\n",
        "y_pred = model.predict(x_test)\n",
        "y_pred = (y_pred > 0.5).astype(int)\n",
        "\n",
        "# Calculate precision score\n",
        "precision = precision_score(y_test, y_pred, average='weighted', zero_division=0)\n",
        "recall = recall_score(y_test, y_pred, average='weighted', zero_division=0)\n",
        "f1 = f1_score(y_test, y_pred, average='weighted', zero_division=0)\n",
        "\n",
        "# Print precision score\n",
        "print(\"Precision Score: \", precision)\n",
        "print(\"Recall: \", recall)\n",
        "print(\"F1 Score: \", f1)"
      ],
      "metadata": {
        "id": "4Z2-CKSihjgI",
        "outputId": "679d1aa5-1a5b-44aa-bfe6-b7e1ca5251c4",
        "colab": {
          "base_uri": "https://localhost:8080/"
        }
      },
      "execution_count": null,
      "outputs": [
        {
          "output_type": "stream",
          "name": "stderr",
          "text": [
            "WARNING:tensorflow:5 out of the last 13 calls to <function Model.make_predict_function.<locals>.predict_function at 0x7f30140525e0> triggered tf.function retracing. Tracing is expensive and the excessive number of tracings could be due to (1) creating @tf.function repeatedly in a loop, (2) passing tensors with different shapes, (3) passing Python objects instead of tensors. For (1), please define your @tf.function outside of the loop. For (2), @tf.function has reduce_retracing=True option that can avoid unnecessary retracing. For (3), please refer to https://www.tensorflow.org/guide/function#controlling_retracing and https://www.tensorflow.org/api_docs/python/tf/function for  more details.\n"
          ]
        },
        {
          "output_type": "stream",
          "name": "stdout",
          "text": [
            "2/2 [==============================] - 0s 22ms/step\n",
            "Precision Score:  0.7575000000000001\n",
            "Recall:  0.675\n",
            "F1 Score:  0.653818301514154\n"
          ]
        }
      ]
    },
    {
      "cell_type": "code",
      "source": [
        "def print_prediction(file_name):\n",
        "    prediction_feature = extract_features(file_name) \n",
        "    prediction_feature = prediction_feature.reshape(1, num_rows, num_columns, num_channels)\n",
        "\n",
        "    predicted_vector = model.predict(prediction_feature)\n",
        "    predicted_class = le.inverse_transform(np.argmax(predicted_vector, axis=-1)) \n",
        "    print(\"The predicted class is:\", predicted_class[0], '\\n') \n",
        "\n",
        "    predicted_proba_vector = predicted_vector\n",
        "    for i in range(len(predicted_proba_vector[0])): \n",
        "        category = le.inverse_transform(np.array([i]))\n",
        "        print(category[0], \"\\t\\t : \", format(predicted_proba_vector[0][i]*100,'.32f'),\"%\")"
      ],
      "metadata": {
        "id": "sOriu8r5hjgI"
      },
      "execution_count": null,
      "outputs": []
    },
    {
      "cell_type": "code",
      "source": [
        "from pydub import AudioSegment\n",
        "\n",
        "# set the file paths\n",
        "input_file = \"/content/sample-195283.mp3\"\n",
        "output_file = \"/content/output.wav\"\n",
        "\n",
        "audio = AudioSegment.from_file(input_file, format=\"mp3\")\n",
        "\n",
        "audio.export(output_file, format=\"wav\")"
      ],
      "metadata": {
        "id": "EegHkkNchjgI",
        "outputId": "8309686f-a04d-4aa5-86aa-5d08e812647b",
        "colab": {
          "base_uri": "https://localhost:8080/"
        }
      },
      "execution_count": null,
      "outputs": [
        {
          "output_type": "execute_result",
          "data": {
            "text/plain": [
              "<_io.BufferedRandom name='/content/output.wav'>"
            ]
          },
          "metadata": {},
          "execution_count": 96
        }
      ]
    },
    {
      "cell_type": "code",
      "source": [
        "filename = '/content/output.wav' \n",
        "print_prediction(filename) "
      ],
      "metadata": {
        "id": "OMDmFxPXhjgJ",
        "outputId": "de9b2809-d1ee-4b11-fba9-fee5c00e536b",
        "colab": {
          "base_uri": "https://localhost:8080/"
        }
      },
      "execution_count": null,
      "outputs": [
        {
          "output_type": "stream",
          "name": "stdout",
          "text": [
            "1/1 [==============================] - 0s 36ms/step\n",
            "The predicted class is: female \n",
            "\n",
            "female \t\t :  67.97759532928466796875000000000000 %\n",
            "male \t\t :  32.02240467071533203125000000000000 %\n"
          ]
        }
      ]
    }
  ],
  "metadata": {
    "kernelspec": {
      "display_name": "Python 3",
      "language": "python",
      "name": "python3"
    },
    "language_info": {
      "codemirror_mode": {
        "name": "ipython",
        "version": 3
      },
      "file_extension": ".py",
      "mimetype": "text/x-python",
      "name": "python",
      "nbconvert_exporter": "python",
      "pygments_lexer": "ipython3",
      "version": "3.10.1"
    },
    "colab": {
      "provenance": []
    }
  },
  "nbformat": 4,
  "nbformat_minor": 0
}